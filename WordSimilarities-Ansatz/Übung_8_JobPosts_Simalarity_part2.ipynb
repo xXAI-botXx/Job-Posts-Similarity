{
  "nbformat": 4,
  "nbformat_minor": 0,
  "metadata": {
    "colab": {
      "name": "Topic Modeling LDA.ipynb",
      "provenance": [],
      "collapsed_sections": []
    },
    "kernelspec": {
      "name": "python3",
      "display_name": "Python 3"
    },
    "language_info": {
      "name": "python"
    }
  },
  "cells": [
    {
      "cell_type": "markdown",
      "source": [
        "# Übung 8 - JobPosts Similarity Implementation of Topic Modeling LDA algorithm\n",
        "In this notebook the LDA (Latent Dirichlet Allocation) algorithmen will be implemented via gensim libary and visualized via pyLDAvis. \n",
        "For more information about libaries see down"
      ],
      "metadata": {
        "id": "BQS_WhZjQB5o"
      }
    },
    {
      "cell_type": "markdown",
      "source": [
        "-------------"
      ],
      "metadata": {
        "id": "vimkH0SeLrxE"
      }
    },
    {
      "cell_type": "markdown",
      "source": [
        "#### 1. Import Libaries\n",
        "For more Information see:  \n",
        "- gensim: https://radimrehurek.com/gensim/\n",
        "- pyLDAvis: https://pyldavis.readthedocs.io/en/latest/readme.html"
      ],
      "metadata": {
        "id": "CswS2EXOza58"
      }
    },
    {
      "cell_type": "code",
      "source": [
        "!pip install --upgrade gensim #install gensim libary"
      ],
      "metadata": {
        "colab": {
          "base_uri": "https://localhost:8080/"
        },
        "id": "JvqCkdQ7zcqh",
        "outputId": "d1a463e3-9168-4d8b-c30d-656d3cf3bfeb"
      },
      "execution_count": 1,
      "outputs": [
        {
          "output_type": "stream",
          "name": "stdout",
          "text": [
            "Looking in indexes: https://pypi.org/simple, https://us-python.pkg.dev/colab-wheels/public/simple/\n",
            "Requirement already satisfied: gensim in /usr/local/lib/python3.7/dist-packages (3.6.0)\n",
            "Collecting gensim\n",
            "  Downloading gensim-4.2.0-cp37-cp37m-manylinux_2_12_x86_64.manylinux2010_x86_64.whl (24.1 MB)\n",
            "\u001b[K     |████████████████████████████████| 24.1 MB 76.9 MB/s \n",
            "\u001b[?25hRequirement already satisfied: smart-open>=1.8.1 in /usr/local/lib/python3.7/dist-packages (from gensim) (6.0.0)\n",
            "Requirement already satisfied: numpy>=1.17.0 in /usr/local/lib/python3.7/dist-packages (from gensim) (1.21.6)\n",
            "Requirement already satisfied: scipy>=0.18.1 in /usr/local/lib/python3.7/dist-packages (from gensim) (1.4.1)\n",
            "Installing collected packages: gensim\n",
            "  Attempting uninstall: gensim\n",
            "    Found existing installation: gensim 3.6.0\n",
            "    Uninstalling gensim-3.6.0:\n",
            "      Successfully uninstalled gensim-3.6.0\n",
            "Successfully installed gensim-4.2.0\n"
          ]
        }
      ]
    },
    {
      "cell_type": "code",
      "source": [
        "!pip install pyldavis #install pyLDAVIS"
      ],
      "metadata": {
        "colab": {
          "base_uri": "https://localhost:8080/"
        },
        "id": "Qcw2Q-0q0xhy",
        "outputId": "e9e9d55f-c499-40b3-95c4-9aa9047fc39f"
      },
      "execution_count": 2,
      "outputs": [
        {
          "output_type": "stream",
          "name": "stdout",
          "text": [
            "Looking in indexes: https://pypi.org/simple, https://us-python.pkg.dev/colab-wheels/public/simple/\n",
            "Collecting pyldavis\n",
            "  Downloading pyLDAvis-3.3.1.tar.gz (1.7 MB)\n",
            "\u001b[K     |████████████████████████████████| 1.7 MB 5.2 MB/s \n",
            "\u001b[?25h  Installing build dependencies ... \u001b[?25l\u001b[?25hdone\n",
            "  Getting requirements to build wheel ... \u001b[?25l\u001b[?25hdone\n",
            "  Installing backend dependencies ... \u001b[?25l\u001b[?25hdone\n",
            "    Preparing wheel metadata ... \u001b[?25l\u001b[?25hdone\n",
            "Requirement already satisfied: scipy in /usr/local/lib/python3.7/dist-packages (from pyldavis) (1.4.1)\n",
            "Requirement already satisfied: gensim in /usr/local/lib/python3.7/dist-packages (from pyldavis) (4.2.0)\n",
            "Collecting funcy\n",
            "  Downloading funcy-1.17-py2.py3-none-any.whl (33 kB)\n",
            "Requirement already satisfied: numpy>=1.20.0 in /usr/local/lib/python3.7/dist-packages (from pyldavis) (1.21.6)\n",
            "Requirement already satisfied: scikit-learn in /usr/local/lib/python3.7/dist-packages (from pyldavis) (1.0.2)\n",
            "Requirement already satisfied: setuptools in /usr/local/lib/python3.7/dist-packages (from pyldavis) (57.4.0)\n",
            "Requirement already satisfied: future in /usr/local/lib/python3.7/dist-packages (from pyldavis) (0.16.0)\n",
            "Requirement already satisfied: numexpr in /usr/local/lib/python3.7/dist-packages (from pyldavis) (2.8.1)\n",
            "Requirement already satisfied: pandas>=1.2.0 in /usr/local/lib/python3.7/dist-packages (from pyldavis) (1.3.5)\n",
            "Requirement already satisfied: jinja2 in /usr/local/lib/python3.7/dist-packages (from pyldavis) (2.11.3)\n",
            "Requirement already satisfied: sklearn in /usr/local/lib/python3.7/dist-packages (from pyldavis) (0.0)\n",
            "Requirement already satisfied: joblib in /usr/local/lib/python3.7/dist-packages (from pyldavis) (1.1.0)\n",
            "Requirement already satisfied: pytz>=2017.3 in /usr/local/lib/python3.7/dist-packages (from pandas>=1.2.0->pyldavis) (2022.1)\n",
            "Requirement already satisfied: python-dateutil>=2.7.3 in /usr/local/lib/python3.7/dist-packages (from pandas>=1.2.0->pyldavis) (2.8.2)\n",
            "Requirement already satisfied: six>=1.5 in /usr/local/lib/python3.7/dist-packages (from python-dateutil>=2.7.3->pandas>=1.2.0->pyldavis) (1.15.0)\n",
            "Requirement already satisfied: smart-open>=1.8.1 in /usr/local/lib/python3.7/dist-packages (from gensim->pyldavis) (6.0.0)\n",
            "Requirement already satisfied: MarkupSafe>=0.23 in /usr/local/lib/python3.7/dist-packages (from jinja2->pyldavis) (2.0.1)\n",
            "Requirement already satisfied: packaging in /usr/local/lib/python3.7/dist-packages (from numexpr->pyldavis) (21.3)\n",
            "Requirement already satisfied: pyparsing!=3.0.5,>=2.0.2 in /usr/local/lib/python3.7/dist-packages (from packaging->numexpr->pyldavis) (3.0.9)\n",
            "Requirement already satisfied: threadpoolctl>=2.0.0 in /usr/local/lib/python3.7/dist-packages (from scikit-learn->pyldavis) (3.1.0)\n",
            "Building wheels for collected packages: pyldavis\n",
            "  Building wheel for pyldavis (PEP 517) ... \u001b[?25l\u001b[?25hdone\n",
            "  Created wheel for pyldavis: filename=pyLDAvis-3.3.1-py2.py3-none-any.whl size=136898 sha256=0cfdbe7b79d9b7ead8494de905f9dbe0276f4c23eabf352c1f8dcf651dd5dc9a\n",
            "  Stored in directory: /root/.cache/pip/wheels/c9/21/f6/17bcf2667e8a68532ba2fbf6d5c72fdf4c7f7d9abfa4852d2f\n",
            "Successfully built pyldavis\n",
            "Installing collected packages: funcy, pyldavis\n",
            "Successfully installed funcy-1.17 pyldavis-3.3.1\n"
          ]
        }
      ]
    },
    {
      "cell_type": "code",
      "source": [
        "!pip install openpyxl #install openpyxl"
      ],
      "metadata": {
        "colab": {
          "base_uri": "https://localhost:8080/"
        },
        "id": "2a8Qi2kk1qGn",
        "outputId": "533e3c0c-eefa-4bff-e1ce-ee160ade0cab"
      },
      "execution_count": 3,
      "outputs": [
        {
          "output_type": "stream",
          "name": "stdout",
          "text": [
            "Looking in indexes: https://pypi.org/simple, https://us-python.pkg.dev/colab-wheels/public/simple/\n",
            "Requirement already satisfied: openpyxl in /usr/local/lib/python3.7/dist-packages (3.0.10)\n",
            "Requirement already satisfied: et-xmlfile in /usr/local/lib/python3.7/dist-packages (from openpyxl) (1.1.0)\n"
          ]
        }
      ]
    },
    {
      "cell_type": "code",
      "execution_count": 4,
      "metadata": {
        "id": "zeItAfEOzZ9D",
        "colab": {
          "base_uri": "https://localhost:8080/"
        },
        "outputId": "ea88db10-98ec-43b6-b97a-4f3d0a983e1d"
      },
      "outputs": [
        {
          "output_type": "stream",
          "name": "stderr",
          "text": [
            "/usr/local/lib/python3.7/dist-packages/past/types/oldstr.py:5: DeprecationWarning: Using or importing the ABCs from 'collections' instead of from 'collections.abc' is deprecated since Python 3.3,and in 3.9 it will stop working\n",
            "  from collections import Iterable\n",
            "/usr/local/lib/python3.7/dist-packages/past/builtins/misc.py:4: DeprecationWarning: Using or importing the ABCs from 'collections' instead of from 'collections.abc' is deprecated since Python 3.3,and in 3.9 it will stop working\n",
            "  from collections import Mapping\n"
          ]
        }
      ],
      "source": [
        "import pandas as pd\n",
        "import numpy as np\n",
        "import gensim\n",
        "from gensim import corpora\n",
        "from nltk.corpus import stopwords\n",
        "import spacy\n",
        "import pyLDAvis\n",
        "from gensim.models import LdaModel\n",
        "import pyLDAvis.gensim_models as gensimvis"
      ]
    },
    {
      "cell_type": "markdown",
      "source": [
        "-------------"
      ],
      "metadata": {
        "id": "UFHFzzam8jgL"
      }
    },
    {
      "cell_type": "markdown",
      "source": [
        "#### 2. Load Data Set"
      ],
      "metadata": {
        "id": "jCg83qnx1XYH"
      }
    },
    {
      "cell_type": "code",
      "source": [
        "df = pd.read_excel(\"./data_scientist_united_states_job_postings_jobspikr.xlsx\")\n",
        "df"
      ],
      "metadata": {
        "colab": {
          "base_uri": "https://localhost:8080/",
          "height": 1000
        },
        "id": "F581dQz00eVO",
        "outputId": "6ca7f9e5-e0bc-427b-8221-c083c43a465d"
      },
      "execution_count": 7,
      "outputs": [
        {
          "output_type": "execute_result",
          "data": {
            "text/plain": [
              "         crawl_timestamp                                                url  \\\n",
              "0    2019-02-06 06:26:22  https://www.indeed.com/viewjob?jk=fd83355c2b23...   \n",
              "1    2019-02-06 06:33:41  https://www.dice.com/jobs/detail/Data-Scientis...   \n",
              "2    2019-02-06 06:33:35  https://www.dice.com/jobs/detail/Data-Scientis...   \n",
              "3    2019-02-06 06:33:42  https://www.indeed.com/viewjob?jk=841edd86ead2...   \n",
              "4    2019-02-06 06:48:23  https://job-openings.monster.com/senior-data-s...   \n",
              "...                  ...                                                ...   \n",
              "9995 2019-09-29 02:55:15              https://stackoverflow.com/jobs/271829   \n",
              "9996 2019-10-01 02:50:33              https://stackoverflow.com/jobs/283895   \n",
              "9997 2019-09-26 02:53:10              https://stackoverflow.com/jobs/293326   \n",
              "9998 2019-09-27 02:41:31              https://stackoverflow.com/jobs/283895   \n",
              "9999 2019-09-27 02:53:10              https://stackoverflow.com/jobs/283895   \n",
              "\n",
              "                                              job_title  \\\n",
              "0                           Enterprise Data Scientist I   \n",
              "1                                        Data Scientist   \n",
              "2                                        Data Scientist   \n",
              "3     Data Scientist, Aladdin Wealth Tech, Associate...   \n",
              "4                                 Senior Data Scientist   \n",
              "...                                                 ...   \n",
              "9995                                     Data Scientist   \n",
              "9996               Data Scientist, (Staff or Principal)   \n",
              "9997  Siri - Embedded Data Scientist, Data Organization   \n",
              "9998               Data Scientist, (Staff or Principal)   \n",
              "9999               Data Scientist, (Staff or Principal)   \n",
              "\n",
              "                                category  \\\n",
              "0                     Accounting/Finance   \n",
              "1                                    NaN   \n",
              "2                                    NaN   \n",
              "3                     Accounting/Finance   \n",
              "4                                biotech   \n",
              "...                                  ...   \n",
              "9995                      Data Scientist   \n",
              "9996                      Data Scientist   \n",
              "9997  Data Scientist, Embedded Developer   \n",
              "9998                      Data Scientist   \n",
              "9999                      Data Scientist   \n",
              "\n",
              "                              company_name            city  \\\n",
              "0                  Farmers Insurance Group  Woodland Hills   \n",
              "1                           Luxoft USA Inc      Middletown   \n",
              "2     Cincinnati Bell Technology Solutions        New York   \n",
              "3                                BlackRock        New York   \n",
              "4                              CyberCoders       Charlotte   \n",
              "...                                    ...             ...   \n",
              "9995                               Upstart        Columbus   \n",
              "9996                           Realtor.com     Santa Clara   \n",
              "9997                            Apple Inc.      Pittsburgh   \n",
              "9998                           Realtor.com     Santa Clara   \n",
              "9999                           Realtor.com     Santa Clara   \n",
              "\n",
              "                        state country   inferred_city  inferred_state  ...  \\\n",
              "0                          CA     Usa  Woodland hills      California  ...   \n",
              "1                          NJ     Usa      Middletown      New jersey  ...   \n",
              "2                          NY     Usa        New york        New york  ...   \n",
              "3     NY 10055 (Midtown area)     Usa        New york        New york  ...   \n",
              "4                          NC     Usa       Charlotte  North carolina  ...   \n",
              "...                       ...     ...             ...             ...  ...   \n",
              "9995                      NaN      US        Columbus       Wisconsin  ...   \n",
              "9996                      NaN      US     Santa clara      New mexico  ...   \n",
              "9997                      NaN      US      Pittsburgh    Pennsylvania  ...   \n",
              "9998                      NaN      US     Santa clara      New mexico  ...   \n",
              "9999                      NaN      US     Santa clara      New mexico  ...   \n",
              "\n",
              "                                        job_description   job_type  \\\n",
              "0     Read what people are saying about working here...  Undefined   \n",
              "1     We have an immediate opening for a Sharp Data ...  Undefined   \n",
              "2     Candidates should have the following backgroun...  Full Time   \n",
              "3     Read what people are saying about working here...  Undefined   \n",
              "4     We are seeking an extraordinary Data Scientist...  Full Time   \n",
              "...                                                 ...        ...   \n",
              "9995  Join Upstart and help build the future of cred...  Full Time   \n",
              "9996  Data Scientist, (Staff or Principal) at realto...  Full Time   \n",
              "9997  Job Summary: Would you like to play a part in ...  Full Time   \n",
              "9998  Data Scientist, (Staff or Principal) at realto...  Full Time   \n",
              "9999  Data Scientist, (Staff or Principal) at realto...  Full Time   \n",
              "\n",
              "             salary_offered      job_board  geo            cursor  \\\n",
              "0                       NaN         indeed  usa  1549432819114777   \n",
              "1                       NaN           dice  usa  1549432819122106   \n",
              "2                       NaN           dice  usa  1549432819236156   \n",
              "3                       NaN         indeed  usa  1549432819259473   \n",
              "4                       NaN        monster  usa  1549436429015957   \n",
              "...                     ...            ...  ...               ...   \n",
              "9995  $100k - 135k | Equity  Stackoverflow  NaN  1569916870107016   \n",
              "9996                    NaN  Stackoverflow  NaN  1569916870211396   \n",
              "9997                    NaN  Stackoverflow  NaN  1569916870956579   \n",
              "9998                    NaN  Stackoverflow  NaN  1569916871226964   \n",
              "9999                    NaN  Stackoverflow  NaN  1569916871314055   \n",
              "\n",
              "     contact_email  contact_phone_number                           uniq_id  \\\n",
              "0              NaN                   NaN  3b6c6acfcba6135a31c83bd7ea493b18   \n",
              "1              NaN                   NaN  741727428839ae7ada852eebef29b0fe   \n",
              "2              NaN                   NaN  cdc9ef9a1de327ccdc19cc0d07dbbb37   \n",
              "3              NaN                   NaN  1c8541cd2c2c924f9391c7d3f526f64e   \n",
              "4              NaN                   NaN  445652a560a5441060857853cf267470   \n",
              "...            ...                   ...                               ...   \n",
              "9995           NaN                   NaN  e9f2ca58c7abcd4553a4a0be9602312e   \n",
              "9996           NaN                   NaN  efe05f2364ee3df943e952bc68ed95a7   \n",
              "9997           NaN                   NaN  b980054dbb6d3fe1c6a421a237d1495f   \n",
              "9998           NaN                   NaN  4b86da9d2b24b87ec3c815d9072ad616   \n",
              "9999           NaN                   NaN  4cbe57f790e3346d7154b68c9370b7ef   \n",
              "\n",
              "                                   html_job_description  \n",
              "0                                                   NaN  \n",
              "1                                                   NaN  \n",
              "2                                                   NaN  \n",
              "3                                                   NaN  \n",
              "4                                                   NaN  \n",
              "...                                                 ...  \n",
              "9995  <h2>About this job</h2>_x000D_\\n<p><span>Compe...  \n",
              "9996  <h2>About this job</h2>_x000D_\\n<p><span>Locat...  \n",
              "9997                                                NaN  \n",
              "9998  <h2>About this job</h2>_x000D_\\n<p><span>Locat...  \n",
              "9999  <h2>About this job</h2>_x000D_\\n<p><span>Locat...  \n",
              "\n",
              "[10000 rows x 22 columns]"
            ],
            "text/html": [
              "\n",
              "  <div id=\"df-1a6aad00-fcbd-4de6-ac08-d5336ff925e6\">\n",
              "    <div class=\"colab-df-container\">\n",
              "      <div>\n",
              "<style scoped>\n",
              "    .dataframe tbody tr th:only-of-type {\n",
              "        vertical-align: middle;\n",
              "    }\n",
              "\n",
              "    .dataframe tbody tr th {\n",
              "        vertical-align: top;\n",
              "    }\n",
              "\n",
              "    .dataframe thead th {\n",
              "        text-align: right;\n",
              "    }\n",
              "</style>\n",
              "<table border=\"1\" class=\"dataframe\">\n",
              "  <thead>\n",
              "    <tr style=\"text-align: right;\">\n",
              "      <th></th>\n",
              "      <th>crawl_timestamp</th>\n",
              "      <th>url</th>\n",
              "      <th>job_title</th>\n",
              "      <th>category</th>\n",
              "      <th>company_name</th>\n",
              "      <th>city</th>\n",
              "      <th>state</th>\n",
              "      <th>country</th>\n",
              "      <th>inferred_city</th>\n",
              "      <th>inferred_state</th>\n",
              "      <th>...</th>\n",
              "      <th>job_description</th>\n",
              "      <th>job_type</th>\n",
              "      <th>salary_offered</th>\n",
              "      <th>job_board</th>\n",
              "      <th>geo</th>\n",
              "      <th>cursor</th>\n",
              "      <th>contact_email</th>\n",
              "      <th>contact_phone_number</th>\n",
              "      <th>uniq_id</th>\n",
              "      <th>html_job_description</th>\n",
              "    </tr>\n",
              "  </thead>\n",
              "  <tbody>\n",
              "    <tr>\n",
              "      <th>0</th>\n",
              "      <td>2019-02-06 06:26:22</td>\n",
              "      <td>https://www.indeed.com/viewjob?jk=fd83355c2b23...</td>\n",
              "      <td>Enterprise Data Scientist I</td>\n",
              "      <td>Accounting/Finance</td>\n",
              "      <td>Farmers Insurance Group</td>\n",
              "      <td>Woodland Hills</td>\n",
              "      <td>CA</td>\n",
              "      <td>Usa</td>\n",
              "      <td>Woodland hills</td>\n",
              "      <td>California</td>\n",
              "      <td>...</td>\n",
              "      <td>Read what people are saying about working here...</td>\n",
              "      <td>Undefined</td>\n",
              "      <td>NaN</td>\n",
              "      <td>indeed</td>\n",
              "      <td>usa</td>\n",
              "      <td>1549432819114777</td>\n",
              "      <td>NaN</td>\n",
              "      <td>NaN</td>\n",
              "      <td>3b6c6acfcba6135a31c83bd7ea493b18</td>\n",
              "      <td>NaN</td>\n",
              "    </tr>\n",
              "    <tr>\n",
              "      <th>1</th>\n",
              "      <td>2019-02-06 06:33:41</td>\n",
              "      <td>https://www.dice.com/jobs/detail/Data-Scientis...</td>\n",
              "      <td>Data Scientist</td>\n",
              "      <td>NaN</td>\n",
              "      <td>Luxoft USA Inc</td>\n",
              "      <td>Middletown</td>\n",
              "      <td>NJ</td>\n",
              "      <td>Usa</td>\n",
              "      <td>Middletown</td>\n",
              "      <td>New jersey</td>\n",
              "      <td>...</td>\n",
              "      <td>We have an immediate opening for a Sharp Data ...</td>\n",
              "      <td>Undefined</td>\n",
              "      <td>NaN</td>\n",
              "      <td>dice</td>\n",
              "      <td>usa</td>\n",
              "      <td>1549432819122106</td>\n",
              "      <td>NaN</td>\n",
              "      <td>NaN</td>\n",
              "      <td>741727428839ae7ada852eebef29b0fe</td>\n",
              "      <td>NaN</td>\n",
              "    </tr>\n",
              "    <tr>\n",
              "      <th>2</th>\n",
              "      <td>2019-02-06 06:33:35</td>\n",
              "      <td>https://www.dice.com/jobs/detail/Data-Scientis...</td>\n",
              "      <td>Data Scientist</td>\n",
              "      <td>NaN</td>\n",
              "      <td>Cincinnati Bell Technology Solutions</td>\n",
              "      <td>New York</td>\n",
              "      <td>NY</td>\n",
              "      <td>Usa</td>\n",
              "      <td>New york</td>\n",
              "      <td>New york</td>\n",
              "      <td>...</td>\n",
              "      <td>Candidates should have the following backgroun...</td>\n",
              "      <td>Full Time</td>\n",
              "      <td>NaN</td>\n",
              "      <td>dice</td>\n",
              "      <td>usa</td>\n",
              "      <td>1549432819236156</td>\n",
              "      <td>NaN</td>\n",
              "      <td>NaN</td>\n",
              "      <td>cdc9ef9a1de327ccdc19cc0d07dbbb37</td>\n",
              "      <td>NaN</td>\n",
              "    </tr>\n",
              "    <tr>\n",
              "      <th>3</th>\n",
              "      <td>2019-02-06 06:33:42</td>\n",
              "      <td>https://www.indeed.com/viewjob?jk=841edd86ead2...</td>\n",
              "      <td>Data Scientist, Aladdin Wealth Tech, Associate...</td>\n",
              "      <td>Accounting/Finance</td>\n",
              "      <td>BlackRock</td>\n",
              "      <td>New York</td>\n",
              "      <td>NY 10055 (Midtown area)</td>\n",
              "      <td>Usa</td>\n",
              "      <td>New york</td>\n",
              "      <td>New york</td>\n",
              "      <td>...</td>\n",
              "      <td>Read what people are saying about working here...</td>\n",
              "      <td>Undefined</td>\n",
              "      <td>NaN</td>\n",
              "      <td>indeed</td>\n",
              "      <td>usa</td>\n",
              "      <td>1549432819259473</td>\n",
              "      <td>NaN</td>\n",
              "      <td>NaN</td>\n",
              "      <td>1c8541cd2c2c924f9391c7d3f526f64e</td>\n",
              "      <td>NaN</td>\n",
              "    </tr>\n",
              "    <tr>\n",
              "      <th>4</th>\n",
              "      <td>2019-02-06 06:48:23</td>\n",
              "      <td>https://job-openings.monster.com/senior-data-s...</td>\n",
              "      <td>Senior Data Scientist</td>\n",
              "      <td>biotech</td>\n",
              "      <td>CyberCoders</td>\n",
              "      <td>Charlotte</td>\n",
              "      <td>NC</td>\n",
              "      <td>Usa</td>\n",
              "      <td>Charlotte</td>\n",
              "      <td>North carolina</td>\n",
              "      <td>...</td>\n",
              "      <td>We are seeking an extraordinary Data Scientist...</td>\n",
              "      <td>Full Time</td>\n",
              "      <td>NaN</td>\n",
              "      <td>monster</td>\n",
              "      <td>usa</td>\n",
              "      <td>1549436429015957</td>\n",
              "      <td>NaN</td>\n",
              "      <td>NaN</td>\n",
              "      <td>445652a560a5441060857853cf267470</td>\n",
              "      <td>NaN</td>\n",
              "    </tr>\n",
              "    <tr>\n",
              "      <th>...</th>\n",
              "      <td>...</td>\n",
              "      <td>...</td>\n",
              "      <td>...</td>\n",
              "      <td>...</td>\n",
              "      <td>...</td>\n",
              "      <td>...</td>\n",
              "      <td>...</td>\n",
              "      <td>...</td>\n",
              "      <td>...</td>\n",
              "      <td>...</td>\n",
              "      <td>...</td>\n",
              "      <td>...</td>\n",
              "      <td>...</td>\n",
              "      <td>...</td>\n",
              "      <td>...</td>\n",
              "      <td>...</td>\n",
              "      <td>...</td>\n",
              "      <td>...</td>\n",
              "      <td>...</td>\n",
              "      <td>...</td>\n",
              "      <td>...</td>\n",
              "    </tr>\n",
              "    <tr>\n",
              "      <th>9995</th>\n",
              "      <td>2019-09-29 02:55:15</td>\n",
              "      <td>https://stackoverflow.com/jobs/271829</td>\n",
              "      <td>Data Scientist</td>\n",
              "      <td>Data Scientist</td>\n",
              "      <td>Upstart</td>\n",
              "      <td>Columbus</td>\n",
              "      <td>NaN</td>\n",
              "      <td>US</td>\n",
              "      <td>Columbus</td>\n",
              "      <td>Wisconsin</td>\n",
              "      <td>...</td>\n",
              "      <td>Join Upstart and help build the future of cred...</td>\n",
              "      <td>Full Time</td>\n",
              "      <td>$100k - 135k | Equity</td>\n",
              "      <td>Stackoverflow</td>\n",
              "      <td>NaN</td>\n",
              "      <td>1569916870107016</td>\n",
              "      <td>NaN</td>\n",
              "      <td>NaN</td>\n",
              "      <td>e9f2ca58c7abcd4553a4a0be9602312e</td>\n",
              "      <td>&lt;h2&gt;About this job&lt;/h2&gt;_x000D_\\n&lt;p&gt;&lt;span&gt;Compe...</td>\n",
              "    </tr>\n",
              "    <tr>\n",
              "      <th>9996</th>\n",
              "      <td>2019-10-01 02:50:33</td>\n",
              "      <td>https://stackoverflow.com/jobs/283895</td>\n",
              "      <td>Data Scientist, (Staff or Principal)</td>\n",
              "      <td>Data Scientist</td>\n",
              "      <td>Realtor.com</td>\n",
              "      <td>Santa Clara</td>\n",
              "      <td>NaN</td>\n",
              "      <td>US</td>\n",
              "      <td>Santa clara</td>\n",
              "      <td>New mexico</td>\n",
              "      <td>...</td>\n",
              "      <td>Data Scientist, (Staff or Principal) at realto...</td>\n",
              "      <td>Full Time</td>\n",
              "      <td>NaN</td>\n",
              "      <td>Stackoverflow</td>\n",
              "      <td>NaN</td>\n",
              "      <td>1569916870211396</td>\n",
              "      <td>NaN</td>\n",
              "      <td>NaN</td>\n",
              "      <td>efe05f2364ee3df943e952bc68ed95a7</td>\n",
              "      <td>&lt;h2&gt;About this job&lt;/h2&gt;_x000D_\\n&lt;p&gt;&lt;span&gt;Locat...</td>\n",
              "    </tr>\n",
              "    <tr>\n",
              "      <th>9997</th>\n",
              "      <td>2019-09-26 02:53:10</td>\n",
              "      <td>https://stackoverflow.com/jobs/293326</td>\n",
              "      <td>Siri - Embedded Data Scientist, Data Organization</td>\n",
              "      <td>Data Scientist, Embedded Developer</td>\n",
              "      <td>Apple Inc.</td>\n",
              "      <td>Pittsburgh</td>\n",
              "      <td>NaN</td>\n",
              "      <td>US</td>\n",
              "      <td>Pittsburgh</td>\n",
              "      <td>Pennsylvania</td>\n",
              "      <td>...</td>\n",
              "      <td>Job Summary: Would you like to play a part in ...</td>\n",
              "      <td>Full Time</td>\n",
              "      <td>NaN</td>\n",
              "      <td>Stackoverflow</td>\n",
              "      <td>NaN</td>\n",
              "      <td>1569916870956579</td>\n",
              "      <td>NaN</td>\n",
              "      <td>NaN</td>\n",
              "      <td>b980054dbb6d3fe1c6a421a237d1495f</td>\n",
              "      <td>NaN</td>\n",
              "    </tr>\n",
              "    <tr>\n",
              "      <th>9998</th>\n",
              "      <td>2019-09-27 02:41:31</td>\n",
              "      <td>https://stackoverflow.com/jobs/283895</td>\n",
              "      <td>Data Scientist, (Staff or Principal)</td>\n",
              "      <td>Data Scientist</td>\n",
              "      <td>Realtor.com</td>\n",
              "      <td>Santa Clara</td>\n",
              "      <td>NaN</td>\n",
              "      <td>US</td>\n",
              "      <td>Santa clara</td>\n",
              "      <td>New mexico</td>\n",
              "      <td>...</td>\n",
              "      <td>Data Scientist, (Staff or Principal) at realto...</td>\n",
              "      <td>Full Time</td>\n",
              "      <td>NaN</td>\n",
              "      <td>Stackoverflow</td>\n",
              "      <td>NaN</td>\n",
              "      <td>1569916871226964</td>\n",
              "      <td>NaN</td>\n",
              "      <td>NaN</td>\n",
              "      <td>4b86da9d2b24b87ec3c815d9072ad616</td>\n",
              "      <td>&lt;h2&gt;About this job&lt;/h2&gt;_x000D_\\n&lt;p&gt;&lt;span&gt;Locat...</td>\n",
              "    </tr>\n",
              "    <tr>\n",
              "      <th>9999</th>\n",
              "      <td>2019-09-27 02:53:10</td>\n",
              "      <td>https://stackoverflow.com/jobs/283895</td>\n",
              "      <td>Data Scientist, (Staff or Principal)</td>\n",
              "      <td>Data Scientist</td>\n",
              "      <td>Realtor.com</td>\n",
              "      <td>Santa Clara</td>\n",
              "      <td>NaN</td>\n",
              "      <td>US</td>\n",
              "      <td>Santa clara</td>\n",
              "      <td>New mexico</td>\n",
              "      <td>...</td>\n",
              "      <td>Data Scientist, (Staff or Principal) at realto...</td>\n",
              "      <td>Full Time</td>\n",
              "      <td>NaN</td>\n",
              "      <td>Stackoverflow</td>\n",
              "      <td>NaN</td>\n",
              "      <td>1569916871314055</td>\n",
              "      <td>NaN</td>\n",
              "      <td>NaN</td>\n",
              "      <td>4cbe57f790e3346d7154b68c9370b7ef</td>\n",
              "      <td>&lt;h2&gt;About this job&lt;/h2&gt;_x000D_\\n&lt;p&gt;&lt;span&gt;Locat...</td>\n",
              "    </tr>\n",
              "  </tbody>\n",
              "</table>\n",
              "<p>10000 rows × 22 columns</p>\n",
              "</div>\n",
              "      <button class=\"colab-df-convert\" onclick=\"convertToInteractive('df-1a6aad00-fcbd-4de6-ac08-d5336ff925e6')\"\n",
              "              title=\"Convert this dataframe to an interactive table.\"\n",
              "              style=\"display:none;\">\n",
              "        \n",
              "  <svg xmlns=\"http://www.w3.org/2000/svg\" height=\"24px\"viewBox=\"0 0 24 24\"\n",
              "       width=\"24px\">\n",
              "    <path d=\"M0 0h24v24H0V0z\" fill=\"none\"/>\n",
              "    <path d=\"M18.56 5.44l.94 2.06.94-2.06 2.06-.94-2.06-.94-.94-2.06-.94 2.06-2.06.94zm-11 1L8.5 8.5l.94-2.06 2.06-.94-2.06-.94L8.5 2.5l-.94 2.06-2.06.94zm10 10l.94 2.06.94-2.06 2.06-.94-2.06-.94-.94-2.06-.94 2.06-2.06.94z\"/><path d=\"M17.41 7.96l-1.37-1.37c-.4-.4-.92-.59-1.43-.59-.52 0-1.04.2-1.43.59L10.3 9.45l-7.72 7.72c-.78.78-.78 2.05 0 2.83L4 21.41c.39.39.9.59 1.41.59.51 0 1.02-.2 1.41-.59l7.78-7.78 2.81-2.81c.8-.78.8-2.07 0-2.86zM5.41 20L4 18.59l7.72-7.72 1.47 1.35L5.41 20z\"/>\n",
              "  </svg>\n",
              "      </button>\n",
              "      \n",
              "  <style>\n",
              "    .colab-df-container {\n",
              "      display:flex;\n",
              "      flex-wrap:wrap;\n",
              "      gap: 12px;\n",
              "    }\n",
              "\n",
              "    .colab-df-convert {\n",
              "      background-color: #E8F0FE;\n",
              "      border: none;\n",
              "      border-radius: 50%;\n",
              "      cursor: pointer;\n",
              "      display: none;\n",
              "      fill: #1967D2;\n",
              "      height: 32px;\n",
              "      padding: 0 0 0 0;\n",
              "      width: 32px;\n",
              "    }\n",
              "\n",
              "    .colab-df-convert:hover {\n",
              "      background-color: #E2EBFA;\n",
              "      box-shadow: 0px 1px 2px rgba(60, 64, 67, 0.3), 0px 1px 3px 1px rgba(60, 64, 67, 0.15);\n",
              "      fill: #174EA6;\n",
              "    }\n",
              "\n",
              "    [theme=dark] .colab-df-convert {\n",
              "      background-color: #3B4455;\n",
              "      fill: #D2E3FC;\n",
              "    }\n",
              "\n",
              "    [theme=dark] .colab-df-convert:hover {\n",
              "      background-color: #434B5C;\n",
              "      box-shadow: 0px 1px 3px 1px rgba(0, 0, 0, 0.15);\n",
              "      filter: drop-shadow(0px 1px 2px rgba(0, 0, 0, 0.3));\n",
              "      fill: #FFFFFF;\n",
              "    }\n",
              "  </style>\n",
              "\n",
              "      <script>\n",
              "        const buttonEl =\n",
              "          document.querySelector('#df-1a6aad00-fcbd-4de6-ac08-d5336ff925e6 button.colab-df-convert');\n",
              "        buttonEl.style.display =\n",
              "          google.colab.kernel.accessAllowed ? 'block' : 'none';\n",
              "\n",
              "        async function convertToInteractive(key) {\n",
              "          const element = document.querySelector('#df-1a6aad00-fcbd-4de6-ac08-d5336ff925e6');\n",
              "          const dataTable =\n",
              "            await google.colab.kernel.invokeFunction('convertToInteractive',\n",
              "                                                     [key], {});\n",
              "          if (!dataTable) return;\n",
              "\n",
              "          const docLinkHtml = 'Like what you see? Visit the ' +\n",
              "            '<a target=\"_blank\" href=https://colab.research.google.com/notebooks/data_table.ipynb>data table notebook</a>'\n",
              "            + ' to learn more about interactive tables.';\n",
              "          element.innerHTML = '';\n",
              "          dataTable['output_type'] = 'display_data';\n",
              "          await google.colab.output.renderOutput(dataTable, element);\n",
              "          const docLink = document.createElement('div');\n",
              "          docLink.innerHTML = docLinkHtml;\n",
              "          element.appendChild(docLink);\n",
              "        }\n",
              "      </script>\n",
              "    </div>\n",
              "  </div>\n",
              "  "
            ]
          },
          "metadata": {},
          "execution_count": 7
        }
      ]
    },
    {
      "cell_type": "markdown",
      "source": [
        "#### 2.1 Load different numbers of samples and remove Nan-values\n"
      ],
      "metadata": {
        "id": "4Jg6N-MwQ98l"
      }
    },
    {
      "cell_type": "code",
      "source": [
        "c = df[\"job_description\"].iloc[0:1000] #Change here the sample size (1000) for better testing\n",
        "corpus = list(c.dropna())\n",
        "#corpus"
      ],
      "metadata": {
        "id": "BTG_NNsP2FTA"
      },
      "execution_count": 8,
      "outputs": []
    },
    {
      "cell_type": "markdown",
      "source": [
        "Im diesem Ansatz wird nur das Feature \"job_description\" experimentiert, da man versuchen möchte ganze Beschreibungen Themen zuzuordnen. Da man im letzten Notebook um Features behandelt wurden, die keien Sätze besitzen, versucht man mit dem LDA Ansatz, die ähnliche Texte in selbe Themen zuzuordnen."
      ],
      "metadata": {
        "id": "9HcmtJ4Z8DLO"
      }
    },
    {
      "cell_type": "markdown",
      "source": [
        "#### 2.2 Preprocess the input documents"
      ],
      "metadata": {
        "id": "8ZMVkn15RH07"
      }
    },
    {
      "cell_type": "code",
      "source": [
        "#A small function to preproceses documents\n",
        "def clean_text(documents):\n",
        "  nlp = spacy.load(\"en_core_web_sm\")\n",
        "  new_corpus = []\n",
        "  for document in documents:\n",
        "    filler = \"\"\n",
        "    doc = nlp(document)\n",
        "    for token in doc:\n",
        "      if token.is_stop:\n",
        "        continue \n",
        "        \n",
        "      if token.is_alpha:\n",
        "        filler += \" \" +  token.lemma_\n",
        "\n",
        "    new_corpus += [filler[1:len(filler)]]\n",
        "\n",
        "  return new_corpus"
      ],
      "metadata": {
        "id": "jORwwtmd2RxU"
      },
      "execution_count": null,
      "outputs": []
    },
    {
      "cell_type": "code",
      "source": [
        "new_corpus = clean_text(corpus)"
      ],
      "metadata": {
        "id": "HvlIwmda20N1"
      },
      "execution_count": null,
      "outputs": []
    },
    {
      "cell_type": "code",
      "source": [
        "#new_corpus"
      ],
      "metadata": {
        "id": "SP9UiiSo222k"
      },
      "execution_count": null,
      "outputs": []
    },
    {
      "cell_type": "markdown",
      "source": [
        "#### 2.3 Tokenize documents\n",
        "For more Information see:\n",
        "- gensim simple_preprocess(): https://tedboy.github.io/nlps/generated/generated/gensim.utils.simple_preprocess.html"
      ],
      "metadata": {
        "id": "_jWdY78w36sD"
      }
    },
    {
      "cell_type": "code",
      "source": [
        "#A small function to tokenize the text\n",
        "def preprocess(documents):\n",
        "  new_documents = []\n",
        "  for document in documents:\n",
        "    tokens = gensim.utils.simple_preprocess(document) #convert text into token like spacy\n",
        "    new_documents += [tokens]\n",
        "\n",
        "  return new_documents\n"
      ],
      "metadata": {
        "id": "znx-cjMZ3dO0"
      },
      "execution_count": null,
      "outputs": []
    },
    {
      "cell_type": "code",
      "source": [
        "new_corpus2 = preprocess(new_corpus)"
      ],
      "metadata": {
        "id": "ogalMdAS4l6d"
      },
      "execution_count": null,
      "outputs": []
    },
    {
      "cell_type": "code",
      "source": [
        "#new_corpus2[2][0:20]"
      ],
      "metadata": {
        "id": "_qrpzi7D4zxu"
      },
      "execution_count": null,
      "outputs": []
    },
    {
      "cell_type": "markdown",
      "source": [
        "#### 2.4 Transform words into vectors (Bag-of-words approach)\n",
        "Assign unique id's to each word.\n",
        "For more information see:\n",
        "- gensim corpora.Dictionary(): https://radimrehurek.com/gensim/corpora/dictionary.html\n",
        "- transform into vectors: https://radimrehurek.com/gensim/auto_examples/core/run_corpora_and_vector_spaces.html"
      ],
      "metadata": {
        "id": "CEemYiKcCL1k"
      }
    },
    {
      "cell_type": "code",
      "source": [
        "dictionary = corpora.Dictionary(new_corpus2)\n",
        "def transform(documents):\n",
        "  corpus = []\n",
        "  for document in documents:\n",
        "    vector = dictionary.doc2bow(document) #transform each text to vectors\n",
        "    corpus += [vector]\n",
        "\n",
        "  return corpus"
      ],
      "metadata": {
        "id": "-T0nXNJOAkAH"
      },
      "execution_count": null,
      "outputs": []
    },
    {
      "cell_type": "code",
      "source": [
        "new_corpus3 = transform(new_corpus2)"
      ],
      "metadata": {
        "id": "IibtJFqz417a"
      },
      "execution_count": null,
      "outputs": []
    },
    {
      "cell_type": "code",
      "source": [
        "#dictionary.token2id"
      ],
      "metadata": {
        "id": "JUupbSaRA_6O"
      },
      "execution_count": null,
      "outputs": []
    },
    {
      "cell_type": "code",
      "source": [
        "#new_corpus3[0][0:20] #returns (id of the word , frequency of the word)"
      ],
      "metadata": {
        "id": "Sy8s3Y4oJJVk"
      },
      "execution_count": null,
      "outputs": []
    },
    {
      "cell_type": "markdown",
      "source": [
        "-------------------------"
      ],
      "metadata": {
        "id": "f1RU_iVB8gDy"
      }
    },
    {
      "cell_type": "markdown",
      "source": [
        "#### 3. Initalize LDA Model and train it\n",
        "For more information see:\n",
        "- gensim LDA model: https://radimrehurek.com/gensim/models/ldamodel.html\n",
        "- training model: https://radimrehurek.com/gensim/auto_examples/tutorials/run_lda.html"
      ],
      "metadata": {
        "id": "bBf0TBsHRzqy"
      }
    },
    {
      "cell_type": "code",
      "source": [
        "model = LdaModel(\n",
        "    corpus=new_corpus3,\n",
        "    id2word=dictionary,\n",
        "    alpha='auto',\n",
        "    eta='auto',\n",
        "    iterations=400,\n",
        "    num_topics=10,\n",
        "    eval_every=None)"
      ],
      "metadata": {
        "id": "xTsBUDaXBL1b"
      },
      "execution_count": null,
      "outputs": []
    },
    {
      "cell_type": "markdown",
      "source": [
        "#### 4. Visualize results\n",
        "for more information see:\n",
        "- pyLDAvis prepare(): https://pyldavis.readthedocs.io/en/latest/modules/API.html"
      ],
      "metadata": {
        "id": "Dad4FhM0STwG"
      }
    },
    {
      "cell_type": "code",
      "source": [
        "pyLDAvis.enable_notebook()\n",
        "vis = gensimvis.prepare(model, new_corpus3, dictionary)\n",
        "vis"
      ],
      "metadata": {
        "colab": {
          "base_uri": "https://localhost:8080/",
          "height": 896
        },
        "id": "4vI1DD2cHSej",
        "outputId": "2373dde5-d5d9-4243-ae01-00d70eba5a74"
      },
      "execution_count": null,
      "outputs": [
        {
          "output_type": "stream",
          "name": "stderr",
          "text": [
            "/usr/local/lib/python3.7/dist-packages/pyLDAvis/_prepare.py:247: FutureWarning: In a future version of pandas all arguments of DataFrame.drop except for the argument 'labels' will be keyword-only\n",
            "  by='saliency', ascending=False).head(R).drop('saliency', 1)\n"
          ]
        },
        {
          "output_type": "execute_result",
          "data": {
            "text/plain": [
              "PreparedData(topic_coordinates=              x         y  topics  cluster       Freq\n",
              "topic                                                \n",
              "3      0.164330 -0.003804       1        1  58.365802\n",
              "6      0.164289  0.015169       2        1  16.638998\n",
              "8      0.163138 -0.042304       3        1  13.273737\n",
              "2      0.138049 -0.016073       4        1   6.509414\n",
              "7      0.118166  0.067140       5        1   5.038018\n",
              "4     -0.053715 -0.027142       6        1   0.087135\n",
              "1     -0.114423 -0.014314       7        1   0.035092\n",
              "0     -0.179212  0.009155       8        1   0.034967\n",
              "9     -0.222216 -0.000832       9        1   0.009609\n",
              "5     -0.178405  0.013005      10        1   0.007228, topic_info=            Term          Freq         Total Category  logprob  loglift\n",
              "16           and  21679.000000  21679.000000  Default  30.0000  30.0000\n",
              "192           to  13987.000000  13987.000000  Default  29.0000  29.0000\n",
              "145         pron  11183.000000  11183.000000  Default  28.0000  28.0000\n",
              "121           of   8943.000000   8943.000000  Default  27.0000  27.0000\n",
              "189          the  10448.000000  10448.000000  Default  26.0000  26.0000\n",
              "..           ...           ...           ...      ...      ...      ...\n",
              "126           or      0.017999   4154.363682  Topic10  -7.4303  -2.8145\n",
              "109      machine      0.016370   1739.364380  Topic10  -7.5252  -2.0387\n",
              "376  information      0.015365    813.796092  Topic10  -7.5885  -1.3425\n",
              "27         build      0.014994   1054.826281  Topic10  -7.6130  -1.6264\n",
              "26            be      0.015649   7527.523015  Topic10  -7.5702  -3.5487\n",
              "\n",
              "[770 rows x 6 columns], token_table=      Topic      Freq    Term\n",
              "term                         \n",
              "6362      1  0.238111  absorb\n",
              "6362      5  0.714334  absorb\n",
              "1266      1  0.631464  access\n",
              "1266      2  0.164730  access\n",
              "1266      3  0.076874  access\n",
              "...     ...       ...     ...\n",
              "224       5  0.033663    year\n",
              "224       6  0.000748    year\n",
              "224       7  0.000748    year\n",
              "5679      3  0.828554    yolo\n",
              "5680      3  0.779803   yourâ\n",
              "\n",
              "[1496 rows x 3 columns], R=30, lambda_step=0.01, plot_opts={'xlab': 'PC1', 'ylab': 'PC2'}, topic_order=[4, 7, 9, 3, 8, 5, 2, 1, 10, 6])"
            ],
            "text/html": [
              "\n",
              "<link rel=\"stylesheet\" type=\"text/css\" href=\"https://cdn.jsdelivr.net/gh/bmabey/pyLDAvis@3.3.1/pyLDAvis/js/ldavis.v1.0.0.css\">\n",
              "\n",
              "\n",
              "<div id=\"ldavis_el2291397307749329443874807003\"></div>\n",
              "<script type=\"text/javascript\">\n",
              "\n",
              "var ldavis_el2291397307749329443874807003_data = {\"mdsDat\": {\"x\": [0.16432967003950896, 0.16428885312405478, 0.16313765274913142, 0.13804902000789163, 0.11816561278691154, -0.053714966391792685, -0.11442252326425115, -0.17921229681564577, -0.2222162372399544, -0.17840478499585422], \"y\": [-0.0038041554826476714, 0.015168838474625766, -0.04230412989264318, -0.01607304443595725, 0.06714002473451167, -0.02714227302420087, -0.014313977846243301, 0.009154969818389608, -0.0008316801187886739, 0.013005427772953958], \"topics\": [1, 2, 3, 4, 5, 6, 7, 8, 9, 10], \"cluster\": [1, 1, 1, 1, 1, 1, 1, 1, 1, 1], \"Freq\": [58.36580197583018, 16.638997841866328, 13.273736582340732, 6.509414417816729, 5.038018229291277, 0.08713515892189008, 0.03509222299350593, 0.03496650088978056, 0.009608582809143701, 0.007228487240440964]}, \"tinfo\": {\"Term\": [\"and\", \"to\", \"pron\", \"of\", \"the\", \"in\", \"with\", \"for\", \"datum\", \"experience\", \"be\", \"data\", \"or\", \"model\", \"analysis\", \"use\", \"work\", \"python\", \"machine\", \"have\", \"year\", \"science\", \"scientist\", \"as\", \"will\", \"learning\", \"skill\", \"on\", \"business\", \"statistical\", \"taboola\", \"newsroom\", \"writer\", \"sports\", \"fox\", \"nbc\", \"readership\", \"tribune\", \"harman\", \"populate\", \"decide\", \"publisher\", \"editor\", \"fedex\", \"nsa\", \"visitor\", \"virgin\", \"child\", \"editorial\", \"toolbox\", \"neustar\", \"shopping\", \"ses\", \"metroplus\", \"noblis\", \"mattel\", \"wells\", \"instrumentation\", \"snacknation\", \"sysco\", \"committed\", \"targeting\", \"weather\", \"informed\", \"because\", \"content\", \"petabyte\", \"and\", \"be\", \"of\", \"that\", \"pron\", \"google\", \"the\", \"insight\", \"in\", \"from\", \"datum\", \"to\", \"company\", \"scientist\", \"create\", \"business\", \"people\", \"data\", \"work\", \"experience\", \"for\", \"other\", \"world\", \"support\", \"science\", \"opportunity\", \"help\", \"system\", \"as\", \"skill\", \"this\", \"team\", \"with\", \"or\", \"an\", \"analytic\", \"analysis\", \"model\", \"will\", \"on\", \"use\", \"dram\", \"subsurface\", \"spacing\", \"crase\", \"jacob\", \"nvm\", \"fischer\", \"dentsu\", \"everest\", \"pfa\", \"dan\", \"ye\", \"aegis\", \"chemicals\", \"cvd\", \"cad\", \"carton\", \"casey\", \"austin\", \"socure\", \"operator\", \"apple\", \"nextera\", \"preform\", \"broomfield\", \"crf\", \"kpmg\", \"meddra\", \"whodd\", \"im\", \"summer\", \"clinical\", \"oil\", \"oop\", \"gas\", \"caterpillar\", \"safety\", \"to\", \"aerotek\", \"status\", \"upstream\", \"score\", \"the\", \"with\", \"or\", \"in\", \"will\", \"machine\", \"for\", \"pron\", \"learning\", \"data\", \"employment\", \"cybercoders\", \"review\", \"all\", \"and\", \"of\", \"click\", \"not\", \"be\", \"have\", \"python\", \"an\", \"if\", \"more\", \"this\", \"team\", \"by\", \"work\", \"experience\", \"as\", \"year\", \"datum\", \"use\", \"on\", \"at\", \"science\", \"scientist\", \"stacks\", \"datamatics\", \"yolo\", \"architecting\", \"kellton\", \"chetana\", \"deviation\", \"okc\", \"title\\u00e2\", \"imran\", \"negi\", \"security\\u00e2\", \"gemini\", \"videoamp\", \"notes\", \"labeling\", \"undertaking\", \"ramboll\", \"algorithmically\", \"location\\u00e2\", \"duration\\u00e2\", \"adjective\", \"incidence\", \"markup\", \"prevalence\", \"death\", \"terminal\", \"morbidity\", \"kdb\", \"your\\u00e2\", \"sqlite\", \"teaching\", \"resiliency\", \"conversant\", \"orlando\", \"capgemini\", \"shall\", \"ect\", \"experience\", \"with\", \"and\", \"tv\", \"datum\", \"development\", \"on\", \"duration\", \"model\", \"in\", \"analysis\", \"design\", \"to\", \"data\", \"etc\", \"develop\", \"technology\", \"or\", \"business\", \"of\", \"machine\", \"learning\", \"the\", \"analytics\", \"advanced\", \"work\", \"new\", \"problem\", \"skill\", \"statistical\", \"for\", \"analytic\", \"be\", \"use\", \"pron\", \"solution\", \"team\", \"have\", \"science\", \"as\", \"juno\", \"neha\", \"eros\", \"typescript\", \"rust\", \"geotrellis\", \"analysis\\u00e2\", \"collegeville\", \"trikha\", \"anupam\", \"willingly\", \"photogrammetric\", \"habitat\", \"wayfair\", \"geomesa\", \"lambdas\", \"fancy\", \"raman\", \"munch\", \"unity\", \"latency\", \"geowave\", \"arbitrage\", \"espresso\", \"productionalize\", \"sparingly\", \"parallelize\", \"wildly\", \"faceted\", \"gunicorn\", \"massively\", \"alike\", \"ic\", \"usaa\", \"procedural\", \"usaid\", \"varian\", \"and\", \"pron\", \"to\", \"learning\", \"as\", \"or\", \"deloitte\", \"datum\", \"machine\", \"solution\", \"with\", \"of\", \"the\", \"work\", \"on\", \"for\", \"business\", \"client\", \"science\", \"in\", \"python\", \"development\", \"that\", \"be\", \"learn\", \"use\", \"at\", \"analytic\", \"technical\", \"experience\", \"develop\", \"will\", \"have\", \"team\", \"data\", \"felix\", \"snowflake\\u00e2\", \"kristy\", \"dare\", \"customization\", \"don\", \"proxy\", \"shawn\", \"mass\", \"nlp\\u00e2\", \"eliassen\", \"climatology\", \"keywords\", \"like\\u00e2\", \"absorb\", \"lin\", \"mclean\", \"aciinfotech\", \"replicate\", \"cosmos\", \"thornton\", \"sparksql\", \"sirius\", \"cyberspace\", \"information\\u00e2\", \"crossroad\", \"verizon\", \"biomarker\", \"except\", \"xm\", \"fall\", \"airline\", \"overlooking\", \"schneider\", \"clearanceso\", \"paypal\", \"collision\", \"octo\", \"relentlessly\", \"textio\", \"pron\", \"forward\", \"receive\", \"will\", \"to\", \"eligibility\", \"with\", \"resume\", \"click\", \"apply\", \"be\", \"all\", \"position\", \"required\", \"directly\", \"python\", \"right\", \"please\", \"for\", \"applicant\", \"cybercoders\", \"of\", \"the\", \"and\", \"if\", \"this\", \"have\", \"machine\", \"in\", \"experience\", \"data\", \"work\", \"or\", \"datum\", \"on\", \"by\", \"an\", \"learning\", \"model\", \"scientist\", \"team\", \"physiologic\", \"lin\", \"null\", \"viability\", \"assembles\", \"assists\", \"emergent\", \"humanitarian\", \"desktop\", \"usaid\", \"cultivates\", \"synergy\", \"donor\", \"pwc\", \"ref\", \"synergistic\", \"apprio\", \"storied\", \"catalyze\", \"estate\", \"replicate\", \"guidehouse\", \"pillar\", \"mostly\", \"longterm\", \"kit\", \"brilliance\", \"ten\", \"wisconsin\", \"correlation\", \"mobile\", \"urgency\", \"sensitivity\", \"id\", \"responsibly\", \"compensation\", \"emerge\", \"per\", \"classification\", \"and\", \"specialist\", \"to\", \"in\", \"analyst\", \"analysis\", \"clinical\", \"technique\", \"of\", \"with\", \"technology\", \"for\", \"modeling\", \"the\", \"datum\", \"model\", \"experience\", \"skill\", \"or\", \"statistical\", \"have\", \"be\", \"year\", \"other\", \"pron\", \"predictive\", \"development\", \"research\", \"team\", \"an\", \"machine\", \"scoop\", \"cosmos\", \"aciinfotech\", \"prog\", \"dbms\", \"knn\", \"sagemaker\", \"seaborn\", \"com\", \"wisconsin\", \"outline\", \"complaint\", \"surround\", \"integer\", \"technologie\", \"physiologic\", \"revert\", \"pwc\", \"storied\", \"redmond\", \"auditability\", \"wifi\", \"disqualifying\", \"washingtonian\", \"medicaid\", \"pachyderm\", \"desirable\\u00e2\", \"ag\", \"springs\", \"endorse\", \"shell\", \"pyspark\", \"wa\", \"dot\", \"coe\", \"tools\", \"ten\", \"mixed\", \"lstm\", \"matplotlib\", \"hands\", \"dallas\", \"boston\", \"telecom\", \"complexity\", \"hadoop\", \"python\", \"sql\", \"numpy\", \"experience\", \"pandas\", \"understanding\", \"datum\", \"year\", \"of\", \"day\", \"with\", \"use\", \"analytics\", \"in\", \"and\", \"platform\", \"the\", \"for\", \"or\", \"expert\", \"machine\", \"project\", \"optimization\", \"work\", \"data\", \"business\", \"to\", \"skills\", \"tool\", \"learn\", \"statistical\", \"as\", \"strong\", \"information\\u00e2\", \"tessaract\", \"revert\", \"like\\u00e2\", \"nlp\\u00e2\", \"summarization\", \"gensim\", \"al\", \"expected\", \"nlg\", \"means\", \"nagesh\", \"comprehension\", \"anaconda\", \"spacy\", \"raja\", \"perusal\", \"plano\", \"wisconsin\", \"vishwakarma\", \"to\\u00e2\", \"markdown\", \"ppt\", \"resources\", \"sentiment\", \"physiologic\", \"nltk\", \"pwc\", \"storied\", \"imagine\", \"edward\", \"querying\", \"svm\", \"keras\", \"sklearn\", \"nlp\", \"tx\", \"networks\", \"exposure\", \"model\", \"etc\", \"random\", \"building\", \"machine\", \"have\", \"use\", \"resource\", \"for\", \"job\", \"like\", \"time\", \"analysis\", \"data\", \"location\", \"pron\", \"in\", \"learning\", \"involve\", \"regression\", \"please\", \"to\", \"science\", \"scientist\", \"wisconsin\", \"perm\", \"wi\", \"bay\", \"physiologic\", \"revert\", \"pwc\", \"storied\", \"auditability\", \"wifi\", \"disqualifying\", \"washingtonian\", \"medicaid\", \"pachyderm\", \"desirable\\u00e2\", \"ag\", \"springs\", \"endorse\", \"camaraderie\", \"pedsnet\", \"marketable\", \"straight\", \"calendar\", \"infinity\\u00e2\", \"months\\u00e2\", \"virtualize\", \"comma\", \"examinations\", \"fabrication\", \"harris\", \"green\", \"offering\", \"kforce\", \"for\", \"benefit\", \"area\", \"excellent\", \"key\", \"right\", \"responsibility\", \"candidate\", \"role\", \"look\", \"client\", \"include\", \"the\", \"scientist\", \"data\", \"be\", \"in\", \"passport\", \"and\", \"to\", \"pron\", \"with\", \"of\", \"datum\", \"wisconsin\", \"linguistics\", \"terraform\", \"vsts\", \"physiologic\", \"revert\", \"octopus\", \"vpn\", \"fabric\", \"pwc\", \"storied\", \"bore\", \"distributable\", \"words\", \"auditability\", \"wifi\", \"disqualifying\", \"washingtonian\", \"medicaid\", \"pachyderm\", \"desirable\\u00e2\", \"ag\", \"months\\u00e2\", \"springs\", \"endorse\", \"camaraderie\", \"pedsnet\", \"marketable\", \"straight\", \"calendar\", \"mckayla\", \"balancer\", \"dns\", \"slot\", \"bootcamp\", \"hortonwork\", \"allen\", \"booz\", \"cd\", \"dli\", \"pron\", \"dig\", \"fearlessly\", \"fascinate\", \"puzzle\", \"prospect\", \"certification\", \"private\", \"ll\", \"to\", \"participation\", \"wealth\", \"institute\", \"the\", \"empower\", \"training\", \"and\", \"with\", \"access\", \"use\", \"public\", \"data\", \"change\", \"develop\", \"science\", \"can\", \"of\", \"for\", \"datum\", \"career\", \"learning\", \"have\", \"into\", \"as\", \"an\", \"on\", \"in\", \"customer\", \"or\", \"machine\", \"information\", \"build\", \"be\"], \"Freq\": [21679.0, 13987.0, 11183.0, 8943.0, 10448.0, 8029.0, 7128.0, 4710.0, 5726.0, 4911.0, 7527.0, 4186.0, 4154.0, 1627.0, 1704.0, 1704.0, 3609.0, 1295.0, 1739.0, 1476.0, 1336.0, 1930.0, 1653.0, 2365.0, 2426.0, 1726.0, 1380.0, 2437.0, 2185.0, 998.0, 113.34715203126281, 46.16493624002722, 25.157798989685677, 22.741579467970972, 22.738574936156517, 22.73451302311597, 22.7335554957662, 22.731212495882406, 13.031176929032133, 23.84840797700228, 24.554590638324605, 29.183268931586014, 25.220089977463797, 9.791515090851952, 9.790319518993442, 25.243728599579057, 8.9834092599272, 8.98190164470517, 28.82853090351794, 7.363019337440178, 12.59959599381635, 7.337749174309946, 17.087956410475496, 6.5561349333954855, 6.553142437539338, 6.551243430784209, 5.747429533436543, 5.746764435296014, 5.745199760716083, 5.745069148279639, 41.836662984377966, 31.52185741377201, 27.960322846122036, 33.943003654420444, 41.81119667970495, 96.99622956368452, 24.937647938960726, 13853.880633506844, 4924.7950063008675, 5715.227792376126, 1132.6737876946593, 6870.384907101793, 139.31601413140694, 6415.797567456287, 427.2375055681923, 4829.01699402836, 723.5515726617886, 3481.89782036686, 7778.234896339785, 603.4538920429588, 1089.5936301235533, 459.63712134938885, 1376.8356872561371, 476.31063602927793, 2475.6644885746196, 2156.3557570141893, 2842.1759163144748, 2732.1485847121653, 830.6293348761418, 397.4233063528302, 621.6114920921638, 1201.5769565146954, 768.8371314751108, 449.5514804249512, 481.8221705869713, 1405.0600986416725, 868.5762614324354, 981.5662290156602, 1226.4401152450218, 3503.089894128577, 2187.764879401589, 1142.0683827355626, 881.7563454545387, 1007.1902172242333, 962.3304923989232, 1288.0763183615527, 1268.1531306008294, 927.1590471296311, 5.897913818101938, 4.740942379378561, 4.74056926527128, 8.18135182146436, 3.5853813018141065, 3.5846881940684976, 3.5833197701219053, 2.4290623044486237, 2.428747139943836, 2.428213647770007, 2.4281567148272063, 2.428131552499808, 2.4281203692431865, 2.4280662321145416, 2.42742980314681, 2.4259459883250774, 3.1882615717008824, 3.135026982698307, 8.520435278845623, 3.047552057734902, 4.757380241622604, 5.238481399829635, 5.219170965623411, 2.195873358181123, 2.170838621574237, 3.4926611753303014, 4.880979627122636, 2.773984438445992, 2.0644838177845335, 2.7469257865555403, 6.173793575697339, 169.4489645936148, 20.773126906178696, 10.803757891332905, 21.86030618197662, 8.47615873256178, 34.975525284446, 2778.5909967138487, 27.77339212100499, 205.19517485819318, 9.384976756833494, 13.949787927722138, 2014.7153917390538, 1395.3457459217555, 874.6088773969419, 1488.9451956071525, 562.3210803434637, 421.7752790878246, 897.5759518536785, 1768.5637639560816, 395.82898506712445, 794.4364929415639, 195.3912407752087, 117.2625944340876, 91.18874622168225, 289.5031032123635, 2710.048678615052, 1343.1346587317753, 137.3655270708152, 177.90791483588535, 1138.607583824066, 322.39176774502016, 290.08326616605353, 385.9631892751487, 171.3718178037516, 200.33664765205756, 315.2643489024076, 376.6556291206073, 264.8770028024266, 549.108928839238, 677.8919611819061, 395.5039792965103, 270.0838132195042, 669.5407118008586, 314.28461428959014, 388.2154239592178, 250.43749091731243, 269.10269594950444, 252.54807643969443, 7.111332623415671, 5.3792850413251605, 5.379112695578704, 7.46976635787257, 3.6450010197247464, 3.64450223085853, 3.644385441270343, 3.643904495257878, 3.643114948979404, 3.642991265561359, 3.6425938565459997, 3.6425086974712797, 3.6423140481576346, 3.642113721572341, 3.642123859557427, 12.480479274135737, 7.115883362160937, 8.008903593690883, 3.3597513720044443, 6.970013166515154, 7.014123945142405, 3.2196328608171783, 4.2497841420893385, 4.344166350120713, 4.169092674637085, 4.338614789487789, 4.155476549628194, 3.9227895159413824, 1.9092747683660416, 1.9092542896361684, 4.102066400041538, 4.0393187606715575, 8.307709755067773, 6.519743885880406, 7.092291865347128, 36.319245599379364, 23.082151466483463, 13.924386260678908, 1003.5876727337569, 1308.6659540611345, 3112.0546799424924, 15.913076124174914, 1016.7009115083804, 241.34913576996124, 467.59758541325516, 36.89102795821241, 333.31800375103677, 1112.897640441557, 339.76979799464, 200.55641422621255, 1596.5564414612145, 643.2964647598465, 162.92870349895725, 258.2618512872153, 230.11223851915298, 601.8963205679362, 376.12099852300946, 1036.935512212305, 315.0309343132378, 310.0353245616359, 1111.6578021733621, 122.17123943422018, 171.67783977854862, 493.07131513677285, 202.635736054297, 194.52703494646138, 248.76511890039598, 198.04661895269103, 556.2202240668336, 249.22039066839142, 703.686076926155, 271.32336525089266, 681.4351169587997, 223.97889055267345, 263.05175564415686, 230.59834273842984, 250.92287142525862, 251.18084664894317, 2.9333872801614507, 2.931988059540861, 2.9317734832120355, 6.954444669804235, 6.490058539186901, 3.5195354346582435, 1.5366840038335643, 1.5362651922038084, 1.5349439270242748, 2.2758118561991885, 3.287593537007877, 3.2511187429622788, 3.2231884220810145, 9.614008292741977, 3.1552707383904406, 3.131352935198437, 3.127713489977088, 6.251043577322136, 3.0622887894729427, 3.058444114621058, 3.048934545141812, 2.957548694106755, 2.929599282097069, 3.5300101004524014, 1.3542241235276744, 2.9049657604551644, 3.3715616891873355, 1.2724164507146296, 1.2630272945505863, 1.3239809919844634, 3.7699553570958932, 4.255451502965761, 21.09350142644944, 8.737079581664393, 8.367931931570842, 4.397629102301408, 4.629009203724775, 1470.3805872114428, 858.7070435536781, 999.3485866057699, 196.12356955575666, 233.21317748290903, 334.636884521049, 16.065590253521872, 400.2010632185175, 175.9705289339182, 145.03265531816004, 433.263283058296, 489.96322173592756, 528.3235097160048, 261.0021985590131, 200.60485558507105, 277.10044896048277, 168.26509495445364, 88.85165805700252, 147.76128666640986, 356.4171892924769, 111.31558431867188, 92.91612747948122, 123.24886323394041, 300.64658129158636, 75.93418056190839, 123.55769405471229, 107.97879871083244, 109.18099252239843, 83.49768472897493, 208.5609433532964, 97.49053366952826, 126.16694221323037, 100.82962294019728, 109.01782701148578, 109.41726432774807, 2.8593878671122988, 2.8591791597023035, 2.8578074779634552, 4.14021662306869, 4.048102776531539, 3.759073488663774, 3.4788225329653866, 1.9474585392498207, 3.8901106515089814, 1.3545960514084052, 19.56171088567404, 1.8334134841210488, 3.961602789929616, 1.342147485537886, 2.8052144419567804, 2.0566239043148076, 13.53216119878129, 1.2439274850751885, 4.946586021765253, 1.2298068742574095, 3.9990235975825286, 2.858148551429937, 1.7098490008205938, 2.8587386577794374, 1.1539903675541576, 1.64534363538619, 1.6399880431751295, 1.6278146755708875, 3.8293216939814716, 1.5988242004900068, 3.049972517006386, 9.10651872286166, 2.4028504121587164, 3.817064904978839, 3.125817959545242, 5.525880834902759, 3.8980763176571376, 4.882544553184629, 3.6522636237481745, 27.539104050778555, 1002.6629633614947, 61.80302435240811, 88.82962673346451, 249.16964732154918, 828.7513315645471, 51.72014897065729, 484.1787714575241, 74.66894593993457, 70.79957704947705, 116.98256451893853, 457.8469738983684, 129.80928112750186, 121.40975229161064, 51.99497784328833, 39.0151524937027, 120.42551030969133, 55.32989815620212, 69.74257929503972, 244.19183645488675, 66.17959534507969, 51.46697149093101, 354.4062720866675, 374.19028653113435, 522.3123315382849, 68.70392316643891, 112.2106585958104, 105.39648848461401, 111.86186233950241, 237.03921310947064, 175.97058272731826, 162.5112277848533, 149.3552878579719, 153.33325355510755, 155.42790268742857, 112.00796491437208, 86.77269515502539, 97.23863174768802, 92.98029134798254, 90.70674733552346, 83.04039100823184, 84.3445869905787, 0.1437366999720902, 0.2588228298251549, 0.4941225299710976, 0.16345154959361458, 0.10261793622045687, 0.09779880068514574, 0.2621189898171513, 0.15205687546995536, 0.25899124007484775, 0.4208679898531916, 0.09176517552861463, 0.14344412230195808, 0.1429202893332151, 0.07790562211466269, 0.7295538831473389, 0.0818012857531614, 0.17856698709297975, 0.064680056198606, 0.06328681170468001, 0.25889095632853976, 0.2590310000566607, 0.08354948977406232, 0.17312626908891426, 0.2589283098411803, 0.07253636346730488, 0.25888294896209, 0.0713711319274632, 0.4943538491582706, 0.023576245032527227, 0.25891431824608063, 1.4002965560028562, 0.15701643806475998, 0.2589024349735302, 0.7296775714035625, 0.15654026596334283, 0.7577371723231727, 0.7102330875287473, 0.49403798410725336, 0.7295682793699986, 9.218354892567211, 0.3533091363425943, 5.132765508871863, 3.906148049685763, 0.7293670729917616, 1.888792931418396, 0.9041685640674725, 1.2863482388483989, 3.147301175631306, 2.848681436404345, 1.3670194743632478, 2.2763600304945038, 1.1043928473278457, 2.58015951359745, 2.1239873432139995, 1.3697221309095322, 1.866007033153431, 1.2050721916123468, 1.5519339285259761, 1.0672003338638159, 1.1432261894360753, 1.568301837396729, 1.0377488141379432, 0.9831930931904083, 1.3126218563107204, 0.8491214123002724, 0.8337771685638434, 0.8126741802093141, 0.8171000390525316, 0.8105000098487122, 0.7796598935218062, 0.12415231034123253, 0.09202447095429322, 0.09136362902342944, 0.08477491893020896, 0.0909705511070699, 0.07983633673892876, 0.14462394133534273, 0.15619539495586782, 0.09122380337549661, 0.012680179538318046, 0.07046144001227476, 0.12177510279273288, 0.11820717731785095, 0.0881402717510686, 0.03827520199706002, 0.01268006804145102, 0.01268007983438888, 0.012680059464768943, 0.012680057320598423, 0.08571498332283446, 0.01268006804145102, 0.01268006375310998, 0.012680064825195242, 0.012680060536854202, 0.012680054104342642, 0.012680057320598423, 0.012680056248513162, 0.012680064825195242, 0.01268006160893946, 0.012680066969365762, 0.09029494870634827, 0.19595534927102215, 0.17152273203903465, 0.0774462298605824, 0.12393372502176887, 0.08845001862434923, 0.09234590784524743, 0.0876495997693329, 0.0867532593019458, 0.14381639525751883, 0.08006350731715343, 0.09537038043687991, 0.09775745974645242, 0.09894967001551642, 0.13099939298208083, 0.49001034217339984, 0.9194632708853566, 0.5821450406457715, 0.18555831788092936, 1.08557116615395, 0.17730456503563335, 0.34585748367792457, 0.9600920430951067, 0.5141202874722138, 1.0654884876921193, 0.23818173435834325, 0.7542896850557137, 0.44402992618676607, 0.2942500781129451, 0.6739545113337101, 0.8884993901767133, 0.2828330047698408, 0.6371654167705129, 0.4535669565114402, 0.4336099779021584, 0.23435725459243423, 0.3212218220744004, 0.2658186000150197, 0.217878738087269, 0.3370777400740918, 0.337964534694325, 0.288055620941529, 0.3483824931886904, 0.21820737939116952, 0.2290148050187392, 0.2198451311408699, 0.22108182008319524, 0.22424872563411255, 0.21903952339319582, 0.10945240521398515, 0.14902424513334755, 0.07909922378037128, 0.09889468102592763, 0.09834948327530854, 0.15752222322675632, 0.16885123695316848, 0.22325688933086815, 0.07739424591917683, 0.1996955544255321, 0.1649050738249102, 0.08818182211520743, 0.15535190956521452, 0.1645566894199046, 0.15943820926496086, 0.03617373743667675, 0.03478792963302895, 0.10383820838836597, 0.014502768864444026, 0.029924324042547933, 0.0648418616303999, 0.030880575823301584, 0.03192351349946254, 0.11159910640162639, 0.36322500295227855, 0.014502624651451962, 0.18759320013154482, 0.014502609696030563, 0.014502608627786177, 0.16810114138342527, 0.03365003357693815, 0.06338410543088932, 0.1511896534166704, 0.21766679209858938, 0.1777819822120947, 0.42775421081588433, 0.2181341361983818, 0.18371184952665312, 0.18784378462655474, 0.7804551777350515, 0.4788230950305452, 0.19015156852159798, 0.25378580978485527, 0.4616856861951565, 0.378599312885938, 0.3903305163505726, 0.21543592179931345, 0.45740074431540845, 0.31058506453856427, 0.24328064322057205, 0.27192254842409364, 0.3345335653930828, 0.3329027578760733, 0.22407231018128307, 0.31307104868904534, 0.27634019189440556, 0.24359773233805546, 0.19519164808458955, 0.1997108516851347, 0.20727831200504032, 0.23948683737957374, 0.21778323928258111, 0.21170162998952888, 0.04859691827975804, 0.048618133515162906, 0.0486098202615285, 0.04860488397363598, 0.0044258282872248434, 0.004425831222695759, 0.0044258244711126524, 0.004425824177565561, 0.004425831222695759, 0.004425827406583568, 0.004425827406583568, 0.004425825351753928, 0.004425823590471377, 0.0044258247646597445, 0.004425825645301019, 0.004425825351753928, 0.004425826819489385, 0.004425826819489385, 0.004425825351753928, 0.004425824177565561, 0.004425825645301019, 0.004425825938848111, 0.004425825645301019, 0.0044258244711126524, 0.004426361955837391, 0.004425825351753928, 0.004425827406583568, 0.004425823884018469, 0.004425827993677751, 0.0044258244711126524, 0.04859253151202101, 0.04860410431256066, 0.04858348086809248, 0.18118491125662126, 0.04860253090014963, 0.048596025896599546, 0.04861985252693138, 0.048584889894132205, 0.04861368568963083, 0.04858942695798014, 0.04861022418232656, 0.048609782687500776, 0.048606138006811336, 0.04861724582875788, 0.04861683721120636, 0.092837156225191, 0.04859266771787152, 0.04860295830471501, 0.048609918893351284, 0.048609369373195786, 0.004425902848186112, 0.00447623208413691, 0.004465348532168361, 0.004457650259690876, 0.004453209479288993, 0.0044476702456703035, 0.004443425554725616, 0.0031950891343753263, 0.0061267034776207934, 0.004231366852936616, 0.0041370164262202165, 0.0031950597634584467, 0.0031950610884622158, 0.004018065979528207, 0.004010515666384413, 0.003982187527470704, 0.003195056892616947, 0.0031950566717829855, 0.0038574856810853057, 0.0036607007588237606, 0.0038315792073934413, 0.0031950610884622158, 0.003195057775952793, 0.0031950579967867545, 0.0031950575551188314, 0.003195056892616947, 0.003195056892616947, 0.0031950566717829855, 0.003195061309296177, 0.0031956639651771193, 0.003195059542624485, 0.003195058659288639, 0.003195059100956562, 0.0031950562301150624, 0.0031950575551188314, 0.0031950571134509087, 0.003195056892616947, 0.003794689777460177, 0.0037924527294301495, 0.0036774894399130803, 0.003665224542525154, 0.007072544609765406, 0.008879488024678696, 0.01163621313294566, 0.011329483593776168, 0.0035722499113889205, 0.007609137127788123, 0.19181356642035047, 0.007016738984357699, 0.007550583444563471, 0.00593219866601177, 0.006309443580764696, 0.007939359867118172, 0.013121065356659373, 0.01101140142231372, 0.018219194025130073, 0.08177909129013164, 0.007167391912895186, 0.008390944118331923, 0.007143155385620209, 0.06016980622176988, 0.012026764177215002, 0.016244037406728484, 0.06985119536081748, 0.04801364924315923, 0.015305387070038338, 0.029655739690114688, 0.012812677796106915, 0.034733889068420266, 0.01636251041039572, 0.024036663706457927, 0.02525688087740804, 0.017890389923168718, 0.036051607083381586, 0.029801536038170793, 0.030667339434311953, 0.015100855954909145, 0.02207678703152067, 0.020429658946207633, 0.016169976762727075, 0.020494723697953243, 0.019035882181561225, 0.019569123765052092, 0.022525518107951798, 0.016032750539048984, 0.017999073798990444, 0.016369509963639527, 0.015364837339146693, 0.014993823917119464, 0.01564941104862649], \"Total\": [21679.0, 13987.0, 11183.0, 8943.0, 10448.0, 8029.0, 7128.0, 4710.0, 5726.0, 4911.0, 7527.0, 4186.0, 4154.0, 1627.0, 1704.0, 1704.0, 3609.0, 1295.0, 1739.0, 1476.0, 1336.0, 1930.0, 1653.0, 2365.0, 2426.0, 1726.0, 1380.0, 2437.0, 2185.0, 998.0, 114.09548401320751, 47.00762417577871, 25.906062780933, 23.489833063447357, 23.486830615686383, 23.48277398848402, 23.481816139215773, 23.47947492368465, 13.779419216451792, 25.325343519829794, 26.183646140985708, 31.171043214489604, 27.037811618648337, 10.539758861614155, 10.53855927718505, 27.176639313246003, 9.73164992874587, 9.73014442696356, 31.307790835917476, 8.111261904444927, 13.9548312909701, 8.135661238188073, 19.012007576503162, 7.304374840014051, 7.301384513961596, 7.299486825030543, 6.495669204895478, 6.495005292421097, 6.493440084164239, 6.493310333658889, 47.79484784589643, 35.92687327665166, 31.983305605048297, 38.949581485448505, 48.32757402586814, 114.26487563743825, 28.91793059652526, 21679.00235532219, 7527.523014697081, 8943.998006559537, 1619.282712975215, 11183.725816151426, 177.5838874453037, 10448.173436356901, 589.668611285255, 8029.243810119413, 1042.8862396441161, 5726.946702546016, 13987.289131964428, 870.0373835862054, 1653.8360761083077, 652.9347512180667, 2185.6313972715725, 681.8303359504365, 4186.673152371254, 3609.9951235621297, 4911.3386430769215, 4710.635360226663, 1265.5638367332513, 559.9614324689879, 924.8505463826014, 1930.7843294307827, 1177.2296836096561, 651.3678108977548, 707.3118845840587, 2365.9569994072663, 1380.1823074883816, 1591.0996654426565, 2060.472068466373, 7128.355244930447, 4154.363681928998, 1927.868516220006, 1443.147601389633, 1704.6488922677222, 1627.5840445561869, 2426.1349209075133, 2437.2242113915026, 1704.1407364902223, 6.611388718188475, 5.454415789807447, 5.454043633896187, 9.72125362466569, 4.298854327450732, 4.29816098686906, 4.296794394117743, 3.1425337411855394, 3.1422188539880285, 3.141685281521531, 3.1416284164361805, 3.1416031335226124, 3.141592238768183, 3.141537324174702, 3.1409022270567344, 3.1394190837624434, 4.179361000106741, 4.162721812965865, 11.441237172319678, 4.137065817336267, 6.464136407837117, 7.221655919833221, 7.217841365052693, 3.0715670167229434, 3.0654608255853404, 5.077406564701674, 7.112926383679005, 4.0547796050952085, 3.0327017566039562, 4.046869502708021, 9.121859705009506, 294.39828274796054, 33.88763702050602, 17.788334078712857, 38.89760788919237, 13.859298442731609, 71.65770904831747, 13987.289131964428, 57.69674347534589, 650.9313542902264, 15.88982397226377, 25.815275247182946, 10448.173436356901, 7128.355244930447, 4154.363681928998, 8029.243810119413, 2426.1349209075133, 1739.364379518236, 4710.635360226663, 11183.725816151426, 1726.869235004306, 4186.673152371254, 709.56153511298, 375.84173732611663, 273.6401063819917, 1215.3101277663868, 21679.00235532219, 8943.998006559537, 468.1755767755302, 671.611641359866, 7527.523014697081, 1476.683058514269, 1295.6203158900219, 1927.868516220006, 659.5101689039143, 832.3528031272302, 1591.0996654426565, 2060.472068466373, 1249.408220814503, 3609.9951235621297, 4911.3386430769215, 2365.9569994072663, 1336.7632860918307, 5726.946702546016, 1704.1407364902223, 2437.2242113915026, 1356.1984877422003, 1930.7843294307827, 1653.8360761083077, 7.766833134221751, 6.034782268436468, 6.034610220763677, 8.676567949469122, 4.300496972603317, 4.2999987559726565, 4.299883004017652, 4.299401386775696, 4.298615035185569, 4.298490034323234, 4.298090909265946, 4.298009327513239, 4.297812479679269, 4.297609204284582, 4.29762525436813, 14.734588542825957, 8.580166694021644, 9.863929169470758, 4.14762375583102, 8.659876580438446, 8.720636060501924, 4.072576198541843, 5.432102642783416, 5.597409148807684, 5.38750913243801, 5.610318394935499, 5.504705032451596, 5.256719207307834, 2.564770190640007, 2.564749786738289, 5.543047391468949, 5.462774107115862, 11.643215465945136, 9.07158587050273, 10.367176375468523, 71.84339111717235, 42.103655713147816, 23.630492514818993, 4911.3386430769215, 7128.355244930447, 21679.00235532219, 28.579630167046904, 5726.946702546016, 1007.9458540210236, 2437.2242113915026, 87.90499250827598, 1627.5840445561869, 8029.243810119413, 1704.6488922677222, 855.8919975409373, 13987.289131964428, 4186.673152371254, 670.9045942686906, 1275.7984231772386, 1118.9941088535625, 4154.363681928998, 2185.6313972715725, 8943.998006559537, 1739.364379518236, 1726.869235004306, 10448.173436356901, 475.80140439509006, 785.4237901418919, 3609.9951235621297, 1007.5082856203483, 958.208026772775, 1380.1823074883816, 998.2563307839988, 4710.635360226663, 1443.147601389633, 7527.523014697081, 1704.1407364902223, 11183.725816151426, 1354.9295016481178, 2060.472068466373, 1476.683058514269, 1930.7843294307827, 2365.9569994072663, 3.622797432657104, 3.6213994428989604, 3.6211853799543925, 8.940389811837335, 8.85944364916579, 4.879449524711678, 2.226092827607291, 2.225674409031329, 2.224353679992184, 3.3459687517376735, 4.839370415096145, 4.832656604943292, 4.828262634403902, 14.524033321005403, 4.816109584060027, 4.810409189524961, 4.809968804383734, 9.741201468939176, 4.800047484287214, 4.799816570703235, 4.798181445485398, 4.782668407357626, 4.77733091365734, 5.798317932819079, 2.269791071530994, 4.87411387490822, 5.66306514710803, 2.143239547890701, 2.1361665062910764, 2.2768963807000167, 6.694780548174394, 7.631101667648914, 41.3150449898701, 16.605650539274258, 17.668124058218982, 8.101119205987235, 9.224857015570873, 21679.00235532219, 11183.725816151426, 13987.289131964428, 1726.869235004306, 2365.9569994072663, 4154.363681928998, 53.64682586591883, 5726.946702546016, 1739.364379518236, 1354.9295016481178, 7128.355244930447, 8943.998006559537, 10448.173436356901, 3609.9951235621297, 2437.2242113915026, 4710.635360226663, 2185.6313972715725, 849.7913458787069, 1930.7843294307827, 8029.243810119413, 1295.6203158900219, 1007.9458540210236, 1619.282712975215, 7527.523014697081, 732.3339002360083, 1704.1407364902223, 1356.1984877422003, 1443.147601389633, 890.2315972047712, 4911.3386430769215, 1275.7984231772386, 2426.1349209075133, 1476.683058514269, 2060.472068466373, 4186.673152371254, 3.4283752646916357, 3.4281727278396423, 3.426795812963661, 5.119066559022276, 5.05539716900251, 4.856902039926212, 4.6633646632508, 2.7999434225055744, 5.756039206798475, 2.007428106897372, 29.000029165504177, 2.721532452258629, 5.886605278539723, 1.9955258549747952, 4.199717869240896, 3.110596347988004, 20.472149200245706, 1.8915961766321139, 7.528947545332316, 1.8781365440685898, 6.109272761057291, 4.375394145310396, 2.6365189395834077, 4.462770187560731, 1.8179260707554568, 2.5922877255599235, 2.5882489618750717, 2.5800655433229727, 6.0826806650354985, 2.560252994399713, 4.91311781893595, 15.882742886368424, 3.92293676269178, 6.513720430136699, 5.229780823352384, 10.927821670115419, 7.379287483775073, 10.008605220141897, 6.9663993761326966, 94.06313658871457, 11183.725816151426, 330.1003479457209, 545.8794440025155, 2426.1349209075133, 13987.289131964428, 291.8849551525074, 7128.355244930447, 499.61607047968397, 468.1755767755302, 1000.8685799093162, 7527.523014697081, 1215.3101277663868, 1148.1960559859153, 324.78572351833583, 215.32345461544585, 1295.6203158900219, 401.4315983534865, 598.9966265201197, 4710.635360226663, 563.8881895021821, 375.84173732611663, 8943.998006559537, 10448.173436356901, 21679.00235532219, 659.5101689039143, 1591.0996654426565, 1476.683058514269, 1739.364379518236, 8029.243810119413, 4911.3386430769215, 4186.673152371254, 3609.9951235621297, 4154.363681928998, 5726.946702546016, 2437.2242113915026, 1249.408220814503, 1927.868516220006, 1726.869235004306, 1627.5840445561869, 1653.8360761083077, 2060.472068466373, 1.5151500252655832, 3.110596347988004, 6.267415825999274, 2.759906842376237, 1.748897334626037, 1.783772955914055, 4.810974382623191, 2.8251699645361135, 4.932946846902346, 8.101119205987235, 1.8042755842104088, 2.8422861581242214, 2.861756046676014, 1.5926796163578454, 15.496990804880177, 1.8405742599218244, 4.02909029436014, 1.6060120293941016, 1.644892755466544, 7.218587511041364, 7.528947545332316, 2.4812483886784644, 5.206934095905891, 7.934988505791068, 2.252272900620781, 8.143061346112985, 2.3925073600610895, 17.462016363840114, 0.8734836807440332, 9.753833993611106, 57.714992217265944, 6.121483122924968, 12.211845050052014, 50.571594543751466, 6.447023310925114, 89.23510977642894, 81.69213524965237, 44.88696120954231, 128.49013015922256, 21679.00235532219, 34.49701890847117, 13987.289131964428, 8029.243810119413, 174.69203304321567, 1704.6488922677222, 294.39828274796054, 787.1656248267168, 8943.998006559537, 7128.355244930447, 1118.9941088535625, 4710.635360226663, 643.1394732134825, 10448.173436356901, 5726.946702546016, 1627.5840445561869, 4911.3386430769215, 1380.1823074883816, 4154.363681928998, 998.2563307839988, 1476.683058514269, 7527.523014697081, 1336.7632860918307, 1265.5638367332513, 11183.725816151426, 587.0056442167901, 1007.9458540210236, 729.6615347464876, 2060.472068466373, 1927.868516220006, 1739.364379518236, 2.3034834005412166, 1.8781365440685898, 1.8915961766321139, 2.4545628148779106, 3.514757656381636, 3.4495612852852333, 7.477215512215781, 8.459738812997838, 5.391751698130967, 0.8734836807440332, 5.291094538502687, 9.820935728332628, 11.745145324434692, 8.97887112370708, 3.9021028064086862, 1.5151500252655832, 1.5344261352248034, 1.5926796163578454, 1.6060120293941016, 10.87828941930926, 1.6374316390903025, 1.63745665343419, 1.6375775760424065, 1.6375951912255762, 1.6376003037120408, 1.6376062931315196, 1.6376142937825178, 1.6376301151615231, 1.6376727826031015, 1.6376857482336107, 13.054412950200247, 32.90878157915571, 31.326631341173236, 12.877948819798455, 23.012567672561957, 15.810617966268973, 17.462016363840114, 16.941633716768962, 17.02569248897737, 32.26458359427671, 15.702021987385722, 20.287588229333373, 22.12792125617028, 23.28510460258814, 37.67024746320846, 407.9790368779011, 1295.6203158900219, 803.1057546781831, 91.53856471084609, 4911.3386430769215, 84.82376042911831, 452.9557548328845, 5726.946702546016, 1336.7632860918307, 8943.998006559537, 199.34381753058784, 7128.355244930447, 1704.1407364902223, 475.80140439509006, 8029.243810119413, 21679.00235532219, 452.9049715824904, 10448.173436356901, 4710.635360226663, 4154.363681928998, 282.3483300319041, 1739.364379518236, 848.8021882607932, 275.8182126009298, 3609.9951235621297, 4186.673152371254, 2185.6313972715725, 13987.289131964428, 313.6029336416682, 914.923666565602, 732.3339002360083, 998.2563307839988, 2365.9569994072663, 913.0792091037308, 1.8179260707554568, 2.821391083543881, 1.5344261352248034, 1.9955258549747952, 2.007428106897372, 3.541438526363006, 4.131803223083984, 6.728695530427741, 2.355286488173039, 6.402910113428389, 6.22500571182276, 3.333146274909582, 7.000553335303518, 7.432023037980713, 7.76286491811282, 1.8340571177579699, 1.8431545824212114, 6.196571439739789, 0.8734836807440332, 1.8780931986842995, 5.555387004929362, 2.6805666140398645, 2.8887153946380493, 10.97308487683239, 35.8839037788793, 1.5151500252655832, 19.645027363434913, 1.5926796163578454, 1.6060120293941016, 18.61761997128383, 4.277639457928961, 9.128169548610476, 25.874287518523538, 44.254029319203504, 34.70153653015372, 126.81689741909923, 66.6348975032321, 53.93926518325007, 62.47309415591643, 1627.5840445561869, 670.9045942686906, 89.54280218194468, 210.00371825461326, 1739.364379518236, 1476.683058514269, 1704.1407364902223, 152.08269762151883, 4710.635360226663, 955.9638034867712, 281.47366755794144, 516.6272329090415, 1704.6488922677222, 4186.673152371254, 311.2094609224788, 11183.725816151426, 8029.243810119413, 1726.869235004306, 111.33218799582924, 228.5076134258416, 598.9966265201197, 13987.289131964428, 1930.7843294307827, 1653.8360761083077, 0.8734836807440332, 3.4821422873119476, 4.118361769919237, 8.064668039959038, 1.5151500252655832, 1.5344261352248034, 1.5926796163578454, 1.6060120293941016, 1.6374316390903025, 1.63745665343419, 1.6375775760424065, 1.6375951912255762, 1.6376003037120408, 1.6376062931315196, 1.6376142937825178, 1.6376301151615231, 1.6376727826031015, 1.6376857482336107, 1.6376897138304107, 1.637726514380584, 1.6377328371403415, 1.6377536849993488, 1.6377538834533214, 1.6377804471120947, 1.6379815250087246, 1.637798650697598, 1.6378041165004726, 1.6378275343037383, 1.6378487750214747, 1.6378476936788229, 18.81158038189267, 35.9901909189416, 36.519953430347755, 4710.635360226663, 281.7786811070348, 302.2403493710678, 303.83334630169304, 313.8054184701864, 401.4315983534865, 409.30471350111475, 505.62424335176377, 647.5183714418268, 726.4838621218529, 849.7913458787069, 1096.1042537951669, 10448.173436356901, 1653.8360761083077, 4186.673152371254, 7527.523014697081, 8029.243810119413, 1.6382685693717314, 21679.00235532219, 13987.289131964428, 11183.725816151426, 7128.355244930447, 8943.998006559537, 5726.946702546016, 0.8734836807440332, 2.5743732394587258, 1.948428786201677, 1.9517570039226038, 1.5151500252655832, 1.5344261352248034, 1.9564000128233048, 1.9565395131570213, 1.9577996002372684, 1.5926796163578454, 1.6060120293941016, 1.9622531690606442, 1.8654101276619688, 1.962929485987288, 1.6374316390903025, 1.63745665343419, 1.6375775760424065, 1.6375951912255762, 1.6376003037120408, 1.6376062931315196, 1.6376142937825178, 1.6376301151615231, 1.6379815250087246, 1.6376727826031015, 1.6376857482336107, 1.6376897138304107, 1.637726514380584, 1.6377328371403415, 1.6377536849993488, 1.6377538834533214, 1.9640249571532702, 1.9639394263515872, 1.9682641019640388, 1.9691450352054365, 5.143890874705189, 8.689372975949846, 14.26651055061938, 13.673341920842212, 1.9728002255974433, 8.613905398952168, 11183.725816151426, 8.772445941183275, 12.72166516072579, 7.201896569342217, 8.515799149595448, 16.624269734877107, 63.43148155545389, 44.700407186755484, 189.01777004487857, 13987.289131964428, 14.339092819527998, 22.52696870918085, 14.439945258678277, 10448.173436356901, 72.73347594978651, 194.2769578146532, 21679.00235532219, 7128.355244930447, 182.11646456205366, 1704.1407364902223, 110.04763871303865, 4186.673152371254, 305.39277447110754, 1275.7984231772386, 1930.7843294307827, 512.4129332738539, 8943.998006559537, 4710.635360226663, 5726.946702546016, 284.15134934576963, 1726.869235004306, 1476.683058514269, 480.6242120978835, 2365.9569994072663, 1927.868516220006, 2437.2242113915026, 8029.243810119413, 832.4381729519247, 4154.363681928998, 1739.364379518236, 813.7960923095984, 1054.8262805364282, 7527.523014697081], \"Category\": [\"Default\", \"Default\", \"Default\", \"Default\", \"Default\", \"Default\", \"Default\", \"Default\", \"Default\", \"Default\", \"Default\", \"Default\", \"Default\", \"Default\", \"Default\", \"Default\", \"Default\", \"Default\", \"Default\", \"Default\", \"Default\", \"Default\", \"Default\", \"Default\", \"Default\", \"Default\", \"Default\", \"Default\", \"Default\", \"Default\", \"Topic1\", \"Topic1\", \"Topic1\", \"Topic1\", \"Topic1\", \"Topic1\", \"Topic1\", \"Topic1\", \"Topic1\", \"Topic1\", \"Topic1\", \"Topic1\", \"Topic1\", \"Topic1\", \"Topic1\", \"Topic1\", \"Topic1\", \"Topic1\", \"Topic1\", \"Topic1\", \"Topic1\", \"Topic1\", \"Topic1\", \"Topic1\", \"Topic1\", \"Topic1\", \"Topic1\", \"Topic1\", \"Topic1\", \"Topic1\", \"Topic1\", \"Topic1\", \"Topic1\", \"Topic1\", \"Topic1\", \"Topic1\", \"Topic1\", \"Topic1\", \"Topic1\", \"Topic1\", \"Topic1\", \"Topic1\", \"Topic1\", \"Topic1\", \"Topic1\", \"Topic1\", \"Topic1\", \"Topic1\", \"Topic1\", \"Topic1\", \"Topic1\", \"Topic1\", \"Topic1\", \"Topic1\", \"Topic1\", \"Topic1\", \"Topic1\", \"Topic1\", \"Topic1\", \"Topic1\", \"Topic1\", \"Topic1\", \"Topic1\", \"Topic1\", \"Topic1\", \"Topic1\", \"Topic1\", \"Topic1\", \"Topic1\", \"Topic1\", \"Topic1\", \"Topic1\", \"Topic1\", \"Topic1\", \"Topic1\", \"Topic1\", \"Topic1\", \"Topic1\", \"Topic2\", \"Topic2\", \"Topic2\", \"Topic2\", \"Topic2\", \"Topic2\", \"Topic2\", \"Topic2\", \"Topic2\", \"Topic2\", \"Topic2\", \"Topic2\", \"Topic2\", \"Topic2\", \"Topic2\", \"Topic2\", \"Topic2\", \"Topic2\", \"Topic2\", \"Topic2\", \"Topic2\", \"Topic2\", \"Topic2\", \"Topic2\", \"Topic2\", \"Topic2\", \"Topic2\", \"Topic2\", \"Topic2\", \"Topic2\", \"Topic2\", \"Topic2\", \"Topic2\", \"Topic2\", \"Topic2\", \"Topic2\", \"Topic2\", \"Topic2\", \"Topic2\", \"Topic2\", \"Topic2\", \"Topic2\", \"Topic2\", \"Topic2\", \"Topic2\", \"Topic2\", \"Topic2\", \"Topic2\", \"Topic2\", \"Topic2\", \"Topic2\", \"Topic2\", \"Topic2\", \"Topic2\", \"Topic2\", \"Topic2\", \"Topic2\", \"Topic2\", \"Topic2\", \"Topic2\", \"Topic2\", \"Topic2\", \"Topic2\", \"Topic2\", \"Topic2\", \"Topic2\", \"Topic2\", \"Topic2\", \"Topic2\", \"Topic2\", \"Topic2\", \"Topic2\", \"Topic2\", \"Topic2\", \"Topic2\", \"Topic2\", \"Topic2\", \"Topic2\", \"Topic2\", \"Topic3\", \"Topic3\", \"Topic3\", \"Topic3\", \"Topic3\", \"Topic3\", \"Topic3\", \"Topic3\", \"Topic3\", \"Topic3\", \"Topic3\", \"Topic3\", \"Topic3\", \"Topic3\", \"Topic3\", \"Topic3\", \"Topic3\", \"Topic3\", \"Topic3\", \"Topic3\", \"Topic3\", \"Topic3\", \"Topic3\", \"Topic3\", \"Topic3\", \"Topic3\", \"Topic3\", \"Topic3\", \"Topic3\", \"Topic3\", \"Topic3\", \"Topic3\", \"Topic3\", \"Topic3\", \"Topic3\", \"Topic3\", \"Topic3\", \"Topic3\", \"Topic3\", \"Topic3\", \"Topic3\", \"Topic3\", \"Topic3\", \"Topic3\", \"Topic3\", \"Topic3\", \"Topic3\", \"Topic3\", \"Topic3\", \"Topic3\", \"Topic3\", \"Topic3\", \"Topic3\", \"Topic3\", \"Topic3\", \"Topic3\", \"Topic3\", \"Topic3\", \"Topic3\", \"Topic3\", \"Topic3\", \"Topic3\", \"Topic3\", \"Topic3\", \"Topic3\", \"Topic3\", \"Topic3\", \"Topic3\", \"Topic3\", \"Topic3\", \"Topic3\", \"Topic3\", \"Topic3\", \"Topic3\", \"Topic3\", \"Topic3\", \"Topic3\", \"Topic3\", \"Topic4\", \"Topic4\", \"Topic4\", \"Topic4\", \"Topic4\", \"Topic4\", \"Topic4\", \"Topic4\", \"Topic4\", \"Topic4\", \"Topic4\", \"Topic4\", \"Topic4\", \"Topic4\", \"Topic4\", \"Topic4\", \"Topic4\", \"Topic4\", \"Topic4\", \"Topic4\", \"Topic4\", \"Topic4\", \"Topic4\", \"Topic4\", \"Topic4\", \"Topic4\", \"Topic4\", \"Topic4\", \"Topic4\", \"Topic4\", \"Topic4\", \"Topic4\", \"Topic4\", \"Topic4\", \"Topic4\", \"Topic4\", \"Topic4\", \"Topic4\", \"Topic4\", \"Topic4\", \"Topic4\", \"Topic4\", \"Topic4\", \"Topic4\", \"Topic4\", \"Topic4\", \"Topic4\", \"Topic4\", \"Topic4\", \"Topic4\", \"Topic4\", \"Topic4\", \"Topic4\", \"Topic4\", \"Topic4\", \"Topic4\", \"Topic4\", \"Topic4\", \"Topic4\", \"Topic4\", \"Topic4\", \"Topic4\", \"Topic4\", \"Topic4\", \"Topic4\", \"Topic4\", \"Topic4\", \"Topic4\", \"Topic4\", \"Topic4\", \"Topic4\", \"Topic4\", \"Topic5\", \"Topic5\", \"Topic5\", \"Topic5\", \"Topic5\", \"Topic5\", \"Topic5\", \"Topic5\", \"Topic5\", \"Topic5\", \"Topic5\", \"Topic5\", \"Topic5\", \"Topic5\", \"Topic5\", \"Topic5\", \"Topic5\", \"Topic5\", \"Topic5\", \"Topic5\", \"Topic5\", \"Topic5\", \"Topic5\", \"Topic5\", \"Topic5\", \"Topic5\", \"Topic5\", \"Topic5\", \"Topic5\", \"Topic5\", \"Topic5\", \"Topic5\", \"Topic5\", \"Topic5\", \"Topic5\", \"Topic5\", \"Topic5\", \"Topic5\", \"Topic5\", \"Topic5\", \"Topic5\", \"Topic5\", \"Topic5\", \"Topic5\", \"Topic5\", \"Topic5\", \"Topic5\", \"Topic5\", \"Topic5\", \"Topic5\", \"Topic5\", \"Topic5\", \"Topic5\", \"Topic5\", \"Topic5\", \"Topic5\", \"Topic5\", \"Topic5\", \"Topic5\", \"Topic5\", \"Topic5\", \"Topic5\", \"Topic5\", \"Topic5\", \"Topic5\", \"Topic5\", \"Topic5\", \"Topic5\", \"Topic5\", \"Topic5\", \"Topic5\", \"Topic5\", \"Topic5\", \"Topic5\", \"Topic5\", \"Topic5\", \"Topic5\", \"Topic5\", \"Topic5\", \"Topic5\", \"Topic5\", \"Topic6\", \"Topic6\", \"Topic6\", \"Topic6\", \"Topic6\", \"Topic6\", \"Topic6\", \"Topic6\", \"Topic6\", \"Topic6\", \"Topic6\", \"Topic6\", \"Topic6\", \"Topic6\", \"Topic6\", \"Topic6\", \"Topic6\", \"Topic6\", \"Topic6\", \"Topic6\", \"Topic6\", \"Topic6\", \"Topic6\", \"Topic6\", \"Topic6\", \"Topic6\", \"Topic6\", \"Topic6\", \"Topic6\", \"Topic6\", \"Topic6\", \"Topic6\", \"Topic6\", \"Topic6\", \"Topic6\", \"Topic6\", \"Topic6\", \"Topic6\", \"Topic6\", \"Topic6\", \"Topic6\", \"Topic6\", \"Topic6\", \"Topic6\", \"Topic6\", \"Topic6\", \"Topic6\", \"Topic6\", \"Topic6\", \"Topic6\", \"Topic6\", \"Topic6\", \"Topic6\", \"Topic6\", \"Topic6\", \"Topic6\", \"Topic6\", \"Topic6\", \"Topic6\", \"Topic6\", \"Topic6\", \"Topic6\", \"Topic6\", \"Topic6\", \"Topic6\", \"Topic6\", \"Topic6\", \"Topic6\", \"Topic6\", \"Topic6\", \"Topic7\", \"Topic7\", \"Topic7\", \"Topic7\", \"Topic7\", \"Topic7\", \"Topic7\", \"Topic7\", \"Topic7\", \"Topic7\", \"Topic7\", \"Topic7\", \"Topic7\", \"Topic7\", \"Topic7\", \"Topic7\", \"Topic7\", \"Topic7\", \"Topic7\", \"Topic7\", \"Topic7\", \"Topic7\", \"Topic7\", \"Topic7\", \"Topic7\", \"Topic7\", \"Topic7\", \"Topic7\", \"Topic7\", \"Topic7\", \"Topic7\", \"Topic7\", \"Topic7\", \"Topic7\", \"Topic7\", \"Topic7\", \"Topic7\", \"Topic7\", \"Topic7\", \"Topic7\", \"Topic7\", \"Topic7\", \"Topic7\", \"Topic7\", \"Topic7\", \"Topic7\", \"Topic7\", \"Topic7\", \"Topic7\", \"Topic7\", \"Topic7\", \"Topic7\", \"Topic7\", \"Topic7\", \"Topic7\", \"Topic7\", \"Topic7\", \"Topic7\", \"Topic7\", \"Topic7\", \"Topic7\", \"Topic7\", \"Topic7\", \"Topic7\", \"Topic7\", \"Topic7\", \"Topic7\", \"Topic7\", \"Topic7\", \"Topic7\", \"Topic7\", \"Topic7\", \"Topic7\", \"Topic7\", \"Topic7\", \"Topic7\", \"Topic7\", \"Topic7\", \"Topic7\", \"Topic8\", \"Topic8\", \"Topic8\", \"Topic8\", \"Topic8\", \"Topic8\", \"Topic8\", \"Topic8\", \"Topic8\", \"Topic8\", \"Topic8\", \"Topic8\", \"Topic8\", \"Topic8\", \"Topic8\", \"Topic8\", \"Topic8\", \"Topic8\", \"Topic8\", \"Topic8\", \"Topic8\", \"Topic8\", \"Topic8\", \"Topic8\", \"Topic8\", \"Topic8\", \"Topic8\", \"Topic8\", \"Topic8\", \"Topic8\", \"Topic8\", \"Topic8\", \"Topic8\", \"Topic8\", \"Topic8\", \"Topic8\", \"Topic8\", \"Topic8\", \"Topic8\", \"Topic8\", \"Topic8\", \"Topic8\", \"Topic8\", \"Topic8\", \"Topic8\", \"Topic8\", \"Topic8\", \"Topic8\", \"Topic8\", \"Topic8\", \"Topic8\", \"Topic8\", \"Topic8\", \"Topic8\", \"Topic8\", \"Topic8\", \"Topic8\", \"Topic8\", \"Topic8\", \"Topic8\", \"Topic8\", \"Topic8\", \"Topic8\", \"Topic9\", \"Topic9\", \"Topic9\", \"Topic9\", \"Topic9\", \"Topic9\", \"Topic9\", \"Topic9\", \"Topic9\", \"Topic9\", \"Topic9\", \"Topic9\", \"Topic9\", \"Topic9\", \"Topic9\", \"Topic9\", \"Topic9\", \"Topic9\", \"Topic9\", \"Topic9\", \"Topic9\", \"Topic9\", \"Topic9\", \"Topic9\", \"Topic9\", \"Topic9\", \"Topic9\", \"Topic9\", \"Topic9\", \"Topic9\", \"Topic9\", \"Topic9\", \"Topic9\", \"Topic9\", \"Topic9\", \"Topic9\", \"Topic9\", \"Topic9\", \"Topic9\", \"Topic9\", \"Topic9\", \"Topic9\", \"Topic9\", \"Topic9\", \"Topic9\", \"Topic9\", \"Topic9\", \"Topic9\", \"Topic9\", \"Topic9\", \"Topic9\", \"Topic9\", \"Topic9\", \"Topic9\", \"Topic9\", \"Topic9\", \"Topic9\", \"Topic10\", \"Topic10\", \"Topic10\", \"Topic10\", \"Topic10\", \"Topic10\", \"Topic10\", \"Topic10\", \"Topic10\", \"Topic10\", \"Topic10\", \"Topic10\", \"Topic10\", \"Topic10\", \"Topic10\", \"Topic10\", \"Topic10\", \"Topic10\", \"Topic10\", \"Topic10\", \"Topic10\", \"Topic10\", \"Topic10\", \"Topic10\", \"Topic10\", \"Topic10\", \"Topic10\", \"Topic10\", \"Topic10\", \"Topic10\", \"Topic10\", \"Topic10\", \"Topic10\", \"Topic10\", \"Topic10\", \"Topic10\", \"Topic10\", \"Topic10\", \"Topic10\", \"Topic10\", \"Topic10\", \"Topic10\", \"Topic10\", \"Topic10\", \"Topic10\", \"Topic10\", \"Topic10\", \"Topic10\", \"Topic10\", \"Topic10\", \"Topic10\", \"Topic10\", \"Topic10\", \"Topic10\", \"Topic10\", \"Topic10\", \"Topic10\", \"Topic10\", \"Topic10\", \"Topic10\", \"Topic10\", \"Topic10\", \"Topic10\", \"Topic10\", \"Topic10\", \"Topic10\", \"Topic10\", \"Topic10\", \"Topic10\", \"Topic10\", \"Topic10\", \"Topic10\", \"Topic10\", \"Topic10\", \"Topic10\", \"Topic10\", \"Topic10\", \"Topic10\", \"Topic10\", \"Topic10\", \"Topic10\", \"Topic10\", \"Topic10\"], \"logprob\": [30.0, 29.0, 28.0, 27.0, 26.0, 25.0, 24.0, 23.0, 22.0, 21.0, 20.0, 19.0, 18.0, 17.0, 16.0, 15.0, 14.0, 13.0, 12.0, 11.0, 10.0, 9.0, 8.0, 7.0, 6.0, 5.0, 4.0, 3.0, 2.0, 1.0, -7.6788, -8.5771, -9.1841, -9.2851, -9.2852, -9.2854, -9.2854, -9.2856, -9.8419, -9.2376, -9.2084, -9.0357, -9.1817, -10.1278, -10.1279, -9.1807, -10.2139, -10.2141, -9.0479, -10.4128, -9.8756, -10.4163, -9.5709, -10.5289, -10.5293, -10.5296, -10.6605, -10.6607, -10.6609, -10.6609, -8.6755, -8.9586, -9.0785, -8.8846, -8.6761, -7.8346, -9.1929, -2.873, -3.9073, -3.7584, -5.377, -3.5743, -7.4725, -3.6428, -6.352, -3.9269, -5.8251, -4.254, -3.4502, -6.0066, -5.4157, -6.2789, -5.1817, -6.2432, -4.595, -4.7331, -4.457, -4.4964, -5.6871, -6.4243, -5.977, -5.3179, -5.7644, -6.301, -6.2317, -5.1615, -5.6424, -5.5201, -5.2974, -4.2479, -4.7187, -5.3687, -5.6274, -5.4944, -5.5399, -5.2484, -5.264, -5.5772, -9.3797, -9.5981, -9.5982, -9.0525, -9.8774, -9.8776, -9.878, -10.2668, -10.2669, -10.2672, -10.2672, -10.2672, -10.2672, -10.2672, -10.2675, -10.2681, -9.9948, -10.0117, -9.0118, -10.04, -9.5946, -9.4983, -9.502, -10.3677, -10.3792, -9.9036, -9.569, -10.134, -10.4294, -10.1438, -9.334, -6.0218, -8.1207, -8.7744, -8.0696, -9.0171, -7.5997, -3.2246, -7.8302, -5.8303, -8.9152, -8.5188, -3.5461, -3.9134, -4.3805, -3.8485, -4.8222, -5.1098, -4.3546, -3.6764, -5.1733, -4.4767, -5.8793, -6.3899, -6.6414, -5.4861, -3.2496, -3.9515, -6.2317, -5.973, -4.1167, -5.3785, -5.4841, -5.1986, -6.0105, -5.8543, -5.4009, -5.223, -5.575, -4.846, -4.6353, -5.1741, -5.5556, -4.6477, -5.404, -5.1927, -5.6311, -5.5592, -5.6227, -8.9667, -9.2458, -9.2458, -8.9175, -9.635, -9.6351, -9.6352, -9.6353, -9.6355, -9.6355, -9.6357, -9.6357, -9.6357, -9.6358, -9.6358, -8.4042, -8.966, -8.8478, -9.7165, -8.9867, -8.9804, -9.7591, -9.4815, -9.4595, -9.5007, -9.4608, -9.5039, -9.5615, -10.2816, -10.2816, -9.5169, -9.5323, -8.8112, -9.0535, -8.9693, -7.336, -7.7893, -8.2947, -4.017, -3.7516, -2.8853, -8.1612, -4.004, -5.4421, -4.7807, -7.3204, -5.1193, -3.9136, -5.1001, -5.6273, -3.5527, -4.4617, -5.835, -5.3744, -5.4898, -4.5283, -4.9984, -3.9843, -5.1757, -5.1917, -3.9147, -6.1229, -5.7827, -4.7277, -5.6169, -5.6578, -5.4118, -5.6398, -4.6072, -5.41, -4.372, -5.325, -4.4041, -5.5168, -5.356, -5.4877, -5.4032, -5.4022, -9.1397, -9.1401, -9.1402, -8.2764, -8.3455, -8.9575, -9.7862, -9.7865, -9.7873, -9.3935, -9.0257, -9.0368, -9.0454, -7.9526, -9.0667, -9.0743, -9.0755, -8.3831, -9.0966, -9.0979, -9.101, -9.1314, -9.1409, -8.9545, -9.9126, -9.1494, -9.0004, -9.9749, -9.9823, -9.9352, -8.8887, -8.7676, -7.1668, -8.0482, -8.0914, -8.7347, -8.6835, -2.9225, -3.4604, -3.3087, -4.9371, -4.7639, -4.4028, -7.4391, -4.2238, -5.0455, -5.2389, -4.1445, -4.0215, -3.9461, -4.6513, -4.9145, -4.5914, -5.0903, -5.7288, -5.2202, -4.3397, -5.5034, -5.6841, -5.4016, -4.5099, -5.8859, -5.3991, -5.5339, -5.5228, -5.791, -4.8756, -5.6361, -5.3782, -5.6024, -5.5243, -5.5206, -8.909, -8.909, -8.9095, -8.5388, -8.5613, -8.6354, -8.7129, -9.293, -8.6011, -9.6561, -6.986, -9.3534, -8.5829, -9.6653, -8.9281, -9.2385, -7.3545, -9.7413, -8.3609, -9.7527, -8.5735, -8.9094, -9.4232, -8.9092, -9.8163, -9.4616, -9.4649, -9.4723, -8.6169, -9.4903, -8.8444, -7.7506, -9.0829, -8.6201, -8.8199, -8.2501, -8.5991, -8.3739, -8.6642, -6.644, -3.0492, -5.8356, -5.4729, -4.4414, -3.2397, -6.0137, -3.7771, -5.6465, -5.6997, -5.1975, -3.833, -5.0935, -5.1604, -6.0084, -6.2956, -5.1685, -5.9463, -5.7148, -4.4616, -5.7672, -6.0186, -4.0891, -4.0348, -3.7013, -5.7298, -5.2392, -5.3018, -5.2423, -4.4913, -4.7893, -4.8688, -4.9532, -4.927, -4.9134, -5.241, -5.4963, -5.3824, -5.4272, -5.4519, -5.5402, -5.5247, -7.842, -7.2539, -6.6072, -7.7135, -8.179, -8.2271, -7.2412, -7.7858, -7.2532, -6.7677, -8.2908, -7.8441, -7.8477, -8.4545, -6.2176, -8.4057, -7.6251, -8.6406, -8.6623, -7.2536, -7.2531, -8.3846, -7.656, -7.2535, -8.5259, -7.2536, -8.5421, -6.6068, -9.6498, -7.2535, -5.5656, -7.7537, -7.2536, -6.2174, -7.7567, -6.1797, -6.2444, -6.6074, -6.2176, -3.6811, -6.9427, -4.2666, -4.5397, -6.2178, -5.2663, -6.003, -5.6505, -4.7557, -4.8554, -5.5896, -5.0797, -5.803, -4.9544, -5.149, -5.5877, -5.2785, -5.7157, -5.4628, -5.8372, -5.7684, -5.4523, -5.8652, -5.9192, -5.6302, -6.0658, -6.0841, -6.1097, -6.1043, -6.1124, -6.1512, -7.079, -7.3785, -7.3857, -7.4605, -7.39, -7.5206, -6.9264, -6.8494, -7.3872, -9.3605, -7.6455, -7.0984, -7.1281, -7.4216, -8.2557, -9.3605, -9.3605, -9.3605, -9.3605, -7.4495, -9.3605, -9.3605, -9.3605, -9.3605, -9.3605, -9.3605, -9.3605, -9.3605, -9.3605, -9.3605, -7.3975, -6.6227, -6.7558, -7.551, -7.0808, -7.4181, -7.375, -7.4272, -7.4375, -6.932, -7.5177, -7.3428, -7.3181, -7.3059, -7.0253, -5.7061, -5.0768, -5.5338, -6.6772, -4.9107, -6.7227, -6.0545, -5.0335, -5.6581, -4.9294, -6.4275, -5.2748, -5.8046, -6.2161, -5.3874, -5.111, -6.2557, -5.4435, -5.7834, -5.8284, -6.4437, -6.1284, -6.3177, -6.5166, -6.0802, -6.0776, -6.2374, -6.0472, -6.5151, -6.4668, -6.5076, -6.502, -6.4878, -6.5113, -7.2015, -6.8928, -7.5262, -7.3029, -7.3084, -6.8374, -6.7679, -6.4886, -7.548, -6.6002, -6.7916, -7.4176, -6.8513, -6.7937, -6.8253, -8.3086, -8.3477, -7.2541, -9.2226, -8.4983, -7.725, -8.4668, -8.4336, -7.182, -6.0019, -9.2226, -6.6627, -9.2226, -9.2226, -6.7724, -8.3809, -7.7477, -6.8784, -6.514, -6.7164, -5.8384, -6.5118, -6.6836, -6.6613, -5.2371, -5.7256, -6.6491, -6.3605, -5.7621, -5.9605, -5.93, -6.5243, -5.7714, -6.1585, -6.4027, -6.2914, -6.0842, -6.0891, -6.485, -6.1505, -6.2753, -6.4014, -6.623, -6.6001, -6.5629, -6.4185, -6.5135, -6.5418, -6.7217, -6.7212, -6.7214, -6.7215, -9.1178, -9.1178, -9.1178, -9.1178, -9.1178, -9.1178, -9.1178, -9.1178, -9.1178, -9.1178, -9.1178, -9.1178, -9.1178, -9.1178, -9.1178, -9.1178, -9.1178, -9.1178, -9.1178, -9.1178, -9.1176, -9.1178, -9.1178, -9.1178, -9.1178, -9.1178, -6.7217, -6.7215, -6.7219, -5.4057, -6.7215, -6.7217, -6.7212, -6.7219, -6.7213, -6.7218, -6.7214, -6.7214, -6.7215, -6.7212, -6.7212, -6.0744, -6.7217, -6.7215, -6.7214, -6.7214, -9.1177, -9.1064, -9.1089, -9.1106, -9.1116, -9.1128, -9.1138, -9.159, -8.5079, -8.8781, -8.9006, -9.159, -9.159, -8.9298, -8.9317, -8.9388, -9.159, -9.159, -8.9706, -9.0229, -8.9773, -9.159, -9.159, -9.159, -9.159, -9.159, -9.159, -9.159, -9.159, -9.1588, -9.159, -9.159, -9.159, -9.159, -9.159, -9.159, -9.159, -8.987, -8.9876, -9.0184, -9.0217, -8.3644, -8.1368, -7.8665, -7.8932, -9.0474, -8.2912, -5.0641, -8.3723, -8.299, -8.5402, -8.4785, -8.2488, -7.7464, -7.9217, -7.4181, -5.9166, -8.351, -8.1934, -8.3544, -6.2234, -7.8335, -7.5329, -6.0742, -6.4491, -7.5924, -6.9309, -7.7702, -6.7729, -7.5256, -7.141, -7.0915, -7.4363, -6.7356, -6.926, -6.8974, -7.6058, -7.2261, -7.3036, -7.5374, -7.3004, -7.3743, -7.3466, -7.2059, -7.546, -7.4303, -7.5252, -7.5885, -7.613, -7.5702], \"loglift\": [30.0, 29.0, 28.0, 27.0, 26.0, 25.0, 24.0, 23.0, 22.0, 21.0, 20.0, 19.0, 18.0, 17.0, 16.0, 15.0, 14.0, 13.0, 12.0, 11.0, 10.0, 9.0, 8.0, 7.0, 6.0, 5.0, 4.0, 3.0, 2.0, 1.0, 0.5319, 0.5204, 0.5091, 0.5061, 0.5061, 0.5061, 0.5061, 0.5061, 0.4826, 0.4784, 0.4742, 0.4725, 0.4688, 0.4648, 0.4648, 0.4647, 0.4584, 0.4584, 0.4559, 0.4417, 0.4363, 0.4352, 0.4317, 0.4304, 0.4303, 0.4303, 0.4161, 0.416, 0.416, 0.416, 0.4053, 0.4076, 0.404, 0.4009, 0.3936, 0.3746, 0.3904, 0.0907, 0.1142, 0.0906, 0.181, 0.0512, 0.2957, 0.0508, 0.2162, 0.03, 0.1729, 0.0408, -0.0484, 0.1726, 0.1211, 0.1874, 0.0763, 0.1797, 0.013, 0.0232, -0.0085, -0.0063, 0.1174, 0.1956, 0.1411, 0.0641, 0.1124, 0.1676, 0.1545, 0.0173, 0.0753, 0.0554, 0.0196, -0.172, -0.1028, 0.0149, 0.0458, 0.0122, 0.0129, -0.0947, -0.1149, -0.0703, 1.6792, 1.6532, 1.6532, 1.621, 1.6119, 1.6119, 1.6118, 1.5359, 1.5359, 1.5358, 1.5358, 1.5358, 1.5358, 1.5358, 1.5357, 1.5356, 1.5227, 1.5099, 1.4987, 1.4878, 1.4868, 1.4724, 1.4692, 1.4578, 1.4483, 1.4193, 1.4169, 1.4138, 1.4088, 1.406, 1.4031, 1.241, 1.304, 1.2948, 1.2172, 1.3017, 1.0762, 0.1772, 1.0623, 0.639, 1.2669, 1.1779, 0.1475, 0.1625, 0.2353, 0.1084, 0.3314, 0.3766, 0.1355, -0.0509, 0.3203, 0.1314, 0.5038, 0.6287, 0.6945, 0.3588, -0.286, -0.1026, 0.5672, 0.465, -0.0953, 0.2716, 0.2968, 0.185, 0.4458, 0.3692, 0.1747, 0.0941, 0.2423, -0.0897, -0.1869, 0.0046, 0.1941, -0.3529, 0.1029, -0.0436, 0.1042, -0.1772, -0.0858, 1.9312, 1.9044, 1.9044, 1.8696, 1.854, 1.854, 1.854, 1.854, 1.8539, 1.8539, 1.8539, 1.8539, 1.8539, 1.8539, 1.8539, 1.8534, 1.8323, 1.8111, 1.8087, 1.8023, 1.8016, 1.7844, 1.7739, 1.7659, 1.763, 1.7623, 1.7382, 1.7267, 1.7242, 1.7242, 1.7183, 1.7175, 1.6818, 1.6891, 1.6397, 1.3372, 1.4183, 1.4905, 0.4314, 0.3243, 0.0783, 1.4338, 0.2908, 0.59, 0.3684, 1.1511, 0.4336, 0.0433, 0.4065, 0.5683, -0.1509, 0.1463, 0.6041, 0.422, 0.4378, 0.0876, 0.2596, -0.1353, 0.3108, 0.302, -0.2212, 0.6598, 0.4988, 0.0286, 0.4156, 0.4249, 0.3059, 0.4019, -0.117, 0.2631, -0.3506, 0.1819, -0.7786, 0.2194, -0.039, 0.1625, -0.0212, -0.2234, 2.5208, 2.5207, 2.5207, 2.4807, 2.4207, 2.4052, 2.3613, 2.3612, 2.3609, 2.3465, 2.3453, 2.3355, 2.3278, 2.3193, 2.309, 2.3026, 2.3015, 2.2883, 2.2825, 2.2812, 2.2785, 2.2513, 2.2429, 2.2357, 2.2155, 2.2144, 2.2133, 2.2105, 2.2064, 2.1898, 2.1577, 2.1479, 2.0597, 2.0898, 1.9846, 2.121, 2.0424, 0.0411, 0.1651, 0.0931, 0.5566, 0.4149, 0.2131, 1.5262, 0.071, 0.441, 0.4974, -0.0686, -0.1725, -0.2526, 0.105, 0.2346, -0.1013, 0.1678, 0.4739, 0.1618, -0.3828, 0.2775, 0.3479, 0.1564, -0.4885, 0.4656, 0.1078, 0.2014, 0.1503, 0.3653, -0.4271, 0.1603, -0.2245, 0.0478, -0.2073, -0.9126, 2.8067, 2.8067, 2.8066, 2.7759, 2.7659, 2.7319, 2.6951, 2.6251, 2.5963, 2.5948, 2.5944, 2.5931, 2.5921, 2.5915, 2.5846, 2.5744, 2.5742, 2.569, 2.5681, 2.5647, 2.5644, 2.5623, 2.5551, 2.5428, 2.5337, 2.5336, 2.5319, 2.5276, 2.5254, 2.5173, 2.5114, 2.4319, 2.498, 2.4537, 2.4735, 2.3063, 2.35, 2.2704, 2.3424, 1.7598, 0.5764, 1.3127, 1.1725, 0.7122, 0.1622, 1.2576, 0.2988, 1.0874, 1.0992, 0.8416, 0.1884, 0.7515, 0.7414, 1.1561, 1.28, 0.6124, 1.0064, 0.8377, 0.0285, 0.8457, 0.9999, -0.2401, -0.3413, -0.7377, 0.7265, 0.3364, 0.3483, 0.2441, -0.5345, -0.3408, -0.2608, -0.197, -0.3111, -0.6186, -0.0919, 0.321, 0.0012, 0.0665, 0.1009, -0.0034, -0.2076, 4.6902, 4.559, 4.5051, 4.219, 4.2097, 4.1419, 4.1356, 4.1234, 4.0986, 4.088, 4.0668, 4.059, 4.0486, 4.0278, 3.9895, 3.9319, 3.9291, 3.8334, 3.7877, 3.7175, 3.6759, 3.6544, 3.6417, 3.623, 3.6099, 3.5969, 3.5333, 3.4809, 3.4332, 3.4165, 3.3266, 3.3823, 3.1918, 2.8069, 3.3274, 2.2768, 2.3003, 2.5362, 1.8743, -0.7174, 2.4642, -0.8648, -0.5828, 1.5669, 0.2403, 1.2598, 0.6288, -0.9067, -0.7795, 0.3379, -0.5895, 0.6784, -1.2609, -0.8542, -0.0348, -0.83, 0.002, -0.8469, 0.2045, -0.1182, -1.4309, -0.1155, -0.1148, -2.0047, 0.5069, -0.052, 0.2455, -0.7872, -0.7288, -0.6647, 5.0343, 4.939, 4.9246, 4.5892, 4.3008, 4.1889, 4.0095, 3.963, 3.8756, 3.7225, 3.6362, 3.5649, 3.3562, 3.3312, 3.3305, 3.1717, 3.1591, 3.1218, 3.1135, 3.1114, 3.0941, 3.0941, 3.094, 3.094, 3.094, 3.094, 3.094, 3.094, 3.0939, 3.0939, 2.9811, 2.8313, 2.7474, 2.8413, 2.7309, 2.7689, 2.7127, 2.6908, 2.6755, 2.5418, 2.6762, 2.5949, 2.5328, 2.494, 2.2935, 1.2304, 0.7042, 0.7254, 1.7538, -0.4622, 1.7845, 0.7774, -0.7387, 0.0916, -1.0804, 1.2252, -1.1989, -0.2977, 0.5666, -1.4305, -2.1474, 0.5764, -1.75, -1.2932, -1.2126, 0.8609, -0.642, -0.1138, 0.8114, -1.324, -1.4695, -0.9793, -2.6454, 0.6845, -0.3379, -0.1561, -0.4603, -1.309, -0.3804, 5.1486, 5.0177, 4.9933, 4.9539, 4.9425, 4.8458, 4.7611, 4.5527, 4.543, 4.4908, 4.3276, 4.3263, 4.1505, 4.1482, 4.0731, 4.0326, 3.9886, 3.8696, 3.8604, 3.8192, 3.508, 3.4949, 3.4533, 3.3702, 3.3655, 3.3096, 3.3072, 3.2597, 3.2514, 3.2512, 3.1134, 2.9886, 2.8161, 2.6438, 2.6846, 2.2666, 2.2367, 2.2763, 2.1517, 0.3158, 0.7135, 1.8039, 1.2401, -0.2756, -0.3103, -0.423, 1.399, -1.2812, -0.0735, 0.905, 0.409, -0.5776, -1.481, 0.7223, -2.525, -2.3184, -0.9078, 1.6122, 0.9161, -0.0104, -3.0166, -1.1314, -1.0049, 6.3613, 4.9789, 4.8109, 4.1387, 3.4145, 3.4018, 3.3646, 3.3562, 3.3368, 3.3368, 3.3368, 3.3367, 3.3367, 3.3367, 3.3367, 3.3367, 3.3367, 3.3367, 3.3367, 3.3367, 3.3367, 3.3366, 3.3366, 3.3366, 3.3366, 3.3366, 3.3366, 3.3366, 3.3366, 3.3366, 3.2915, 2.643, 2.6279, -0.9155, 0.5851, 0.5148, 0.5101, 0.4771, 0.2314, 0.2115, 0.0006, -0.2468, -0.362, -0.5185, -0.773, -2.3808, -1.1849, -2.1135, -2.7, -2.7645, 3.3363, -6.1428, -5.707, -5.4851, -5.0357, -5.2638, -4.819, 3.924, 3.4942, 3.4026, 3.3784, 3.3732, 3.3606, 3.3468, 3.3449, 3.3372, 3.3233, 3.315, 3.3031, 3.3013, 3.296, 3.2956, 3.2956, 3.2955, 3.2955, 3.2955, 3.2955, 3.2955, 3.2955, 3.2955, 3.2955, 3.2955, 3.2955, 3.2954, 3.2954, 3.2954, 3.2954, 3.2857, 3.2852, 3.2522, 3.2484, 2.9456, 2.6488, 2.4233, 2.4391, 3.2209, 2.5031, -1.4386, 2.4038, 2.1055, 2.4332, 2.3273, 1.8881, 1.0514, 1.2261, 0.2878, -2.5147, 1.9337, 1.6396, 1.9233, -2.5299, 0.8275, 0.1456, -3.1106, -2.3732, 0.1507, -1.424, 0.4767, -2.1648, -0.2995, -1.3446, -1.7094, -0.7277, -2.8866, -2.4359, -2.6026, -0.3076, -1.7324, -1.6534, -0.7648, -2.1216, -1.9907, -2.1975, -3.2491, -1.3226, -2.8145, -2.0387, -1.3425, -1.6264, -3.5487]}, \"token.table\": {\"Topic\": [1, 5, 1, 2, 3, 4, 5, 5, 3, 1, 2, 3, 4, 5, 2, 1, 2, 1, 1, 5, 1, 5, 3, 1, 2, 4, 1, 2, 3, 4, 5, 1, 2, 4, 5, 1, 2, 3, 4, 5, 6, 1, 2, 3, 5, 1, 2, 3, 4, 5, 6, 4, 1, 2, 3, 4, 5, 6, 1, 2, 3, 4, 5, 6, 1, 2, 3, 4, 5, 1, 2, 3, 4, 5, 6, 7, 4, 1, 2, 1, 2, 3, 4, 5, 1, 2, 3, 4, 5, 2, 4, 2, 4, 1, 3, 1, 2, 3, 4, 5, 1, 2, 3, 4, 5, 6, 2, 4, 4, 1, 2, 3, 4, 5, 1, 1, 2, 2, 1, 2, 1, 2, 3, 4, 5, 6, 1, 2, 3, 4, 1, 2, 3, 4, 5, 5, 1, 4, 1, 2, 4, 5, 2, 1, 2, 3, 4, 5, 1, 2, 1, 2, 3, 4, 5, 1, 2, 3, 4, 5, 1, 2, 3, 4, 5, 1, 2, 3, 4, 5, 2, 1, 1, 1, 2, 3, 4, 5, 1, 2, 3, 4, 5, 1, 3, 4, 5, 1, 2, 3, 4, 5, 2, 2, 1, 1, 2, 2, 1, 2, 3, 4, 5, 1, 2, 3, 4, 5, 2, 3, 1, 1, 2, 3, 4, 5, 6, 1, 5, 1, 2, 3, 4, 5, 1, 2, 3, 4, 5, 6, 5, 1, 2, 3, 4, 6, 1, 2, 3, 4, 4, 1, 5, 1, 2, 5, 1, 1, 2, 3, 4, 5, 1, 2, 3, 4, 5, 1, 2, 3, 4, 5, 6, 1, 2, 3, 1, 2, 3, 4, 5, 1, 2, 3, 4, 5, 1, 2, 3, 4, 1, 3, 1, 3, 4, 5, 1, 2, 1, 2, 3, 4, 5, 1, 2, 5, 2, 4, 1, 2, 3, 4, 5, 1, 5, 2, 1, 2, 3, 4, 5, 1, 2, 5, 1, 2, 3, 4, 2, 5, 1, 2, 3, 4, 5, 6, 3, 1, 2, 3, 4, 5, 6, 7, 1, 2, 3, 4, 5, 1, 5, 3, 1, 2, 1, 4, 2, 1, 2, 3, 4, 5, 1, 1, 4, 5, 1, 2, 3, 4, 5, 6, 1, 2, 3, 4, 5, 6, 3, 1, 2, 4, 5, 1, 2, 3, 4, 5, 1, 1, 1, 2, 4, 5, 2, 1, 5, 2, 4, 1, 2, 4, 5, 2, 1, 2, 3, 4, 5, 2, 3, 1, 3, 4, 5, 1, 2, 1, 2, 1, 2, 1, 3, 5, 1, 2, 3, 4, 5, 1, 2, 3, 4, 5, 6, 2, 4, 1, 2, 3, 4, 5, 1, 2, 3, 4, 5, 1, 4, 1, 2, 4, 1, 2, 4, 1, 2, 3, 4, 5, 2, 1, 1, 2, 3, 4, 5, 1, 4, 5, 1, 2, 1, 2, 3, 4, 5, 6, 7, 1, 2, 3, 4, 5, 1, 2, 3, 4, 5, 2, 1, 4, 4, 5, 2, 4, 1, 2, 4, 1, 2, 3, 4, 1, 5, 2, 1, 2, 3, 4, 5, 6, 1, 2, 3, 4, 5, 1, 1, 2, 3, 4, 5, 1, 2, 3, 3, 2, 3, 5, 2, 4, 2, 4, 2, 4, 1, 2, 3, 4, 5, 1, 2, 3, 1, 3, 4, 2, 4, 1, 2, 3, 4, 5, 1, 2, 3, 4, 5, 1, 1, 1, 2, 3, 4, 5, 6, 1, 2, 3, 4, 5, 1, 2, 4, 5, 2, 4, 1, 4, 1, 2, 3, 4, 5, 6, 1, 2, 3, 4, 5, 1, 2, 1, 2, 3, 4, 5, 3, 1, 2, 3, 4, 5, 6, 7, 1, 3, 1, 2, 3, 4, 5, 1, 1, 2, 3, 4, 5, 5, 1, 2, 4, 5, 1, 2, 3, 4, 5, 1, 2, 4, 5, 1, 1, 2, 3, 4, 1, 2, 3, 4, 5, 1, 2, 3, 4, 5, 2, 1, 2, 3, 4, 5, 4, 3, 3, 1, 2, 3, 4, 5, 1, 2, 3, 4, 5, 1, 5, 1, 2, 3, 4, 5, 1, 2, 5, 1, 2, 4, 1, 2, 5, 1, 3, 2, 4, 2, 4, 1, 2, 3, 4, 5, 1, 2, 3, 4, 5, 6, 1, 2, 3, 4, 5, 5, 5, 1, 1, 2, 3, 4, 5, 1, 2, 3, 4, 5, 1, 2, 3, 3, 1, 2, 3, 4, 5, 1, 2, 3, 4, 1, 2, 3, 4, 5, 6, 1, 2, 1, 3, 1, 5, 1, 2, 4, 1, 2, 3, 4, 5, 1, 2, 1, 3, 4, 5, 1, 2, 4, 5, 1, 2, 1, 1, 1, 2, 3, 4, 1, 2, 3, 4, 5, 6, 1, 2, 3, 4, 5, 6, 8, 1, 2, 3, 4, 5, 6, 1, 1, 3, 1, 2, 3, 4, 5, 1, 2, 4, 5, 2, 4, 2, 5, 1, 3, 4, 1, 2, 3, 4, 5, 1, 2, 1, 2, 3, 4, 5, 1, 1, 2, 1, 2, 4, 5, 1, 2, 3, 4, 5, 5, 1, 2, 3, 4, 5, 1, 1, 2, 3, 4, 5, 3, 1, 2, 3, 5, 1, 2, 3, 4, 5, 2, 1, 2, 5, 2, 1, 2, 3, 4, 5, 6, 7, 1, 2, 3, 4, 5, 1, 2, 3, 3, 1, 2, 3, 4, 5, 1, 2, 3, 5, 1, 2, 3, 1, 2, 3, 4, 5, 1, 2, 3, 4, 5, 1, 2, 3, 4, 5, 6, 1, 2, 3, 1, 2, 3, 4, 5, 6, 1, 2, 4, 1, 5, 1, 1, 2, 3, 4, 5, 1, 2, 4, 1, 2, 3, 4, 5, 1, 1, 5, 1, 1, 2, 3, 4, 5, 6, 1, 2, 3, 4, 5, 1, 3, 2, 1, 2, 5, 2, 2, 4, 2, 1, 2, 4, 1, 2, 5, 1, 2, 3, 4, 5, 1, 2, 3, 4, 5, 1, 2, 1, 2, 3, 4, 5, 1, 2, 3, 1, 2, 3, 4, 5, 6, 2, 1, 3, 1, 2, 3, 4, 5, 1, 2, 3, 4, 5, 1, 3, 4, 4, 1, 2, 4, 1, 2, 3, 4, 5, 1, 2, 3, 4, 5, 6, 1, 2, 3, 4, 5, 1, 5, 1, 2, 3, 4, 5, 1, 2, 1, 2, 3, 4, 5, 1, 1, 2, 3, 4, 5, 1, 2, 3, 4, 5, 6, 7, 1, 2, 3, 4, 2, 1, 2, 4, 1, 3, 1, 2, 3, 4, 5, 1, 1, 2, 3, 4, 5, 1, 3, 5, 1, 2, 3, 5, 6, 1, 2, 3, 4, 5, 1, 4, 5, 1, 5, 1, 2, 3, 4, 5, 1, 2, 3, 4, 5, 6, 1, 3, 1, 2, 3, 4, 5, 1, 2, 4, 5, 1, 2, 3, 4, 5, 1, 2, 4, 5, 1, 2, 3, 4, 5, 2, 1, 2, 3, 4, 5, 1, 2, 3, 4, 5, 1, 2, 3, 4, 5, 6, 2, 4, 1, 2, 3, 4, 5, 1, 2, 3, 4, 1, 5, 1, 2, 3, 4, 5, 6, 1, 2, 3, 4, 5, 2, 1, 2, 3, 1, 3, 4, 3, 1, 2, 3, 4, 5, 1, 2, 3, 4, 5, 1, 2, 1, 2, 3, 4, 5, 1, 2, 3, 4, 1, 5, 1, 2, 3, 4, 5, 6, 1, 2, 3, 4, 5, 1, 2, 3, 4, 5, 2, 1, 5, 2, 1, 2, 3, 4, 5, 6, 2, 1, 2, 3, 4, 5, 1, 4, 5, 1, 5, 1, 2, 3, 4, 1, 1, 1, 2, 3, 4, 5, 7, 3, 4, 3, 1, 2, 3, 4, 5, 6, 1, 2, 3, 4, 5, 1, 1, 1, 2, 3, 4, 5, 2, 1, 2, 5, 1, 2, 1, 2, 3, 4, 5, 6, 1, 2, 3, 5, 1, 2, 3, 4, 5, 2, 4, 2, 4, 1, 1, 2, 3, 4, 5, 1, 1, 3, 1, 3, 1, 2, 3, 4, 5, 6, 1, 2, 3, 4, 5, 1, 2, 3, 4, 5, 6, 1, 3, 4, 1, 2, 3, 4, 5, 6, 1, 2, 3, 4, 5, 1, 2, 3, 5, 3, 2, 2, 5, 1, 5, 1, 2, 3, 4, 5, 1, 2, 3, 4, 5, 6, 7, 1, 2, 3, 4, 5, 1, 3, 5, 1, 2, 3, 4, 5, 3, 1, 2, 3, 4, 5, 6, 1, 2, 3, 4, 5, 1, 1, 2, 4, 5, 1, 2, 1, 2, 3, 4, 5, 1, 4, 1, 2, 3, 1, 2, 3, 4, 5, 2, 4, 1, 2, 3, 4, 5, 1, 3, 2, 4, 1, 2, 5, 1, 2, 3, 4, 1, 4, 2, 4, 1, 2, 3, 4, 5, 6, 1, 4, 5, 5, 2, 4, 3, 1, 1, 2, 1, 2, 3, 2, 2, 1, 2, 3, 5, 1, 1, 4, 1, 2, 4, 5, 1, 2, 3, 4, 5, 1, 2, 1, 2, 1, 4, 1, 2, 3, 4, 5, 2, 4, 1, 2, 3, 4, 5, 6, 7, 2, 1, 2, 3, 4, 5, 6, 1, 2, 3, 4, 5, 1, 5, 2, 1, 2, 3, 4, 5, 6, 7, 3, 3], \"Freq\": [0.23811123297688358, 0.7143336989306507, 0.6314640484403613, 0.1647297517670508, 0.07687388415795703, 0.10432884278579882, 0.021963966902273438, 0.5286540607099591, 0.7366344676556644, 0.5920370707334887, 0.10822183013407857, 0.21899005627131193, 0.05984030607413756, 0.02037116802523832, 0.6366198564280255, 0.5026280211532536, 0.4852960204238311, 0.6106385017848599, 0.3777685027659536, 0.5666527541489303, 0.5944688657573605, 0.29723443287868023, 0.7233057231342138, 0.2620853563619452, 0.1310426781809726, 0.5241707127238904, 0.5422484228047809, 0.23862221944368203, 0.08228352394609725, 0.02962206862059501, 0.10696858112992642, 0.5607537997196295, 0.07009422496495368, 0.28037689985981473, 0.07009422496495368, 0.5923640488922619, 0.20022112335587836, 0.11411566616138144, 0.04253402102378763, 0.0503146346257, 0.0005187075734608247, 0.26910573201659527, 0.13455286600829763, 0.4036585980248929, 0.13455286600829763, 0.5907374853365678, 0.13140535920098428, 0.19945456307292259, 0.053383427175399865, 0.02346524271446148, 0.001173262135723074, 0.898435130465648, 0.6697500622198168, 0.10876283061689333, 0.15455770666611157, 0.03434615703691368, 0.028621797530761404, 0.005724359506152281, 0.6111640965558244, 0.12472736664404578, 0.17253952385759666, 0.07552934980111661, 0.01524445592316115, 0.0006929298146891432, 0.523327585206618, 0.14712020467655929, 0.25640949957914616, 0.05044121303196318, 0.021017172096651326, 0.6390515473420226, 0.12500575236732217, 0.1435490410948733, 0.06780754833208989, 0.02407859879547682, 0.0004151482550944279, 4.612758389938088e-05, 0.5977342134355956, 0.13847239623444899, 0.6923619811722449, 0.532020364293938, 0.2624633797183427, 0.05674883885802005, 0.03014782064332315, 0.11704448014466634, 0.5575157530178014, 0.21081688868594284, 0.06394445912748978, 0.04995660869335138, 0.11689846434244225, 0.24819498371624607, 0.49638996743249214, 0.20932190339614523, 0.6279657101884357, 0.11525294400088058, 0.8067706080061641, 0.6286387651264008, 0.1389622533437307, 0.12241912794566752, 0.1025673774679917, 0.006617250159225272, 0.593840040352377, 0.1673741323697803, 0.10608814955761327, 0.09848023444989598, 0.03381295603429905, 0.00042266195042873816, 0.5717888524393159, 0.5717888524393159, 0.5606094636004683, 0.6002071284972065, 0.18433879867850322, 0.07668494025025735, 0.07963436102911339, 0.05825106038240702, 0.6107125183898142, 0.17480627050007266, 0.7866282172503269, 0.5091806735901734, 0.6199883213079401, 0.24799532852317607, 0.6542656847922224, 0.15131139390423173, 0.0935234603235989, 0.03998659312131146, 0.0608433875400686, 0.0002656916486465878, 0.8690690738483748, 0.08276848322365475, 0.041384241611827376, 0.020692120805913688, 0.6423480984753648, 0.13130872731264362, 0.08162434400515685, 0.07807545948319351, 0.06387992139534014, 0.7751741056252849, 0.583216104904624, 0.19440536830154137, 0.6582150912412525, 0.07313501013791696, 0.21940503041375084, 0.07313501013791696, 0.5096182367123977, 0.22595886627198525, 0.3615341860351764, 0.0903835465087941, 0.22595886627198525, 0.04519177325439705, 0.41797154595773794, 0.6524304546015871, 0.6105270715027086, 0.10902269133976938, 0.1564238614874952, 0.07204977862454325, 0.05119326375954389, 0.5190384289665096, 0.15237825437548908, 0.20475827931706345, 0.07142730673851051, 0.04761820449234034, 0.630023892280727, 0.10111494567468458, 0.1720326677542145, 0.0768656600603937, 0.019673948705934103, 0.6146910090757466, 0.21210041328785526, 0.0664314501995924, 0.0368174302310994, 0.06963296587186191, 0.6370605346525116, 0.6105923546286627, 0.6106162794789062, 0.6147385820015036, 0.14831788010195004, 0.08391669532084016, 0.06440118478110989, 0.08781979742878622, 0.49048281062636057, 0.19184206705950393, 0.22150836608932412, 0.031644052298474876, 0.06526585786560443, 0.40365577889694415, 0.5010899324237927, 0.027838329579099597, 0.05567665915819919, 0.6088304715015972, 0.18652031785887083, 0.06334652304640896, 0.11613529225174976, 0.024634758962492374, 0.7178130819336688, 0.7206823167130051, 0.6079423699062788, 0.3607686219227213, 0.5772297950763541, 0.5068936971036486, 0.5517764860876195, 0.173415467056109, 0.07882521229823136, 0.12612033967717018, 0.04729512737893882, 0.6025027943724575, 0.16372358542729823, 0.10805756638201684, 0.08186179271364911, 0.03929366050255158, 0.6366309846487055, 0.9302328272639705, 0.9249605766446559, 0.5914851195638313, 0.1556539788325872, 0.11674048412444038, 0.10117508624118167, 0.031130795766517436, 0.007782698941629359, 0.38242520433542065, 0.573637806503131, 0.5126281931512834, 0.29262526025719093, 0.03631116368154924, 0.008543803219188056, 0.151652507140588, 0.4671735031491659, 0.15650900735223944, 0.2000491071419602, 0.10473159138608505, 0.07178232668035042, 0.0011767594537762365, 0.7348800850565564, 0.3872305196073354, 0.5740522615231551, 0.016983794719619975, 0.016983794719619975, 0.0033967589439239947, 0.3476361314317157, 0.17381806571585784, 0.4345451642896446, 0.04345451642896446, 0.8986040329548703, 0.40654331554315176, 0.5420577540575356, 0.556405444456936, 0.18546848148564532, 0.18546848148564532, 0.6105736271665497, 0.8787558051323735, 0.04184551453011302, 0.02092275726505651, 0.02092275726505651, 0.04184551453011302, 0.6930736671503649, 0.17240638486327484, 0.08160568883528342, 0.02183814208268148, 0.029883773376300972, 0.6163493286196192, 0.21292067715950483, 0.06723810857668573, 0.011206351429447623, 0.08965081143558098, 0.011206351429447623, 0.509116456752221, 0.40729316540177674, 0.10182329135044418, 0.6105614257634887, 0.13273074473119317, 0.07963844683871592, 0.15927689367743184, 0.053092297892477276, 0.2856917023850212, 0.2856917023850212, 0.2856917023850212, 0.1428458511925106, 0.1428458511925106, 0.8489047877475525, 0.07001276599979814, 0.05250957449984861, 0.017503191499949534, 0.2204686180068275, 0.7716401630238962, 0.6151427227416503, 0.20504757424721676, 0.10252378712360838, 0.5324426507530221, 0.10286739124496297, 0.8229391299597038, 0.7045114372329824, 0.11639754180371013, 0.0934243427635042, 0.052072584491133486, 0.033694025258968724, 0.19695094085079548, 0.5908528225523865, 0.7715192955936279, 0.5542390579084526, 0.5542390579084526, 0.6258723073119918, 0.09850581420265514, 0.1453561404697716, 0.06366839210659418, 0.06607097294080527, 0.19780839498260666, 0.7912335799304266, 0.6367597127893259, 0.5321388769189853, 0.3113012429976064, 0.015964166307569562, 0.005321388769189853, 0.13569541361434126, 0.22407606889266726, 0.22407606889266726, 0.6722282066780018, 0.3450385487358648, 0.2464561062399034, 0.3450385487358648, 0.04929122124798069, 0.6366125253822259, 0.7813924577616718, 0.5914003577273854, 0.18964938773648787, 0.15358256462791148, 0.02603499151546244, 0.03893306070660897, 0.0002388531331693802, 0.8285303060810235, 0.6080028645023036, 0.11699078667907623, 0.17758153739197094, 0.06984524577855297, 0.027065032739189275, 0.0003492262288927649, 0.00017461311444638244, 0.5819091930563668, 0.23577355235904518, 0.03511520992581524, 0.07524687841246122, 0.06521396129079973, 0.5690292747122017, 0.28451463735610083, 0.7129720130698549, 0.9547944493821688, 0.03819177797528676, 0.6896959773999536, 0.2982469091459259, 0.6364291252591255, 0.5351142449232841, 0.15071995108101235, 0.23484271447506574, 0.052576727121283376, 0.026872549417544835, 0.610644401307848, 0.6081557521512433, 0.20271858405041443, 0.20271858405041443, 0.5478921962132668, 0.14187194208097467, 0.20222630418172077, 0.07603081978925161, 0.0305690924925857, 0.0007838228844252743, 0.5079637938461333, 0.13095941560095625, 0.2391001451502307, 0.09226686099158281, 0.028771386760816146, 0.0009921167848557292, 0.9302578689379565, 0.455973171772029, 0.11399329294300725, 0.2279865858860145, 0.11399329294300725, 0.4737059424490731, 0.2322087953181731, 0.06966263859545192, 0.041797583157271154, 0.181122860348175, 0.6106580931675534, 0.5360751424960689, 0.5804568042514399, 0.11609136085028798, 0.23218272170057597, 0.11609136085028798, 0.5080619003324537, 0.20589256109748352, 0.8235702443899341, 0.3494357952563845, 0.3494357952563845, 0.46591270736964324, 0.1553042357898811, 0.1553042357898811, 0.1553042357898811, 0.9075249173435387, 0.3071497901266306, 0.13651101783405803, 0.42090897165501223, 0.07963142706986719, 0.05687959076419084, 0.11467053470208044, 0.8026937429145631, 0.338545631030885, 0.5924548543040487, 0.04231820387886062, 0.04231820387886062, 0.9246310445760029, 0.036985241783040114, 0.926287011178384, 0.06388186283988856, 0.7013213781818965, 0.23377379272729887, 0.2758617915293713, 0.03448272394117141, 0.6896544788234282, 0.46936300614883925, 0.30834066097369, 0.030834066097369, 0.013704029376608445, 0.1781523818959098, 0.5018842985888837, 0.2080983677075859, 0.07344648272032445, 0.1346518849872615, 0.061205402266937034, 0.012241080453387407, 0.4157162023609648, 0.4157162023609648, 0.5214487844822179, 0.27481760263252025, 0.09160586754417342, 0.019730494547975812, 0.09301518858331455, 0.6186972286470531, 0.12373944572941062, 0.054995309213071386, 0.13748827303267847, 0.06874413651633923, 0.6106177580641394, 0.828458000688654, 0.17246380960586805, 0.17246380960586805, 0.6898552384234722, 0.692656283843914, 0.1385312567687828, 0.1385312567687828, 0.48293006601508115, 0.14607143972061096, 0.24295555790264886, 0.0953935932869296, 0.03279154769238205, 0.6364929029248386, 0.6105648971307062, 0.5233131976307829, 0.15139878673594978, 0.2731760717192137, 0.032912779725206474, 0.01316511189008259, 0.16440119990980392, 0.16440119990980392, 0.6576047996392157, 0.42457679990160574, 0.42457679990160574, 0.578660973420376, 0.13804790287790814, 0.20442491812598787, 0.04255458953021062, 0.03583544381491421, 0.0004072209524422069, 0.00020361047622110344, 0.5808428191569922, 0.1168769087328094, 0.1629193273245222, 0.09916828619753525, 0.038958969577603135, 0.40017227156392426, 0.27211714466346854, 0.19208269035068365, 0.08003445431278486, 0.06402756345022789, 0.5107775075032238, 0.6105569789169872, 0.46812830229056074, 0.20353674323579998, 0.6106102297073999, 0.20790155626136594, 0.6237046687840978, 0.6942615673327663, 0.13885231346655327, 0.13885231346655327, 0.39303030985565907, 0.23581818591339543, 0.23581818591339543, 0.15721212394226364, 0.9487883101785223, 0.8750500655212942, 0.9309265543345404, 0.5799642279823042, 0.1906324585388394, 0.11803078724676469, 0.05880310803480903, 0.05179768361188954, 0.0004245711771466356, 0.4483485125690808, 0.29385003864324893, 0.0424113457835617, 0.027264436575146808, 0.18782167418434467, 0.9792721877356565, 0.6942272056893418, 0.09109334881282799, 0.11122977328724261, 0.06999804698248888, 0.03356070745735768, 0.3856278268507026, 0.5655874793810305, 0.051417043580093684, 0.930706032176282, 0.2420250786419588, 0.2420250786419588, 0.2420250786419588, 0.20763647141869856, 0.6229094142560957, 0.20494115062274143, 0.8197646024909657, 0.20908829858695754, 0.6272648957608726, 0.7827286698114003, 0.07320483962264895, 0.0957294056603871, 0.02252456603773814, 0.028155707547172674, 0.4252699580573519, 0.3189524685430139, 0.2657937237858449, 0.4030229317479211, 0.4030229317479211, 0.43919433860778356, 0.20711383694716104, 0.621341510841483, 0.6054232636318555, 0.13235974184664048, 0.18873518744798734, 0.031864382296413446, 0.039217701287893474, 0.5731745890580324, 0.12737213090178498, 0.19105819635267746, 0.06368606545089249, 0.06368606545089249, 0.9434359892671519, 0.6105573820199774, 0.48487046416066226, 0.21805627019515816, 0.1564316720965265, 0.06839653195562415, 0.07110530549842113, 0.0006771933856992489, 0.6908539115247077, 0.13510032047594284, 0.06755016023797142, 0.07369108389596882, 0.03223984920448636, 0.46033240960781235, 0.11508310240195309, 0.23016620480390618, 0.11508310240195309, 0.35396100502016975, 0.35396100502016975, 0.45988089822142386, 0.508289413823679, 0.5932183920767186, 0.21751341042813016, 0.03954789280511457, 0.07909578561022915, 0.05932183920767186, 0.019773946402557287, 0.5261480661878245, 0.2592833409744034, 0.060651073912141154, 0.04852085912971292, 0.10462310249844349, 0.24710458277214908, 0.7413137483164473, 0.37598790880880223, 0.21485023360502986, 0.2685627920062873, 0.10742511680251493, 0.053712558401257465, 0.9305593285223868, 0.6014264997052297, 0.1854471025183448, 0.13861828415239608, 0.04433792377201527, 0.02951710093811129, 0.0004981789187866885, 0.00012454472969667212, 0.1840907776896496, 0.7363631107585984, 0.6276775202886579, 0.151445448209182, 0.1386729405288895, 0.06295021642429853, 0.018246439543274935, 0.6105824512457114, 0.6082604778737172, 0.2150415830866677, 0.10199115083539097, 0.043008316617333536, 0.03194903520144777, 0.5500773744800526, 0.8729233717877647, 0.025674216817287196, 0.05134843363457439, 0.025674216817287196, 0.7241355429608186, 0.10005619914446907, 0.09157686023392085, 0.06444297572016652, 0.018654545603206098, 0.6925234009450341, 0.0692523400945034, 0.1385046801890068, 0.0692523400945034, 0.9237867761249233, 0.556862876313973, 0.11137257526279461, 0.11137257526279461, 0.11137257526279461, 0.5763338446702856, 0.1664502078470139, 0.07490259353115625, 0.11651514549290973, 0.06449945554071788, 0.5748562132129981, 0.1616783099661557, 0.08083915498307785, 0.1526961816347026, 0.01796425666290619, 0.9304804711473078, 0.6004411442215689, 0.15795577138929776, 0.14435693014386153, 0.07427059449430556, 0.02301342364612285, 0.8280893579522276, 0.7797969608734904, 0.9301250589135027, 0.36154899895311887, 0.316355374083979, 0.09038724973827972, 0.13558087460741958, 0.09038724973827972, 0.586350614648425, 0.19120128738535597, 0.13702758929283845, 0.05736038621560679, 0.02549350498471413, 0.16987719622472594, 0.6795087848989038, 0.24644062093795224, 0.05476458243065606, 0.43811665944524847, 0.16429374729196816, 0.05476458243065606, 0.4912157516668302, 0.12280393791670755, 0.2456078758334151, 0.2898919361907534, 0.2898919361907534, 0.2898919361907534, 0.28117822287449906, 0.7029455571862477, 0.8754533867033801, 0.06786752117940101, 0.814410254152812, 0.2078825232118668, 0.6236475696356003, 0.20841229356611732, 0.6252368806983519, 0.5134270035551092, 0.16932167138519558, 0.13518423763818035, 0.10377779859092633, 0.07783334894319474, 0.4233094117275054, 0.22931672646250634, 0.1795156192004469, 0.113500197946089, 0.053854685760134066, 0.0005790826425820867, 0.5648841022305214, 0.1989528913516302, 0.15276739871643033, 0.046185492635199867, 0.035527302027076824, 0.5011210441132724, 0.6429635273292982, 0.3884440626838767, 0.6560229758850643, 0.17987726758138858, 0.026452539350204203, 0.1163911731408985, 0.021162031480163362, 0.453071058900496, 0.22814216441088805, 0.22492889448960796, 0.05462558866176193, 0.03534596913408125, 0.11547508682270047, 0.11547508682270047, 0.8083256077589033, 0.887991859001079, 0.5905155260393712, 0.1899560433413362, 0.11011944541526736, 0.024776875218435156, 0.08396607712914136, 0.29367381110853835, 0.29367381110853835, 0.11746952444341534, 0.23493904888683068, 0.40991985830909367, 0.24261736354339067, 0.18110063866390536, 0.10118638858681696, 0.06439133819161079, 0.0005749226624250963, 0.3730554557989165, 0.3730554557989165, 0.6106002012795372, 0.7146163329604105, 0.1737305748054838, 0.6949222992219352, 0.14937009403134072, 0.14937009403134072, 0.5974803761253629, 0.46490604647570266, 0.15496868215856754, 0.21695615502199456, 0.15496868215856754, 0.03099373643171351, 0.9589715233126281, 0.5091584994161361, 0.24423424971619442, 0.04884684994323889, 0.04884684994323889, 0.6838558992053444, 0.4819272686452784, 0.16064242288175948, 0.16064242288175948, 0.16064242288175948, 0.24662252881596988, 0.7398675864479096, 0.6106496180620166, 0.9583297891084864, 0.5902618464771743, 0.059026184647717424, 0.17707855394315228, 0.11805236929543485, 0.4331630143150402, 0.31187737030682894, 0.06930608229040643, 0.12128564400821125, 0.03465304114520321, 0.017326520572601607, 0.591060107290693, 0.09216113939044071, 0.20459772944677837, 0.054682276038328155, 0.055911091230200695, 0.0006144075959362714, 0.0006144075959362714, 0.6281685650258587, 0.11039596068523755, 0.14460315977080412, 0.07774363428537856, 0.03731694445698171, 0.0015548726857075711, 0.6105074964106653, 0.19023272131595137, 0.7609308852638055, 0.5526502683378195, 0.24028272536426934, 0.07448764486292349, 0.05766785408742464, 0.07328623123610215, 0.3780723813034583, 0.1260241271011528, 0.2520482542023056, 0.2520482542023056, 0.20833127240375532, 0.6249938172112659, 0.3000168362029437, 0.6000336724058875, 0.9794413560884769, 0.9306457412002819, 0.828409030073323, 0.48202362252561537, 0.12977559067997338, 0.18539370097139052, 0.07415748038855621, 0.12977559067997338, 0.9315770093481566, 0.07165976994985819, 0.5449086700681244, 0.1449119596173883, 0.20148717672828645, 0.05856031244812266, 0.05061993109922467, 0.9785646649145502, 0.13854557746888077, 0.6927278873444038, 0.3123579691999011, 0.15617898459995055, 0.3123579691999011, 0.15617898459995055, 0.44946691773753744, 0.19713461304277957, 0.1892492285210684, 0.08673922973882302, 0.07096846069540065, 0.49814984485076963, 0.2545173344632977, 0.15271040067797864, 0.2036138675706382, 0.1018069337853191, 0.2036138675706382, 0.958722278852005, 0.46604314268026054, 0.26503411947950917, 0.10273794519149514, 0.08487047646253947, 0.08040360928030055, 0.9307465782258185, 0.9488963089716659, 0.3191107875279874, 0.3191107875279874, 0.3191107875279874, 0.33865508048900966, 0.2512602210079749, 0.2731089358782336, 0.10924357435129343, 0.021848714870258686, 0.9306305678684569, 0.39965608713891204, 0.09991402178472801, 0.49957010892364007, 0.511142912208883, 0.6389759921467573, 0.15015656298391863, 0.11594367521543085, 0.0547853431586896, 0.03957961526158392, 0.0003354204683185078, 0.00011180682277283593, 0.6112776686722554, 0.08335604572803483, 0.13892674288005805, 0.11114139430404645, 0.02778534857601161, 0.3246021548608922, 0.6196950229162488, 0.059018573611071316, 0.9303620760563065, 0.5202639929775075, 0.15919749942844866, 0.19202172611472673, 0.08247086954927367, 0.045953917360789305, 0.2810830951271292, 0.6183828092796843, 0.05621661902542584, 0.05621661902542584, 0.15469970571592523, 0.7734985285796261, 0.15469970571592523, 0.6532285166664076, 0.15969695856083826, 0.10788039221928968, 0.04247259536192507, 0.037375883918494064, 0.645352597718197, 0.11964402092528371, 0.14864863205868584, 0.058009222266804224, 0.029004611133402112, 0.5266751222377443, 0.21062190674498454, 0.14490787184054937, 0.08063810143950836, 0.03682874483655158, 0.00048142150113139327, 0.19291655968471108, 0.09645827984235554, 0.6752079588964888, 0.6566243249688823, 0.15329135865699542, 0.09007842725204884, 0.06479325469007022, 0.03555727391528244, 0.000790161642561832, 0.3779936240878385, 0.18899681204391924, 0.18899681204391924, 0.25491106803206165, 0.5098221360641233, 0.6106473846578506, 0.4479876842026371, 0.1414697950113591, 0.12968064542707916, 0.11789149584279925, 0.15325894459563902, 0.17658281761259134, 0.17658281761259134, 0.5297484528377739, 0.41843651307067153, 0.2789576753804477, 0.06973941884511192, 0.13947883769022384, 0.06973941884511192, 0.6104005281524112, 0.4575477300909496, 0.5490572761091396, 0.6106025586196344, 0.6981208885880391, 0.14079749013540285, 0.05573233984526363, 0.07039874506770143, 0.03226609148936316, 0.0014666405222437799, 0.6015109794124401, 0.15594729095878077, 0.022278184422682968, 0.022278184422682968, 0.17822547538146374, 0.5743590683492452, 0.2871795341746226, 0.542548090940032, 0.8645155266747879, 0.06916124213398303, 0.034580621066991515, 0.6366010025776331, 0.2069255239400016, 0.6207765718200048, 0.6600006489949501, 0.38410319069960197, 0.19205159534980099, 0.19205159534980099, 0.645518257781592, 0.161379564445398, 0.161379564445398, 0.6292710786639956, 0.15234984009759892, 0.11481437224746585, 0.055199217426666274, 0.04636734263839967, 0.5475823827348096, 0.24541039714029578, 0.0684477978418512, 0.020033501807371085, 0.11686209387633133, 0.9476673033559427, 0.03948613763983095, 0.6087810495044711, 0.20205608510019643, 0.05835240388669465, 0.024386079236230603, 0.10538269955656795, 0.3461746359146946, 0.3461746359146946, 0.3461746359146946, 0.5741001016261792, 0.1601347464476583, 0.17546679663945539, 0.05962463963476639, 0.028960539251172247, 0.001703561132421897, 0.6511334407197148, 0.18561453454974838, 0.7424581381989935, 0.6263925042789379, 0.22371160867104925, 0.04474232173420985, 0.0894846434684197, 0.022371160867104924, 0.6167762985564584, 0.0897508657797892, 0.20350487008208018, 0.059486038947069594, 0.030264826832719617, 0.45279283604976184, 0.05659910450622023, 0.45279283604976184, 0.4405691838965122, 0.4074045259459941, 0.4074045259459941, 0.4074045259459941, 0.593777922548365, 0.15197887303321247, 0.15669139622804076, 0.06833158632501025, 0.029453269967676835, 0.6142854459180691, 0.158176266932906, 0.060892050752577156, 0.07680803464972655, 0.08968388679124066, 8.941563987162579e-05, 0.6015301820458536, 0.06015301820458536, 0.18045905461375608, 0.12030603640917072, 0.06015301820458536, 0.2144374442514446, 0.6433123327543337, 0.4543486855758942, 0.1726525005188398, 0.2816961850570544, 0.06360881598062519, 0.027260921134553653, 0.9303506398694923, 0.032081056547223874, 0.5871439558596835, 0.11742879117193669, 0.11742879117193669, 0.11742879117193669, 0.11742879117193669, 0.627872668005138, 0.4558053893280856, 0.3038702595520571, 0.09116107786561713, 0.12154810382082283, 0.030387025955205708, 0.4345408860104583, 0.22383100700361086, 0.16131269125432646, 0.08567324750827864, 0.09261972703597691, 0.0007718310586331409, 0.0007718310586331409, 0.5477549440085848, 0.21910197760343392, 0.10955098880171696, 0.10955098880171696, 0.5452392896151691, 0.10265674138745647, 0.20531348277491293, 0.6159404483247388, 0.10137947899048572, 0.8110358319238857, 0.4802172698663933, 0.12284627833791457, 0.2680282436463591, 0.06700706091158977, 0.055839217426324805, 0.9794813085853646, 0.5165975804699847, 0.25463497760754567, 0.04213384521563705, 0.02381478207840355, 0.16303966192137814, 0.551557305448211, 0.2757786527241055, 0.09192621757470185, 0.45170059711177096, 0.193585970190759, 0.129057313460506, 0.193585970190759, 0.064528656730253, 0.6170472742071643, 0.08752443605775381, 0.21443486834149683, 0.06564332704331535, 0.017504887211550763, 0.1435461773015857, 0.1435461773015857, 0.5741847092063428, 0.2656413778895206, 0.6641034447238015, 0.49263249094434775, 0.23707938626696734, 0.09544754512046737, 0.015394765342010867, 0.16010555955691302, 0.5975373227690879, 0.12334486020462823, 0.17953529652006997, 0.07674791301621312, 0.021927975147489464, 0.0013704984467180915, 0.2576607818325275, 0.6870954182200734, 0.460275896566523, 0.16438424877375823, 0.2695901679889635, 0.07890443941140395, 0.026301479803801316, 0.5467924532934102, 0.1822641510978034, 0.1822641510978034, 0.0911320755489017, 0.5570422046932499, 0.1514763889955329, 0.1832375673333059, 0.09039719988443091, 0.017102172951108552, 0.46533103035570006, 0.15511034345190003, 0.31022068690380006, 0.15511034345190003, 0.5744410897841012, 0.2081598374130541, 0.054041496251465974, 0.014010758287417104, 0.15011526736518324, 0.651709441753932, 0.5445108247107658, 0.33255359093073616, 0.0584709610427668, 0.04019878571690218, 0.021926610391037552, 0.5156544747574233, 0.2765103705220966, 0.047330603963241756, 0.022419759772061884, 0.1370096430514893, 0.46794039113563834, 0.24091980533716034, 0.15752448810506636, 0.08185095950557371, 0.049419447248648274, 0.0015443577265202586, 0.22574780981741682, 0.6772434294522505, 0.4326122117453863, 0.4884331422931781, 0.013955232636947944, 0.027910465273895887, 0.04186569791084383, 0.4012188755424794, 0.13373962518082647, 0.26747925036165293, 0.13373962518082647, 0.3070441879492865, 0.614088375898573, 0.6225449324805549, 0.13932161966494946, 0.1299989834048413, 0.07665278702755583, 0.031075454200360477, 0.0005179242366726746, 0.6590737835184443, 0.15297767635795081, 0.11307045643848539, 0.024790848737849737, 0.0501863523229641, 0.4341251166668031, 0.2711572870315944, 0.5423145740631888, 0.15494702116091108, 0.3546208773479738, 0.23641391823198257, 0.3546208773479738, 0.9306634060550858, 0.40943853934493735, 0.08188770786898747, 0.08188770786898747, 0.08188770786898747, 0.40943853934493735, 0.5016176643131709, 0.08360294405219514, 0.27867648017398383, 0.05573529603479676, 0.05573529603479676, 0.8941717454925806, 0.0525983379701518, 0.35626360100878157, 0.02375090673391877, 0.5462708548801317, 0.07125272020175631, 0.71430014761165, 0.5362171417974505, 0.15320489765641443, 0.07660244882820721, 0.15320489765641443, 0.8604094731897907, 0.758576003370572, 0.6296269668761243, 0.11810034016203481, 0.1804109490818814, 0.03767618213758166, 0.034053472316660345, 0.0007245419641842627, 0.47193436069417993, 0.14349355561647362, 0.2136459605845274, 0.028698711123294723, 0.14030480993610753, 0.40344034875328283, 0.2881716776809163, 0.14408583884045814, 0.0864515033042749, 0.0864515033042749, 0.5078346094987728, 0.9240094498804098, 0.8751017635831123, 0.725151624958099, 0.5313929611276467, 0.15572765944157424, 0.16532225457304564, 0.1070166380048733, 0.04059251786391746, 0.0007380457793439537, 0.9167510081741255, 0.1288184208470168, 0.1288184208470168, 0.2576368416940336, 0.2576368416940336, 0.1288184208470168, 0.2051654979068026, 0.6154964937204078, 0.2051654979068026, 0.2285508383448867, 0.6856525150346602, 0.5797602411114067, 0.173928072333422, 0.086964036166711, 0.14494006027785167, 0.9791470181110147, 0.6106225923902133, 0.5503633829359326, 0.19922656395870864, 0.17930390756283776, 0.0386001467669998, 0.03237431664329015, 0.001245166024741929, 0.7216247160643471, 0.18040617901608677, 0.9012682362335072, 0.6501336179759521, 0.09115895105672056, 0.1983458495519854, 0.03606288173672462, 0.023040174442907395, 0.0010017467149090172, 0.5023571192949521, 0.314933362249129, 0.07374049457540581, 0.03533398698404862, 0.07220423427175153, 0.6226603423246269, 0.6105924286168818, 0.6111189417484679, 0.1456609664024126, 0.1609936997079297, 0.03833183326379279, 0.04161741897211788, 0.9166884580642707, 0.282371130419418, 0.282371130419418, 0.282371130419418, 0.21925353652409807, 0.6577606095722942, 0.6725410958914921, 0.14488827467758833, 0.10812557811760323, 0.05730655640232972, 0.01730009249881652, 0.0010812557811760324, 0.7662740435638825, 0.17028312079197389, 0.08514156039598694, 0.08514156039598694, 0.46378088638804593, 0.2705388503930268, 0.07729681439800766, 0.11594522159701148, 0.07729681439800766, 0.5433086954299108, 0.5433086954299108, 0.35182945852994413, 0.35182945852994413, 0.9240279136049061, 0.681453274722571, 0.13289752660564663, 0.10462145711508351, 0.04948312160848545, 0.03251747991414758, 0.9903985330998666, 0.8906981621692173, 0.08350295270336412, 0.18305717578498995, 0.7322287031399598, 0.5950092790690059, 0.1829677799421005, 0.12764065285085527, 0.05290049871005028, 0.04076735680407544, 0.0004853256762389934, 0.5515418701624226, 0.1887149372449837, 0.13479638374641692, 0.09323416542460504, 0.030329186342943806, 0.6174050094057218, 0.13338997116790288, 0.13466035184569242, 0.07495245998958351, 0.03811142033368654, 0.001270380677789551, 0.5125441586816384, 0.2562720793408192, 0.2562720793408192, 0.5022367817251362, 0.17962561054582274, 0.20554174341064294, 0.07149278031674537, 0.04021468892816927, 0.0008936597539593172, 0.3865131874477235, 0.08589181943282745, 0.472405006880551, 0.042945909716413724, 0.042945909716413724, 0.34360293078321946, 0.17180146539160973, 0.11453431026107315, 0.28633577565268287, 0.7266511059936931, 0.513234051499223, 0.3544350890709998, 0.3544350890709998, 0.7016563809537953, 0.2976724040410041, 0.6996925187438482, 0.10251452613546232, 0.08028246022656688, 0.07595955852205943, 0.04137634488599985, 0.6140786271477849, 0.19285667607587073, 0.10643008625129938, 0.050535148867523444, 0.035795730447829105, 0.0002871315276563832, 9.57105092187944e-05, 0.617183210661288, 0.1979762844789264, 0.07227705623833822, 0.04148074531939411, 0.0703915678147294, 0.1636856036899123, 0.1636856036899123, 0.6547424147596492, 0.5864963763018409, 0.2187263713600925, 0.10645973827261139, 0.06387584296356683, 0.023227579259478846, 0.9305322684768682, 0.5560763008913099, 0.1986803857260157, 0.11417509032185934, 0.07142198824767532, 0.05926809635367651, 0.0003574674086470236, 0.6568854014411999, 0.13225147017368583, 0.11585665982157602, 0.06448625405163193, 0.030603645990604986, 0.8629976546761532, 0.4427404428425309, 0.2529945387671605, 0.06324863469179012, 0.2529945387671605, 0.3600109224119536, 0.5400163836179304, 0.6073803158508174, 0.1389768519319667, 0.10809310705819633, 0.08750394380901608, 0.0566201989352457, 0.9795789758824213, 0.8991375867919653, 0.34989955928576966, 0.1049698677857309, 0.5598392948572315, 0.36017163527318236, 0.25512157498517085, 0.25512157498517085, 0.10505006028801152, 0.015007151469715931, 0.11185194617308197, 0.7829636232115738, 0.5651766144233, 0.17661769200728128, 0.15674820165646214, 0.06623163450273048, 0.03311581725136524, 0.11654785223424209, 0.8158349656396946, 0.20834129497858855, 0.6250238849357657, 0.25173343688275823, 0.566400232986206, 0.12586671844137912, 0.4900773129251951, 0.16335910430839834, 0.16335910430839834, 0.16335910430839834, 0.4215432562213809, 0.5419841865703469, 0.3703192020409738, 0.4937589360546317, 0.5439691570950946, 0.18425708233857574, 0.15902442456609564, 0.07276394334389616, 0.038729195650783435, 0.00058680599470884, 0.32520829265279916, 0.5420138210879987, 0.10840276421759973, 0.7727231921890113, 0.36233107025417405, 0.36233107025417405, 0.9307500542422809, 0.9248174837665827, 0.6105756648255045, 0.5324549392439902, 0.9199077086700305, 0.03679630834680122, 0.03679630834680122, 0.5111064679631366, 0.512358863316601, 0.3511389360764901, 0.031921721461499096, 0.5107475433839855, 0.06384344292299819, 0.6106515244781587, 0.2754055923443108, 0.6885139808607769, 0.6214773137361491, 0.04439123669543922, 0.2663474201726353, 0.04439123669543922, 0.8754567256356527, 0.06253262325968947, 0.03126631162984474, 0.03126631162984474, 0.03126631162984474, 0.9236923572829239, 0.6594779706394921, 0.2428149968038409, 0.7284449904115227, 0.6107031889379968, 0.46658340220726324, 0.5308855615986164, 0.23164416585281244, 0.08243564621096527, 0.051934457112908124, 0.10263237953265178, 0.20663844967943681, 0.6199153490383105, 0.4914177085227715, 0.1956973175533161, 0.1836328234245812, 0.06074332509002571, 0.0678978506779964, 0.0004208544463512174, 0.0001402848154504058, 0.509442650456205, 0.5972307236450188, 0.15207776775561938, 0.1365652814271773, 0.0722992666379174, 0.04127429398103331, 0.00027700868443646516, 0.7089773991211205, 0.08929186386915874, 0.1142935857525232, 0.06250430470841112, 0.02500172188336445, 0.9650250681242127, 0.7811727998657914, 0.6366176486962701, 0.5535759454940362, 0.20198041254512134, 0.163080481240135, 0.04638068732517601, 0.033663402090853556, 0.0007480756020189678, 0.0007480756020189678, 0.8285539276084765, 0.7798031645587902], \"Term\": [\"absorb\", \"absorb\", \"access\", \"access\", \"access\", \"access\", \"access\", \"aciinfotech\", \"adjective\", \"advanced\", \"advanced\", \"advanced\", \"advanced\", \"advanced\", \"aegis\", \"aerotek\", \"aerotek\", \"ag\", \"airline\", \"airline\", \"al\", \"al\", \"algorithmically\", \"alike\", \"alike\", \"alike\", \"all\", \"all\", \"all\", \"all\", \"all\", \"allen\", \"allen\", \"allen\", \"allen\", \"an\", \"an\", \"an\", \"an\", \"an\", \"an\", \"anaconda\", \"anaconda\", \"anaconda\", \"anaconda\", \"analysis\", \"analysis\", \"analysis\", \"analysis\", \"analysis\", \"analysis\", \"analysis\\u00e2\", \"analyst\", \"analyst\", \"analyst\", \"analyst\", \"analyst\", \"analyst\", \"analytic\", \"analytic\", \"analytic\", \"analytic\", \"analytic\", \"analytic\", \"analytics\", \"analytics\", \"analytics\", \"analytics\", \"analytics\", \"and\", \"and\", \"and\", \"and\", \"and\", \"and\", \"and\", \"anupam\", \"apple\", \"apple\", \"applicant\", \"applicant\", \"applicant\", \"applicant\", \"applicant\", \"apply\", \"apply\", \"apply\", \"apply\", \"apply\", \"apprio\", \"apprio\", \"arbitrage\", \"arbitrage\", \"architecting\", \"architecting\", \"area\", \"area\", \"area\", \"area\", \"area\", \"as\", \"as\", \"as\", \"as\", \"as\", \"as\", \"assembles\", \"assembles\", \"assists\", \"at\", \"at\", \"at\", \"at\", \"at\", \"auditability\", \"austin\", \"austin\", \"balancer\", \"bay\", \"bay\", \"be\", \"be\", \"be\", \"be\", \"be\", \"be\", \"because\", \"because\", \"because\", \"because\", \"benefit\", \"benefit\", \"benefit\", \"benefit\", \"benefit\", \"biomarker\", \"bootcamp\", \"bootcamp\", \"booz\", \"booz\", \"booz\", \"booz\", \"bore\", \"boston\", \"boston\", \"boston\", \"boston\", \"boston\", \"brilliance\", \"broomfield\", \"build\", \"build\", \"build\", \"build\", \"build\", \"building\", \"building\", \"building\", \"building\", \"building\", \"business\", \"business\", \"business\", \"business\", \"business\", \"by\", \"by\", \"by\", \"by\", \"by\", \"cad\", \"calendar\", \"camaraderie\", \"can\", \"can\", \"can\", \"can\", \"can\", \"candidate\", \"candidate\", \"candidate\", \"candidate\", \"candidate\", \"capgemini\", \"capgemini\", \"capgemini\", \"capgemini\", \"career\", \"career\", \"career\", \"career\", \"career\", \"carton\", \"casey\", \"catalyze\", \"caterpillar\", \"caterpillar\", \"cd\", \"certification\", \"certification\", \"certification\", \"certification\", \"certification\", \"change\", \"change\", \"change\", \"change\", \"change\", \"chemicals\", \"chetana\", \"child\", \"classification\", \"classification\", \"classification\", \"classification\", \"classification\", \"classification\", \"clearanceso\", \"clearanceso\", \"click\", \"click\", \"click\", \"click\", \"click\", \"client\", \"client\", \"client\", \"client\", \"client\", \"client\", \"climatology\", \"clinical\", \"clinical\", \"clinical\", \"clinical\", \"clinical\", \"coe\", \"coe\", \"coe\", \"coe\", \"collegeville\", \"collision\", \"collision\", \"com\", \"com\", \"com\", \"comma\", \"committed\", \"committed\", \"committed\", \"committed\", \"committed\", \"company\", \"company\", \"company\", \"company\", \"company\", \"compensation\", \"compensation\", \"compensation\", \"compensation\", \"compensation\", \"compensation\", \"complaint\", \"complaint\", \"complaint\", \"complexity\", \"complexity\", \"complexity\", \"complexity\", \"complexity\", \"comprehension\", \"comprehension\", \"comprehension\", \"comprehension\", \"comprehension\", \"content\", \"content\", \"content\", \"content\", \"conversant\", \"conversant\", \"correlation\", \"correlation\", \"correlation\", \"cosmos\", \"crase\", \"crase\", \"create\", \"create\", \"create\", \"create\", \"create\", \"crf\", \"crf\", \"crossroad\", \"cultivates\", \"cultivates\", \"customer\", \"customer\", \"customer\", \"customer\", \"customer\", \"customization\", \"customization\", \"cvd\", \"cybercoders\", \"cybercoders\", \"cybercoders\", \"cybercoders\", \"cybercoders\", \"cyberspace\", \"cyberspace\", \"cyberspace\", \"dallas\", \"dallas\", \"dallas\", \"dallas\", \"dan\", \"dare\", \"data\", \"data\", \"data\", \"data\", \"data\", \"data\", \"datamatics\", \"datum\", \"datum\", \"datum\", \"datum\", \"datum\", \"datum\", \"datum\", \"day\", \"day\", \"day\", \"day\", \"day\", \"dbms\", \"dbms\", \"death\", \"decide\", \"decide\", \"deloitte\", \"deloitte\", \"dentsu\", \"design\", \"design\", \"design\", \"design\", \"design\", \"desirable\\u00e2\", \"desktop\", \"desktop\", \"desktop\", \"develop\", \"develop\", \"develop\", \"develop\", \"develop\", \"develop\", \"development\", \"development\", \"development\", \"development\", \"development\", \"development\", \"deviation\", \"dig\", \"dig\", \"dig\", \"dig\", \"directly\", \"directly\", \"directly\", \"directly\", \"directly\", \"disqualifying\", \"distributable\", \"dli\", \"dli\", \"dli\", \"dli\", \"dns\", \"don\", \"don\", \"donor\", \"donor\", \"dot\", \"dot\", \"dot\", \"dot\", \"dram\", \"duration\", \"duration\", \"duration\", \"duration\", \"duration\", \"duration\\u00e2\", \"duration\\u00e2\", \"ect\", \"ect\", \"ect\", \"ect\", \"editor\", \"editor\", \"editorial\", \"editorial\", \"edward\", \"edward\", \"eliassen\", \"eliassen\", \"eliassen\", \"eligibility\", \"eligibility\", \"eligibility\", \"eligibility\", \"eligibility\", \"emerge\", \"emerge\", \"emerge\", \"emerge\", \"emerge\", \"emerge\", \"emergent\", \"emergent\", \"employment\", \"employment\", \"employment\", \"employment\", \"employment\", \"empower\", \"empower\", \"empower\", \"empower\", \"empower\", \"endorse\", \"eros\", \"espresso\", \"espresso\", \"espresso\", \"estate\", \"estate\", \"estate\", \"etc\", \"etc\", \"etc\", \"etc\", \"etc\", \"everest\", \"examinations\", \"excellent\", \"excellent\", \"excellent\", \"excellent\", \"excellent\", \"except\", \"except\", \"except\", \"expected\", \"expected\", \"experience\", \"experience\", \"experience\", \"experience\", \"experience\", \"experience\", \"experience\", \"expert\", \"expert\", \"expert\", \"expert\", \"expert\", \"exposure\", \"exposure\", \"exposure\", \"exposure\", \"exposure\", \"fabric\", \"fabrication\", \"faceted\", \"fall\", \"fall\", \"fancy\", \"fancy\", \"fascinate\", \"fascinate\", \"fascinate\", \"fearlessly\", \"fearlessly\", \"fearlessly\", \"fearlessly\", \"fedex\", \"felix\", \"fischer\", \"for\", \"for\", \"for\", \"for\", \"for\", \"for\", \"forward\", \"forward\", \"forward\", \"forward\", \"forward\", \"fox\", \"from\", \"from\", \"from\", \"from\", \"from\", \"gas\", \"gas\", \"gas\", \"gemini\", \"gensim\", \"gensim\", \"gensim\", \"geomesa\", \"geomesa\", \"geotrellis\", \"geotrellis\", \"geowave\", \"geowave\", \"google\", \"google\", \"google\", \"google\", \"google\", \"green\", \"green\", \"green\", \"guidehouse\", \"guidehouse\", \"gunicorn\", \"habitat\", \"habitat\", \"hadoop\", \"hadoop\", \"hadoop\", \"hadoop\", \"hadoop\", \"hands\", \"hands\", \"hands\", \"hands\", \"hands\", \"harman\", \"harris\", \"have\", \"have\", \"have\", \"have\", \"have\", \"have\", \"help\", \"help\", \"help\", \"help\", \"help\", \"hortonwork\", \"hortonwork\", \"hortonwork\", \"hortonwork\", \"humanitarian\", \"humanitarian\", \"ic\", \"ic\", \"id\", \"id\", \"id\", \"id\", \"id\", \"id\", \"if\", \"if\", \"if\", \"if\", \"if\", \"im\", \"im\", \"imagine\", \"imagine\", \"imagine\", \"imagine\", \"imagine\", \"imran\", \"in\", \"in\", \"in\", \"in\", \"in\", \"in\", \"in\", \"incidence\", \"incidence\", \"include\", \"include\", \"include\", \"include\", \"include\", \"infinity\\u00e2\", \"information\", \"information\", \"information\", \"information\", \"information\", \"information\\u00e2\", \"informed\", \"informed\", \"informed\", \"informed\", \"insight\", \"insight\", \"insight\", \"insight\", \"insight\", \"institute\", \"institute\", \"institute\", \"institute\", \"instrumentation\", \"integer\", \"integer\", \"integer\", \"integer\", \"into\", \"into\", \"into\", \"into\", \"into\", \"involve\", \"involve\", \"involve\", \"involve\", \"involve\", \"jacob\", \"job\", \"job\", \"job\", \"job\", \"job\", \"juno\", \"kdb\", \"kellton\", \"keras\", \"keras\", \"keras\", \"keras\", \"keras\", \"key\", \"key\", \"key\", \"key\", \"key\", \"keywords\", \"keywords\", \"kforce\", \"kforce\", \"kforce\", \"kforce\", \"kforce\", \"kit\", \"kit\", \"kit\", \"knn\", \"knn\", \"knn\", \"kpmg\", \"kpmg\", \"kristy\", \"labeling\", \"labeling\", \"lambdas\", \"lambdas\", \"latency\", \"latency\", \"learn\", \"learn\", \"learn\", \"learn\", \"learn\", \"learning\", \"learning\", \"learning\", \"learning\", \"learning\", \"learning\", \"like\", \"like\", \"like\", \"like\", \"like\", \"like\\u00e2\", \"lin\", \"linguistics\", \"ll\", \"ll\", \"ll\", \"ll\", \"ll\", \"location\", \"location\", \"location\", \"location\", \"location\", \"location\\u00e2\", \"location\\u00e2\", \"location\\u00e2\", \"longterm\", \"look\", \"look\", \"look\", \"look\", \"look\", \"lstm\", \"lstm\", \"lstm\", \"lstm\", \"machine\", \"machine\", \"machine\", \"machine\", \"machine\", \"machine\", \"markdown\", \"markdown\", \"marketable\", \"markup\", \"mass\", \"mass\", \"massively\", \"massively\", \"massively\", \"matplotlib\", \"matplotlib\", \"matplotlib\", \"matplotlib\", \"matplotlib\", \"mattel\", \"mckayla\", \"mclean\", \"mclean\", \"mclean\", \"mclean\", \"means\", \"means\", \"means\", \"means\", \"meddra\", \"meddra\", \"medicaid\", \"metroplus\", \"mixed\", \"mixed\", \"mixed\", \"mixed\", \"mobile\", \"mobile\", \"mobile\", \"mobile\", \"mobile\", \"mobile\", \"model\", \"model\", \"model\", \"model\", \"model\", \"model\", \"model\", \"modeling\", \"modeling\", \"modeling\", \"modeling\", \"modeling\", \"modeling\", \"months\\u00e2\", \"morbidity\", \"morbidity\", \"more\", \"more\", \"more\", \"more\", \"more\", \"mostly\", \"mostly\", \"mostly\", \"mostly\", \"munch\", \"munch\", \"nagesh\", \"nagesh\", \"nbc\", \"negi\", \"neha\", \"networks\", \"networks\", \"networks\", \"networks\", \"networks\", \"neustar\", \"neustar\", \"new\", \"new\", \"new\", \"new\", \"new\", \"newsroom\", \"nextera\", \"nextera\", \"nlg\", \"nlg\", \"nlg\", \"nlg\", \"nlp\", \"nlp\", \"nlp\", \"nlp\", \"nlp\", \"nlp\\u00e2\", \"nltk\", \"nltk\", \"nltk\", \"nltk\", \"nltk\", \"noblis\", \"not\", \"not\", \"not\", \"not\", \"not\", \"notes\", \"nsa\", \"null\", \"null\", \"null\", \"numpy\", \"numpy\", \"numpy\", \"numpy\", \"numpy\", \"nvm\", \"octo\", \"octo\", \"octo\", \"octopus\", \"of\", \"of\", \"of\", \"of\", \"of\", \"of\", \"of\", \"offering\", \"offering\", \"offering\", \"offering\", \"offering\", \"oil\", \"oil\", \"oil\", \"okc\", \"on\", \"on\", \"on\", \"on\", \"on\", \"oop\", \"oop\", \"oop\", \"oop\", \"operator\", \"operator\", \"operator\", \"opportunity\", \"opportunity\", \"opportunity\", \"opportunity\", \"opportunity\", \"optimization\", \"optimization\", \"optimization\", \"optimization\", \"optimization\", \"or\", \"or\", \"or\", \"or\", \"or\", \"or\", \"orlando\", \"orlando\", \"orlando\", \"other\", \"other\", \"other\", \"other\", \"other\", \"other\", \"outline\", \"outline\", \"outline\", \"overlooking\", \"overlooking\", \"pachyderm\", \"pandas\", \"pandas\", \"pandas\", \"pandas\", \"pandas\", \"parallelize\", \"parallelize\", \"parallelize\", \"participation\", \"participation\", \"participation\", \"participation\", \"participation\", \"passport\", \"paypal\", \"paypal\", \"pedsnet\", \"people\", \"people\", \"people\", \"people\", \"people\", \"people\", \"per\", \"per\", \"per\", \"per\", \"per\", \"perm\", \"perm\", \"perusal\", \"petabyte\", \"petabyte\", \"petabyte\", \"pfa\", \"photogrammetric\", \"photogrammetric\", \"physiologic\", \"pillar\", \"pillar\", \"pillar\", \"plano\", \"plano\", \"plano\", \"platform\", \"platform\", \"platform\", \"platform\", \"platform\", \"please\", \"please\", \"please\", \"please\", \"please\", \"populate\", \"populate\", \"position\", \"position\", \"position\", \"position\", \"position\", \"ppt\", \"ppt\", \"ppt\", \"predictive\", \"predictive\", \"predictive\", \"predictive\", \"predictive\", \"predictive\", \"preform\", \"prevalence\", \"prevalence\", \"private\", \"private\", \"private\", \"private\", \"private\", \"problem\", \"problem\", \"problem\", \"problem\", \"problem\", \"procedural\", \"procedural\", \"procedural\", \"productionalize\", \"prog\", \"prog\", \"prog\", \"project\", \"project\", \"project\", \"project\", \"project\", \"pron\", \"pron\", \"pron\", \"pron\", \"pron\", \"pron\", \"prospect\", \"prospect\", \"prospect\", \"prospect\", \"prospect\", \"proxy\", \"proxy\", \"public\", \"public\", \"public\", \"public\", \"public\", \"publisher\", \"publisher\", \"puzzle\", \"puzzle\", \"puzzle\", \"puzzle\", \"puzzle\", \"pwc\", \"pyspark\", \"pyspark\", \"pyspark\", \"pyspark\", \"pyspark\", \"python\", \"python\", \"python\", \"python\", \"python\", \"python\", \"python\", \"querying\", \"querying\", \"querying\", \"querying\", \"raja\", \"raman\", \"raman\", \"raman\", \"ramboll\", \"ramboll\", \"random\", \"random\", \"random\", \"random\", \"random\", \"readership\", \"receive\", \"receive\", \"receive\", \"receive\", \"receive\", \"redmond\", \"redmond\", \"redmond\", \"ref\", \"ref\", \"ref\", \"ref\", \"ref\", \"regression\", \"regression\", \"regression\", \"regression\", \"regression\", \"relentlessly\", \"relentlessly\", \"relentlessly\", \"replicate\", \"replicate\", \"required\", \"required\", \"required\", \"required\", \"required\", \"research\", \"research\", \"research\", \"research\", \"research\", \"research\", \"resiliency\", \"resiliency\", \"resource\", \"resource\", \"resource\", \"resource\", \"resource\", \"resources\", \"resources\", \"resources\", \"resources\", \"responsibility\", \"responsibility\", \"responsibility\", \"responsibility\", \"responsibility\", \"responsibly\", \"responsibly\", \"responsibly\", \"responsibly\", \"resume\", \"resume\", \"resume\", \"resume\", \"resume\", \"revert\", \"review\", \"review\", \"review\", \"review\", \"review\", \"right\", \"right\", \"right\", \"right\", \"right\", \"role\", \"role\", \"role\", \"role\", \"role\", \"role\", \"rust\", \"rust\", \"safety\", \"safety\", \"safety\", \"safety\", \"safety\", \"sagemaker\", \"sagemaker\", \"sagemaker\", \"sagemaker\", \"schneider\", \"schneider\", \"science\", \"science\", \"science\", \"science\", \"science\", \"science\", \"scientist\", \"scientist\", \"scientist\", \"scientist\", \"scientist\", \"scoop\", \"score\", \"score\", \"score\", \"seaborn\", \"seaborn\", \"seaborn\", \"security\\u00e2\", \"sensitivity\", \"sensitivity\", \"sensitivity\", \"sensitivity\", \"sensitivity\", \"sentiment\", \"sentiment\", \"sentiment\", \"sentiment\", \"sentiment\", \"ses\", \"ses\", \"shall\", \"shall\", \"shall\", \"shall\", \"shawn\", \"shell\", \"shell\", \"shell\", \"shell\", \"shopping\", \"sirius\", \"skill\", \"skill\", \"skill\", \"skill\", \"skill\", \"skill\", \"skills\", \"skills\", \"skills\", \"skills\", \"skills\", \"sklearn\", \"sklearn\", \"sklearn\", \"sklearn\", \"sklearn\", \"slot\", \"snacknation\", \"snowflake\\u00e2\", \"socure\", \"solution\", \"solution\", \"solution\", \"solution\", \"solution\", \"solution\", \"spacing\", \"spacy\", \"spacy\", \"spacy\", \"spacy\", \"spacy\", \"sparingly\", \"sparingly\", \"sparingly\", \"sparksql\", \"sparksql\", \"specialist\", \"specialist\", \"specialist\", \"specialist\", \"sports\", \"springs\", \"sql\", \"sql\", \"sql\", \"sql\", \"sql\", \"sql\", \"sqlite\", \"sqlite\", \"stacks\", \"statistical\", \"statistical\", \"statistical\", \"statistical\", \"statistical\", \"statistical\", \"status\", \"status\", \"status\", \"status\", \"status\", \"storied\", \"straight\", \"strong\", \"strong\", \"strong\", \"strong\", \"strong\", \"subsurface\", \"summarization\", \"summarization\", \"summarization\", \"summer\", \"summer\", \"support\", \"support\", \"support\", \"support\", \"support\", \"support\", \"surround\", \"surround\", \"surround\", \"surround\", \"svm\", \"svm\", \"svm\", \"svm\", \"svm\", \"synergistic\", \"synergistic\", \"synergy\", \"synergy\", \"sysco\", \"system\", \"system\", \"system\", \"system\", \"system\", \"taboola\", \"targeting\", \"targeting\", \"teaching\", \"teaching\", \"team\", \"team\", \"team\", \"team\", \"team\", \"team\", \"technical\", \"technical\", \"technical\", \"technical\", \"technical\", \"technique\", \"technique\", \"technique\", \"technique\", \"technique\", \"technique\", \"technologie\", \"technologie\", \"technologie\", \"technology\", \"technology\", \"technology\", \"technology\", \"technology\", \"technology\", \"telecom\", \"telecom\", \"telecom\", \"telecom\", \"telecom\", \"ten\", \"ten\", \"ten\", \"ten\", \"terminal\", \"terraform\", \"tessaract\", \"tessaract\", \"textio\", \"textio\", \"that\", \"that\", \"that\", \"that\", \"that\", \"the\", \"the\", \"the\", \"the\", \"the\", \"the\", \"the\", \"this\", \"this\", \"this\", \"this\", \"this\", \"thornton\", \"thornton\", \"thornton\", \"time\", \"time\", \"time\", \"time\", \"time\", \"title\\u00e2\", \"to\", \"to\", \"to\", \"to\", \"to\", \"to\", \"tool\", \"tool\", \"tool\", \"tool\", \"tool\", \"toolbox\", \"tools\", \"tools\", \"tools\", \"tools\", \"to\\u00e2\", \"to\\u00e2\", \"training\", \"training\", \"training\", \"training\", \"training\", \"tribune\", \"trikha\", \"tv\", \"tv\", \"tv\", \"tx\", \"tx\", \"tx\", \"tx\", \"tx\", \"typescript\", \"typescript\", \"understanding\", \"understanding\", \"understanding\", \"understanding\", \"understanding\", \"undertaking\", \"undertaking\", \"unity\", \"unity\", \"upstream\", \"upstream\", \"upstream\", \"urgency\", \"urgency\", \"urgency\", \"urgency\", \"usaa\", \"usaa\", \"usaid\", \"usaid\", \"use\", \"use\", \"use\", \"use\", \"use\", \"use\", \"varian\", \"varian\", \"varian\", \"verizon\", \"viability\", \"viability\", \"videoamp\", \"virgin\", \"virtualize\", \"vishwakarma\", \"visitor\", \"visitor\", \"visitor\", \"vpn\", \"vsts\", \"wa\", \"wa\", \"wa\", \"wa\", \"washingtonian\", \"wayfair\", \"wayfair\", \"wealth\", \"wealth\", \"wealth\", \"wealth\", \"weather\", \"weather\", \"weather\", \"weather\", \"weather\", \"wells\", \"whodd\", \"wi\", \"wi\", \"wifi\", \"wildly\", \"will\", \"will\", \"will\", \"will\", \"will\", \"willingly\", \"willingly\", \"with\", \"with\", \"with\", \"with\", \"with\", \"with\", \"with\", \"words\", \"work\", \"work\", \"work\", \"work\", \"work\", \"work\", \"world\", \"world\", \"world\", \"world\", \"world\", \"writer\", \"xm\", \"ye\", \"year\", \"year\", \"year\", \"year\", \"year\", \"year\", \"year\", \"yolo\", \"your\\u00e2\"]}, \"R\": 30, \"lambda.step\": 0.01, \"plot.opts\": {\"xlab\": \"PC1\", \"ylab\": \"PC2\"}, \"topic.order\": [4, 7, 9, 3, 8, 5, 2, 1, 10, 6]};\n",
              "\n",
              "function LDAvis_load_lib(url, callback){\n",
              "  var s = document.createElement('script');\n",
              "  s.src = url;\n",
              "  s.async = true;\n",
              "  s.onreadystatechange = s.onload = callback;\n",
              "  s.onerror = function(){console.warn(\"failed to load library \" + url);};\n",
              "  document.getElementsByTagName(\"head\")[0].appendChild(s);\n",
              "}\n",
              "\n",
              "if(typeof(LDAvis) !== \"undefined\"){\n",
              "   // already loaded: just create the visualization\n",
              "   !function(LDAvis){\n",
              "       new LDAvis(\"#\" + \"ldavis_el2291397307749329443874807003\", ldavis_el2291397307749329443874807003_data);\n",
              "   }(LDAvis);\n",
              "}else if(typeof define === \"function\" && define.amd){\n",
              "   // require.js is available: use it to load d3/LDAvis\n",
              "   require.config({paths: {d3: \"https://d3js.org/d3.v5\"}});\n",
              "   require([\"d3\"], function(d3){\n",
              "      window.d3 = d3;\n",
              "      LDAvis_load_lib(\"https://cdn.jsdelivr.net/gh/bmabey/pyLDAvis@3.3.1/pyLDAvis/js/ldavis.v3.0.0.js\", function(){\n",
              "        new LDAvis(\"#\" + \"ldavis_el2291397307749329443874807003\", ldavis_el2291397307749329443874807003_data);\n",
              "      });\n",
              "    });\n",
              "}else{\n",
              "    // require.js not available: dynamically load d3 & LDAvis\n",
              "    LDAvis_load_lib(\"https://d3js.org/d3.v5.js\", function(){\n",
              "         LDAvis_load_lib(\"https://cdn.jsdelivr.net/gh/bmabey/pyLDAvis@3.3.1/pyLDAvis/js/ldavis.v3.0.0.js\", function(){\n",
              "                 new LDAvis(\"#\" + \"ldavis_el2291397307749329443874807003\", ldavis_el2291397307749329443874807003_data);\n",
              "            })\n",
              "         });\n",
              "}\n",
              "</script>"
            ]
          },
          "metadata": {},
          "execution_count": 85
        }
      ]
    },
    {
      "cell_type": "markdown",
      "source": [
        "**Ergebnis**\n",
        "Wie man in der Visualisierung sehen kann, hat der LDA Algorithmus eigentlich nur 5 Themen ausgewählt, da die restlichen fünf Themen (7-10) Ausreißer darstelllen. Was man auch in der Visualiserierung sehen kann, ist, das die zugeordneten Wörter zu den jeweiligen Themen, eher Stoppwörter sind bzw. am meisten zufällige Wörter, die dem Kontext der Beschreibung keinen Sinn ergeben anzutreffen. Wenn man spezifische Wörter rausfiltert und vielleich spezifisches Preprocessing verwendet kann man den Topic Modeling LDA Ansatz verwenden um (hier für komplexere Dokumente, die Sätze haben) Themen zuzuweisen, die man mit herkömlichen Ähnlichkeitsmaße nicht machen könnte."
      ],
      "metadata": {
        "id": "8LFRtUdy7w8A"
      }
    },
    {
      "cell_type": "code",
      "source": [
        ""
      ],
      "metadata": {
        "id": "9szuw_6K9QPk"
      },
      "execution_count": null,
      "outputs": []
    }
  ]
}