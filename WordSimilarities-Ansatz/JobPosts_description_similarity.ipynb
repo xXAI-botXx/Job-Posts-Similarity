{
  "nbformat": 4,
  "nbformat_minor": 0,
  "metadata": {
    "colab": {
      "name": "Untitled3.ipynb",
      "provenance": [],
      "collapsed_sections": []
    },
    "kernelspec": {
      "name": "python3",
      "display_name": "Python 3"
    },
    "language_info": {
      "name": "python"
    }
  },
  "cells": [
    {
      "cell_type": "markdown",
      "source": [
        "# Jobposts: Get Similarity with cosine similarity in feature: job description\n",
        "A small notebook to see if cosine similarity works on feature job description\n"
      ],
      "metadata": {
        "id": "zEtwU6ABomNw"
      }
    },
    {
      "cell_type": "markdown",
      "source": [
        "This is the implementation of tfidfvectorizer with cosine similarity. May change input variables:"
      ],
      "metadata": {
        "id": "g6-fF02BVxsk"
      }
    },
    {
      "cell_type": "code",
      "source": [
        "def job_description(sentence1, sentence2):\n",
        "\n",
        "\n",
        "  sentences = [sentence1, sentence2]\n",
        "\n",
        "\n",
        "  tf_vec = TfidfVectorizer(use_idf=True) # tfidvectorizer\n",
        "\n",
        "              \n",
        "  vectors = tf_vec.fit_transform(sentences).toarray() #transform documents into vectors\n",
        "  cosine = cosine_similarity(vectors) #use cosine similarity on vectors\n",
        "\n",
        "\n",
        "\n",
        "  similarity_df = pd.DataFrame(cosine) #save matrix in pandas dataframe to use melt method on it\n",
        "\n",
        "  transform_df = pd.melt(similarity_df) #reshape matrix into column of dataframe\n",
        "\n",
        "  similarity = transform_df[\"value\"].values[1] #get value\n",
        "\n",
        "\n",
        "  \n",
        "\n",
        "\n",
        "  #just for testing (not finished yet)\n",
        "\n",
        "  if similarity > 0.7:\n",
        "    return 6\n",
        "\n",
        "  if similarity < 0.7 and similarity >= 0.4:\n",
        "    return 5\n",
        "\n",
        "  elif similarity < 0.4 and similarity >= 0.1:\n",
        "    return 3\n",
        "\n",
        "  elif similarity < 0.1:\n",
        "    return 0"
      ],
      "metadata": {
        "id": "3ot62zFAVxRz"
      },
      "execution_count": 279,
      "outputs": []
    },
    {
      "cell_type": "code",
      "source": [
        "test = job_description(corpus[0], corpus[1])\n",
        "test"
      ],
      "metadata": {
        "colab": {
          "base_uri": "https://localhost:8080/"
        },
        "id": "-7sZDU9uWXxP",
        "outputId": "70aeadc0-81b0-4721-8a85-4ff9537a44d5"
      },
      "execution_count": 280,
      "outputs": [
        {
          "output_type": "execute_result",
          "data": {
            "text/plain": [
              "3"
            ]
          },
          "metadata": {},
          "execution_count": 280
        }
      ]
    },
    {
      "cell_type": "markdown",
      "source": [
        "#### Imports"
      ],
      "metadata": {
        "id": "7o4VKHpao4lm"
      }
    },
    {
      "cell_type": "code",
      "execution_count": 9,
      "metadata": {
        "id": "l2Py-qryoSFz"
      },
      "outputs": [],
      "source": [
        "import pandas as pd\n",
        "import numpy as np\n",
        "import spacy\n",
        "from sklearn.feature_extraction.text import TfidfVectorizer\n",
        "from sklearn.feature_extraction.text import CountVectorizer\n",
        "from sklearn.metrics.pairwise import cosine_similarity\n",
        "import matplotlib.pyplot as plt\n",
        "from sklearn.cluster import KMeans\n",
        "from sklearn.manifold import TSNE"
      ]
    },
    {
      "cell_type": "code",
      "source": [
        "!pip install openpyxl"
      ],
      "metadata": {
        "colab": {
          "base_uri": "https://localhost:8080/"
        },
        "id": "_4v8kR0ao4Jx",
        "outputId": "0402d96c-978a-4060-b4e2-fbb9057cf4aa"
      },
      "execution_count": 2,
      "outputs": [
        {
          "output_type": "stream",
          "name": "stdout",
          "text": [
            "Looking in indexes: https://pypi.org/simple, https://us-python.pkg.dev/colab-wheels/public/simple/\n",
            "Requirement already satisfied: openpyxl in /usr/local/lib/python3.7/dist-packages (3.0.10)\n",
            "Requirement already satisfied: et-xmlfile in /usr/local/lib/python3.7/dist-packages (from openpyxl) (1.1.0)\n"
          ]
        }
      ]
    },
    {
      "cell_type": "markdown",
      "source": [
        "#### Load Dataset"
      ],
      "metadata": {
        "id": "cyovIcUSpQGu"
      }
    },
    {
      "cell_type": "code",
      "source": [
        "df = pd.read_excel(\"./data_scientist_united_states_job_postings_jobspikr.xlsx\")\n",
        "df"
      ],
      "metadata": {
        "colab": {
          "base_uri": "https://localhost:8080/",
          "height": 1000
        },
        "id": "8YxZ0TN1pX9n",
        "outputId": "d76b776b-e110-46d5-8d76-66df4bbcdc6e"
      },
      "execution_count": 5,
      "outputs": [
        {
          "output_type": "execute_result",
          "data": {
            "text/plain": [
              "         crawl_timestamp                                                url  \\\n",
              "0    2019-02-06 06:26:22  https://www.indeed.com/viewjob?jk=fd83355c2b23...   \n",
              "1    2019-02-06 06:33:41  https://www.dice.com/jobs/detail/Data-Scientis...   \n",
              "2    2019-02-06 06:33:35  https://www.dice.com/jobs/detail/Data-Scientis...   \n",
              "3    2019-02-06 06:33:42  https://www.indeed.com/viewjob?jk=841edd86ead2...   \n",
              "4    2019-02-06 06:48:23  https://job-openings.monster.com/senior-data-s...   \n",
              "...                  ...                                                ...   \n",
              "9995 2019-09-29 02:55:15              https://stackoverflow.com/jobs/271829   \n",
              "9996 2019-10-01 02:50:33              https://stackoverflow.com/jobs/283895   \n",
              "9997 2019-09-26 02:53:10              https://stackoverflow.com/jobs/293326   \n",
              "9998 2019-09-27 02:41:31              https://stackoverflow.com/jobs/283895   \n",
              "9999 2019-09-27 02:53:10              https://stackoverflow.com/jobs/283895   \n",
              "\n",
              "                                              job_title  \\\n",
              "0                           Enterprise Data Scientist I   \n",
              "1                                        Data Scientist   \n",
              "2                                        Data Scientist   \n",
              "3     Data Scientist, Aladdin Wealth Tech, Associate...   \n",
              "4                                 Senior Data Scientist   \n",
              "...                                                 ...   \n",
              "9995                                     Data Scientist   \n",
              "9996               Data Scientist, (Staff or Principal)   \n",
              "9997  Siri - Embedded Data Scientist, Data Organization   \n",
              "9998               Data Scientist, (Staff or Principal)   \n",
              "9999               Data Scientist, (Staff or Principal)   \n",
              "\n",
              "                                category  \\\n",
              "0                     Accounting/Finance   \n",
              "1                                    NaN   \n",
              "2                                    NaN   \n",
              "3                     Accounting/Finance   \n",
              "4                                biotech   \n",
              "...                                  ...   \n",
              "9995                      Data Scientist   \n",
              "9996                      Data Scientist   \n",
              "9997  Data Scientist, Embedded Developer   \n",
              "9998                      Data Scientist   \n",
              "9999                      Data Scientist   \n",
              "\n",
              "                              company_name            city  \\\n",
              "0                  Farmers Insurance Group  Woodland Hills   \n",
              "1                           Luxoft USA Inc      Middletown   \n",
              "2     Cincinnati Bell Technology Solutions        New York   \n",
              "3                                BlackRock        New York   \n",
              "4                              CyberCoders       Charlotte   \n",
              "...                                    ...             ...   \n",
              "9995                               Upstart        Columbus   \n",
              "9996                           Realtor.com     Santa Clara   \n",
              "9997                            Apple Inc.      Pittsburgh   \n",
              "9998                           Realtor.com     Santa Clara   \n",
              "9999                           Realtor.com     Santa Clara   \n",
              "\n",
              "                        state country   inferred_city  inferred_state  ...  \\\n",
              "0                          CA     Usa  Woodland hills      California  ...   \n",
              "1                          NJ     Usa      Middletown      New jersey  ...   \n",
              "2                          NY     Usa        New york        New york  ...   \n",
              "3     NY 10055 (Midtown area)     Usa        New york        New york  ...   \n",
              "4                          NC     Usa       Charlotte  North carolina  ...   \n",
              "...                       ...     ...             ...             ...  ...   \n",
              "9995                      NaN      US        Columbus       Wisconsin  ...   \n",
              "9996                      NaN      US     Santa clara      New mexico  ...   \n",
              "9997                      NaN      US      Pittsburgh    Pennsylvania  ...   \n",
              "9998                      NaN      US     Santa clara      New mexico  ...   \n",
              "9999                      NaN      US     Santa clara      New mexico  ...   \n",
              "\n",
              "                                        job_description   job_type  \\\n",
              "0     Read what people are saying about working here...  Undefined   \n",
              "1     We have an immediate opening for a Sharp Data ...  Undefined   \n",
              "2     Candidates should have the following backgroun...  Full Time   \n",
              "3     Read what people are saying about working here...  Undefined   \n",
              "4     We are seeking an extraordinary Data Scientist...  Full Time   \n",
              "...                                                 ...        ...   \n",
              "9995  Join Upstart and help build the future of cred...  Full Time   \n",
              "9996  Data Scientist, (Staff or Principal) at realto...  Full Time   \n",
              "9997  Job Summary: Would you like to play a part in ...  Full Time   \n",
              "9998  Data Scientist, (Staff or Principal) at realto...  Full Time   \n",
              "9999  Data Scientist, (Staff or Principal) at realto...  Full Time   \n",
              "\n",
              "             salary_offered      job_board  geo            cursor  \\\n",
              "0                       NaN         indeed  usa  1549432819114777   \n",
              "1                       NaN           dice  usa  1549432819122106   \n",
              "2                       NaN           dice  usa  1549432819236156   \n",
              "3                       NaN         indeed  usa  1549432819259473   \n",
              "4                       NaN        monster  usa  1549436429015957   \n",
              "...                     ...            ...  ...               ...   \n",
              "9995  $100k - 135k | Equity  Stackoverflow  NaN  1569916870107016   \n",
              "9996                    NaN  Stackoverflow  NaN  1569916870211396   \n",
              "9997                    NaN  Stackoverflow  NaN  1569916870956579   \n",
              "9998                    NaN  Stackoverflow  NaN  1569916871226964   \n",
              "9999                    NaN  Stackoverflow  NaN  1569916871314055   \n",
              "\n",
              "     contact_email  contact_phone_number                           uniq_id  \\\n",
              "0              NaN                   NaN  3b6c6acfcba6135a31c83bd7ea493b18   \n",
              "1              NaN                   NaN  741727428839ae7ada852eebef29b0fe   \n",
              "2              NaN                   NaN  cdc9ef9a1de327ccdc19cc0d07dbbb37   \n",
              "3              NaN                   NaN  1c8541cd2c2c924f9391c7d3f526f64e   \n",
              "4              NaN                   NaN  445652a560a5441060857853cf267470   \n",
              "...            ...                   ...                               ...   \n",
              "9995           NaN                   NaN  e9f2ca58c7abcd4553a4a0be9602312e   \n",
              "9996           NaN                   NaN  efe05f2364ee3df943e952bc68ed95a7   \n",
              "9997           NaN                   NaN  b980054dbb6d3fe1c6a421a237d1495f   \n",
              "9998           NaN                   NaN  4b86da9d2b24b87ec3c815d9072ad616   \n",
              "9999           NaN                   NaN  4cbe57f790e3346d7154b68c9370b7ef   \n",
              "\n",
              "                                   html_job_description  \n",
              "0                                                   NaN  \n",
              "1                                                   NaN  \n",
              "2                                                   NaN  \n",
              "3                                                   NaN  \n",
              "4                                                   NaN  \n",
              "...                                                 ...  \n",
              "9995  <h2>About this job</h2>_x000D_\\n<p><span>Compe...  \n",
              "9996  <h2>About this job</h2>_x000D_\\n<p><span>Locat...  \n",
              "9997                                                NaN  \n",
              "9998  <h2>About this job</h2>_x000D_\\n<p><span>Locat...  \n",
              "9999  <h2>About this job</h2>_x000D_\\n<p><span>Locat...  \n",
              "\n",
              "[10000 rows x 22 columns]"
            ],
            "text/html": [
              "\n",
              "  <div id=\"df-f840a12c-7789-40b0-8605-80f5c5f9293c\">\n",
              "    <div class=\"colab-df-container\">\n",
              "      <div>\n",
              "<style scoped>\n",
              "    .dataframe tbody tr th:only-of-type {\n",
              "        vertical-align: middle;\n",
              "    }\n",
              "\n",
              "    .dataframe tbody tr th {\n",
              "        vertical-align: top;\n",
              "    }\n",
              "\n",
              "    .dataframe thead th {\n",
              "        text-align: right;\n",
              "    }\n",
              "</style>\n",
              "<table border=\"1\" class=\"dataframe\">\n",
              "  <thead>\n",
              "    <tr style=\"text-align: right;\">\n",
              "      <th></th>\n",
              "      <th>crawl_timestamp</th>\n",
              "      <th>url</th>\n",
              "      <th>job_title</th>\n",
              "      <th>category</th>\n",
              "      <th>company_name</th>\n",
              "      <th>city</th>\n",
              "      <th>state</th>\n",
              "      <th>country</th>\n",
              "      <th>inferred_city</th>\n",
              "      <th>inferred_state</th>\n",
              "      <th>...</th>\n",
              "      <th>job_description</th>\n",
              "      <th>job_type</th>\n",
              "      <th>salary_offered</th>\n",
              "      <th>job_board</th>\n",
              "      <th>geo</th>\n",
              "      <th>cursor</th>\n",
              "      <th>contact_email</th>\n",
              "      <th>contact_phone_number</th>\n",
              "      <th>uniq_id</th>\n",
              "      <th>html_job_description</th>\n",
              "    </tr>\n",
              "  </thead>\n",
              "  <tbody>\n",
              "    <tr>\n",
              "      <th>0</th>\n",
              "      <td>2019-02-06 06:26:22</td>\n",
              "      <td>https://www.indeed.com/viewjob?jk=fd83355c2b23...</td>\n",
              "      <td>Enterprise Data Scientist I</td>\n",
              "      <td>Accounting/Finance</td>\n",
              "      <td>Farmers Insurance Group</td>\n",
              "      <td>Woodland Hills</td>\n",
              "      <td>CA</td>\n",
              "      <td>Usa</td>\n",
              "      <td>Woodland hills</td>\n",
              "      <td>California</td>\n",
              "      <td>...</td>\n",
              "      <td>Read what people are saying about working here...</td>\n",
              "      <td>Undefined</td>\n",
              "      <td>NaN</td>\n",
              "      <td>indeed</td>\n",
              "      <td>usa</td>\n",
              "      <td>1549432819114777</td>\n",
              "      <td>NaN</td>\n",
              "      <td>NaN</td>\n",
              "      <td>3b6c6acfcba6135a31c83bd7ea493b18</td>\n",
              "      <td>NaN</td>\n",
              "    </tr>\n",
              "    <tr>\n",
              "      <th>1</th>\n",
              "      <td>2019-02-06 06:33:41</td>\n",
              "      <td>https://www.dice.com/jobs/detail/Data-Scientis...</td>\n",
              "      <td>Data Scientist</td>\n",
              "      <td>NaN</td>\n",
              "      <td>Luxoft USA Inc</td>\n",
              "      <td>Middletown</td>\n",
              "      <td>NJ</td>\n",
              "      <td>Usa</td>\n",
              "      <td>Middletown</td>\n",
              "      <td>New jersey</td>\n",
              "      <td>...</td>\n",
              "      <td>We have an immediate opening for a Sharp Data ...</td>\n",
              "      <td>Undefined</td>\n",
              "      <td>NaN</td>\n",
              "      <td>dice</td>\n",
              "      <td>usa</td>\n",
              "      <td>1549432819122106</td>\n",
              "      <td>NaN</td>\n",
              "      <td>NaN</td>\n",
              "      <td>741727428839ae7ada852eebef29b0fe</td>\n",
              "      <td>NaN</td>\n",
              "    </tr>\n",
              "    <tr>\n",
              "      <th>2</th>\n",
              "      <td>2019-02-06 06:33:35</td>\n",
              "      <td>https://www.dice.com/jobs/detail/Data-Scientis...</td>\n",
              "      <td>Data Scientist</td>\n",
              "      <td>NaN</td>\n",
              "      <td>Cincinnati Bell Technology Solutions</td>\n",
              "      <td>New York</td>\n",
              "      <td>NY</td>\n",
              "      <td>Usa</td>\n",
              "      <td>New york</td>\n",
              "      <td>New york</td>\n",
              "      <td>...</td>\n",
              "      <td>Candidates should have the following backgroun...</td>\n",
              "      <td>Full Time</td>\n",
              "      <td>NaN</td>\n",
              "      <td>dice</td>\n",
              "      <td>usa</td>\n",
              "      <td>1549432819236156</td>\n",
              "      <td>NaN</td>\n",
              "      <td>NaN</td>\n",
              "      <td>cdc9ef9a1de327ccdc19cc0d07dbbb37</td>\n",
              "      <td>NaN</td>\n",
              "    </tr>\n",
              "    <tr>\n",
              "      <th>3</th>\n",
              "      <td>2019-02-06 06:33:42</td>\n",
              "      <td>https://www.indeed.com/viewjob?jk=841edd86ead2...</td>\n",
              "      <td>Data Scientist, Aladdin Wealth Tech, Associate...</td>\n",
              "      <td>Accounting/Finance</td>\n",
              "      <td>BlackRock</td>\n",
              "      <td>New York</td>\n",
              "      <td>NY 10055 (Midtown area)</td>\n",
              "      <td>Usa</td>\n",
              "      <td>New york</td>\n",
              "      <td>New york</td>\n",
              "      <td>...</td>\n",
              "      <td>Read what people are saying about working here...</td>\n",
              "      <td>Undefined</td>\n",
              "      <td>NaN</td>\n",
              "      <td>indeed</td>\n",
              "      <td>usa</td>\n",
              "      <td>1549432819259473</td>\n",
              "      <td>NaN</td>\n",
              "      <td>NaN</td>\n",
              "      <td>1c8541cd2c2c924f9391c7d3f526f64e</td>\n",
              "      <td>NaN</td>\n",
              "    </tr>\n",
              "    <tr>\n",
              "      <th>4</th>\n",
              "      <td>2019-02-06 06:48:23</td>\n",
              "      <td>https://job-openings.monster.com/senior-data-s...</td>\n",
              "      <td>Senior Data Scientist</td>\n",
              "      <td>biotech</td>\n",
              "      <td>CyberCoders</td>\n",
              "      <td>Charlotte</td>\n",
              "      <td>NC</td>\n",
              "      <td>Usa</td>\n",
              "      <td>Charlotte</td>\n",
              "      <td>North carolina</td>\n",
              "      <td>...</td>\n",
              "      <td>We are seeking an extraordinary Data Scientist...</td>\n",
              "      <td>Full Time</td>\n",
              "      <td>NaN</td>\n",
              "      <td>monster</td>\n",
              "      <td>usa</td>\n",
              "      <td>1549436429015957</td>\n",
              "      <td>NaN</td>\n",
              "      <td>NaN</td>\n",
              "      <td>445652a560a5441060857853cf267470</td>\n",
              "      <td>NaN</td>\n",
              "    </tr>\n",
              "    <tr>\n",
              "      <th>...</th>\n",
              "      <td>...</td>\n",
              "      <td>...</td>\n",
              "      <td>...</td>\n",
              "      <td>...</td>\n",
              "      <td>...</td>\n",
              "      <td>...</td>\n",
              "      <td>...</td>\n",
              "      <td>...</td>\n",
              "      <td>...</td>\n",
              "      <td>...</td>\n",
              "      <td>...</td>\n",
              "      <td>...</td>\n",
              "      <td>...</td>\n",
              "      <td>...</td>\n",
              "      <td>...</td>\n",
              "      <td>...</td>\n",
              "      <td>...</td>\n",
              "      <td>...</td>\n",
              "      <td>...</td>\n",
              "      <td>...</td>\n",
              "      <td>...</td>\n",
              "    </tr>\n",
              "    <tr>\n",
              "      <th>9995</th>\n",
              "      <td>2019-09-29 02:55:15</td>\n",
              "      <td>https://stackoverflow.com/jobs/271829</td>\n",
              "      <td>Data Scientist</td>\n",
              "      <td>Data Scientist</td>\n",
              "      <td>Upstart</td>\n",
              "      <td>Columbus</td>\n",
              "      <td>NaN</td>\n",
              "      <td>US</td>\n",
              "      <td>Columbus</td>\n",
              "      <td>Wisconsin</td>\n",
              "      <td>...</td>\n",
              "      <td>Join Upstart and help build the future of cred...</td>\n",
              "      <td>Full Time</td>\n",
              "      <td>$100k - 135k | Equity</td>\n",
              "      <td>Stackoverflow</td>\n",
              "      <td>NaN</td>\n",
              "      <td>1569916870107016</td>\n",
              "      <td>NaN</td>\n",
              "      <td>NaN</td>\n",
              "      <td>e9f2ca58c7abcd4553a4a0be9602312e</td>\n",
              "      <td>&lt;h2&gt;About this job&lt;/h2&gt;_x000D_\\n&lt;p&gt;&lt;span&gt;Compe...</td>\n",
              "    </tr>\n",
              "    <tr>\n",
              "      <th>9996</th>\n",
              "      <td>2019-10-01 02:50:33</td>\n",
              "      <td>https://stackoverflow.com/jobs/283895</td>\n",
              "      <td>Data Scientist, (Staff or Principal)</td>\n",
              "      <td>Data Scientist</td>\n",
              "      <td>Realtor.com</td>\n",
              "      <td>Santa Clara</td>\n",
              "      <td>NaN</td>\n",
              "      <td>US</td>\n",
              "      <td>Santa clara</td>\n",
              "      <td>New mexico</td>\n",
              "      <td>...</td>\n",
              "      <td>Data Scientist, (Staff or Principal) at realto...</td>\n",
              "      <td>Full Time</td>\n",
              "      <td>NaN</td>\n",
              "      <td>Stackoverflow</td>\n",
              "      <td>NaN</td>\n",
              "      <td>1569916870211396</td>\n",
              "      <td>NaN</td>\n",
              "      <td>NaN</td>\n",
              "      <td>efe05f2364ee3df943e952bc68ed95a7</td>\n",
              "      <td>&lt;h2&gt;About this job&lt;/h2&gt;_x000D_\\n&lt;p&gt;&lt;span&gt;Locat...</td>\n",
              "    </tr>\n",
              "    <tr>\n",
              "      <th>9997</th>\n",
              "      <td>2019-09-26 02:53:10</td>\n",
              "      <td>https://stackoverflow.com/jobs/293326</td>\n",
              "      <td>Siri - Embedded Data Scientist, Data Organization</td>\n",
              "      <td>Data Scientist, Embedded Developer</td>\n",
              "      <td>Apple Inc.</td>\n",
              "      <td>Pittsburgh</td>\n",
              "      <td>NaN</td>\n",
              "      <td>US</td>\n",
              "      <td>Pittsburgh</td>\n",
              "      <td>Pennsylvania</td>\n",
              "      <td>...</td>\n",
              "      <td>Job Summary: Would you like to play a part in ...</td>\n",
              "      <td>Full Time</td>\n",
              "      <td>NaN</td>\n",
              "      <td>Stackoverflow</td>\n",
              "      <td>NaN</td>\n",
              "      <td>1569916870956579</td>\n",
              "      <td>NaN</td>\n",
              "      <td>NaN</td>\n",
              "      <td>b980054dbb6d3fe1c6a421a237d1495f</td>\n",
              "      <td>NaN</td>\n",
              "    </tr>\n",
              "    <tr>\n",
              "      <th>9998</th>\n",
              "      <td>2019-09-27 02:41:31</td>\n",
              "      <td>https://stackoverflow.com/jobs/283895</td>\n",
              "      <td>Data Scientist, (Staff or Principal)</td>\n",
              "      <td>Data Scientist</td>\n",
              "      <td>Realtor.com</td>\n",
              "      <td>Santa Clara</td>\n",
              "      <td>NaN</td>\n",
              "      <td>US</td>\n",
              "      <td>Santa clara</td>\n",
              "      <td>New mexico</td>\n",
              "      <td>...</td>\n",
              "      <td>Data Scientist, (Staff or Principal) at realto...</td>\n",
              "      <td>Full Time</td>\n",
              "      <td>NaN</td>\n",
              "      <td>Stackoverflow</td>\n",
              "      <td>NaN</td>\n",
              "      <td>1569916871226964</td>\n",
              "      <td>NaN</td>\n",
              "      <td>NaN</td>\n",
              "      <td>4b86da9d2b24b87ec3c815d9072ad616</td>\n",
              "      <td>&lt;h2&gt;About this job&lt;/h2&gt;_x000D_\\n&lt;p&gt;&lt;span&gt;Locat...</td>\n",
              "    </tr>\n",
              "    <tr>\n",
              "      <th>9999</th>\n",
              "      <td>2019-09-27 02:53:10</td>\n",
              "      <td>https://stackoverflow.com/jobs/283895</td>\n",
              "      <td>Data Scientist, (Staff or Principal)</td>\n",
              "      <td>Data Scientist</td>\n",
              "      <td>Realtor.com</td>\n",
              "      <td>Santa Clara</td>\n",
              "      <td>NaN</td>\n",
              "      <td>US</td>\n",
              "      <td>Santa clara</td>\n",
              "      <td>New mexico</td>\n",
              "      <td>...</td>\n",
              "      <td>Data Scientist, (Staff or Principal) at realto...</td>\n",
              "      <td>Full Time</td>\n",
              "      <td>NaN</td>\n",
              "      <td>Stackoverflow</td>\n",
              "      <td>NaN</td>\n",
              "      <td>1569916871314055</td>\n",
              "      <td>NaN</td>\n",
              "      <td>NaN</td>\n",
              "      <td>4cbe57f790e3346d7154b68c9370b7ef</td>\n",
              "      <td>&lt;h2&gt;About this job&lt;/h2&gt;_x000D_\\n&lt;p&gt;&lt;span&gt;Locat...</td>\n",
              "    </tr>\n",
              "  </tbody>\n",
              "</table>\n",
              "<p>10000 rows × 22 columns</p>\n",
              "</div>\n",
              "      <button class=\"colab-df-convert\" onclick=\"convertToInteractive('df-f840a12c-7789-40b0-8605-80f5c5f9293c')\"\n",
              "              title=\"Convert this dataframe to an interactive table.\"\n",
              "              style=\"display:none;\">\n",
              "        \n",
              "  <svg xmlns=\"http://www.w3.org/2000/svg\" height=\"24px\"viewBox=\"0 0 24 24\"\n",
              "       width=\"24px\">\n",
              "    <path d=\"M0 0h24v24H0V0z\" fill=\"none\"/>\n",
              "    <path d=\"M18.56 5.44l.94 2.06.94-2.06 2.06-.94-2.06-.94-.94-2.06-.94 2.06-2.06.94zm-11 1L8.5 8.5l.94-2.06 2.06-.94-2.06-.94L8.5 2.5l-.94 2.06-2.06.94zm10 10l.94 2.06.94-2.06 2.06-.94-2.06-.94-.94-2.06-.94 2.06-2.06.94z\"/><path d=\"M17.41 7.96l-1.37-1.37c-.4-.4-.92-.59-1.43-.59-.52 0-1.04.2-1.43.59L10.3 9.45l-7.72 7.72c-.78.78-.78 2.05 0 2.83L4 21.41c.39.39.9.59 1.41.59.51 0 1.02-.2 1.41-.59l7.78-7.78 2.81-2.81c.8-.78.8-2.07 0-2.86zM5.41 20L4 18.59l7.72-7.72 1.47 1.35L5.41 20z\"/>\n",
              "  </svg>\n",
              "      </button>\n",
              "      \n",
              "  <style>\n",
              "    .colab-df-container {\n",
              "      display:flex;\n",
              "      flex-wrap:wrap;\n",
              "      gap: 12px;\n",
              "    }\n",
              "\n",
              "    .colab-df-convert {\n",
              "      background-color: #E8F0FE;\n",
              "      border: none;\n",
              "      border-radius: 50%;\n",
              "      cursor: pointer;\n",
              "      display: none;\n",
              "      fill: #1967D2;\n",
              "      height: 32px;\n",
              "      padding: 0 0 0 0;\n",
              "      width: 32px;\n",
              "    }\n",
              "\n",
              "    .colab-df-convert:hover {\n",
              "      background-color: #E2EBFA;\n",
              "      box-shadow: 0px 1px 2px rgba(60, 64, 67, 0.3), 0px 1px 3px 1px rgba(60, 64, 67, 0.15);\n",
              "      fill: #174EA6;\n",
              "    }\n",
              "\n",
              "    [theme=dark] .colab-df-convert {\n",
              "      background-color: #3B4455;\n",
              "      fill: #D2E3FC;\n",
              "    }\n",
              "\n",
              "    [theme=dark] .colab-df-convert:hover {\n",
              "      background-color: #434B5C;\n",
              "      box-shadow: 0px 1px 3px 1px rgba(0, 0, 0, 0.15);\n",
              "      filter: drop-shadow(0px 1px 2px rgba(0, 0, 0, 0.3));\n",
              "      fill: #FFFFFF;\n",
              "    }\n",
              "  </style>\n",
              "\n",
              "      <script>\n",
              "        const buttonEl =\n",
              "          document.querySelector('#df-f840a12c-7789-40b0-8605-80f5c5f9293c button.colab-df-convert');\n",
              "        buttonEl.style.display =\n",
              "          google.colab.kernel.accessAllowed ? 'block' : 'none';\n",
              "\n",
              "        async function convertToInteractive(key) {\n",
              "          const element = document.querySelector('#df-f840a12c-7789-40b0-8605-80f5c5f9293c');\n",
              "          const dataTable =\n",
              "            await google.colab.kernel.invokeFunction('convertToInteractive',\n",
              "                                                     [key], {});\n",
              "          if (!dataTable) return;\n",
              "\n",
              "          const docLinkHtml = 'Like what you see? Visit the ' +\n",
              "            '<a target=\"_blank\" href=https://colab.research.google.com/notebooks/data_table.ipynb>data table notebook</a>'\n",
              "            + ' to learn more about interactive tables.';\n",
              "          element.innerHTML = '';\n",
              "          dataTable['output_type'] = 'display_data';\n",
              "          await google.colab.output.renderOutput(dataTable, element);\n",
              "          const docLink = document.createElement('div');\n",
              "          docLink.innerHTML = docLinkHtml;\n",
              "          element.appendChild(docLink);\n",
              "        }\n",
              "      </script>\n",
              "    </div>\n",
              "  </div>\n",
              "  "
            ]
          },
          "metadata": {},
          "execution_count": 5
        }
      ]
    },
    {
      "cell_type": "markdown",
      "source": [
        "#### Data Preparation"
      ],
      "metadata": {
        "id": "qzxJbTEipiC-"
      }
    },
    {
      "cell_type": "code",
      "source": [
        "c = df[\"job_description\"].iloc[0:100] #Change here the sample size\n",
        "corpus = list(c.dropna())\n",
        "#corpus"
      ],
      "metadata": {
        "id": "LKQLyALZpYA8"
      },
      "execution_count": 275,
      "outputs": []
    },
    {
      "cell_type": "markdown",
      "source": [
        "#### Transform words into vectors"
      ],
      "metadata": {
        "id": "hVkLL77QppCg"
      }
    },
    {
      "cell_type": "code",
      "source": [
        "vectorizer = CountVectorizer()\n",
        "X = vectorizer.fit_transform(corpus[0:2])\n",
        "c = pd.DataFrame(cosine_similarity(X))\n",
        "y = pd.melt(c)\n",
        "y"
      ],
      "metadata": {
        "colab": {
          "base_uri": "https://localhost:8080/",
          "height": 175
        },
        "id": "yZeRRQEeppMo",
        "outputId": "0cf22829-e132-4736-b155-39764da15ebe"
      },
      "execution_count": 218,
      "outputs": [
        {
          "output_type": "execute_result",
          "data": {
            "text/plain": [
              "   variable    value\n",
              "0         0  1.00000\n",
              "1         0  0.50567\n",
              "2         1  0.50567\n",
              "3         1  1.00000"
            ],
            "text/html": [
              "\n",
              "  <div id=\"df-668e134b-4ded-4648-aff1-4ec1c6a78e73\">\n",
              "    <div class=\"colab-df-container\">\n",
              "      <div>\n",
              "<style scoped>\n",
              "    .dataframe tbody tr th:only-of-type {\n",
              "        vertical-align: middle;\n",
              "    }\n",
              "\n",
              "    .dataframe tbody tr th {\n",
              "        vertical-align: top;\n",
              "    }\n",
              "\n",
              "    .dataframe thead th {\n",
              "        text-align: right;\n",
              "    }\n",
              "</style>\n",
              "<table border=\"1\" class=\"dataframe\">\n",
              "  <thead>\n",
              "    <tr style=\"text-align: right;\">\n",
              "      <th></th>\n",
              "      <th>variable</th>\n",
              "      <th>value</th>\n",
              "    </tr>\n",
              "  </thead>\n",
              "  <tbody>\n",
              "    <tr>\n",
              "      <th>0</th>\n",
              "      <td>0</td>\n",
              "      <td>1.00000</td>\n",
              "    </tr>\n",
              "    <tr>\n",
              "      <th>1</th>\n",
              "      <td>0</td>\n",
              "      <td>0.50567</td>\n",
              "    </tr>\n",
              "    <tr>\n",
              "      <th>2</th>\n",
              "      <td>1</td>\n",
              "      <td>0.50567</td>\n",
              "    </tr>\n",
              "    <tr>\n",
              "      <th>3</th>\n",
              "      <td>1</td>\n",
              "      <td>1.00000</td>\n",
              "    </tr>\n",
              "  </tbody>\n",
              "</table>\n",
              "</div>\n",
              "      <button class=\"colab-df-convert\" onclick=\"convertToInteractive('df-668e134b-4ded-4648-aff1-4ec1c6a78e73')\"\n",
              "              title=\"Convert this dataframe to an interactive table.\"\n",
              "              style=\"display:none;\">\n",
              "        \n",
              "  <svg xmlns=\"http://www.w3.org/2000/svg\" height=\"24px\"viewBox=\"0 0 24 24\"\n",
              "       width=\"24px\">\n",
              "    <path d=\"M0 0h24v24H0V0z\" fill=\"none\"/>\n",
              "    <path d=\"M18.56 5.44l.94 2.06.94-2.06 2.06-.94-2.06-.94-.94-2.06-.94 2.06-2.06.94zm-11 1L8.5 8.5l.94-2.06 2.06-.94-2.06-.94L8.5 2.5l-.94 2.06-2.06.94zm10 10l.94 2.06.94-2.06 2.06-.94-2.06-.94-.94-2.06-.94 2.06-2.06.94z\"/><path d=\"M17.41 7.96l-1.37-1.37c-.4-.4-.92-.59-1.43-.59-.52 0-1.04.2-1.43.59L10.3 9.45l-7.72 7.72c-.78.78-.78 2.05 0 2.83L4 21.41c.39.39.9.59 1.41.59.51 0 1.02-.2 1.41-.59l7.78-7.78 2.81-2.81c.8-.78.8-2.07 0-2.86zM5.41 20L4 18.59l7.72-7.72 1.47 1.35L5.41 20z\"/>\n",
              "  </svg>\n",
              "      </button>\n",
              "      \n",
              "  <style>\n",
              "    .colab-df-container {\n",
              "      display:flex;\n",
              "      flex-wrap:wrap;\n",
              "      gap: 12px;\n",
              "    }\n",
              "\n",
              "    .colab-df-convert {\n",
              "      background-color: #E8F0FE;\n",
              "      border: none;\n",
              "      border-radius: 50%;\n",
              "      cursor: pointer;\n",
              "      display: none;\n",
              "      fill: #1967D2;\n",
              "      height: 32px;\n",
              "      padding: 0 0 0 0;\n",
              "      width: 32px;\n",
              "    }\n",
              "\n",
              "    .colab-df-convert:hover {\n",
              "      background-color: #E2EBFA;\n",
              "      box-shadow: 0px 1px 2px rgba(60, 64, 67, 0.3), 0px 1px 3px 1px rgba(60, 64, 67, 0.15);\n",
              "      fill: #174EA6;\n",
              "    }\n",
              "\n",
              "    [theme=dark] .colab-df-convert {\n",
              "      background-color: #3B4455;\n",
              "      fill: #D2E3FC;\n",
              "    }\n",
              "\n",
              "    [theme=dark] .colab-df-convert:hover {\n",
              "      background-color: #434B5C;\n",
              "      box-shadow: 0px 1px 3px 1px rgba(0, 0, 0, 0.15);\n",
              "      filter: drop-shadow(0px 1px 2px rgba(0, 0, 0, 0.3));\n",
              "      fill: #FFFFFF;\n",
              "    }\n",
              "  </style>\n",
              "\n",
              "      <script>\n",
              "        const buttonEl =\n",
              "          document.querySelector('#df-668e134b-4ded-4648-aff1-4ec1c6a78e73 button.colab-df-convert');\n",
              "        buttonEl.style.display =\n",
              "          google.colab.kernel.accessAllowed ? 'block' : 'none';\n",
              "\n",
              "        async function convertToInteractive(key) {\n",
              "          const element = document.querySelector('#df-668e134b-4ded-4648-aff1-4ec1c6a78e73');\n",
              "          const dataTable =\n",
              "            await google.colab.kernel.invokeFunction('convertToInteractive',\n",
              "                                                     [key], {});\n",
              "          if (!dataTable) return;\n",
              "\n",
              "          const docLinkHtml = 'Like what you see? Visit the ' +\n",
              "            '<a target=\"_blank\" href=https://colab.research.google.com/notebooks/data_table.ipynb>data table notebook</a>'\n",
              "            + ' to learn more about interactive tables.';\n",
              "          element.innerHTML = '';\n",
              "          dataTable['output_type'] = 'display_data';\n",
              "          await google.colab.output.renderOutput(dataTable, element);\n",
              "          const docLink = document.createElement('div');\n",
              "          docLink.innerHTML = docLinkHtml;\n",
              "          element.appendChild(docLink);\n",
              "        }\n",
              "      </script>\n",
              "    </div>\n",
              "  </div>\n",
              "  "
            ]
          },
          "metadata": {},
          "execution_count": 218
        }
      ]
    },
    {
      "cell_type": "markdown",
      "source": [
        "##### Cosine similarity"
      ],
      "metadata": {
        "id": "GuQAJMtIqDsg"
      }
    },
    {
      "cell_type": "code",
      "source": [
        "#cosine_similarity(dtm)"
      ],
      "metadata": {
        "id": "8GXnLRRApunp"
      },
      "execution_count": null,
      "outputs": []
    },
    {
      "cell_type": "markdown",
      "source": [
        "#### Function\n",
        "A small function to find similarity in feature job description"
      ],
      "metadata": {
        "id": "ehsLyrc2pucp"
      }
    },
    {
      "cell_type": "code",
      "source": [
        "def test_method(sentences):\n",
        "\n",
        "\n",
        "  count_vec = CountVectorizer() #vectorizer \n",
        "\n",
        "              \n",
        "  vectors = count_vec.fit_transform(sentences).toarray() # transform words into vectors\n",
        "  cosine = cosine_similarity(vectors) #use cosine similarity on vectors\n",
        "\n",
        "\n",
        "\n",
        "  similarity_df = pd.DataFrame(cosine) #save matrix in pandas dataframe to use melt method on it\n",
        "\n",
        "  transform_df = pd.melt(similarity_df) #reshape matrix into column of dataframe\n",
        "\n",
        "  similarity = transform_df[\"value\"].values[1] #get value\n",
        "\n",
        "  #print(transform_df[\"value\"]) #for debugging\n",
        "  \n",
        "\n",
        "\n",
        "  #just for testing \n",
        "\n",
        "  if similarity > 0.7:\n",
        "    return 6\n",
        "\n",
        "  if similarity < 0.7 and similarity >= 0.4:\n",
        "    return 5\n",
        "\n",
        "  elif similarity < 0.4 and similarity >= 0.1:\n",
        "    return 3\n",
        "\n",
        "  elif similarity < 0.1:\n",
        "    return 0\n",
        "\n",
        "\n",
        "\n",
        "\n"
      ],
      "metadata": {
        "id": "TlBK8tTYqG85"
      },
      "execution_count": 282,
      "outputs": []
    },
    {
      "cell_type": "code",
      "source": [
        "test = test_method(corpus[0:2])\n",
        "test"
      ],
      "metadata": {
        "colab": {
          "base_uri": "https://localhost:8080/"
        },
        "id": "9i6aYnlXqHB-",
        "outputId": "a38f6bed-9e57-4b77-bd7c-5882fd2672c6"
      },
      "execution_count": 281,
      "outputs": [
        {
          "output_type": "execute_result",
          "data": {
            "text/plain": [
              "5"
            ]
          },
          "metadata": {},
          "execution_count": 281
        }
      ]
    },
    {
      "cell_type": "markdown",
      "source": [
        "---------------"
      ],
      "metadata": {
        "id": "ZDhmdfYCCaOv"
      }
    },
    {
      "cell_type": "markdown",
      "source": [
        "#### small Evaluation "
      ],
      "metadata": {
        "id": "92WVRVgeu5Z2"
      }
    },
    {
      "cell_type": "markdown",
      "source": [
        "Teil 1. Zwei exakte Sätze    \n",
        "Ground Truth: 6   \n",
        "Ergebnis: 6  \n"
      ],
      "metadata": {
        "id": "qra67P6jvb0b"
      }
    },
    {
      "cell_type": "code",
      "source": [
        "sentenes = [\"Hello, my name is josh Starmer\", \"Hello my name is josh Starmer\"]\n",
        "test_method(sentenes)"
      ],
      "metadata": {
        "colab": {
          "base_uri": "https://localhost:8080/"
        },
        "id": "9eaVAseAsK_V",
        "outputId": "495561b5-0d1c-40cb-97a9-3cc4b8a0919d"
      },
      "execution_count": 91,
      "outputs": [
        {
          "output_type": "stream",
          "name": "stdout",
          "text": [
            "0    1.0\n",
            "1    1.0\n",
            "2    1.0\n",
            "3    1.0\n",
            "Name: value, dtype: float64\n"
          ]
        },
        {
          "output_type": "execute_result",
          "data": {
            "text/plain": [
              "6"
            ]
          },
          "metadata": {},
          "execution_count": 91
        }
      ]
    },
    {
      "cell_type": "markdown",
      "source": [
        "Teil 2. Zwei unterschiedliche Sätze mit keinen ähnlicher Strucktur   \n",
        "Ground Truth: 0   \n",
        "Ergebnis: 0  "
      ],
      "metadata": {
        "id": "A7ZhoD73CEkh"
      }
    },
    {
      "cell_type": "code",
      "source": [
        "sentenes = [\"Hello, my name is josh Starmer\", \"Your are stupid\"]\n",
        "test_method(sentenes)"
      ],
      "metadata": {
        "colab": {
          "base_uri": "https://localhost:8080/"
        },
        "id": "vHU8HSUvwRxu",
        "outputId": "d046ee55-c083-49d9-da08-1ca72d84ec9e"
      },
      "execution_count": 92,
      "outputs": [
        {
          "output_type": "stream",
          "name": "stdout",
          "text": [
            "0    1.0\n",
            "1    0.0\n",
            "2    0.0\n",
            "3    1.0\n",
            "Name: value, dtype: float64\n"
          ]
        },
        {
          "output_type": "execute_result",
          "data": {
            "text/plain": [
              "0"
            ]
          },
          "metadata": {},
          "execution_count": 92
        }
      ]
    },
    {
      "cell_type": "markdown",
      "source": [
        "Teil 3. Zwei unterschiedliche Sätze mit identischer Satzstrucktur   \n",
        "Ground Truth: 5/6       \n",
        "Ergebnis: 6  "
      ],
      "metadata": {
        "id": "yLv3OcAdCVG7"
      }
    },
    {
      "cell_type": "code",
      "source": [
        "sentenes = [\"Hello, my name is josh Starmer\", \"Hello my name is Betty\"]\n",
        "test_method(sentenes)"
      ],
      "metadata": {
        "colab": {
          "base_uri": "https://localhost:8080/"
        },
        "id": "MYgeX7EBu5Mo",
        "outputId": "f7dcb5d5-2eca-4a8f-8dad-488924dd8d39"
      },
      "execution_count": 93,
      "outputs": [
        {
          "output_type": "stream",
          "name": "stdout",
          "text": [
            "0    1.000000\n",
            "1    0.730297\n",
            "2    0.730297\n",
            "3    1.000000\n",
            "Name: value, dtype: float64\n"
          ]
        },
        {
          "output_type": "execute_result",
          "data": {
            "text/plain": [
              "6"
            ]
          },
          "metadata": {},
          "execution_count": 93
        }
      ]
    },
    {
      "cell_type": "markdown",
      "source": [
        "Teil 4. Zwei identische Sätze mit semantischer Ähnlichkeit   \n",
        "Ground Truth: 6   \n",
        "Ergebnis: 3 ?  "
      ],
      "metadata": {
        "id": "ggF8WW1kCZYb"
      }
    },
    {
      "cell_type": "code",
      "source": [
        "sentenes = [\"Hello, my name is josh Starmer\", \"Hey whats up? Here ist Josh starmer\"]\n",
        "test_method(sentenes)"
      ],
      "metadata": {
        "colab": {
          "base_uri": "https://localhost:8080/"
        },
        "id": "Z7YThf3oxj2k",
        "outputId": "10d1aa11-1ddd-46fd-e2b6-ef6253e7fee0"
      },
      "execution_count": 96,
      "outputs": [
        {
          "output_type": "stream",
          "name": "stdout",
          "text": [
            "0    1.000000\n",
            "1    0.308607\n",
            "2    0.308607\n",
            "3    1.000000\n",
            "Name: value, dtype: float64\n"
          ]
        },
        {
          "output_type": "execute_result",
          "data": {
            "text/plain": [
              "3"
            ]
          },
          "metadata": {},
          "execution_count": 96
        }
      ]
    },
    {
      "cell_type": "markdown",
      "source": [
        "Teil 5. Zwei identische Sätze mit semantischer Ähnlichkeit   \n",
        "Ground Truth: 6   \n",
        "Ergebnis: 6  "
      ],
      "metadata": {
        "id": "0U_dkW79Dcbg"
      }
    },
    {
      "cell_type": "code",
      "source": [
        "sentenes = [\"Hello, my name is josh Starmer\", \"Hey whats up, my name is josh Starmer\"]\n",
        "test_method(sentenes)"
      ],
      "metadata": {
        "colab": {
          "base_uri": "https://localhost:8080/"
        },
        "id": "dsgjmAqkxpbr",
        "outputId": "a4f4d2d5-eeb3-40a3-a42a-4d4d4703cd63"
      },
      "execution_count": 97,
      "outputs": [
        {
          "output_type": "stream",
          "name": "stdout",
          "text": [
            "0    1.000000\n",
            "1    0.721688\n",
            "2    0.721688\n",
            "3    1.000000\n",
            "Name: value, dtype: float64\n"
          ]
        },
        {
          "output_type": "execute_result",
          "data": {
            "text/plain": [
              "6"
            ]
          },
          "metadata": {},
          "execution_count": 97
        }
      ]
    },
    {
      "cell_type": "markdown",
      "source": [
        "Teil 6. Zwei identische Sätze mit semantischer Ähnlichkeit   \n",
        "Ground Truth: 6   \n",
        "Ergebnis: 6  "
      ],
      "metadata": {
        "id": "D6WMMj4wDp19"
      }
    },
    {
      "cell_type": "code",
      "source": [
        "sentences = ['Hi, how are you?', 'Hey what\\'s up?']\n",
        "test_method(sentenes)"
      ],
      "metadata": {
        "colab": {
          "base_uri": "https://localhost:8080/"
        },
        "id": "fm9Yo_fIxw7b",
        "outputId": "b17626f7-3b41-46bd-9623-fb494fa4bfb7"
      },
      "execution_count": 79,
      "outputs": [
        {
          "output_type": "stream",
          "name": "stdout",
          "text": [
            "0    1.000000\n",
            "1    0.721688\n",
            "2    0.721688\n",
            "3    1.000000\n",
            "Name: value, dtype: float64\n"
          ]
        },
        {
          "output_type": "execute_result",
          "data": {
            "text/plain": [
              "6"
            ]
          },
          "metadata": {},
          "execution_count": 79
        }
      ]
    },
    {
      "cell_type": "markdown",
      "source": [
        "---------------------"
      ],
      "metadata": {
        "id": "90h1b_bTEGUc"
      }
    },
    {
      "cell_type": "markdown",
      "source": [
        "#### Small Evaluation with (Tf-idf Vektorizer)"
      ],
      "metadata": {
        "id": "3aFT7m1CytI7"
      }
    },
    {
      "cell_type": "code",
      "source": [
        "def test_method2(sentences):\n",
        "\n",
        "  point = 0\n",
        "\n",
        "  count_vec = TfidfVectorizer(use_idf=True) # tfidvectorizer\n",
        "\n",
        "              \n",
        "  vectors = count_vec.fit_transform(sentences).toarray() #may turn sentences in list\n",
        "  cosine = cosine_similarity(vectors) #use cosine similarity on vectors\n",
        "\n",
        "\n",
        "\n",
        "  similarity_df = pd.DataFrame(cosine) #save matrix in pandas dataframe to use melt method on it\n",
        "\n",
        "  transform_df = pd.melt(similarity_df) #reshape matrix into column of dataframe\n",
        "\n",
        "  similarity = transform_df[\"value\"].values[1] #get value\n",
        "\n",
        "\n",
        "  #print(transform_df[\"value\"]) #for debugging\n",
        "  \n",
        "\n",
        "\n",
        "  #just for testing (not finished yet)\n",
        "\n",
        "  if similarity > 0.7:\n",
        "    return 6\n",
        "\n",
        "  if similarity < 0.7 and similarity >= 0.4:\n",
        "    return 5\n",
        "\n",
        "  elif similarity < 0.4 and similarity >= 0.1:\n",
        "    return 3\n",
        "\n",
        "  elif similarity < 0.1:\n",
        "    return 0"
      ],
      "metadata": {
        "id": "wekTxpnVywfU"
      },
      "execution_count": 284,
      "outputs": []
    },
    {
      "cell_type": "markdown",
      "source": [
        "Zwei Jop-posts descriptions:"
      ],
      "metadata": {
        "id": "r6xk5OOlD3R0"
      }
    },
    {
      "cell_type": "code",
      "source": [
        "test = test_method2(corpus[0:2])\n",
        "test"
      ],
      "metadata": {
        "colab": {
          "base_uri": "https://localhost:8080/"
        },
        "id": "y99PP-Ncy5xI",
        "outputId": "bd68aed6-514c-4629-8103-5c2ff4e3d25d"
      },
      "execution_count": 283,
      "outputs": [
        {
          "output_type": "execute_result",
          "data": {
            "text/plain": [
              "3"
            ]
          },
          "metadata": {},
          "execution_count": 283
        }
      ]
    },
    {
      "cell_type": "markdown",
      "source": [
        "Teil 1. Zwei exakte Sätze    \n",
        "Ground Truth: 6   \n",
        "Ergebnis: 6  "
      ],
      "metadata": {
        "id": "BeE-a4EyENeE"
      }
    },
    {
      "cell_type": "code",
      "source": [
        "sentenes = [\"Hello, my name is josh Starmer\", \"Hello my name is josh Starmer\"]\n",
        "test_method2(sentenes)"
      ],
      "metadata": {
        "colab": {
          "base_uri": "https://localhost:8080/"
        },
        "id": "6K8i-U82y-iq",
        "outputId": "036f0ff3-1612-444d-b38c-0ecbca4d0993"
      },
      "execution_count": 128,
      "outputs": [
        {
          "output_type": "stream",
          "name": "stdout",
          "text": [
            "0    1.0\n",
            "1    1.0\n",
            "2    1.0\n",
            "3    1.0\n",
            "Name: value, dtype: float64\n"
          ]
        },
        {
          "output_type": "execute_result",
          "data": {
            "text/plain": [
              "6"
            ]
          },
          "metadata": {},
          "execution_count": 128
        }
      ]
    },
    {
      "cell_type": "markdown",
      "source": [
        "Teil 2. Zwei unterschiedliche Sätze mit keinen ähnlicher Strucktur   \n",
        "Ground Truth: 0   \n",
        "Ergebnis: 0  "
      ],
      "metadata": {
        "id": "MQ0_K4yVEcwx"
      }
    },
    {
      "cell_type": "code",
      "source": [
        "sentenes = [\"Hello, my name is josh Starmer\", \"Your are stupid\"]\n",
        "test_method2(sentenes)"
      ],
      "metadata": {
        "colab": {
          "base_uri": "https://localhost:8080/"
        },
        "outputId": "d8c970da-4745-44ea-8d0d-5e8c25f407e9",
        "id": "hs7l0BktEcwy"
      },
      "execution_count": 129,
      "outputs": [
        {
          "output_type": "stream",
          "name": "stdout",
          "text": [
            "0    1.0\n",
            "1    0.0\n",
            "2    0.0\n",
            "3    1.0\n",
            "Name: value, dtype: float64\n"
          ]
        },
        {
          "output_type": "execute_result",
          "data": {
            "text/plain": [
              "0"
            ]
          },
          "metadata": {},
          "execution_count": 129
        }
      ]
    },
    {
      "cell_type": "markdown",
      "source": [
        "Teil 3. Zwei unterschiedliche Sätze mit identischer Satzstrucktur   \n",
        "Ground Truth: 5/6       \n",
        "Ergebnis: 6  "
      ],
      "metadata": {
        "id": "36buwzyFEcw2"
      }
    },
    {
      "cell_type": "code",
      "source": [
        "sentenes = [\"Hello, my name is josh Starmer\", \"Hello my name is Betty\"]\n",
        "test_method2(sentenes)"
      ],
      "metadata": {
        "colab": {
          "base_uri": "https://localhost:8080/"
        },
        "outputId": "ed876187-f8c7-46e8-f62c-f89f6208a18d",
        "id": "VhrIQcRlEcw3"
      },
      "execution_count": 130,
      "outputs": [
        {
          "output_type": "stream",
          "name": "stdout",
          "text": [
            "0    1.000000\n",
            "1    0.580333\n",
            "2    0.580333\n",
            "3    1.000000\n",
            "Name: value, dtype: float64\n"
          ]
        },
        {
          "output_type": "execute_result",
          "data": {
            "text/plain": [
              "5"
            ]
          },
          "metadata": {},
          "execution_count": 130
        }
      ]
    },
    {
      "cell_type": "markdown",
      "source": [
        "Teil 4. Zwei identische Sätze mit semantischer Ähnlichkeit   \n",
        "Ground Truth: 6   \n",
        "Ergebnis: 3 ?  "
      ],
      "metadata": {
        "id": "OSjFhEU9Ecw4"
      }
    },
    {
      "cell_type": "code",
      "source": [
        "sentenes = [\"Hello, my name is josh Starmer\", \"Hey whats up? Here ist Josh starmer\"]\n",
        "test_method2(sentenes)"
      ],
      "metadata": {
        "colab": {
          "base_uri": "https://localhost:8080/"
        },
        "outputId": "8c12db94-de35-4396-cc1e-5eb35c513023",
        "id": "OuHsqcvpEcw6"
      },
      "execution_count": 131,
      "outputs": [
        {
          "output_type": "stream",
          "name": "stdout",
          "text": [
            "0    1.000000\n",
            "1    0.184432\n",
            "2    0.184432\n",
            "3    1.000000\n",
            "Name: value, dtype: float64\n"
          ]
        },
        {
          "output_type": "execute_result",
          "data": {
            "text/plain": [
              "3"
            ]
          },
          "metadata": {},
          "execution_count": 131
        }
      ]
    },
    {
      "cell_type": "markdown",
      "source": [
        "Teil 5. Zwei identische Sätze mit semantischer Ähnlichkeit   \n",
        "Ground Truth: 5/6   \n",
        "Ergebnis: 5  "
      ],
      "metadata": {
        "id": "Apkpz8A4Ecw7"
      }
    },
    {
      "cell_type": "code",
      "source": [
        "sentenes = [\"Hello, my name is josh Starmer\", \"Hey whats up, my name is josh Starmer\"]\n",
        "test_method2(sentenes)"
      ],
      "metadata": {
        "colab": {
          "base_uri": "https://localhost:8080/"
        },
        "outputId": "0eddd199-4d37-4a58-e70a-6e2a9ae4a4cb",
        "id": "1wQwxW4gEcw8"
      },
      "execution_count": 132,
      "outputs": [
        {
          "output_type": "stream",
          "name": "stdout",
          "text": [
            "0    1.000000\n",
            "1    0.572739\n",
            "2    0.572739\n",
            "3    1.000000\n",
            "Name: value, dtype: float64\n"
          ]
        },
        {
          "output_type": "execute_result",
          "data": {
            "text/plain": [
              "5"
            ]
          },
          "metadata": {},
          "execution_count": 132
        }
      ]
    },
    {
      "cell_type": "markdown",
      "source": [
        "Teil 6. Zwei identische Sätze mit semantischer Ähnlichkeit   \n",
        "Ground Truth: 5/6   \n",
        "Ergebnis: 5  "
      ],
      "metadata": {
        "id": "td6Jzw0xEcw8"
      }
    },
    {
      "cell_type": "code",
      "source": [
        "sentences = ['Hi, how are you?', 'Hey what\\'s up?']\n",
        "test_method2(sentenes)"
      ],
      "metadata": {
        "colab": {
          "base_uri": "https://localhost:8080/"
        },
        "outputId": "f51845f8-ca30-4b0c-f2f6-f6b8c1680a71",
        "id": "AXeVN4RIEcw9"
      },
      "execution_count": 133,
      "outputs": [
        {
          "output_type": "stream",
          "name": "stdout",
          "text": [
            "0    1.000000\n",
            "1    0.572739\n",
            "2    0.572739\n",
            "3    1.000000\n",
            "Name: value, dtype: float64\n"
          ]
        },
        {
          "output_type": "execute_result",
          "data": {
            "text/plain": [
              "5"
            ]
          },
          "metadata": {},
          "execution_count": 133
        }
      ]
    },
    {
      "cell_type": "markdown",
      "source": [
        "Teil 7. Zwei unterschiedliche Sätze mit identischer Satzstrucktur   \n",
        "Ground Truth: 5/6       \n",
        "Ergebnis: 5     "
      ],
      "metadata": {
        "id": "2SzqBJtME-2f"
      }
    },
    {
      "cell_type": "code",
      "source": [
        "sentenes = [\"Hello, my name is josh Starmer\", \"Hello my name is Betty\"]\n",
        "test_method2(sentenes)"
      ],
      "metadata": {
        "colab": {
          "base_uri": "https://localhost:8080/"
        },
        "id": "Goh6FWDAzOfz",
        "outputId": "96d73329-795d-4905-9ad5-a4fe113a8e8b"
      },
      "execution_count": 134,
      "outputs": [
        {
          "output_type": "stream",
          "name": "stdout",
          "text": [
            "0    1.000000\n",
            "1    0.580333\n",
            "2    0.580333\n",
            "3    1.000000\n",
            "Name: value, dtype: float64\n"
          ]
        },
        {
          "output_type": "execute_result",
          "data": {
            "text/plain": [
              "5"
            ]
          },
          "metadata": {},
          "execution_count": 134
        }
      ]
    },
    {
      "cell_type": "markdown",
      "source": [
        "**Conclusion:** Die Evaluationen von oben haben ergeben, dass der Countvectorizer und der TfidfVectorizer fast identische Ergebnisse liefern."
      ],
      "metadata": {
        "id": "LaUtHF0RFCEg"
      }
    },
    {
      "cell_type": "markdown",
      "source": [
        "------------------"
      ],
      "metadata": {
        "id": "j3_4nAWTF0DP"
      }
    },
    {
      "cell_type": "markdown",
      "source": [
        "#### Small Evaluation with (Tf-idf Vektorizer) and text-preprocessing"
      ],
      "metadata": {
        "id": "0BcKpmkmzdaz"
      }
    },
    {
      "cell_type": "code",
      "source": [
        "def test_method3(sentences):\n",
        "\n",
        "  point = 0\n",
        "\n",
        "  count_vec = TfidfVectorizer(stop_words='english', use_idf=True)\n",
        "\n",
        "              \n",
        "  vectors = count_vec.fit_transform(sentences).toarray() #may turn sentences in list\n",
        "  cosine = cosine_similarity(vectors) #use cosine similarity on vectors\n",
        "\n",
        "\n",
        "\n",
        "  similarity_df = pd.DataFrame(cosine) #save matrix in pandas dataframe to use melt method on it\n",
        "\n",
        "  transform_df = pd.melt(similarity_df) #reshape matrix into column of dataframe\n",
        "\n",
        "  similarity = transform_df[\"value\"].values[1]\n",
        "  #print(transform_df[\"value\"])\n",
        "  \n",
        "\n",
        "\n",
        "  #just for testing (not finished yet)\n",
        "\n",
        "  if similarity > 0.7:\n",
        "    return 6\n",
        "\n",
        "  if similarity < 0.7 and similarity >= 0.4:\n",
        "    return 5\n",
        "\n",
        "  elif similarity < 0.4 and similarity >= 0.1:\n",
        "    return 3\n",
        "\n",
        "  elif similarity < 0.1:\n",
        "    return 0"
      ],
      "metadata": {
        "id": "aNvTw_cKzUbT"
      },
      "execution_count": 247,
      "outputs": []
    },
    {
      "cell_type": "code",
      "source": [
        "#A small function to remove digits and special chars like: ?, , \n",
        "def clean_text(documents):\n",
        "  nlp = spacy.load(\"en_core_web_sm\")\n",
        "  new_corpus = []\n",
        "  for document in documents:\n",
        "    filler = \"\"\n",
        "    doc = nlp(document)\n",
        "    for token in doc:\n",
        "      if token.is_stop:\n",
        "        continue\n",
        "        \n",
        "      if token.is_alpha:\n",
        "        filler += \" \" +  token.text\n",
        "\n",
        "    new_corpus += [filler[1:len(filler)]]\n",
        "\n",
        "  return new_corpus"
      ],
      "metadata": {
        "id": "S4UIgMT8Flav"
      },
      "execution_count": 237,
      "outputs": []
    },
    {
      "cell_type": "code",
      "source": [
        "new_corpus = clean_text(corpus)"
      ],
      "metadata": {
        "id": "I9ghihvrGR0z"
      },
      "execution_count": 124,
      "outputs": []
    },
    {
      "cell_type": "markdown",
      "source": [
        "Zwei Jop-posts descriptions:"
      ],
      "metadata": {
        "id": "213gK0uMGdiq"
      }
    },
    {
      "cell_type": "code",
      "source": [
        "test = test_method3(new_corpus[0:2])\n",
        "test"
      ],
      "metadata": {
        "colab": {
          "base_uri": "https://localhost:8080/"
        },
        "outputId": "2c4ca8e1-49ce-4549-ac6b-f92475bab5f1",
        "id": "hWJDXElcGdir"
      },
      "execution_count": 137,
      "outputs": [
        {
          "output_type": "stream",
          "name": "stdout",
          "text": [
            "0    1.000000\n",
            "1    0.216887\n",
            "2    0.216887\n",
            "3    1.000000\n",
            "Name: value, dtype: float64\n"
          ]
        },
        {
          "output_type": "execute_result",
          "data": {
            "text/plain": [
              "3"
            ]
          },
          "metadata": {},
          "execution_count": 137
        }
      ]
    },
    {
      "cell_type": "markdown",
      "source": [
        "Teil 1. Zwei exakte Sätze    \n",
        "Ground Truth: 6   \n",
        "Ergebnis: 6  "
      ],
      "metadata": {
        "id": "yCEgOorLGdis"
      }
    },
    {
      "cell_type": "code",
      "source": [
        "sentenes = clean_text([\"Hello, my name is josh Starmer\", \"Hello my name is josh Starmer\"])\n",
        "test_method2(sentenes)"
      ],
      "metadata": {
        "colab": {
          "base_uri": "https://localhost:8080/"
        },
        "outputId": "8cc12da1-0b97-4857-dd64-7594d983a034",
        "id": "Cz110BeEGdit"
      },
      "execution_count": 138,
      "outputs": [
        {
          "output_type": "stream",
          "name": "stdout",
          "text": [
            "0    1.0\n",
            "1    1.0\n",
            "2    1.0\n",
            "3    1.0\n",
            "Name: value, dtype: float64\n"
          ]
        },
        {
          "output_type": "execute_result",
          "data": {
            "text/plain": [
              "6"
            ]
          },
          "metadata": {},
          "execution_count": 138
        }
      ]
    },
    {
      "cell_type": "markdown",
      "source": [
        "Teil 2. Zwei unterschiedliche Sätze mit keinen ähnlicher Strucktur   \n",
        "Ground Truth: 0   \n",
        "Ergebnis: 0  "
      ],
      "metadata": {
        "id": "4JzZEx7WGdiu"
      }
    },
    {
      "cell_type": "code",
      "source": [
        "sentenes = clean_text([\"Hello, my name is josh Starmer\", \"Your are stupid\"])\n",
        "test_method3(sentenes)"
      ],
      "metadata": {
        "colab": {
          "base_uri": "https://localhost:8080/"
        },
        "outputId": "eaa923e9-00f3-4701-b61e-c633ecd0799e",
        "id": "V4L5I0cBGdiu"
      },
      "execution_count": 139,
      "outputs": [
        {
          "output_type": "stream",
          "name": "stdout",
          "text": [
            "0    1.0\n",
            "1    0.0\n",
            "2    0.0\n",
            "3    1.0\n",
            "Name: value, dtype: float64\n"
          ]
        },
        {
          "output_type": "execute_result",
          "data": {
            "text/plain": [
              "0"
            ]
          },
          "metadata": {},
          "execution_count": 139
        }
      ]
    },
    {
      "cell_type": "markdown",
      "source": [
        "Teil 3. Zwei unterschiedliche Sätze mit identischer Satzstrucktur   \n",
        "Ground Truth: 5/6       \n",
        "Ergebnis: 3  "
      ],
      "metadata": {
        "id": "vswU-DmnGdiv"
      }
    },
    {
      "cell_type": "code",
      "source": [
        "sentenes = clean_text([\"Hello, my name is josh Starmer\", \"Hello my name is Betty\"])\n",
        "test_method3(sentenes)"
      ],
      "metadata": {
        "colab": {
          "base_uri": "https://localhost:8080/"
        },
        "outputId": "22115ed0-2315-42bd-daa6-e63736e26723",
        "id": "S5WgcnpTGdiw"
      },
      "execution_count": 140,
      "outputs": [
        {
          "output_type": "stream",
          "name": "stdout",
          "text": [
            "0    1.000000\n",
            "1    0.260556\n",
            "2    0.260556\n",
            "3    1.000000\n",
            "Name: value, dtype: float64\n"
          ]
        },
        {
          "output_type": "execute_result",
          "data": {
            "text/plain": [
              "3"
            ]
          },
          "metadata": {},
          "execution_count": 140
        }
      ]
    },
    {
      "cell_type": "markdown",
      "source": [
        "Teil 4. Zwei identische Sätze mit semantischer Ähnlichkeit   \n",
        "Ground Truth: 6   \n",
        "Ergebnis: 5?  "
      ],
      "metadata": {
        "id": "KYg2jctHGdix"
      }
    },
    {
      "cell_type": "code",
      "source": [
        "sentenes = clean_text([\"Hello, my name is josh Starmer\", \"Hey whats up? Here ist Josh starmer\"])\n",
        "test_method3(sentenes)"
      ],
      "metadata": {
        "colab": {
          "base_uri": "https://localhost:8080/"
        },
        "outputId": "2bda7215-4824-424a-954e-f9cb799c8b61",
        "id": "nmAOBEVcGdiy"
      },
      "execution_count": 141,
      "outputs": [
        {
          "output_type": "stream",
          "name": "stdout",
          "text": [
            "0    1.000000\n",
            "1    0.411207\n",
            "2    0.411207\n",
            "3    1.000000\n",
            "Name: value, dtype: float64\n"
          ]
        },
        {
          "output_type": "execute_result",
          "data": {
            "text/plain": [
              "5"
            ]
          },
          "metadata": {},
          "execution_count": 141
        }
      ]
    },
    {
      "cell_type": "markdown",
      "source": [
        "Teil 5. Zwei identische Sätze mit semantischer Ähnlichkeit   \n",
        "Ground Truth: 5/6   \n",
        "Ergebnis: 5"
      ],
      "metadata": {
        "id": "HXLd-3enGdiz"
      }
    },
    {
      "cell_type": "code",
      "source": [
        "sentenes = clean_text([\"Hello, my name is josh Starmer\", \"Hey whats up, my name is josh Starmer\"])\n",
        "test_method3(sentenes)"
      ],
      "metadata": {
        "colab": {
          "base_uri": "https://localhost:8080/"
        },
        "outputId": "7ebe8bcf-c21f-4c68-da72-41ee1184c7bc",
        "id": "7e4MtMn_Gdiz"
      },
      "execution_count": 142,
      "outputs": [
        {
          "output_type": "stream",
          "name": "stdout",
          "text": [
            "0    1.000000\n",
            "1    0.503103\n",
            "2    0.503103\n",
            "3    1.000000\n",
            "Name: value, dtype: float64\n"
          ]
        },
        {
          "output_type": "execute_result",
          "data": {
            "text/plain": [
              "5"
            ]
          },
          "metadata": {},
          "execution_count": 142
        }
      ]
    },
    {
      "cell_type": "markdown",
      "source": [
        "Teil 6. Zwei identische Sätze mit semantischer Ähnlichkeit   \n",
        "Ground Truth: 5/6   \n",
        "Ergebnis: 5  "
      ],
      "metadata": {
        "id": "EslxHOypGdi0"
      }
    },
    {
      "cell_type": "code",
      "source": [
        "sentences = clean_text(['Hi, how are you?', 'Hey what\\'s up?'])\n",
        "test_method3(sentenes)"
      ],
      "metadata": {
        "colab": {
          "base_uri": "https://localhost:8080/"
        },
        "outputId": "1eb5576d-dce5-45db-8c4c-1749e370fdba",
        "id": "We8EJIKVGdi1"
      },
      "execution_count": 143,
      "outputs": [
        {
          "output_type": "stream",
          "name": "stdout",
          "text": [
            "0    1.000000\n",
            "1    0.503103\n",
            "2    0.503103\n",
            "3    1.000000\n",
            "Name: value, dtype: float64\n"
          ]
        },
        {
          "output_type": "execute_result",
          "data": {
            "text/plain": [
              "5"
            ]
          },
          "metadata": {},
          "execution_count": 143
        }
      ]
    },
    {
      "cell_type": "markdown",
      "source": [
        "Teil 7. Zwei unterschiedliche Sätze mit identischer Satzstrucktur   \n",
        "Ground Truth: 5/6       \n",
        "Ergebnis: 3     "
      ],
      "metadata": {
        "id": "cMKiC583Gdi2"
      }
    },
    {
      "cell_type": "code",
      "source": [
        "sentenes = clean_text([\"Hello, my name is josh Starmer\", \"Hello my name is Betty\"])\n",
        "test_method3(sentenes)"
      ],
      "metadata": {
        "colab": {
          "base_uri": "https://localhost:8080/"
        },
        "outputId": "fd0e0d6a-ae1a-42b0-be75-c77f657b1abb",
        "id": "hpI2Q8BwGdi2"
      },
      "execution_count": 240,
      "outputs": [
        {
          "output_type": "execute_result",
          "data": {
            "text/plain": [
              "3"
            ]
          },
          "metadata": {},
          "execution_count": 240
        }
      ]
    },
    {
      "cell_type": "markdown",
      "source": [
        "**Conclusion:** Das Prepcrossing beeinflusst die Ähnlichkeiten zwische zwei Sätzen, deswegen sollte man kein Preprocessing beim berechnen verwenden."
      ],
      "metadata": {
        "id": "YTtvzBUDHXNw"
      }
    },
    {
      "cell_type": "markdown",
      "source": [
        "-----------------------------"
      ],
      "metadata": {
        "id": "N0DbFRhbJUEj"
      }
    },
    {
      "cell_type": "markdown",
      "source": [
        "#### Small Evaluation with (Tf-idf Vektorizer) only without stoppwords"
      ],
      "metadata": {
        "id": "62uvjhpOJW3w"
      }
    },
    {
      "cell_type": "code",
      "source": [
        "def test_method4(sentences):\n",
        "\n",
        "  point = 0\n",
        "\n",
        "  count_vec = TfidfVectorizer(stop_words='english', use_idf=True)\n",
        "\n",
        "              \n",
        "  vectors = count_vec.fit_transform(sentences).toarray() #may turn sentences in list\n",
        "  cosine = cosine_similarity(vectors) #use cosine similarity on vectors\n",
        "\n",
        "\n",
        "\n",
        "  similarity_df = pd.DataFrame(cosine) #save matrix in pandas dataframe to use melt method on it\n",
        "\n",
        "  transform_df = pd.melt(similarity_df) #reshape matrix into column of dataframe\n",
        "\n",
        "  similarity = transform_df[\"value\"].values[1]\n",
        "  #print(transform_df[\"value\"])\n",
        "  \n",
        "\n",
        "\n",
        "  #just for testing (not finished yet)\n",
        "\n",
        "  if similarity > 0.7:\n",
        "    return 6\n",
        "\n",
        "  if similarity < 0.7 and similarity >= 0.4:\n",
        "    return 5\n",
        "\n",
        "  elif similarity < 0.4 and similarity >= 0.1:\n",
        "    return 3\n",
        "\n",
        "  elif similarity < 0.1:\n",
        "    return 0"
      ],
      "metadata": {
        "id": "IHXReuBUJW3x"
      },
      "execution_count": 248,
      "outputs": []
    },
    {
      "cell_type": "markdown",
      "source": [
        "Zwei Jop-posts descriptions:"
      ],
      "metadata": {
        "id": "kALg6nhIJW3y"
      }
    },
    {
      "cell_type": "code",
      "source": [
        "test = test_method4(corpus[0:2])\n",
        "test"
      ],
      "metadata": {
        "colab": {
          "base_uri": "https://localhost:8080/"
        },
        "outputId": "1a74b8b8-5fa2-4f5a-d500-b3d97a9fdeff",
        "id": "XIm7tYn_JW3z"
      },
      "execution_count": 148,
      "outputs": [
        {
          "output_type": "stream",
          "name": "stdout",
          "text": [
            "0    1.000000\n",
            "1    0.215132\n",
            "2    0.215132\n",
            "3    1.000000\n",
            "Name: value, dtype: float64\n"
          ]
        },
        {
          "output_type": "execute_result",
          "data": {
            "text/plain": [
              "3"
            ]
          },
          "metadata": {},
          "execution_count": 148
        }
      ]
    },
    {
      "cell_type": "markdown",
      "source": [
        "Teil 1. Zwei exakte Sätze    \n",
        "Ground Truth: 6   \n",
        "Ergebnis: 6  "
      ],
      "metadata": {
        "id": "gGMu-510JW30"
      }
    },
    {
      "cell_type": "code",
      "source": [
        "sentenes = [\"Hello, my name is josh Starmer\", \"Hello my name is josh Starmer\"]\n",
        "test_method4(sentenes)"
      ],
      "metadata": {
        "colab": {
          "base_uri": "https://localhost:8080/"
        },
        "outputId": "1d9d4746-0c28-4525-b8df-18d3375e776a",
        "id": "dhKXfNCwJW30"
      },
      "execution_count": 150,
      "outputs": [
        {
          "output_type": "stream",
          "name": "stdout",
          "text": [
            "0    1.0\n",
            "1    1.0\n",
            "2    1.0\n",
            "3    1.0\n",
            "Name: value, dtype: float64\n"
          ]
        },
        {
          "output_type": "execute_result",
          "data": {
            "text/plain": [
              "6"
            ]
          },
          "metadata": {},
          "execution_count": 150
        }
      ]
    },
    {
      "cell_type": "markdown",
      "source": [
        "Teil 2. Zwei unterschiedliche Sätze mit keinen ähnlicher Strucktur   \n",
        "Ground Truth: 0   \n",
        "Ergebnis: 0  "
      ],
      "metadata": {
        "id": "qIUcITdZJW31"
      }
    },
    {
      "cell_type": "code",
      "source": [
        "sentenes = [\"Hello, my name is josh Starmer\", \"Your are stupid\"]\n",
        "test_method4(sentenes)"
      ],
      "metadata": {
        "colab": {
          "base_uri": "https://localhost:8080/"
        },
        "outputId": "ac2a7ba5-7f65-4d31-e923-cd126b3bbe93",
        "id": "iIX-9zvyJW32"
      },
      "execution_count": 151,
      "outputs": [
        {
          "output_type": "stream",
          "name": "stdout",
          "text": [
            "0    1.0\n",
            "1    0.0\n",
            "2    0.0\n",
            "3    1.0\n",
            "Name: value, dtype: float64\n"
          ]
        },
        {
          "output_type": "execute_result",
          "data": {
            "text/plain": [
              "0"
            ]
          },
          "metadata": {},
          "execution_count": 151
        }
      ]
    },
    {
      "cell_type": "markdown",
      "source": [
        "Teil 3. Zwei unterschiedliche Sätze mit identischer Satzstrucktur   \n",
        "Ground Truth: 5/6       \n",
        "Ergebnis: 3  "
      ],
      "metadata": {
        "id": "aBjlq2moJW32"
      }
    },
    {
      "cell_type": "code",
      "source": [
        "sentenes = [\"Hello, my name is josh Starmer\", \"Hello my name is Betty\"]\n",
        "test_method4(sentenes)"
      ],
      "metadata": {
        "colab": {
          "base_uri": "https://localhost:8080/"
        },
        "outputId": "5ddc7f92-43ac-4d4e-b7d4-e3ac1bb8950f",
        "id": "o2YoarH8JW33"
      },
      "execution_count": 152,
      "outputs": [
        {
          "output_type": "stream",
          "name": "stdout",
          "text": [
            "0    1.000000\n",
            "1    0.260556\n",
            "2    0.260556\n",
            "3    1.000000\n",
            "Name: value, dtype: float64\n"
          ]
        },
        {
          "output_type": "execute_result",
          "data": {
            "text/plain": [
              "3"
            ]
          },
          "metadata": {},
          "execution_count": 152
        }
      ]
    },
    {
      "cell_type": "markdown",
      "source": [
        "Teil 4. Zwei identische Sätze mit semantischer Ähnlichkeit   \n",
        "Ground Truth: 6   \n",
        "Ergebnis: 3?  "
      ],
      "metadata": {
        "id": "GO_8d6NcJW34"
      }
    },
    {
      "cell_type": "code",
      "source": [
        "sentenes = [\"Hello, my name is josh Starmer\", \"Hey whats up? Here ist Josh starmer\"]\n",
        "test_method4(sentenes)"
      ],
      "metadata": {
        "colab": {
          "base_uri": "https://localhost:8080/"
        },
        "outputId": "141ccac8-e92e-4c22-8887-357b836bb379",
        "id": "-3jO3vTCJW35"
      },
      "execution_count": 153,
      "outputs": [
        {
          "output_type": "stream",
          "name": "stdout",
          "text": [
            "0    1.0000\n",
            "1    0.3563\n",
            "2    0.3563\n",
            "3    1.0000\n",
            "Name: value, dtype: float64\n"
          ]
        },
        {
          "output_type": "execute_result",
          "data": {
            "text/plain": [
              "3"
            ]
          },
          "metadata": {},
          "execution_count": 153
        }
      ]
    },
    {
      "cell_type": "markdown",
      "source": [
        "Teil 5. Zwei identische Sätze mit semantischer Ähnlichkeit   \n",
        "Ground Truth: 5/6   \n",
        "Ergebnis: 5"
      ],
      "metadata": {
        "id": "KzKsboUKJW36"
      }
    },
    {
      "cell_type": "code",
      "source": [
        "sentenes = [\"Hello, my name is josh Starmer\", \"Hey whats up, my name is josh Starmer\"]\n",
        "test_method4(sentenes)"
      ],
      "metadata": {
        "colab": {
          "base_uri": "https://localhost:8080/"
        },
        "outputId": "44b13067-4ca8-4797-fc77-a107f88f7c31",
        "id": "Fr5uMGxBJW36"
      },
      "execution_count": 154,
      "outputs": [
        {
          "output_type": "stream",
          "name": "stdout",
          "text": [
            "0    1.000000\n",
            "1    0.411207\n",
            "2    0.411207\n",
            "3    1.000000\n",
            "Name: value, dtype: float64\n"
          ]
        },
        {
          "output_type": "execute_result",
          "data": {
            "text/plain": [
              "5"
            ]
          },
          "metadata": {},
          "execution_count": 154
        }
      ]
    },
    {
      "cell_type": "markdown",
      "source": [
        "Teil 6. Zwei identische Sätze mit semantischer Ähnlichkeit   \n",
        "Ground Truth: 5/6   \n",
        "Ergebnis: 5  "
      ],
      "metadata": {
        "id": "SfYkJ45dJW37"
      }
    },
    {
      "cell_type": "code",
      "source": [
        "sentences = ['Hi, how are you?', 'Hey what\\'s up?']\n",
        "test_method4(sentenes)"
      ],
      "metadata": {
        "colab": {
          "base_uri": "https://localhost:8080/"
        },
        "outputId": "772fb452-c405-4e2c-e441-7ba09a489ac8",
        "id": "71kMl_KmJW38"
      },
      "execution_count": 155,
      "outputs": [
        {
          "output_type": "stream",
          "name": "stdout",
          "text": [
            "0    1.000000\n",
            "1    0.411207\n",
            "2    0.411207\n",
            "3    1.000000\n",
            "Name: value, dtype: float64\n"
          ]
        },
        {
          "output_type": "execute_result",
          "data": {
            "text/plain": [
              "5"
            ]
          },
          "metadata": {},
          "execution_count": 155
        }
      ]
    },
    {
      "cell_type": "markdown",
      "source": [
        "Teil 7. Zwei unterschiedliche Sätze mit identischer Satzstrucktur   \n",
        "Ground Truth: 5/6       \n",
        "Ergebnis: 3     "
      ],
      "metadata": {
        "id": "xxsihB_GJW39"
      }
    },
    {
      "cell_type": "code",
      "source": [
        "sentenes = [\"Hello, my name is josh Starmer\", \"Hello my name is Betty\"]\n",
        "test_method4(sentenes)"
      ],
      "metadata": {
        "colab": {
          "base_uri": "https://localhost:8080/"
        },
        "outputId": "b0345d15-a3f3-41cd-9eb8-70813a7d7ccc",
        "id": "eNNersjkJW39"
      },
      "execution_count": 156,
      "outputs": [
        {
          "output_type": "stream",
          "name": "stdout",
          "text": [
            "0    1.000000\n",
            "1    0.260556\n",
            "2    0.260556\n",
            "3    1.000000\n",
            "Name: value, dtype: float64\n"
          ]
        },
        {
          "output_type": "execute_result",
          "data": {
            "text/plain": [
              "3"
            ]
          },
          "metadata": {},
          "execution_count": 156
        }
      ]
    },
    {
      "cell_type": "markdown",
      "source": [
        "**Conclusion:** Die Stoppwörter beeinflussen die Ähnlichkeiten zwischen Dokumente, da wenn man die mit den Ergebnissen mit dem Tfidfvectorizer vergleicht ohne prepcrossesing dann hat dieser eher schlecher performed."
      ],
      "metadata": {
        "id": "KLEv7jtrJ9nr"
      }
    },
    {
      "cell_type": "markdown",
      "source": [
        "----------------"
      ],
      "metadata": {
        "id": "1xo-JkP9KSaX"
      }
    },
    {
      "cell_type": "markdown",
      "source": [
        "#### Testing on jobPost dataframe"
      ],
      "metadata": {
        "id": "jKeodH5AOByw"
      }
    },
    {
      "cell_type": "code",
      "source": [
        "def check_out(n):\n",
        "  dic = {\"test1\": [], \"test2\": [], \"test3\": [], \"test4\": []}\n",
        "  for number in range(0, n, 2):\n",
        "    sentences = corpus[number:number+2]\n",
        "    dic[\"test1\"] = dic[\"test1\"] + [test_method(sentences)]\n",
        "    dic[\"test2\"] = dic[\"test2\"] + [test_method2(sentences)]\n",
        "    dic[\"test3\"] = dic[\"test3\"] + [test_method3(clean_text(sentences))]\n",
        "\n",
        "    dic[\"test4\"] = dic[\"test4\"] + [test_method4(sentences)]\n",
        "\n",
        "\n",
        "  return pd.DataFrame(dic)\n"
      ],
      "metadata": {
        "id": "GNqFYyQOHU3g"
      },
      "execution_count": 262,
      "outputs": []
    },
    {
      "cell_type": "code",
      "source": [
        "show = check_out(50)"
      ],
      "metadata": {
        "id": "xDyuB1EVKch_"
      },
      "execution_count": 263,
      "outputs": []
    },
    {
      "cell_type": "code",
      "source": [
        "def group(df):\n",
        "  for column in df.columns:\n",
        "    print(df[\"{}\".format(column)].value_counts())\n"
      ],
      "metadata": {
        "id": "cGrSXQkXMrfe"
      },
      "execution_count": 264,
      "outputs": []
    },
    {
      "cell_type": "code",
      "source": [
        "group(show)"
      ],
      "metadata": {
        "colab": {
          "base_uri": "https://localhost:8080/"
        },
        "id": "mhrbUn_xLp7l",
        "outputId": "2440f858-88aa-405c-d84d-89c099685bb7"
      },
      "execution_count": 265,
      "outputs": [
        {
          "output_type": "stream",
          "name": "stdout",
          "text": [
            "5    18\n",
            "6     6\n",
            "3     1\n",
            "Name: test1, dtype: int64\n",
            "5    16\n",
            "3     8\n",
            "6     1\n",
            "Name: test2, dtype: int64\n",
            "3    19\n",
            "0     4\n",
            "5     2\n",
            "Name: test3, dtype: int64\n",
            "3    20\n",
            "0     3\n",
            "5     2\n",
            "Name: test4, dtype: int64\n"
          ]
        }
      ]
    },
    {
      "cell_type": "code",
      "source": [
        "len(show[\"test1\"])"
      ],
      "metadata": {
        "colab": {
          "base_uri": "https://localhost:8080/"
        },
        "id": "39FtySJ4Uu0Q",
        "outputId": "399d6793-4ee0-49eb-a7c4-861711c91e22"
      },
      "execution_count": 267,
      "outputs": [
        {
          "output_type": "execute_result",
          "data": {
            "text/plain": [
              "25"
            ]
          },
          "metadata": {},
          "execution_count": 267
        }
      ]
    },
    {
      "cell_type": "markdown",
      "source": [
        "#### Plotting results"
      ],
      "metadata": {
        "id": "Pp5ms0k9UNiO"
      }
    },
    {
      "cell_type": "markdown",
      "source": [
        "**testmethod1:**"
      ],
      "metadata": {
        "id": "fJd5_WaMUTnP"
      }
    },
    {
      "cell_type": "code",
      "source": [
        "fig1 = plt.figure()\n",
        "ax1 = plt.axes()\n",
        "\n",
        "ax1.hist(show[\"test1\"])"
      ],
      "metadata": {
        "colab": {
          "base_uri": "https://localhost:8080/",
          "height": 320
        },
        "id": "sQLQyefjUQlb",
        "outputId": "63ef4f25-df90-4a16-9202-862ef24ae606"
      },
      "execution_count": 269,
      "outputs": [
        {
          "output_type": "execute_result",
          "data": {
            "text/plain": [
              "(array([ 1.,  0.,  0.,  0.,  0.,  0., 18.,  0.,  0.,  6.]),\n",
              " array([3. , 3.3, 3.6, 3.9, 4.2, 4.5, 4.8, 5.1, 5.4, 5.7, 6. ]),\n",
              " <a list of 10 Patch objects>)"
            ]
          },
          "metadata": {},
          "execution_count": 269
        },
        {
          "output_type": "display_data",
          "data": {
            "text/plain": [
              "<Figure size 432x288 with 1 Axes>"
            ],
            "image/png": "[encoded data removed]"
          },
          "metadata": {
            "needs_background": "light"
          }
        }
      ]
    },
    {
      "cell_type": "markdown",
      "source": [
        "**testmethod2:**"
      ],
      "metadata": {
        "id": "Jwt8-TGkVKUd"
      }
    },
    {
      "cell_type": "code",
      "source": [
        "fig2 = plt.figure()\n",
        "ax2 = plt.axes()\n",
        "\n",
        "ax2.hist(show[\"test2\"])"
      ],
      "metadata": {
        "colab": {
          "base_uri": "https://localhost:8080/",
          "height": 320
        },
        "id": "SVR7zEVlUSOD",
        "outputId": "a4fe0cf1-78e5-49aa-e727-553ef4c26ac5"
      },
      "execution_count": 271,
      "outputs": [
        {
          "output_type": "execute_result",
          "data": {
            "text/plain": [
              "(array([ 8.,  0.,  0.,  0.,  0.,  0., 16.,  0.,  0.,  1.]),\n",
              " array([3. , 3.3, 3.6, 3.9, 4.2, 4.5, 4.8, 5.1, 5.4, 5.7, 6. ]),\n",
              " <a list of 10 Patch objects>)"
            ]
          },
          "metadata": {},
          "execution_count": 271
        },
        {
          "output_type": "display_data",
          "data": {
            "text/plain": [
              "<Figure size 432x288 with 1 Axes>"
            ],
            "image/png": "[encoded data removed]"
          },
          "metadata": {
            "needs_background": "light"
          }
        }
      ]
    },
    {
      "cell_type": "markdown",
      "source": [
        "**testmethod3:**"
      ],
      "metadata": {
        "id": "bEU-0bk1VTGZ"
      }
    },
    {
      "cell_type": "code",
      "source": [
        "fig3 = plt.figure()\n",
        "ax3 = plt.axes()\n",
        "\n",
        "ax3.hist(show[\"test3\"])"
      ],
      "metadata": {
        "colab": {
          "base_uri": "https://localhost:8080/",
          "height": 320
        },
        "id": "inYjHkO8USYm",
        "outputId": "e03dec82-3d5c-41cb-bf9b-ff8d21f1e8b7"
      },
      "execution_count": 272,
      "outputs": [
        {
          "output_type": "execute_result",
          "data": {
            "text/plain": [
              "(array([ 4.,  0.,  0.,  0.,  0.,  0., 19.,  0.,  0.,  2.]),\n",
              " array([0. , 0.5, 1. , 1.5, 2. , 2.5, 3. , 3.5, 4. , 4.5, 5. ]),\n",
              " <a list of 10 Patch objects>)"
            ]
          },
          "metadata": {},
          "execution_count": 272
        },
        {
          "output_type": "display_data",
          "data": {
            "text/plain": [
              "<Figure size 432x288 with 1 Axes>"
            ],
            "image/png": "[encoded data removed]"
          },
          "metadata": {
            "needs_background": "light"
          }
        }
      ]
    },
    {
      "cell_type": "markdown",
      "source": [
        "**testmethod4:**"
      ],
      "metadata": {
        "id": "gf4WDhKDVW90"
      }
    },
    {
      "cell_type": "code",
      "source": [
        "fig4 = plt.figure()\n",
        "ax4 = plt.axes()\n",
        "\n",
        "ax4.hist(show[\"test4\"])"
      ],
      "metadata": {
        "colab": {
          "base_uri": "https://localhost:8080/",
          "height": 320
        },
        "id": "j8Xxok3sVe0T",
        "outputId": "6321a06f-fe97-448f-cab9-e358665e9daa"
      },
      "execution_count": 273,
      "outputs": [
        {
          "output_type": "execute_result",
          "data": {
            "text/plain": [
              "(array([ 3.,  0.,  0.,  0.,  0.,  0., 20.,  0.,  0.,  2.]),\n",
              " array([0. , 0.5, 1. , 1.5, 2. , 2.5, 3. , 3.5, 4. , 4.5, 5. ]),\n",
              " <a list of 10 Patch objects>)"
            ]
          },
          "metadata": {},
          "execution_count": 273
        },
        {
          "output_type": "display_data",
          "data": {
            "text/plain": [
              "<Figure size 432x288 with 1 Axes>"
            ],
            "image/png": "[encoded data removed]"
          },
          "metadata": {
            "needs_background": "light"
          }
        }
      ]
    },
    {
      "cell_type": "markdown",
      "source": [
        "**Conclusion:** Selbst bei den Job-Descriptions, schlagen sich der normale Countvectorizer und Tfidfvectorizer am besten."
      ],
      "metadata": {
        "id": "vIEIneaCVloz"
      }
    },
    {
      "cell_type": "code",
      "source": [
        ""
      ],
      "metadata": {
        "id": "OUxfwyEUVkGk"
      },
      "execution_count": null,
      "outputs": []
    }
  ]
}