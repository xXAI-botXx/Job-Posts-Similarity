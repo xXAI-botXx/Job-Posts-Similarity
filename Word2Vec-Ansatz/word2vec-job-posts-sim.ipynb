{
 "cells": [
  {
   "cell_type": "markdown",
   "id": "d7bca718-ab1d-49d6-a532-cc2173b7cfbc",
   "metadata": {},
   "source": [
    "---\n",
    "# Word2Vec Similarity of Job-Posts\n",
    "by Tobia Ippolito\n",
    "\n",
    "---"
   ]
  },
  {
   "cell_type": "markdown",
   "id": "2dadd054-38ce-4910-8c49-0de47fb5fc93",
   "metadata": {},
   "source": [
    "## Table of Content\n",
    "...\n",
    "\n",
    "---"
   ]
  },
  {
   "cell_type": "markdown",
   "id": "91ff9251-e1b9-4111-bee0-50ace941febd",
   "metadata": {},
   "source": [
    "### Loading Data"
   ]
  },
  {
   "cell_type": "code",
   "execution_count": 9,
   "id": "074914ad-5fd6-45d0-8c44-c1999a74cba5",
   "metadata": {},
   "outputs": [
    {
     "name": "stdout",
     "output_type": "stream",
     "text": [
      "Collecting openpyxl\n",
      "  Downloading openpyxl-3.0.10-py2.py3-none-any.whl (242 kB)\n",
      "     -------------------------------------- 242.1/242.1 KB 1.4 MB/s eta 0:00:00\n",
      "Collecting et-xmlfile\n",
      "  Downloading et_xmlfile-1.1.0-py3-none-any.whl (4.7 kB)\n",
      "Installing collected packages: et-xmlfile, openpyxl\n",
      "Successfully installed et-xmlfile-1.1.0 openpyxl-3.0.10\n"
     ]
    }
   ],
   "source": [
    "!pip install openpyxl"
   ]
  },
  {
   "cell_type": "code",
   "execution_count": 10,
   "id": "033f1749-0589-49d8-be30-b994664e6af2",
   "metadata": {},
   "outputs": [],
   "source": [
    "import pandas as pd\n",
    "\n",
    "data = pd.read_excel(\"../data_scientist_united_states_job_postings_jobspikr.xlsx\")"
   ]
  },
  {
   "cell_type": "code",
   "execution_count": 11,
   "id": "c7b461a6-1dea-43a5-b658-6fd2acbb4e99",
   "metadata": {},
   "outputs": [
    {
     "data": {
      "text/html": [
       "<div>\n",
       "<style scoped>\n",
       "    .dataframe tbody tr th:only-of-type {\n",
       "        vertical-align: middle;\n",
       "    }\n",
       "\n",
       "    .dataframe tbody tr th {\n",
       "        vertical-align: top;\n",
       "    }\n",
       "\n",
       "    .dataframe thead th {\n",
       "        text-align: right;\n",
       "    }\n",
       "</style>\n",
       "<table border=\"1\" class=\"dataframe\">\n",
       "  <thead>\n",
       "    <tr style=\"text-align: right;\">\n",
       "      <th></th>\n",
       "      <th>crawl_timestamp</th>\n",
       "      <th>url</th>\n",
       "      <th>job_title</th>\n",
       "      <th>category</th>\n",
       "      <th>company_name</th>\n",
       "      <th>city</th>\n",
       "      <th>state</th>\n",
       "      <th>country</th>\n",
       "      <th>inferred_city</th>\n",
       "      <th>inferred_state</th>\n",
       "      <th>...</th>\n",
       "      <th>job_description</th>\n",
       "      <th>job_type</th>\n",
       "      <th>salary_offered</th>\n",
       "      <th>job_board</th>\n",
       "      <th>geo</th>\n",
       "      <th>cursor</th>\n",
       "      <th>contact_email</th>\n",
       "      <th>contact_phone_number</th>\n",
       "      <th>uniq_id</th>\n",
       "      <th>html_job_description</th>\n",
       "    </tr>\n",
       "  </thead>\n",
       "  <tbody>\n",
       "    <tr>\n",
       "      <th>0</th>\n",
       "      <td>2019-02-06 06:26:22</td>\n",
       "      <td>https://www.indeed.com/viewjob?jk=fd83355c2b23...</td>\n",
       "      <td>Enterprise Data Scientist I</td>\n",
       "      <td>Accounting/Finance</td>\n",
       "      <td>Farmers Insurance Group</td>\n",
       "      <td>Woodland Hills</td>\n",
       "      <td>CA</td>\n",
       "      <td>Usa</td>\n",
       "      <td>Woodland hills</td>\n",
       "      <td>California</td>\n",
       "      <td>...</td>\n",
       "      <td>Read what people are saying about working here...</td>\n",
       "      <td>Undefined</td>\n",
       "      <td>NaN</td>\n",
       "      <td>indeed</td>\n",
       "      <td>usa</td>\n",
       "      <td>1549432819114777</td>\n",
       "      <td>NaN</td>\n",
       "      <td>NaN</td>\n",
       "      <td>3b6c6acfcba6135a31c83bd7ea493b18</td>\n",
       "      <td>NaN</td>\n",
       "    </tr>\n",
       "    <tr>\n",
       "      <th>1</th>\n",
       "      <td>2019-02-06 06:33:41</td>\n",
       "      <td>https://www.dice.com/jobs/detail/Data-Scientis...</td>\n",
       "      <td>Data Scientist</td>\n",
       "      <td>NaN</td>\n",
       "      <td>Luxoft USA Inc</td>\n",
       "      <td>Middletown</td>\n",
       "      <td>NJ</td>\n",
       "      <td>Usa</td>\n",
       "      <td>Middletown</td>\n",
       "      <td>New jersey</td>\n",
       "      <td>...</td>\n",
       "      <td>We have an immediate opening for a Sharp Data ...</td>\n",
       "      <td>Undefined</td>\n",
       "      <td>NaN</td>\n",
       "      <td>dice</td>\n",
       "      <td>usa</td>\n",
       "      <td>1549432819122106</td>\n",
       "      <td>NaN</td>\n",
       "      <td>NaN</td>\n",
       "      <td>741727428839ae7ada852eebef29b0fe</td>\n",
       "      <td>NaN</td>\n",
       "    </tr>\n",
       "    <tr>\n",
       "      <th>2</th>\n",
       "      <td>2019-02-06 06:33:35</td>\n",
       "      <td>https://www.dice.com/jobs/detail/Data-Scientis...</td>\n",
       "      <td>Data Scientist</td>\n",
       "      <td>NaN</td>\n",
       "      <td>Cincinnati Bell Technology Solutions</td>\n",
       "      <td>New York</td>\n",
       "      <td>NY</td>\n",
       "      <td>Usa</td>\n",
       "      <td>New york</td>\n",
       "      <td>New york</td>\n",
       "      <td>...</td>\n",
       "      <td>Candidates should have the following backgroun...</td>\n",
       "      <td>Full Time</td>\n",
       "      <td>NaN</td>\n",
       "      <td>dice</td>\n",
       "      <td>usa</td>\n",
       "      <td>1549432819236156</td>\n",
       "      <td>NaN</td>\n",
       "      <td>NaN</td>\n",
       "      <td>cdc9ef9a1de327ccdc19cc0d07dbbb37</td>\n",
       "      <td>NaN</td>\n",
       "    </tr>\n",
       "    <tr>\n",
       "      <th>3</th>\n",
       "      <td>2019-02-06 06:33:42</td>\n",
       "      <td>https://www.indeed.com/viewjob?jk=841edd86ead2...</td>\n",
       "      <td>Data Scientist, Aladdin Wealth Tech, Associate...</td>\n",
       "      <td>Accounting/Finance</td>\n",
       "      <td>BlackRock</td>\n",
       "      <td>New York</td>\n",
       "      <td>NY 10055 (Midtown area)</td>\n",
       "      <td>Usa</td>\n",
       "      <td>New york</td>\n",
       "      <td>New york</td>\n",
       "      <td>...</td>\n",
       "      <td>Read what people are saying about working here...</td>\n",
       "      <td>Undefined</td>\n",
       "      <td>NaN</td>\n",
       "      <td>indeed</td>\n",
       "      <td>usa</td>\n",
       "      <td>1549432819259473</td>\n",
       "      <td>NaN</td>\n",
       "      <td>NaN</td>\n",
       "      <td>1c8541cd2c2c924f9391c7d3f526f64e</td>\n",
       "      <td>NaN</td>\n",
       "    </tr>\n",
       "    <tr>\n",
       "      <th>4</th>\n",
       "      <td>2019-02-06 06:48:23</td>\n",
       "      <td>https://job-openings.monster.com/senior-data-s...</td>\n",
       "      <td>Senior Data Scientist</td>\n",
       "      <td>biotech</td>\n",
       "      <td>CyberCoders</td>\n",
       "      <td>Charlotte</td>\n",
       "      <td>NC</td>\n",
       "      <td>Usa</td>\n",
       "      <td>Charlotte</td>\n",
       "      <td>North carolina</td>\n",
       "      <td>...</td>\n",
       "      <td>We are seeking an extraordinary Data Scientist...</td>\n",
       "      <td>Full Time</td>\n",
       "      <td>NaN</td>\n",
       "      <td>monster</td>\n",
       "      <td>usa</td>\n",
       "      <td>1549436429015957</td>\n",
       "      <td>NaN</td>\n",
       "      <td>NaN</td>\n",
       "      <td>445652a560a5441060857853cf267470</td>\n",
       "      <td>NaN</td>\n",
       "    </tr>\n",
       "  </tbody>\n",
       "</table>\n",
       "<p>5 rows × 22 columns</p>\n",
       "</div>"
      ],
      "text/plain": [
       "      crawl_timestamp                                                url  \\\n",
       "0 2019-02-06 06:26:22  https://www.indeed.com/viewjob?jk=fd83355c2b23...   \n",
       "1 2019-02-06 06:33:41  https://www.dice.com/jobs/detail/Data-Scientis...   \n",
       "2 2019-02-06 06:33:35  https://www.dice.com/jobs/detail/Data-Scientis...   \n",
       "3 2019-02-06 06:33:42  https://www.indeed.com/viewjob?jk=841edd86ead2...   \n",
       "4 2019-02-06 06:48:23  https://job-openings.monster.com/senior-data-s...   \n",
       "\n",
       "                                           job_title            category  \\\n",
       "0                        Enterprise Data Scientist I  Accounting/Finance   \n",
       "1                                     Data Scientist                 NaN   \n",
       "2                                     Data Scientist                 NaN   \n",
       "3  Data Scientist, Aladdin Wealth Tech, Associate...  Accounting/Finance   \n",
       "4                              Senior Data Scientist             biotech   \n",
       "\n",
       "                           company_name            city  \\\n",
       "0               Farmers Insurance Group  Woodland Hills   \n",
       "1                        Luxoft USA Inc      Middletown   \n",
       "2  Cincinnati Bell Technology Solutions        New York   \n",
       "3                             BlackRock        New York   \n",
       "4                           CyberCoders       Charlotte   \n",
       "\n",
       "                     state country   inferred_city  inferred_state  ...  \\\n",
       "0                       CA     Usa  Woodland hills      California  ...   \n",
       "1                       NJ     Usa      Middletown      New jersey  ...   \n",
       "2                       NY     Usa        New york        New york  ...   \n",
       "3  NY 10055 (Midtown area)     Usa        New york        New york  ...   \n",
       "4                       NC     Usa       Charlotte  North carolina  ...   \n",
       "\n",
       "                                     job_description   job_type  \\\n",
       "0  Read what people are saying about working here...  Undefined   \n",
       "1  We have an immediate opening for a Sharp Data ...  Undefined   \n",
       "2  Candidates should have the following backgroun...  Full Time   \n",
       "3  Read what people are saying about working here...  Undefined   \n",
       "4  We are seeking an extraordinary Data Scientist...  Full Time   \n",
       "\n",
       "  salary_offered job_board  geo            cursor contact_email  \\\n",
       "0            NaN    indeed  usa  1549432819114777           NaN   \n",
       "1            NaN      dice  usa  1549432819122106           NaN   \n",
       "2            NaN      dice  usa  1549432819236156           NaN   \n",
       "3            NaN    indeed  usa  1549432819259473           NaN   \n",
       "4            NaN   monster  usa  1549436429015957           NaN   \n",
       "\n",
       "   contact_phone_number                           uniq_id html_job_description  \n",
       "0                   NaN  3b6c6acfcba6135a31c83bd7ea493b18                  NaN  \n",
       "1                   NaN  741727428839ae7ada852eebef29b0fe                  NaN  \n",
       "2                   NaN  cdc9ef9a1de327ccdc19cc0d07dbbb37                  NaN  \n",
       "3                   NaN  1c8541cd2c2c924f9391c7d3f526f64e                  NaN  \n",
       "4                   NaN  445652a560a5441060857853cf267470                  NaN  \n",
       "\n",
       "[5 rows x 22 columns]"
      ]
     },
     "execution_count": 11,
     "metadata": {},
     "output_type": "execute_result"
    }
   ],
   "source": [
    "data.head()"
   ]
  },
  {
   "cell_type": "code",
   "execution_count": 13,
   "id": "ac0c62f1-c64e-4171-962b-19fa0ed0be7b",
   "metadata": {},
   "outputs": [
    {
     "name": "stdout",
     "output_type": "stream",
     "text": [
      "<class 'pandas.core.frame.DataFrame'>\n",
      "RangeIndex: 10000 entries, 0 to 9999\n",
      "Data columns (total 22 columns):\n",
      " #   Column                Non-Null Count  Dtype         \n",
      "---  ------                --------------  -----         \n",
      " 0   crawl_timestamp       10000 non-null  datetime64[ns]\n",
      " 1   url                   10000 non-null  object        \n",
      " 2   job_title             10000 non-null  object        \n",
      " 3   category              9118 non-null   object        \n",
      " 4   company_name          9999 non-null   object        \n",
      " 5   city                  9751 non-null   object        \n",
      " 6   state                 9584 non-null   object        \n",
      " 7   country               10000 non-null  object        \n",
      " 8   inferred_city         8980 non-null   object        \n",
      " 9   inferred_state        9484 non-null   object        \n",
      " 10  inferred_country      9505 non-null   object        \n",
      " 11  post_date             10000 non-null  datetime64[ns]\n",
      " 12  job_description       10000 non-null  object        \n",
      " 13  job_type              10000 non-null  object        \n",
      " 14  salary_offered        597 non-null    object        \n",
      " 15  job_board             9310 non-null   object        \n",
      " 16  geo                   9300 non-null   object        \n",
      " 17  cursor                10000 non-null  int64         \n",
      " 18  contact_email         0 non-null      float64       \n",
      " 19  contact_phone_number  416 non-null    object        \n",
      " 20  uniq_id               10000 non-null  object        \n",
      " 21  html_job_description  1599 non-null   object        \n",
      "dtypes: datetime64[ns](2), float64(1), int64(1), object(18)\n",
      "memory usage: 1.7+ MB\n"
     ]
    }
   ],
   "source": [
    "data.info()"
   ]
  },
  {
   "cell_type": "code",
   "execution_count": 14,
   "id": "787dc01c-b702-413f-9b84-a3b9565baaab",
   "metadata": {},
   "outputs": [
    {
     "data": {
      "text/plain": [
       "(10000, 22)"
      ]
     },
     "execution_count": 14,
     "metadata": {},
     "output_type": "execute_result"
    }
   ],
   "source": [
    "data.shape"
   ]
  },
  {
   "cell_type": "markdown",
   "id": "248bb59d-ee43-4d45-8fa9-84b70a77930c",
   "metadata": {},
   "source": [
    "---\n"
   ]
  },
  {
   "cell_type": "markdown",
   "id": "4b912b2a-3cda-4493-bb83-cf94e5ed0b10",
   "metadata": {},
   "source": [
    "### Loading Word2Vec-Pretrained"
   ]
  },
  {
   "cell_type": "markdown",
   "id": "4871ed58-1292-482a-9741-02b865933f36",
   "metadata": {},
   "source": [
    "Download bigger SpaCy text with:<br>\n",
    "python -m spacy download en_core_web_lg\n",
    "\n",
    "Or in Anaconda:<br>\n",
    "conda install spacy-model-en_core_web_lg"
   ]
  },
  {
   "cell_type": "code",
   "execution_count": 16,
   "id": "bfd74562-7406-49fa-973e-b9075702cb08",
   "metadata": {},
   "outputs": [],
   "source": [
    "job1 = data['job_description'][0]    # finance\n",
    "job2 = data['job_description'][3]    # bio\n",
    "job3 = data['job_description'][4]    # finance"
   ]
  },
  {
   "cell_type": "code",
   "execution_count": 2,
   "id": "242cf8c1-f40f-4205-87cb-cc2ad7fa1894",
   "metadata": {},
   "outputs": [],
   "source": [
    "import spacy\n",
    "\n",
    "nlp = spacy.load(\"en_core_web_lg\")\n",
    "doc1 = remove_stopwords(nlp(job1))\n",
    "doc2 = remove_stopwords(nlp(job2))"
   ]
  },
  {
   "cell_type": "code",
   "execution_count": 3,
   "id": "46dee924-a179-49f6-aa9d-a59bd2307d62",
   "metadata": {},
   "outputs": [],
   "source": [
    "# remove stopwords\n",
    "def remove_stopwords(doc):\n",
    "    cache = []\n",
    "    for token in doc:\n",
    "        if not token.is_stop:\n",
    "            cache += [token]\n",
    "    return cache"
   ]
  },
  {
   "cell_type": "code",
   "execution_count": null,
   "id": "7ec691ba-42f5-4fe8-aba2-6ac85b4de9d3",
   "metadata": {},
   "outputs": [],
   "source": [
    "# go throw tokens and calc similarity\n",
    "    # full similarity -> sum with all other tokens\n",
    "text_similarity = dict()\n",
    "for token in doc1:\n",
    "    sum_sim = 0\n",
    "    for token_other in doc2:\n",
    "        sim += token.similarity(token_other)\n",
    "        \n",
    "    label = token.text\n",
    "    i = 1\n",
    "    while label in text_similarity.keys():\n",
    "        label = f\"token.text{i}\"\n",
    "        i += 1\n",
    "    text_similarity[label] = sum_sim"
   ]
  },
  {
   "cell_type": "code",
   "execution_count": null,
   "id": "f998202c-40ca-4f7d-b014-aabdca916a8b",
   "metadata": {},
   "outputs": [],
   "source": [
    "# token1.similarity(token2)"
   ]
  }
 ],
 "metadata": {
  "kernelspec": {
   "display_name": "Python 3 (ipykernel)",
   "language": "python",
   "name": "python3"
  },
  "language_info": {
   "codemirror_mode": {
    "name": "ipython",
    "version": 3
   },
   "file_extension": ".py",
   "mimetype": "text/x-python",
   "name": "python",
   "nbconvert_exporter": "python",
   "pygments_lexer": "ipython3",
   "version": "3.9.10"
  }
 },
 "nbformat": 4,
 "nbformat_minor": 5
}
