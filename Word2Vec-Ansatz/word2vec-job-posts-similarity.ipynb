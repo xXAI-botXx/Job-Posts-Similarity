{
 "cells": [
  {
   "cell_type": "markdown",
   "id": "d7bca718-ab1d-49d6-a532-cc2173b7cfbc",
   "metadata": {},
   "source": [
    "---\n",
    "# Ähnlichkeit von Job-Stellenausschreibungen mit Word2Vec-Ansatz\n",
    "by Tobia Ippolito\n",
    "\n",
    "---"
   ]
  },
  {
   "cell_type": "markdown",
   "id": "2dadd054-38ce-4910-8c49-0de47fb5fc93",
   "metadata": {},
   "source": [
    "## Table of Content\n",
    "\n",
    "- [Aufgabenstellung](#Aufgabenstellung)\n",
    "- [Wann ist eine Stellenausschreibung ähnlich?](#Wann-ist-eine-Stellenausschreibung-ähnlich?)\n",
    "- [Grundgedanke](#Grundgedanke)\n",
    "- [Imports](#Imports)\n",
    "- [Preparations](#Preparation)\n",
    "- Experimente\n",
    "    - [Word2Vec Similarity der Jobbeschreibung](#Experiment-1:-Word2Vec-Similarity-der-Jobbeschreibung)\n",
    "    - [Word2Vec der Jobbeschreibung mit nur wichtigen Wörtern](#Experiment-2:-Word2Vec-der-Jobbeschreibung-mit-nur-wichtigen-Wörtern)\n",
    "    - [Word2Vec der Jobbeschreibung mit nur Entitäten](#Experiment-3:-Word2Vec-der-Jobbeschreibung-mit-nur-Entitäten)\n",
    "    - [Word2Vec der Jobbeschreibung mit nur wichtigen Wörtern und anderer Ausrechnungsart 1](#Experiment-4:-Word2Vec-der-Jobbeschreibung-mit-nur-wichtigen-Wörtern-und-anderer-Ausrechnungsart-1)\n",
    "    - [Word2Vec der Jobbeschreibung mit nur wichtigen Wörtern und anderer Ausrechnungsart 2](#Experiment-5:-Word2Vec-der-Jobbeschreibung-mit-nur-wichtigen-Wörtern-und-anderer-Ausrechnungsart-2)\n",
    "    - [Ähnlichkeit der Job-Titel mit Word2vec](#Experiment-6:-Ähnlichkeit-der-Job-Titel-mit-Word2vec)\n",
    "    - [Ähnlichkeit der Job-Kategorien](#Experiment-7:-Ähnlichkeit-der-Job-Kategorien)\n",
    "    - [Ähnlichkeit der Job-Orte](#Experiment-8:-Ähnlichkeit-der-Job-Orte)\n",
    "    - [Ähnlichkeit der Job-Art](#Experiment-9:-Ähnlichkeit-der-Job-Art)\n",
    "    - [Point-Gain-Proceedings](#Experiment-10:-Point-Gain-Proceedings)\n",
    "    - [Parallelisierung](#Experiment-11:-Paralleles-Ausführen)\n",
    "- [Evaluation](#Evaluation)\n",
    "- [Anwendung](#Anwendung)\n",
    "- [Profiling](#Profiling)\n",
    "- [Location Runtime Test](#Location-Runtime-Test)\n",
    "- [Trimmed Category Calc](#Trimmed-Category-Calc)\n",
    "\n",
    "<br>\n",
    "\n",
    "> ***Hinweis**: Klicken Sie sich einfach zu den jeweiligen Kapiteln. Dort befinden sich rechts Racketen, welche sie mit einem Klick wieder hier hin bringen, wo Sie von neuem weiter navigieren können.* <img src=\"./rackete_1.png\" style=\"float:right\" width=50></img>\n",
    "\n",
    "<br>\n",
    "\n",
    "---"
   ]
  },
  {
   "cell_type": "markdown",
   "id": "437da96f-adc0-4a09-92d6-8fa4e53bb4e1",
   "metadata": {
    "tags": []
   },
   "source": [
    "### Aufgabenstellung\n",
    "\n",
    "Finden von ähnlichen Job-Posts\n",
    "Stellen Sie sich vor, ein/e Bewerber/in hat eine für ihn / sie interessante Stelle gefunden. Nun\n",
    "würde er/sie gerne automatisch ähnliche Stellen vorgeschlagen bekommen, die auch\n",
    "interessant sein könnten. Wie könnte eine entsprechende Funktionalität implementiert\n",
    "werden?\n",
    "\n",
    "> Definieren Sie zunächst, wann eine Stelle in diesem Szenario als ähnlich gesehen\n",
    "werden sollte.\n",
    "\n",
    "> Überlegen Sie dann, mit welchen Ansätzen diese Art von Ähnlichkeit erfasst werden kann.\n",
    "\n",
    "> Setzen Sie diese anschließend um. Verwenden Sie Experimente und gehen Sie strukturiert vor.\n",
    "\n",
    "<br>\n",
    "\n",
    "---"
   ]
  },
  {
   "cell_type": "markdown",
   "id": "1b5bfa1b-15ce-47c4-b441-e451b8a1fe60",
   "metadata": {},
   "source": [
    "### Wann ist eine Stellenausschreibung ähnlich?\n",
    "\n",
    "Eigenschaften eine Job-Posts:\n",
    "- Job Beschreibung\n",
    "- Job Titel\n",
    "- Kategorie/Thema\n",
    "- Ort (Stadt, Land, Unternehmen)\n",
    "- Plattform\n",
    "- Berufsart\n",
    "\n",
    "\n",
    "Arten der Ähnlichkeit bei Job-Posts:\n",
    "- Ansprüche \n",
    "- Fachgebiet\n",
    "- Spezieller Beruf/Bezeichnung (Ähnlichkeit der Aktivität)\n",
    "- Gehalt\n",
    "- Firma\n",
    "- Plattform\n",
    "- Ort\n",
    "- Berufsart (Teilszeit, ...)\n",
    "- Textlänge\n",
    "- Grammatik\n",
    "\n",
    "\n",
    "Tatsächlich ist keine objektive Ähnlichkeit festzulegen. Stattdessen ist es subjektiv, wie ähnlich sich Berufstellenanzeigen sind. So ist für eine Person ein naher/ähnlicher Ort wichtig und für eine andere, dass es Vollzeit ist.<br>\n",
    "Generell gehe ich jedoch davon aus, dass die wichtigste Eigenschaft der Beruf an sich ist (Berufsbezeichnung)."
   ]
  },
  {
   "cell_type": "markdown",
   "id": "ceb493c7-20a0-4424-9c39-99a12995d24a",
   "metadata": {},
   "source": [
    "---\n",
    "### Grundgedanke\n",
    "\n",
    "Zum einen soll die Suche flexibel und individuell anpassbar sein, da wir [gerade](#Wann-ist-eine-Stellenausschreibung-ähnlich?) gesehen haben, dass die Ähnlichkeit bei Job-Posts subjektiv ist.<br>\n",
    "Zum anderen soll das Verfahren Word2Vec zur verwendung kommen. Dieses Verfahren stellt Wörter nämlich so dar, dass ähnliche Wörter mit repräsentiert werden. Dies wollen wir uns in dieser Arbeit zunutze machen.<br>\n",
    "Ein Job-Post besteht zu einem großen Teil aus Wörtern, welche einen semantischen Sinn haben und welcher auch von großer Bedeutung ist -> Jobbezeichnung + Jobbeschreibung.\n",
    "\n",
    "---"
   ]
  },
  {
   "cell_type": "markdown",
   "id": "cf857fbc-a84b-435c-8a31-ae4003e348cb",
   "metadata": {},
   "source": [
    "### Imports"
   ]
  },
  {
   "cell_type": "code",
   "execution_count": 5,
   "id": "dcf5619c-30dc-498d-99c2-6cbd316601b7",
   "metadata": {},
   "outputs": [],
   "source": [
    "import numpy as np\n",
    "import pandas as pd\n",
    "import matplotlib.pyplot as plt\n",
    "from matplotlib.cm import ScalarMappable\n",
    "import seaborn as sn\n",
    "\n",
    "import spacy\n",
    "from spacy.tokens import Token\n",
    "\n",
    "from geopy.geocoders import Nominatim\n",
    "from geopy.distance import geodesic\n",
    "\n",
    "import multiprocessing as mp\n",
    "\n",
    "import time\n",
    "import cProfile\n",
    "import warnings"
   ]
  },
  {
   "cell_type": "markdown",
   "id": "91ff9251-e1b9-4111-bee0-50ace941febd",
   "metadata": {},
   "source": [
    "---\n",
    "\n",
    "### Preparation\n",
    "<!--<p style=\"float:right\">Up</p>-->"
   ]
  },
  {
   "cell_type": "markdown",
   "id": "6d3c13a4-3ebd-4805-8e85-bfdccda81644",
   "metadata": {},
   "source": [
    "[<img src=\"./rackete_1.png\" style=\"float:right\" width=100></img>](#Table-of-Content)"
   ]
  },
  {
   "cell_type": "markdown",
   "id": "3074929e-9693-4257-b05a-3ef23a917035",
   "metadata": {},
   "source": [
    "**Loading Data**"
   ]
  },
  {
   "cell_type": "code",
   "execution_count": 6,
   "id": "074914ad-5fd6-45d0-8c44-c1999a74cba5",
   "metadata": {},
   "outputs": [
    {
     "name": "stdout",
     "output_type": "stream",
     "text": [
      "Requirement already satisfied: openpyxl in c:\\users\\tobia\\anaconda3\\envs\\ai\\lib\\site-packages (3.0.10)\n",
      "Requirement already satisfied: et-xmlfile in c:\\users\\tobia\\anaconda3\\envs\\ai\\lib\\site-packages (from openpyxl) (1.1.0)\n"
     ]
    },
    {
     "name": "stderr",
     "output_type": "stream",
     "text": [
      "WARNING: Ignoring invalid distribution -atplotlib (c:\\users\\tobia\\anaconda3\\envs\\ai\\lib\\site-packages)\n",
      "WARNING: Ignoring invalid distribution -atplotlib (c:\\users\\tobia\\anaconda3\\envs\\ai\\lib\\site-packages)\n",
      "WARNING: Ignoring invalid distribution -atplotlib (c:\\users\\tobia\\anaconda3\\envs\\ai\\lib\\site-packages)\n",
      "WARNING: Ignoring invalid distribution -atplotlib (c:\\users\\tobia\\anaconda3\\envs\\ai\\lib\\site-packages)\n",
      "WARNING: Ignoring invalid distribution -atplotlib (c:\\users\\tobia\\anaconda3\\envs\\ai\\lib\\site-packages)\n",
      "WARNING: Ignoring invalid distribution -atplotlib (c:\\users\\tobia\\anaconda3\\envs\\ai\\lib\\site-packages)\n"
     ]
    }
   ],
   "source": [
    "!pip install openpyxl"
   ]
  },
  {
   "cell_type": "code",
   "execution_count": 7,
   "id": "033f1749-0589-49d8-be30-b994664e6af2",
   "metadata": {},
   "outputs": [],
   "source": [
    "data = pd.read_excel(\"../data_scientist_united_states_job_postings_jobspikr.xlsx\")"
   ]
  },
  {
   "cell_type": "code",
   "execution_count": 8,
   "id": "c7b461a6-1dea-43a5-b658-6fd2acbb4e99",
   "metadata": {},
   "outputs": [
    {
     "data": {
      "text/html": [
       "<div>\n",
       "<style scoped>\n",
       "    .dataframe tbody tr th:only-of-type {\n",
       "        vertical-align: middle;\n",
       "    }\n",
       "\n",
       "    .dataframe tbody tr th {\n",
       "        vertical-align: top;\n",
       "    }\n",
       "\n",
       "    .dataframe thead th {\n",
       "        text-align: right;\n",
       "    }\n",
       "</style>\n",
       "<table border=\"1\" class=\"dataframe\">\n",
       "  <thead>\n",
       "    <tr style=\"text-align: right;\">\n",
       "      <th></th>\n",
       "      <th>crawl_timestamp</th>\n",
       "      <th>url</th>\n",
       "      <th>job_title</th>\n",
       "      <th>category</th>\n",
       "      <th>company_name</th>\n",
       "      <th>city</th>\n",
       "      <th>state</th>\n",
       "      <th>country</th>\n",
       "      <th>inferred_city</th>\n",
       "      <th>inferred_state</th>\n",
       "      <th>...</th>\n",
       "      <th>job_description</th>\n",
       "      <th>job_type</th>\n",
       "      <th>salary_offered</th>\n",
       "      <th>job_board</th>\n",
       "      <th>geo</th>\n",
       "      <th>cursor</th>\n",
       "      <th>contact_email</th>\n",
       "      <th>contact_phone_number</th>\n",
       "      <th>uniq_id</th>\n",
       "      <th>html_job_description</th>\n",
       "    </tr>\n",
       "  </thead>\n",
       "  <tbody>\n",
       "    <tr>\n",
       "      <th>0</th>\n",
       "      <td>2019-02-06 06:26:22</td>\n",
       "      <td>https://www.indeed.com/viewjob?jk=fd83355c2b23...</td>\n",
       "      <td>Enterprise Data Scientist I</td>\n",
       "      <td>Accounting/Finance</td>\n",
       "      <td>Farmers Insurance Group</td>\n",
       "      <td>Woodland Hills</td>\n",
       "      <td>CA</td>\n",
       "      <td>Usa</td>\n",
       "      <td>Woodland hills</td>\n",
       "      <td>California</td>\n",
       "      <td>...</td>\n",
       "      <td>Read what people are saying about working here...</td>\n",
       "      <td>Undefined</td>\n",
       "      <td>NaN</td>\n",
       "      <td>indeed</td>\n",
       "      <td>usa</td>\n",
       "      <td>1549432819114777</td>\n",
       "      <td>NaN</td>\n",
       "      <td>NaN</td>\n",
       "      <td>3b6c6acfcba6135a31c83bd7ea493b18</td>\n",
       "      <td>NaN</td>\n",
       "    </tr>\n",
       "    <tr>\n",
       "      <th>1</th>\n",
       "      <td>2019-02-06 06:33:41</td>\n",
       "      <td>https://www.dice.com/jobs/detail/Data-Scientis...</td>\n",
       "      <td>Data Scientist</td>\n",
       "      <td>NaN</td>\n",
       "      <td>Luxoft USA Inc</td>\n",
       "      <td>Middletown</td>\n",
       "      <td>NJ</td>\n",
       "      <td>Usa</td>\n",
       "      <td>Middletown</td>\n",
       "      <td>New jersey</td>\n",
       "      <td>...</td>\n",
       "      <td>We have an immediate opening for a Sharp Data ...</td>\n",
       "      <td>Undefined</td>\n",
       "      <td>NaN</td>\n",
       "      <td>dice</td>\n",
       "      <td>usa</td>\n",
       "      <td>1549432819122106</td>\n",
       "      <td>NaN</td>\n",
       "      <td>NaN</td>\n",
       "      <td>741727428839ae7ada852eebef29b0fe</td>\n",
       "      <td>NaN</td>\n",
       "    </tr>\n",
       "    <tr>\n",
       "      <th>2</th>\n",
       "      <td>2019-02-06 06:33:35</td>\n",
       "      <td>https://www.dice.com/jobs/detail/Data-Scientis...</td>\n",
       "      <td>Data Scientist</td>\n",
       "      <td>NaN</td>\n",
       "      <td>Cincinnati Bell Technology Solutions</td>\n",
       "      <td>New York</td>\n",
       "      <td>NY</td>\n",
       "      <td>Usa</td>\n",
       "      <td>New york</td>\n",
       "      <td>New york</td>\n",
       "      <td>...</td>\n",
       "      <td>Candidates should have the following backgroun...</td>\n",
       "      <td>Full Time</td>\n",
       "      <td>NaN</td>\n",
       "      <td>dice</td>\n",
       "      <td>usa</td>\n",
       "      <td>1549432819236156</td>\n",
       "      <td>NaN</td>\n",
       "      <td>NaN</td>\n",
       "      <td>cdc9ef9a1de327ccdc19cc0d07dbbb37</td>\n",
       "      <td>NaN</td>\n",
       "    </tr>\n",
       "    <tr>\n",
       "      <th>3</th>\n",
       "      <td>2019-02-06 06:33:42</td>\n",
       "      <td>https://www.indeed.com/viewjob?jk=841edd86ead2...</td>\n",
       "      <td>Data Scientist, Aladdin Wealth Tech, Associate...</td>\n",
       "      <td>Accounting/Finance</td>\n",
       "      <td>BlackRock</td>\n",
       "      <td>New York</td>\n",
       "      <td>NY 10055 (Midtown area)</td>\n",
       "      <td>Usa</td>\n",
       "      <td>New york</td>\n",
       "      <td>New york</td>\n",
       "      <td>...</td>\n",
       "      <td>Read what people are saying about working here...</td>\n",
       "      <td>Undefined</td>\n",
       "      <td>NaN</td>\n",
       "      <td>indeed</td>\n",
       "      <td>usa</td>\n",
       "      <td>1549432819259473</td>\n",
       "      <td>NaN</td>\n",
       "      <td>NaN</td>\n",
       "      <td>1c8541cd2c2c924f9391c7d3f526f64e</td>\n",
       "      <td>NaN</td>\n",
       "    </tr>\n",
       "    <tr>\n",
       "      <th>4</th>\n",
       "      <td>2019-02-06 06:48:23</td>\n",
       "      <td>https://job-openings.monster.com/senior-data-s...</td>\n",
       "      <td>Senior Data Scientist</td>\n",
       "      <td>biotech</td>\n",
       "      <td>CyberCoders</td>\n",
       "      <td>Charlotte</td>\n",
       "      <td>NC</td>\n",
       "      <td>Usa</td>\n",
       "      <td>Charlotte</td>\n",
       "      <td>North carolina</td>\n",
       "      <td>...</td>\n",
       "      <td>We are seeking an extraordinary Data Scientist...</td>\n",
       "      <td>Full Time</td>\n",
       "      <td>NaN</td>\n",
       "      <td>monster</td>\n",
       "      <td>usa</td>\n",
       "      <td>1549436429015957</td>\n",
       "      <td>NaN</td>\n",
       "      <td>NaN</td>\n",
       "      <td>445652a560a5441060857853cf267470</td>\n",
       "      <td>NaN</td>\n",
       "    </tr>\n",
       "  </tbody>\n",
       "</table>\n",
       "<p>5 rows × 22 columns</p>\n",
       "</div>"
      ],
      "text/plain": [
       "      crawl_timestamp                                                url  \\\n",
       "0 2019-02-06 06:26:22  https://www.indeed.com/viewjob?jk=fd83355c2b23...   \n",
       "1 2019-02-06 06:33:41  https://www.dice.com/jobs/detail/Data-Scientis...   \n",
       "2 2019-02-06 06:33:35  https://www.dice.com/jobs/detail/Data-Scientis...   \n",
       "3 2019-02-06 06:33:42  https://www.indeed.com/viewjob?jk=841edd86ead2...   \n",
       "4 2019-02-06 06:48:23  https://job-openings.monster.com/senior-data-s...   \n",
       "\n",
       "                                           job_title            category  \\\n",
       "0                        Enterprise Data Scientist I  Accounting/Finance   \n",
       "1                                     Data Scientist                 NaN   \n",
       "2                                     Data Scientist                 NaN   \n",
       "3  Data Scientist, Aladdin Wealth Tech, Associate...  Accounting/Finance   \n",
       "4                              Senior Data Scientist             biotech   \n",
       "\n",
       "                           company_name            city  \\\n",
       "0               Farmers Insurance Group  Woodland Hills   \n",
       "1                        Luxoft USA Inc      Middletown   \n",
       "2  Cincinnati Bell Technology Solutions        New York   \n",
       "3                             BlackRock        New York   \n",
       "4                           CyberCoders       Charlotte   \n",
       "\n",
       "                     state country   inferred_city  inferred_state  ...  \\\n",
       "0                       CA     Usa  Woodland hills      California  ...   \n",
       "1                       NJ     Usa      Middletown      New jersey  ...   \n",
       "2                       NY     Usa        New york        New york  ...   \n",
       "3  NY 10055 (Midtown area)     Usa        New york        New york  ...   \n",
       "4                       NC     Usa       Charlotte  North carolina  ...   \n",
       "\n",
       "                                     job_description   job_type  \\\n",
       "0  Read what people are saying about working here...  Undefined   \n",
       "1  We have an immediate opening for a Sharp Data ...  Undefined   \n",
       "2  Candidates should have the following backgroun...  Full Time   \n",
       "3  Read what people are saying about working here...  Undefined   \n",
       "4  We are seeking an extraordinary Data Scientist...  Full Time   \n",
       "\n",
       "  salary_offered job_board  geo            cursor contact_email  \\\n",
       "0            NaN    indeed  usa  1549432819114777           NaN   \n",
       "1            NaN      dice  usa  1549432819122106           NaN   \n",
       "2            NaN      dice  usa  1549432819236156           NaN   \n",
       "3            NaN    indeed  usa  1549432819259473           NaN   \n",
       "4            NaN   monster  usa  1549436429015957           NaN   \n",
       "\n",
       "   contact_phone_number                           uniq_id html_job_description  \n",
       "0                   NaN  3b6c6acfcba6135a31c83bd7ea493b18                  NaN  \n",
       "1                   NaN  741727428839ae7ada852eebef29b0fe                  NaN  \n",
       "2                   NaN  cdc9ef9a1de327ccdc19cc0d07dbbb37                  NaN  \n",
       "3                   NaN  1c8541cd2c2c924f9391c7d3f526f64e                  NaN  \n",
       "4                   NaN  445652a560a5441060857853cf267470                  NaN  \n",
       "\n",
       "[5 rows x 22 columns]"
      ]
     },
     "execution_count": 8,
     "metadata": {},
     "output_type": "execute_result"
    }
   ],
   "source": [
    "data.head()"
   ]
  },
  {
   "cell_type": "code",
   "execution_count": 9,
   "id": "ac0c62f1-c64e-4171-962b-19fa0ed0be7b",
   "metadata": {},
   "outputs": [
    {
     "name": "stdout",
     "output_type": "stream",
     "text": [
      "<class 'pandas.core.frame.DataFrame'>\n",
      "RangeIndex: 10000 entries, 0 to 9999\n",
      "Data columns (total 22 columns):\n",
      " #   Column                Non-Null Count  Dtype         \n",
      "---  ------                --------------  -----         \n",
      " 0   crawl_timestamp       10000 non-null  datetime64[ns]\n",
      " 1   url                   10000 non-null  object        \n",
      " 2   job_title             10000 non-null  object        \n",
      " 3   category              9118 non-null   object        \n",
      " 4   company_name          9999 non-null   object        \n",
      " 5   city                  9751 non-null   object        \n",
      " 6   state                 9584 non-null   object        \n",
      " 7   country               10000 non-null  object        \n",
      " 8   inferred_city         8980 non-null   object        \n",
      " 9   inferred_state        9484 non-null   object        \n",
      " 10  inferred_country      9505 non-null   object        \n",
      " 11  post_date             10000 non-null  datetime64[ns]\n",
      " 12  job_description       10000 non-null  object        \n",
      " 13  job_type              10000 non-null  object        \n",
      " 14  salary_offered        597 non-null    object        \n",
      " 15  job_board             9310 non-null   object        \n",
      " 16  geo                   9300 non-null   object        \n",
      " 17  cursor                10000 non-null  int64         \n",
      " 18  contact_email         0 non-null      float64       \n",
      " 19  contact_phone_number  416 non-null    object        \n",
      " 20  uniq_id               10000 non-null  object        \n",
      " 21  html_job_description  1599 non-null   object        \n",
      "dtypes: datetime64[ns](2), float64(1), int64(1), object(18)\n",
      "memory usage: 1.7+ MB\n"
     ]
    }
   ],
   "source": [
    "data.info()"
   ]
  },
  {
   "cell_type": "code",
   "execution_count": 10,
   "id": "787dc01c-b702-413f-9b84-a3b9565baaab",
   "metadata": {},
   "outputs": [
    {
     "data": {
      "text/plain": [
       "(10000, 22)"
      ]
     },
     "execution_count": 10,
     "metadata": {},
     "output_type": "execute_result"
    }
   ],
   "source": [
    "data.shape"
   ]
  },
  {
   "cell_type": "markdown",
   "id": "274d1e72-e05c-4d7f-8cc4-83db4c6592a3",
   "metadata": {},
   "source": [
    "---"
   ]
  },
  {
   "cell_type": "markdown",
   "id": "4871ed58-1292-482a-9741-02b865933f36",
   "metadata": {},
   "source": [
    "Download bigger SpaCy train text with:<br>\n",
    "python -m spacy download en_core_web_lg\n",
    "\n",
    "Or in Anaconda:<br>\n",
    "conda install spacy-model-en_core_web_lg"
   ]
  },
  {
   "cell_type": "markdown",
   "id": "d497729c-d2ff-4ebd-a3d5-64705f04e28f",
   "metadata": {},
   "source": [
    "Create an Example:\n",
    "\n",
    "- job1 = Farmer job    - Accounting/Finance\n",
    "- job2 = Finance job (investing, black rock)   - Accounting/Finance\n",
    "- job3 = Data Science (analytics)\n",
    "- job4 = Data Science (small text, machine learning)\n",
    "- job5 = Data Science "
   ]
  },
  {
   "cell_type": "code",
   "execution_count": 11,
   "id": "d216fa02",
   "metadata": {},
   "outputs": [],
   "source": [
    "job_con = {'job1':0, 'job2':3, 'job3':4, 'job4':2, 'job5':1}"
   ]
  },
  {
   "cell_type": "code",
   "execution_count": 12,
   "id": "bfd74562-7406-49fa-973e-b9075702cb08",
   "metadata": {},
   "outputs": [],
   "source": [
    "job1 = data['job_description'][0]    # farmer\n",
    "job2 = data['job_description'][3]    # finance -> inevsting, black rock\n",
    "job3 = data['job_description'][4]    # data science -> analytics / bio\n",
    "job4 = data['job_description'][2]    # data science -> machine learning\n",
    "job5 = data['job_description'][1]    # data science -> mathematics\n",
    "\n",
    "jobs_ = (job1, job2, job3, job4, job5)"
   ]
  },
  {
   "cell_type": "markdown",
   "id": "f86f150c-e6c3-45aa-ba01-ef2f82a63f2f",
   "metadata": {},
   "source": [
    "Evaluation Function for evaulate a result"
   ]
  },
  {
   "cell_type": "code",
   "execution_count": 13,
   "id": "e08c6419-7a2f-439c-b44b-6723a4e610b5",
   "metadata": {},
   "outputs": [],
   "source": [
    "def eval_similarity(similarity_matrix, labels, heatmap=True, k=1):\n",
    "    \"\"\"\n",
    "    Evaluation function for similarity.\n",
    "    \"\"\"\n",
    "    if not heatmap:\n",
    "        fig, ax = plt.subplots(nrows=(len(labels)+1)//2, ncols=2, figsize=(15, 15))  #, constrained_layout=True\n",
    "        #fig.tight_layout()\n",
    "        plt.subplots_adjust(hspace = 0.3)\n",
    "\n",
    "        row_ = 0\n",
    "        col_ = 0\n",
    "\n",
    "        for i, sim in enumerate(similarity_matrix):\n",
    "            # create cmap with normalize values\n",
    "            my_cmap = plt.cm.get_cmap('GnBu')\n",
    "            colors = my_cmap([x / max(sim) for x in sim])\n",
    "            # plot one job simiralities\n",
    "            ax[row_][col_].set_title(f\"Similarities from job{i+1}\")\n",
    "            ax[row_][col_].bar(labels, sim, edgecolor='black', color=colors)\n",
    "            ax[row_][col_].grid()\n",
    "\n",
    "            # add colorbar\n",
    "            sm = ScalarMappable(cmap=my_cmap, norm=plt.Normalize(0,max(sim)))\n",
    "            sm.set_array([])\n",
    "            cbar = fig.colorbar(sm, ax=ax[row_][col_])\n",
    "            cbar.set_label('Color', rotation=270,labelpad=25)\n",
    "\n",
    "            # update col and row for axes indices\n",
    "            if col_ == 1:\n",
    "                col_ = 0\n",
    "                row_ += 1\n",
    "            else:\n",
    "                col_ += 1\n",
    "\n",
    "        plt.plot()\n",
    "    else:\n",
    "        # create mask for only half\n",
    "        mask = np.triu(similarity_matrix, k=k)\n",
    "        # np.ones_like(similarity_matrix, dtype=bool)\n",
    "        #print(mask)\n",
    "        \n",
    "        df_color_map = pd.DataFrame(similarity_matrix, index=labels, columns=labels)\n",
    "        plt.figure(figsize = (10,7))\n",
    "        plt.title(\"Job Similarities\")\n",
    "        sn.heatmap(df_color_map, annot=True, cmap=sn.cm.rocket_r, mask=mask)"
   ]
  },
  {
   "cell_type": "code",
   "execution_count": 14,
   "id": "d95435c8-efa1-4227-8808-4c76e7b1742f",
   "metadata": {},
   "outputs": [],
   "source": [
    "def create_similarity_matrix(sim_func, jobs):\n",
    "    similarity_matrix = []\n",
    "    for i in jobs:\n",
    "        cache = []\n",
    "        for j in jobs:\n",
    "            cache += [sim_func(i, j)]\n",
    "        similarity_matrix += [cache]\n",
    "    return similarity_matrix"
   ]
  },
  {
   "cell_type": "markdown",
   "id": "4a9fa408-2e7d-40c1-b085-1bb9535f40f9",
   "metadata": {},
   "source": [
    "**Hinweis an den Leser:**\n",
    "\n",
    "Bei der Evaluierung der folgenden Experimente wäre folgendes Ergebnis ein optimales Ergebnis. Nur um dies besser einordnen zu können."
   ]
  },
  {
   "cell_type": "code",
   "execution_count": 15,
   "id": "8baae497-74e4-4d87-bfe4-a726c6b99590",
   "metadata": {},
   "outputs": [
    {
     "data": {
      "image/png": "[encoded data removed]",
      "text/plain": [
       "<Figure size 720x504 with 2 Axes>"
      ]
     },
     "metadata": {
      "needs_background": "light"
     },
     "output_type": "display_data"
    }
   ],
   "source": [
    "template = [[1, 0.7, 0.3, 0.3, 0.3], \n",
    "           [0.7, 1, 0.3, 0.3, 0.3],\n",
    "           [0.3, 0.3, 1, 0.95, 0.95],\n",
    "           [0.3, 0.3, 0.95, 1, 0.95],\n",
    "           [0.3, 0.3, 0.95, 0.95, 1]]\n",
    "eval_similarity(template, [\"job1\", \"job2\", \"job3\", \"job4\", \"job5\"])"
   ]
  },
  {
   "cell_type": "markdown",
   "id": "04374981-2ea9-4905-8b78-93a5edd8f8be",
   "metadata": {},
   "source": [
    "Die Jobs 3-5 sind ähnliche Jobs und sonst sind alle verschieden."
   ]
  },
  {
   "cell_type": "markdown",
   "id": "248bb59d-ee43-4d45-8fa9-84b70a77930c",
   "metadata": {},
   "source": [
    "---\n"
   ]
  },
  {
   "cell_type": "markdown",
   "id": "4b912b2a-3cda-4493-bb83-cf94e5ed0b10",
   "metadata": {},
   "source": [
    "### **Experiment 1:** Word2Vec Similarity der Jobbeschreibung\n",
    "\n",
    "In diesem Experiment soll die Ähnlichkeit der Stellenausschreibungen mithilfe des Word2Vec-Distanz der Job-Beschreibungen evaluiert werden.<br>\n",
    "Die Jobbeschreibung wird in diesem Experiment nicht verändert."
   ]
  },
  {
   "cell_type": "markdown",
   "id": "531b5668-a31d-44e9-aebf-3dedd50a4de6",
   "metadata": {},
   "source": [
    "[<img src=\"./rackete_1.png\" style=\"float:right\" width=100></img>](#Table-of-Content)"
   ]
  },
  {
   "cell_type": "code",
   "execution_count": 16,
   "id": "13abbc47-23e4-4054-9e25-4f6cff8d2365",
   "metadata": {},
   "outputs": [],
   "source": [
    "nlp = spacy.load(\"en_core_web_lg\")\n",
    "\n",
    "doc1 = nlp(job1)\n",
    "doc2 = nlp(job2)\n",
    "doc3 = nlp(job3)\n",
    "doc4 = nlp(job4)\n",
    "doc5 = nlp(job5)"
   ]
  },
  {
   "cell_type": "code",
   "execution_count": 17,
   "id": "7b70e4c2-2334-4dfe-a5fe-911489590bc9",
   "metadata": {},
   "outputs": [],
   "source": [
    "jobs = (doc1, doc2, doc3, doc4, doc5)\n",
    "job_labels = [\"job1\", \"job2\", \"job3\", \"job4\", \"job5\"]"
   ]
  },
  {
   "cell_type": "code",
   "execution_count": 18,
   "id": "e4f189fa",
   "metadata": {},
   "outputs": [
    {
     "data": {
      "text/plain": [
       "0.9840876837987785"
      ]
     },
     "execution_count": 18,
     "metadata": {},
     "output_type": "execute_result"
    }
   ],
   "source": [
    "doc1.similarity(doc2)"
   ]
  },
  {
   "cell_type": "code",
   "execution_count": 19,
   "id": "1075d2c4-c2c1-48d7-aa2b-82a2951a8880",
   "metadata": {},
   "outputs": [
    {
     "data": {
      "text/plain": [
       "0.9855178678414908"
      ]
     },
     "execution_count": 19,
     "metadata": {},
     "output_type": "execute_result"
    }
   ],
   "source": [
    "doc1.similarity(doc3)"
   ]
  },
  {
   "cell_type": "code",
   "execution_count": 20,
   "id": "6e359ecd-a05d-418c-95b7-17a1d6b97ec9",
   "metadata": {},
   "outputs": [
    {
     "data": {
      "text/plain": [
       "0.9882321369734971"
      ]
     },
     "execution_count": 20,
     "metadata": {},
     "output_type": "execute_result"
    }
   ],
   "source": [
    "doc2.similarity(doc3)"
   ]
  },
  {
   "cell_type": "code",
   "execution_count": 21,
   "id": "b07aaf28-616e-4baf-9697-15c069640828",
   "metadata": {},
   "outputs": [
    {
     "data": {
      "text/plain": [
       "0.9802072187890001"
      ]
     },
     "execution_count": 21,
     "metadata": {},
     "output_type": "execute_result"
    }
   ],
   "source": [
    "doc1[:].similarity(doc5)"
   ]
  },
  {
   "cell_type": "code",
   "execution_count": 22,
   "id": "608ceac8-0999-4c33-ac0e-c255da39f6ab",
   "metadata": {},
   "outputs": [
    {
     "data": {
      "text/plain": [
       "0.9440867304801941"
      ]
     },
     "execution_count": 22,
     "metadata": {},
     "output_type": "execute_result"
    }
   ],
   "source": [
    "doc3[:].similarity(doc4[:])"
   ]
  },
  {
   "cell_type": "code",
   "execution_count": 23,
   "id": "ea4e9075-180f-407f-8e4e-76d22bc0f290",
   "metadata": {},
   "outputs": [
    {
     "data": {
      "text/plain": [
       "0.9785909652709961"
      ]
     },
     "execution_count": 23,
     "metadata": {},
     "output_type": "execute_result"
    }
   ],
   "source": [
    "doc3[:].similarity(doc5[:])"
   ]
  },
  {
   "cell_type": "code",
   "execution_count": 24,
   "id": "129ffcd5-0b33-44c9-8c55-494a7d165ed4",
   "metadata": {},
   "outputs": [
    {
     "data": {
      "text/plain": [
       "0.9545732736587524"
      ]
     },
     "execution_count": 24,
     "metadata": {},
     "output_type": "execute_result"
    }
   ],
   "source": [
    "doc4[:].similarity(doc5[:])"
   ]
  },
  {
   "cell_type": "code",
   "execution_count": 25,
   "id": "05dcc22e-14ea-46a9-bc42-f6b554efda82",
   "metadata": {},
   "outputs": [],
   "source": [
    "similarity = create_similarity_matrix(lambda x,y: x.similarity(y), jobs)"
   ]
  },
  {
   "cell_type": "code",
   "execution_count": 26,
   "id": "adafe393-1af2-42e1-bcf4-2dbd9414f17b",
   "metadata": {},
   "outputs": [
    {
     "data": {
      "image/png": "[encoded data removed]",
      "text/plain": [
       "<Figure size 720x504 with 2 Axes>"
      ]
     },
     "metadata": {
      "needs_background": "light"
     },
     "output_type": "display_data"
    }
   ],
   "source": [
    "eval_similarity(similarity, job_labels, heatmap=True)"
   ]
  },
  {
   "cell_type": "markdown",
   "id": "488f4e20-e18d-4e57-87f4-7fe1b1955634",
   "metadata": {},
   "source": [
    "**Ergebnis:**\n",
    "\n",
    "Zunächst fällt auf, dass alle Jobbeschreibungen als sehr ähnlich eingestuft werden, was diesen Ansatz schonmal für nicht so optimal einstuft.<br> \n",
    "Nur die 4.te Jobbeschreibung scheint nicht so ähnlich wie die 4 anderen Jobbeschreibungen zu sein. Die Jobbeschreibung dessen ist auch eindeutig kürzer und es könnte sich damit um einen Ausreißer handeln.<br>\n",
    "<br>\n",
    "So oder so ist dieser Ansatz nicht zu gebrauchen, da die Jobbeschreibungen sich damit nicht trennen lassen."
   ]
  },
  {
   "cell_type": "markdown",
   "id": "2eb8e97a-2a57-4b21-a9b1-b667a70d4170",
   "metadata": {},
   "source": [
    "---\n",
    "### **Experiment 2:** Word2Vec der Jobbeschreibung mit nur wichtigen Wörtern\n",
    "\n",
    "In diesem Experiment soll die Ähnlichkeit der Stellenausschreibungen mithilfe des Word2Vec-Distanz der Job-Beschreibungen evaluiert werden.<br>\n",
    "Die Jobbeschreibung wird in diesem Experiment auf die wichtigsten Wörter reduziert (Nomen, Adjektiven). Die Auswirkung auf die Ähnlichkeit wird hierbei getestet."
   ]
  },
  {
   "cell_type": "markdown",
   "id": "efe32d6f-3ca2-4b0f-a8c3-476e210a7a3c",
   "metadata": {},
   "source": [
    "[<img src=\"./rackete_1.png\" style=\"float:right\" width=100></img>](#Table-of-Content)"
   ]
  },
  {
   "cell_type": "code",
   "execution_count": 27,
   "id": "ccccc278-6566-4bbe-8905-9ced236b8299",
   "metadata": {},
   "outputs": [],
   "source": [
    "# remove stopwords and unimportant words in Spacy Pipeline\n",
    "def get_important_words(doc, which=['NOUN', 'PROPN', 'ADJ']):\n",
    "    \"\"\"\n",
    "    Prepares the job description and removes all words except nouns and verbs\n",
    "    \"\"\"\n",
    "    cache = []\n",
    "    for token in doc:\n",
    "        if token.pos_ in which:    #'VERB',\n",
    "            cache += [token.text]\n",
    "    return cache"
   ]
  },
  {
   "cell_type": "code",
   "execution_count": 28,
   "id": "809a2092-6fd5-4ba7-8c9b-f9f51d38ac67",
   "metadata": {},
   "outputs": [],
   "source": [
    "#[print(i.text, i.pos_) for i in nlp(job3)]"
   ]
  },
  {
   "cell_type": "code",
   "execution_count": 29,
   "id": "bfc751e4-cebb-4c90-aeb8-dbfdccb60343",
   "metadata": {},
   "outputs": [],
   "source": [
    "# remove nouns and than build a new doc out of these smaller descriptions\n",
    "nlp = spacy.load(\"en_core_web_lg\")\n",
    "\n",
    "# remove not important words\n",
    "prepared_jobs = []\n",
    "for job in jobs_:\n",
    "    prepared_jobs += [get_important_words(nlp(job))]\n",
    "    \n",
    "# build docs with the reduced text\n",
    "\n",
    "doc1 = nlp(' '.join(prepared_jobs[0]))\n",
    "doc2 = nlp(' '.join(prepared_jobs[1]))\n",
    "doc3 = nlp(' '.join(prepared_jobs[2]))\n",
    "doc4 = nlp(' '.join(prepared_jobs[3]))\n",
    "doc5 = nlp(' '.join(prepared_jobs[4]))\n",
    "\n",
    "jobs = (doc1, doc2, doc3, doc4, doc5)\n",
    "job_labels = [\"job1\", \"job2\", \"job3\", \"job4\", \"job5\"]"
   ]
  },
  {
   "cell_type": "code",
   "execution_count": 30,
   "id": "ac11af4a-fce1-4197-bc95-b547ac9982a2",
   "metadata": {},
   "outputs": [],
   "source": [
    "sim_matrix = create_similarity_matrix(lambda x,y: x.similarity(y), jobs)"
   ]
  },
  {
   "cell_type": "code",
   "execution_count": 31,
   "id": "85ada884-347e-409d-9d45-c443f33d43d7",
   "metadata": {},
   "outputs": [
    {
     "data": {
      "image/png": "[encoded data removed]",
      "text/plain": [
       "<Figure size 720x504 with 2 Axes>"
      ]
     },
     "metadata": {
      "needs_background": "light"
     },
     "output_type": "display_data"
    }
   ],
   "source": [
    "eval_similarity(sim_matrix, job_labels)"
   ]
  },
  {
   "cell_type": "markdown",
   "id": "04208e18",
   "metadata": {},
   "source": [
    "Weitere Kombinationen der wichtigsten Wörter probieren"
   ]
  },
  {
   "cell_type": "code",
   "execution_count": 32,
   "id": "64cbceb4",
   "metadata": {},
   "outputs": [
    {
     "data": {
      "image/png": "[encoded data removed]",
      "text/plain": [
       "<Figure size 720x504 with 2 Axes>"
      ]
     },
     "metadata": {
      "needs_background": "light"
     },
     "output_type": "display_data"
    }
   ],
   "source": [
    "prepared_jobs = []\n",
    "for job in jobs_:\n",
    "    prepared_jobs += [get_important_words(nlp(job), which=['NOUN'])]\n",
    "    \n",
    "# build docs with the reduced text\n",
    "\n",
    "doc1 = nlp(' '.join(prepared_jobs[0]))\n",
    "doc2 = nlp(' '.join(prepared_jobs[1]))\n",
    "doc3 = nlp(' '.join(prepared_jobs[2]))\n",
    "doc4 = nlp(' '.join(prepared_jobs[3]))\n",
    "doc5 = nlp(' '.join(prepared_jobs[4]))\n",
    "\n",
    "jobs = (doc1, doc2, doc3, doc4, doc5)\n",
    "job_labels = [\"job1\", \"job2\", \"job3\", \"job4\", \"job5\"]\n",
    "\n",
    "sim_matrix = create_similarity_matrix(lambda x,y: x.similarity(y), jobs)\n",
    "eval_similarity(sim_matrix, job_labels)"
   ]
  },
  {
   "cell_type": "code",
   "execution_count": 33,
   "id": "2d758c49",
   "metadata": {},
   "outputs": [
    {
     "data": {
      "image/png": "[encoded data removed]",
      "text/plain": [
       "<Figure size 720x504 with 2 Axes>"
      ]
     },
     "metadata": {
      "needs_background": "light"
     },
     "output_type": "display_data"
    }
   ],
   "source": [
    "prepared_jobs = []\n",
    "for job in jobs_:\n",
    "    prepared_jobs += [get_important_words(nlp(job), which=['VERB'])]\n",
    "    \n",
    "# build docs with the reduced text\n",
    "\n",
    "doc1 = nlp(' '.join(prepared_jobs[0]))\n",
    "doc2 = nlp(' '.join(prepared_jobs[1]))\n",
    "doc3 = nlp(' '.join(prepared_jobs[2]))\n",
    "doc4 = nlp(' '.join(prepared_jobs[3]))\n",
    "doc5 = nlp(' '.join(prepared_jobs[4]))\n",
    "\n",
    "jobs = (doc1, doc2, doc3, doc4, doc5)\n",
    "job_labels = [\"job1\", \"job2\", \"job3\", \"job4\", \"job5\"]\n",
    "\n",
    "sim_matrix = create_similarity_matrix(lambda x,y: x.similarity(y), jobs)\n",
    "eval_similarity(sim_matrix, job_labels)"
   ]
  },
  {
   "cell_type": "code",
   "execution_count": 34,
   "id": "1480e581",
   "metadata": {},
   "outputs": [
    {
     "data": {
      "image/png": "[encoded data removed]",
      "text/plain": [
       "<Figure size 720x504 with 2 Axes>"
      ]
     },
     "metadata": {
      "needs_background": "light"
     },
     "output_type": "display_data"
    }
   ],
   "source": [
    "prepared_jobs = []\n",
    "for job in jobs_:\n",
    "    prepared_jobs += [get_important_words(nlp(job), which=['ADJ'])]\n",
    "    \n",
    "# build docs with the reduced text\n",
    "\n",
    "doc1 = nlp(' '.join(prepared_jobs[0]))\n",
    "doc2 = nlp(' '.join(prepared_jobs[1]))\n",
    "doc3 = nlp(' '.join(prepared_jobs[2]))\n",
    "doc4 = nlp(' '.join(prepared_jobs[3]))\n",
    "doc5 = nlp(' '.join(prepared_jobs[4]))\n",
    "\n",
    "jobs = (doc1, doc2, doc3, doc4, doc5)\n",
    "job_labels = [\"job1\", \"job2\", \"job3\", \"job4\", \"job5\"]\n",
    "\n",
    "sim_matrix = create_similarity_matrix(lambda x,y: x.similarity(y), jobs)\n",
    "eval_similarity(sim_matrix, job_labels)"
   ]
  },
  {
   "cell_type": "code",
   "execution_count": 35,
   "id": "db47317a",
   "metadata": {},
   "outputs": [
    {
     "data": {
      "image/png": "[encoded data removed]",
      "text/plain": [
       "<Figure size 720x504 with 2 Axes>"
      ]
     },
     "metadata": {
      "needs_background": "light"
     },
     "output_type": "display_data"
    }
   ],
   "source": [
    "prepared_jobs = []\n",
    "for job in jobs_:\n",
    "    prepared_jobs += [get_important_words(nlp(job), which=['NOUN', 'ADJ', 'VERB'])]\n",
    "    \n",
    "# build docs with the reduced text\n",
    "\n",
    "doc1 = nlp(' '.join(prepared_jobs[0]))\n",
    "doc2 = nlp(' '.join(prepared_jobs[1]))\n",
    "doc3 = nlp(' '.join(prepared_jobs[2]))\n",
    "doc4 = nlp(' '.join(prepared_jobs[3]))\n",
    "doc5 = nlp(' '.join(prepared_jobs[4]))\n",
    "\n",
    "jobs = (doc1, doc2, doc3, doc4, doc5)\n",
    "job_labels = [\"job1\", \"job2\", \"job3\", \"job4\", \"job5\"]\n",
    "\n",
    "sim_matrix = create_similarity_matrix(lambda x,y: x.similarity(y), jobs)\n",
    "eval_similarity(sim_matrix, job_labels)"
   ]
  },
  {
   "cell_type": "code",
   "execution_count": 36,
   "id": "542332ac",
   "metadata": {},
   "outputs": [
    {
     "data": {
      "image/png": "[encoded data removed]",
      "text/plain": [
       "<Figure size 720x504 with 2 Axes>"
      ]
     },
     "metadata": {
      "needs_background": "light"
     },
     "output_type": "display_data"
    }
   ],
   "source": [
    "prepared_jobs = []\n",
    "for job in jobs_:\n",
    "    prepared_jobs += [get_important_words(nlp(job), which=['PROPN'])]\n",
    "    \n",
    "# build docs with the reduced text\n",
    "\n",
    "doc1 = nlp(' '.join(prepared_jobs[0]))\n",
    "doc2 = nlp(' '.join(prepared_jobs[1]))\n",
    "doc3 = nlp(' '.join(prepared_jobs[2]))\n",
    "doc4 = nlp(' '.join(prepared_jobs[3]))\n",
    "doc5 = nlp(' '.join(prepared_jobs[4]))\n",
    "\n",
    "jobs = (doc1, doc2, doc3, doc4, doc5)\n",
    "job_labels = [\"job1\", \"job2\", \"job3\", \"job4\", \"job5\"]\n",
    "\n",
    "sim_matrix = create_similarity_matrix(lambda x,y: x.similarity(y), jobs)\n",
    "eval_similarity(sim_matrix, job_labels)"
   ]
  },
  {
   "cell_type": "markdown",
   "id": "7f495288-26fd-4e62-b845-3e9f402fa054",
   "metadata": {},
   "source": [
    "**Ergebnis:**\n",
    "\n",
    "Die Ähnlichkeiten sind sich ziemlich ähnlich, nur die Jobbeschreibung 4 ist zu allen anderen ca. 5-10% unähnlicher.\n",
    "Die Ergebnisse sind somit fast identisch zu denen des Experiments 1. Einziger Unterschied ist, dass die Werte etwas unterhalb liegen.\n",
    "<br>Dabei liegen die Ergebnisse immer im selben Bereich, egal welche der Arten, wie die wichtigsten Wörter berechnet werden, gewählt wird.<br>Nur wenn nur noch die Verben verwendet werden sehen die Ergebnisse für den Job 4 und Job 5 anders aus. Jedoch immer  noch nicht, wie es aussehen soll. <br>\n",
    "<br>\n",
    "Auch dieser Ansatz ist unbrauchbar, da die Ähnlichkeiten nicht mit der Realität übereinstimmen."
   ]
  },
  {
   "cell_type": "markdown",
   "id": "1accf830-bc80-4bd4-852e-a81b4c66ae63",
   "metadata": {},
   "source": [
    "---\n",
    "\n",
    "### **Experiment 3:** Word2Vec der Jobbeschreibung mit nur Entitäten\n",
    "\n",
    "In diesem Experiment soll die Ähnlichkeit der Stellenausschreibungen mithilfe des Word2Vec-Distanz der Job-Beschreibungen evaluiert werden.<br>\n",
    "Die Jobbeschreibung wird in diesem Experiment auf die Entitäten reduziert. Die Auswirkung auf die Ähnlichkeit wird hierbei getestet."
   ]
  },
  {
   "cell_type": "markdown",
   "id": "c5b98229-bdf5-44ce-a180-2d4692cda817",
   "metadata": {},
   "source": [
    "[<img src=\"./rackete_1.png\" style=\"float:right\" width=100></img>](#Table-of-Content)"
   ]
  },
  {
   "cell_type": "code",
   "execution_count": 37,
   "id": "43e1daeb-4f5b-4fe2-8126-c655ef677695",
   "metadata": {},
   "outputs": [],
   "source": [
    "# build nlp of ents\n",
    "\n",
    "nlp = spacy.load(\"en_core_web_lg\")\n",
    "\n",
    "# get only entities\n",
    "ents_ = []\n",
    "for job in jobs_:\n",
    "    cache = \"\"\n",
    "    for ent in nlp(job).ents:\n",
    "        cache += f\"{ent.text} \" \n",
    "    ents_ += [cache]\n",
    "    \n",
    "# wrap in doc for similarity calculation\n",
    "jobs = [nlp(ent) for ent in ents_]\n",
    "job_labels = [\"job1\", \"job2\", \"job3\", \"job4\", \"job5\"]"
   ]
  },
  {
   "cell_type": "code",
   "execution_count": 38,
   "id": "6c3411ec-662a-49c4-8de0-40cf22fd81b2",
   "metadata": {},
   "outputs": [],
   "source": [
    "similarity = create_similarity_matrix(lambda x,y: x.similarity(y), jobs)"
   ]
  },
  {
   "cell_type": "code",
   "execution_count": 39,
   "id": "85cd6359-d375-45cd-8a1b-3a183ddbc4da",
   "metadata": {},
   "outputs": [
    {
     "data": {
      "image/png": "[encoded data removed]",
      "text/plain": [
       "<Figure size 720x504 with 2 Axes>"
      ]
     },
     "metadata": {
      "needs_background": "light"
     },
     "output_type": "display_data"
    }
   ],
   "source": [
    "eval_similarity(similarity, job_labels, heatmap=True)"
   ]
  },
  {
   "cell_type": "markdown",
   "id": "2583dd95-879c-4c31-8dc3-1d3d0371c213",
   "metadata": {},
   "source": [
    "**Ergebnis:**\n",
    "\n",
    "Der Ansatz erzielt keine guten Resultate. Job 2 ist hiernach ähnlich zu den jobs 3 und 5. Genauso verhält es sich bei dem Job 1 und zwar noch extremer und gerade diese sind ja nicht ähnlich. Die Jobs 3-5 werden hierbei auch nur als etwas ähnlich eingestuft."
   ]
  },
  {
   "cell_type": "markdown",
   "id": "8c1f3222-a3a6-401b-a184-35155a601d15",
   "metadata": {},
   "source": [
    "---\n",
    "### **Experiment 4:** Word2Vec der Jobbeschreibung mit nur wichtigen Wörtern und anderer Ausrechnungsart 1\n",
    "\n",
    "In diesem Experiment soll die Ähnlichkeit der Stellenausschreibungen mithilfe des Word2Vec-Distanz der Job-Beschreibungen evaluiert werden.<br>\n",
    "Dabei wird die Ähnlichkeit so berechnet, dass die Ähnlichkeit von jedem Wort zu jedem Wort summiert wird."
   ]
  },
  {
   "cell_type": "markdown",
   "id": "b44c125d-55db-4f0a-96c7-e3d23a55a148",
   "metadata": {},
   "source": [
    "[<img src=\"./rackete_1.png\" style=\"float:right\" width=100></img>](#Table-of-Content)"
   ]
  },
  {
   "cell_type": "code",
   "execution_count": 40,
   "id": "f9ffd212-51e8-4bd5-99c8-fe4de225917a",
   "metadata": {},
   "outputs": [],
   "source": [
    "# remove nouns and than build a new doc out of these smaller descriptions\n",
    "nlp = spacy.load(\"en_core_web_lg\")\n",
    "\n",
    "# remove not important words\n",
    "prepared_jobs = []\n",
    "for job in jobs_:\n",
    "    prepared_jobs += [get_important_words(nlp(job))]\n",
    "    \n",
    "# build docs with the reduced text\n",
    "\n",
    "doc1 = nlp(' '.join(prepared_jobs[0]))\n",
    "doc2 = nlp(' '.join(prepared_jobs[1]))\n",
    "doc3 = nlp(' '.join(prepared_jobs[2]))\n",
    "doc4 = nlp(' '.join(prepared_jobs[3]))\n",
    "doc5 = nlp(' '.join(prepared_jobs[4]))\n",
    "\n",
    "jobs = (doc1, doc2, doc3, doc4, doc5)\n",
    "job_labels = [\"job1\", \"job2\", \"job3\", \"job4\", \"job5\"]"
   ]
  },
  {
   "cell_type": "code",
   "execution_count": 41,
   "id": "7ec691ba-42f5-4fe8-aba2-6ac85b4de9d3",
   "metadata": {},
   "outputs": [],
   "source": [
    "# sum of similarities\n",
    "def job_description_sum_similarity(post1, post2):\n",
    "    \"\"\"\n",
    "    Calculates the similarity between 2 job descriptions.\n",
    "    Both descriptions should be cleaned (stopword removing)\n",
    "    and given as list/doc.\n",
    "    \"\"\"\n",
    "    text_similarity = dict()\n",
    "    # calculate similarity sum\n",
    "    for token in post1:\n",
    "        sum_sim = 0\n",
    "        for token_other in post2:\n",
    "            sum_sim += token.similarity(token_other)\n",
    "\n",
    "        # saves similarity sum in dict\n",
    "        label = token.text\n",
    "        i = 1\n",
    "        while label in text_similarity.keys():\n",
    "            label = f\"token.text{i}\"\n",
    "            i += 1\n",
    "        text_similarity[label] = sum_sim\n",
    "        \n",
    "    return sum(text_similarity.values())/((len(post1)+len(post2))*100)"
   ]
  },
  {
   "cell_type": "code",
   "execution_count": 42,
   "id": "08f9c832-3f56-4638-a69f-84a5b43512fd",
   "metadata": {},
   "outputs": [
    {
     "name": "stderr",
     "output_type": "stream",
     "text": [
      "C:\\Users\\tobia\\AppData\\Local\\Temp\\ipykernel_19840\\869645819.py:13: UserWarning: [W008] Evaluating Token.similarity based on empty vectors.\n",
      "  sum_sim += token.similarity(token_other)\n"
     ]
    }
   ],
   "source": [
    "sim_matrix = create_similarity_matrix(job_description_sum_similarity, jobs)"
   ]
  },
  {
   "cell_type": "code",
   "execution_count": 43,
   "id": "97c32757-5c77-460e-ada3-6cb86dfdd277",
   "metadata": {},
   "outputs": [
    {
     "data": {
      "image/png": "[encoded data removed]",
      "text/plain": [
       "<Figure size 720x504 with 2 Axes>"
      ]
     },
     "metadata": {
      "needs_background": "light"
     },
     "output_type": "display_data"
    }
   ],
   "source": [
    "eval_similarity(sim_matrix, job_labels)"
   ]
  },
  {
   "cell_type": "markdown",
   "id": "3e584b9d-961b-40f7-b767-deda68458b0a",
   "metadata": {},
   "source": [
    "**Ergebnis:** \n",
    "\n",
    "Dieses Verfahren zeigt bei den gleichen Posts eine Unähnlichkeit an, womit es damit eindeutig unbrauchbar ist und Ähnlichkeit nicht gut berechnen kann. <br>\n",
    "Auch bei den restlichen Resultate (wie damit dann auch zu erwarten ist) schneidet das verfahren sehr schlecht ab. So Sind die Jobbeschreibungen 1-3 fast gleich ähnlich zu der Jobbeschreibung 5, was in der Realität nicht der Fall ist."
   ]
  },
  {
   "cell_type": "markdown",
   "id": "99aa9f24-9e75-410c-8f7f-5bebf42ad372",
   "metadata": {},
   "source": [
    "---\n",
    "### **Experiment 5:** Word2Vec der Jobbeschreibung mit nur wichtigen Wörtern und anderer Ausrechnungsart 2\n",
    "\n",
    "In diesem Experiment soll die Ähnlichkeit der Stellenausschreibungen mithilfe des Word2Vec-Distanz der Job-Beschreibungen evaluiert werden.<br>\n",
    "Dabei wird die Ähnlichkeit so berechnet, dass ähnliche Wörter gezählt werden."
   ]
  },
  {
   "cell_type": "markdown",
   "id": "6df4aba2-eedf-4b25-a76c-e8ad4a33d4cd",
   "metadata": {},
   "source": [
    "[<img src=\"./rackete_1.png\" style=\"float:right\" width=100></img>](#Table-of-Content)"
   ]
  },
  {
   "cell_type": "code",
   "execution_count": 44,
   "id": "3c46762b-683d-4848-b824-151458dc7f7e",
   "metadata": {},
   "outputs": [],
   "source": [
    "# remove nouns and than build a new doc out of these smaller descriptions\n",
    "nlp = spacy.load(\"en_core_web_lg\")\n",
    "\n",
    "# remove not important words\n",
    "prepared_jobs = []\n",
    "for job in jobs_:\n",
    "    prepared_jobs += [get_important_words(nlp(job))]\n",
    "    \n",
    "# build docs with the reduced text\n",
    "\n",
    "doc1 = nlp(' '.join(prepared_jobs[0]))\n",
    "doc2 = nlp(' '.join(prepared_jobs[1]))\n",
    "doc3 = nlp(' '.join(prepared_jobs[2]))\n",
    "doc4 = nlp(' '.join(prepared_jobs[3]))\n",
    "doc5 = nlp(' '.join(prepared_jobs[4]))\n",
    "\n",
    "jobs = (doc1, doc2, doc3, doc4, doc5)\n",
    "job_labels = [\"job1\", \"job2\", \"job3\", \"job4\", \"job5\"]"
   ]
  },
  {
   "cell_type": "code",
   "execution_count": 45,
   "id": "2b6ecc8c-4167-4db1-abc1-7848111587a6",
   "metadata": {},
   "outputs": [],
   "source": [
    "# Or Count similar words\n",
    "# go throw tokens and calc similarity\n",
    "    # full similarity -> sum with all other tokens\n",
    "def job_description_similarity_counter(post1, post2, sim_lim=0.75):\n",
    "    \"\"\"\n",
    "    Calculates the similarity between 2 job descriptions with counters.\n",
    "    Both descriptions should be cleaned (stopword removing)\n",
    "    and given as list/doc.\n",
    "    Returns a dictionary and the sum of the counts\n",
    "    \"\"\"\n",
    "    text_similarity = dict()\n",
    "    # calculate similarity counts\n",
    "    for token in post1:\n",
    "        counter_sim = 0\n",
    "        for token_other in post2:\n",
    "            if token.similarity(token_other) >= sim_lim:\n",
    "                counter_sim += 1\n",
    "\n",
    "        # save similarity counts in dict\n",
    "        label = token.text\n",
    "        i = 1\n",
    "        while label in text_similarity.keys():\n",
    "            label = f\"token.text{i}\"\n",
    "            i += 1\n",
    "        text_similarity[label] = counter_sim\n",
    "        \n",
    "    return sum(text_similarity.values())/(len(post1)+len(post2))"
   ]
  },
  {
   "cell_type": "code",
   "execution_count": 46,
   "id": "e0683291-7785-4dd6-9d0e-d3e76d57ba84",
   "metadata": {},
   "outputs": [
    {
     "name": "stderr",
     "output_type": "stream",
     "text": [
      "C:\\Users\\tobia\\AppData\\Local\\Temp\\ipykernel_19840\\4255546514.py:16: UserWarning: [W008] Evaluating Token.similarity based on empty vectors.\n",
      "  if token.similarity(token_other) >= sim_lim:\n"
     ]
    }
   ],
   "source": [
    "sim_matrix = create_similarity_matrix(job_description_similarity_counter, jobs)"
   ]
  },
  {
   "cell_type": "code",
   "execution_count": 47,
   "id": "2daceb06-7732-4565-8618-51b16f27067d",
   "metadata": {},
   "outputs": [
    {
     "data": {
      "image/png": "[encoded data removed]",
      "text/plain": [
       "<Figure size 720x504 with 2 Axes>"
      ]
     },
     "metadata": {
      "needs_background": "light"
     },
     "output_type": "display_data"
    }
   ],
   "source": [
    "eval_similarity(sim_matrix, job_labels)"
   ]
  },
  {
   "cell_type": "markdown",
   "id": "2f8ef236-5cfc-4c8f-81f0-0729632c42ac",
   "metadata": {},
   "source": [
    "**Ergebnis:**\n",
    "\n",
    "Die Ähnlichkeiten mit diesem Verfahren sind nicht wie gewünscht. Generell sind die Ähnlichkeiten sehr gering.<br>\n",
    "So werden Job 3 und Job 1 als ähnlich deklariert und die Jobs 3-5 nicht."
   ]
  },
  {
   "cell_type": "markdown",
   "id": "ed9b83a2-13d3-41b4-bb7d-011f5a63c3bd",
   "metadata": {
    "tags": []
   },
   "source": [
    "---\n",
    "\n",
    "### **Experiment 6:** Ähnlichkeit der Job-Titel mit Word2vec\n",
    "\n",
    "In diesem Experiment soll die Ähnlichkeit der Stellenausschreibungen mithilfe des Word2Vec-Distanz der Job-Titeln evaluiert werden. "
   ]
  },
  {
   "cell_type": "markdown",
   "id": "7d9e3e62-5958-4b0d-8411-da0122234827",
   "metadata": {},
   "source": [
    "[<img src=\"./rackete_1.png\" style=\"float:right\" width=100></img>](#Table-of-Content)"
   ]
  },
  {
   "cell_type": "markdown",
   "id": "b0df1546-8663-49aa-9ec4-78c2eccb8a79",
   "metadata": {},
   "source": [
    "Load the title of these jobs"
   ]
  },
  {
   "cell_type": "code",
   "execution_count": 48,
   "id": "3573aea6-1a3d-4a79-9638-b3207c807152",
   "metadata": {},
   "outputs": [],
   "source": [
    "job1_title = data['job_title'][0]    # farmer\n",
    "job2_title = data['job_title'][3]    # finance -> inevsting, black rock\n",
    "job3_title = data['job_title'][4]    # data science -> analytics\n",
    "job4_title = data['job_title'][2]    # data science -> machine learning\n",
    "job5_title = data['job_title'][1]\n",
    "\n",
    "titles_ = [job1_title, job2_title, job3_title, job4_title, job5_title]"
   ]
  },
  {
   "cell_type": "markdown",
   "id": "5fa843d8-0060-4b85-975d-5bc3de7a1bc2",
   "metadata": {},
   "source": [
    "Take in SpaCy Pipeline to get Word2Vec value"
   ]
  },
  {
   "cell_type": "code",
   "execution_count": 49,
   "id": "b013929b-db67-4801-917c-a4236a369bb8",
   "metadata": {},
   "outputs": [],
   "source": [
    "nlp = spacy.load(\"en_core_web_lg\")\n",
    "\n",
    "doc_titles = [nlp(title) for title in titles_]\n",
    "labels = [\"job1\", \"job2\", \"job3\", \"job4\", \"job5\"]"
   ]
  },
  {
   "cell_type": "markdown",
   "id": "b839f42c-3dbe-41c9-9ac2-62c12683e55e",
   "metadata": {},
   "source": [
    "Evaluate"
   ]
  },
  {
   "cell_type": "code",
   "execution_count": 50,
   "id": "681d17d1-7227-41dc-81c5-727e86f31372",
   "metadata": {},
   "outputs": [],
   "source": [
    "sim_matrix = create_similarity_matrix(lambda x,y: x.similarity(y), doc_titles)"
   ]
  },
  {
   "cell_type": "code",
   "execution_count": 51,
   "id": "58ce4a3b-8930-45f5-8fed-c84c947f8202",
   "metadata": {},
   "outputs": [
    {
     "data": {
      "image/png": "[encoded data removed]",
      "text/plain": [
       "<Figure size 720x504 with 2 Axes>"
      ]
     },
     "metadata": {
      "needs_background": "light"
     },
     "output_type": "display_data"
    }
   ],
   "source": [
    "eval_similarity(sim_matrix, labels)"
   ]
  },
  {
   "cell_type": "markdown",
   "id": "a6d28804-b6c7-4b41-bef9-35db99208eb2",
   "metadata": {},
   "source": [
    "**Ergebnis:**\n",
    "\n",
    "Das Verfahren zeigt recht gute Ergebnisse. Die Jobs 3-5 werden als ähnlich gekennzeichnet. Währendessen ist die Ähnlichkeit zu dem 2.ten Job der Jobs 3-5 merkbar geringer. Ebenso wird die Unähnlichkeit der Jobs 1 und 2 erkannt.<br>\n",
    "<br>\n",
    "Die einzige Schwäche ist die Ähnlichkeit von Job 1 und den jobs 3-5. Die Ähnlichkeit ist hier zwar etwas geinger, jedoch nicht so stark."
   ]
  },
  {
   "cell_type": "markdown",
   "id": "53e91bc4-f423-495c-9e56-4c474db8c2fa",
   "metadata": {
    "tags": []
   },
   "source": [
    "---\n",
    "\n",
    "### **Experiment 7:** Ähnlichkeit der Job-Kategorien\n",
    "\n",
    "In diesem Experiment soll die Ähnlichkeit der Stellenausschreibungen mithilfe der Kategorie des Jobs berechnet werden."
   ]
  },
  {
   "cell_type": "markdown",
   "id": "9d4a3e8e-0674-4cac-8c40-036fb16ef386",
   "metadata": {},
   "source": [
    "[<img src=\"./rackete_1.png\" style=\"float:right\" width=100></img>](#Table-of-Content)"
   ]
  },
  {
   "cell_type": "markdown",
   "id": "368fd398-b885-4733-a590-35ed0999d868",
   "metadata": {},
   "source": [
    "Load the city of these jobs"
   ]
  },
  {
   "cell_type": "code",
   "execution_count": 52,
   "id": "4081d28f-4f93-4975-85fa-68096504c889",
   "metadata": {},
   "outputs": [],
   "source": [
    "job1_category = data['category'][0]    # farmer\n",
    "job2_category = data['category'][3]    # finance -> inevsting, black rock\n",
    "job3_category = data['category'][4]    # data science -> analytics\n",
    "job4_category = data['category'][2]    # data science -> machine learning\n",
    "job5_category = data['category'][1]\n",
    "\n",
    "categories_ = [job1_category, job2_category, job3_category, job4_category, job5_category]"
   ]
  },
  {
   "cell_type": "code",
   "execution_count": 53,
   "id": "2e103213",
   "metadata": {},
   "outputs": [],
   "source": [
    "nlp = spacy.load(\"en_core_web_lg\")\n",
    "\n",
    "#doc_categories = [nlp(category) for category in categories_ ]\n",
    "labels = [\"job1\", \"job2\", \"job3\", \"job4\", \"job5\"]"
   ]
  },
  {
   "cell_type": "code",
   "execution_count": 54,
   "id": "f1f5ff53",
   "metadata": {},
   "outputs": [
    {
     "data": {
      "text/plain": [
       "['Accounting/Finance', 'Accounting/Finance', 'biotech', nan, nan]"
      ]
     },
     "execution_count": 54,
     "metadata": {},
     "output_type": "execute_result"
    }
   ],
   "source": [
    "categories_"
   ]
  },
  {
   "cell_type": "code",
   "execution_count": 55,
   "id": "5bcb7e1b",
   "metadata": {},
   "outputs": [],
   "source": [
    "# should run, if there where no nans\n",
    "#sim_matrix = create_similarity_matrix(lambda x,y: x.similarity(y), doc_categories)\n",
    "#eval_similarity(sim_matrix, labels)"
   ]
  },
  {
   "cell_type": "markdown",
   "id": "d74dad99",
   "metadata": {},
   "source": [
    "Fixing Nan values"
   ]
  },
  {
   "cell_type": "code",
   "execution_count": 56,
   "id": "36f44b25",
   "metadata": {},
   "outputs": [
    {
     "data": {
      "text/plain": [
       "11.337868480725623"
      ]
     },
     "execution_count": 56,
     "metadata": {},
     "output_type": "execute_result"
    }
   ],
   "source": [
    "data.shape[0] / data['category'].isna().sum()"
   ]
  },
  {
   "cell_type": "code",
   "execution_count": 57,
   "id": "2d7d53a0-ff2e-4277-aeb8-8dabfddc40bd",
   "metadata": {},
   "outputs": [],
   "source": [
    "def get_most_common_noun(nlp, job_description):\n",
    "    doc = nlp(job_description)\n",
    "    words = dict()\n",
    "    for token in doc:\n",
    "        if token.pos_ in [\"NOUN\", \"PROPN\"]:\n",
    "            if token.text in words.keys():\n",
    "                words[token.text] += 1\n",
    "            else:\n",
    "                words[token.text] = 1\n",
    "    return sorted(words.items(), key=lambda x:x[0])[0][0]           "
   ]
  },
  {
   "cell_type": "code",
   "execution_count": 58,
   "id": "6268ef99-e7f0-44f2-91e8-797302977e99",
   "metadata": {},
   "outputs": [
    {
     "data": {
      "text/plain": [
       "'Algorithms'"
      ]
     },
     "execution_count": 58,
     "metadata": {},
     "output_type": "execute_result"
    }
   ],
   "source": [
    "get_most_common_noun(nlp, jobs_[4])"
   ]
  },
  {
   "cell_type": "code",
   "execution_count": 59,
   "id": "36f8be32-bfb1-4d4b-9844-20ef7e66ac48",
   "metadata": {},
   "outputs": [
    {
     "data": {
      "text/plain": [
       "'@blackrock'"
      ]
     },
     "execution_count": 59,
     "metadata": {},
     "output_type": "execute_result"
    }
   ],
   "source": [
    "get_most_common_noun(nlp, jobs_[1])"
   ]
  },
  {
   "cell_type": "code",
   "execution_count": 60,
   "id": "28a87db0-a999-4fb0-a576-72324a82e9c9",
   "metadata": {},
   "outputs": [],
   "source": [
    "# if no category -> find category\n",
    "# get most common noun\n",
    "fixed_categories_ = []\n",
    "for i, category in enumerate(categories_):\n",
    "    if type(category) == float:\n",
    "        # overwrite it\n",
    "        fixed_categories_ += [get_most_common_noun(nlp, jobs_[i])]\n",
    "    else:\n",
    "        fixed_categories_ += [category]"
   ]
  },
  {
   "cell_type": "markdown",
   "id": "53a29f72-60e9-4fc8-9be8-692170530f1d",
   "metadata": {},
   "source": [
    "Take in SpaCy Pipeline to get Word2Vec value"
   ]
  },
  {
   "cell_type": "code",
   "execution_count": 61,
   "id": "d50c9d4c-af51-4cfa-82f1-dd27ed25adcd",
   "metadata": {},
   "outputs": [],
   "source": [
    "nlp = spacy.load(\"en_core_web_lg\")\n",
    "\n",
    "doc_categories = [nlp(category) for category in fixed_categories_]\n",
    "labels = [\"job1\", \"job2\", \"job3\", \"job4\", \"job5\"]"
   ]
  },
  {
   "cell_type": "code",
   "execution_count": 62,
   "id": "07bfeb5e-f281-41ae-badc-e8cd0c4dce52",
   "metadata": {},
   "outputs": [
    {
     "data": {
      "text/plain": [
       "['Accounting/Finance', 'Accounting/Finance', 'biotech', 'Apache', 'Algorithms']"
      ]
     },
     "execution_count": 62,
     "metadata": {},
     "output_type": "execute_result"
    }
   ],
   "source": [
    "fixed_categories_"
   ]
  },
  {
   "cell_type": "markdown",
   "id": "7f989125-e73f-41d9-825b-d5750e1d195f",
   "metadata": {},
   "source": [
    "Evaluate"
   ]
  },
  {
   "cell_type": "code",
   "execution_count": 63,
   "id": "e433c4ae-f1bd-4295-aabb-470f8357933f",
   "metadata": {},
   "outputs": [],
   "source": [
    "sim_matrix = create_similarity_matrix(lambda x,y: x.similarity(y), doc_categories)"
   ]
  },
  {
   "cell_type": "code",
   "execution_count": 64,
   "id": "afbe05c0-6bd4-417b-86c1-0dca4cc9edf1",
   "metadata": {},
   "outputs": [
    {
     "data": {
      "image/png": "[encoded data removed]",
      "text/plain": [
       "<Figure size 720x504 with 2 Axes>"
      ]
     },
     "metadata": {
      "needs_background": "light"
     },
     "output_type": "display_data"
    }
   ],
   "source": [
    "eval_similarity(sim_matrix, labels)"
   ]
  },
  {
   "cell_type": "markdown",
   "id": "a76f3f64-6361-4ef6-adfa-1cbb4bacfa1d",
   "metadata": {},
   "source": [
    "**Ergebnis:**\n",
    "\n",
    "Das Verfahren scheint nicht ganz zu funktionieren. Die Jobs 1 & 2 wurden als ähnlich deklariert, was gut ist. Die 3 Data Science Berufe jedoch gar nicht. Damit ist dieses Verfahren so erstmal nur zum Teil hilfreich.<br>\n",
    "<br>\n",
    "Es könnte so implementiert werden, dass bei ähnlicher Job-Kategorie Bonuspunkte vergeben werden (siehe letztes Experiment). Es muss jedoch bedacht werden, dass viele ähnliche Job-Kategorien nicht gefunden werden! Hier sind die Bezeichnungen zu unterschiedlich."
   ]
  },
  {
   "cell_type": "markdown",
   "id": "877ff05c-7941-4c49-a957-d7c200bced06",
   "metadata": {
    "tags": []
   },
   "source": [
    "---\n",
    "\n",
    "### **Experiment 8:** Ähnlichkeit der Job-Orte\n",
    "\n",
    "In diesem Experiment soll die Ähnlichkeit der Stellenausschreibungen mithilfe der Ortsdistanz berechnet werden."
   ]
  },
  {
   "cell_type": "markdown",
   "id": "2171b895-f1e0-4b0f-89a5-a3f6a3088a7a",
   "metadata": {},
   "source": [
    "[<img src=\"./rackete_1.png\" style=\"float:right\" width=100></img>](#Table-of-Content)"
   ]
  },
  {
   "cell_type": "code",
   "execution_count": 65,
   "id": "ecdc7c99",
   "metadata": {},
   "outputs": [
    {
     "data": {
      "text/plain": [
       "[('Woodland Hills', 'Usa'),\n",
       " ('New York', 'Usa'),\n",
       " ('Charlotte', 'Usa'),\n",
       " ('New York', 'Usa'),\n",
       " ('Middletown', 'Usa')]"
      ]
     },
     "execution_count": 65,
     "metadata": {},
     "output_type": "execute_result"
    }
   ],
   "source": [
    "[(data.iloc[job_con[i],5], data.iloc[job_con[i], 7])  for i in ['job1', 'job2', 'job3', 'job4', 'job5']]"
   ]
  },
  {
   "cell_type": "markdown",
   "id": "90597a84",
   "metadata": {},
   "source": [
    "Optimales Ergebnis:"
   ]
  },
  {
   "cell_type": "code",
   "execution_count": 66,
   "id": "727d9cde",
   "metadata": {},
   "outputs": [
    {
     "data": {
      "image/png": "[encoded data removed]",
      "text/plain": [
       "<Figure size 720x504 with 2 Axes>"
      ]
     },
     "metadata": {
      "needs_background": "light"
     },
     "output_type": "display_data"
    }
   ],
   "source": [
    "template = [[1, 0.1, 0.1, 0.3, 0.3], \n",
    "           [0.1, 1, 0.1, 0.3, 0.3],\n",
    "           [0.1, 0.1, 1, 0.95, 0.95],\n",
    "           [0.1, 1.0, 0.1, 1, 0.95],\n",
    "           [0.1, 0.1, 0.1, 0.1, 1.0]]\n",
    "eval_similarity(template, [\"job1\", \"job2\", \"job3\", \"job4\", \"job5\"])"
   ]
  },
  {
   "cell_type": "markdown",
   "id": "2eb192f5-1046-4625-bb9a-c85245bd92be",
   "metadata": {},
   "source": [
    "Load the city of these jobs"
   ]
  },
  {
   "cell_type": "code",
   "execution_count": 67,
   "id": "edfd36a4-43ca-4c68-b43a-7a23bd5dd16a",
   "metadata": {},
   "outputs": [],
   "source": [
    "job1_city = data['city'][0]    # farmer\n",
    "job2_city = data['city'][3]    # finance -> inevsting, black rock\n",
    "job3_city = data['city'][4]    # data science -> analytics\n",
    "job4_city = data['city'][2]    # data science -> machine learning\n",
    "job5_city = data['city'][1]\n",
    "\n",
    "cities_ = [job1_city, job2_city, job3_city, job4_city, job5_city]\n",
    "labels = [\"job1\", \"job2\", \"job3\", \"job4\", \"job5\"]"
   ]
  },
  {
   "cell_type": "code",
   "execution_count": 68,
   "id": "76b766f9-6fa0-46f9-af97-73cc5149c011",
   "metadata": {},
   "outputs": [],
   "source": [
    "job1_country = data['country'][0]    # farmer\n",
    "job2_country = data['country'][3]    # finance -> inevsting, black rock\n",
    "job3_country = data['country'][4]    # data science -> analytics\n",
    "job4_country = data['country'][2]    # data science -> machine learning\n",
    "job5_country = data['country'][1]\n",
    "\n",
    "countries_ = [job1_country, job2_country, job3_country, job4_country, job5_country]"
   ]
  },
  {
   "cell_type": "code",
   "execution_count": 69,
   "id": "847b256e-a142-4b2b-a2eb-2601722671fd",
   "metadata": {},
   "outputs": [],
   "source": [
    "def find_pos(city, country):\n",
    "    # Initialize Nominatim API\n",
    "    geolocator = Nominatim(user_agent=\"MyApp\")\n",
    "\n",
    "    location = geolocator.geocode(f\"{city} {country}\", language=\"en\")\n",
    "    return location.latitude, location.longitude"
   ]
  },
  {
   "cell_type": "code",
   "execution_count": 70,
   "id": "a0e89d90-a083-4c6d-b4f7-d84b7d3bf792",
   "metadata": {},
   "outputs": [
    {
     "data": {
      "text/plain": [
       "(48.8588897, 2.3200410217200766)"
      ]
     },
     "execution_count": 70,
     "metadata": {},
     "output_type": "execute_result"
    }
   ],
   "source": [
    "find_pos(\"paris\", \"france\")"
   ]
  },
  {
   "cell_type": "code",
   "execution_count": 71,
   "id": "b0c84fd5-4e13-4cae-9cdc-105374a8f214",
   "metadata": {},
   "outputs": [],
   "source": [
    "positions = []\n",
    "for job in range(5):\n",
    "    positions += [find_pos(cities_[job], countries_[job])]"
   ]
  },
  {
   "cell_type": "code",
   "execution_count": 72,
   "id": "06f489a0-d796-4381-be4a-e35b9d385eb3",
   "metadata": {},
   "outputs": [
    {
     "data": {
      "text/plain": [
       "[(34.1684364, -118.6058382),\n",
       " (40.7127281, -74.0060152),\n",
       " (35.2272086, -80.8430827),\n",
       " (40.7127281, -74.0060152),\n",
       " (41.5623178, -72.6509061)]"
      ]
     },
     "execution_count": 72,
     "metadata": {},
     "output_type": "execute_result"
    }
   ],
   "source": [
    "positions"
   ]
  },
  {
   "cell_type": "code",
   "execution_count": 73,
   "id": "a586c9cb-e67e-4612-bf43-15f12c98dd73",
   "metadata": {},
   "outputs": [],
   "source": [
    "calc_dist = lambda pos1, pos2:1/(geodesic(pos1, pos2).km+1)"
   ]
  },
  {
   "cell_type": "code",
   "execution_count": 74,
   "id": "c49b821d-d638-4ae8-9f14-72a3f53b1d09",
   "metadata": {},
   "outputs": [],
   "source": [
    "sim_matrix = create_similarity_matrix(calc_dist, positions)"
   ]
  },
  {
   "cell_type": "code",
   "execution_count": 75,
   "id": "b88dcc69-ba3a-403e-a0ef-f1e863bda6f2",
   "metadata": {},
   "outputs": [
    {
     "data": {
      "image/png": "[encoded data removed]",
      "text/plain": [
       "<Figure size 720x504 with 2 Axes>"
      ]
     },
     "metadata": {
      "needs_background": "light"
     },
     "output_type": "display_data"
    }
   ],
   "source": [
    "eval_similarity(sim_matrix, labels, k=0)"
   ]
  },
  {
   "cell_type": "markdown",
   "id": "60999954-0976-404a-839c-849c4be44a49",
   "metadata": {},
   "source": [
    "Now evaluate it"
   ]
  },
  {
   "cell_type": "code",
   "execution_count": 76,
   "id": "97bd54b5-4741-4c53-8efc-adea16fc13dc",
   "metadata": {},
   "outputs": [],
   "source": [
    "pos_ = [[\"freiburg\", \"germany\"], [\"emmendingen\", \"germany\"], [\"offenburg\", \"germany\"], [\"berlin\", \"germany\"]]\n",
    "labels_ = [\"freiburg\", \"emmendingen\", \"offenburg\", \"berlin\"]\n",
    "pos = []\n",
    "for city, country in pos_:\n",
    "    pos += [find_pos(city, country)]"
   ]
  },
  {
   "cell_type": "code",
   "execution_count": 77,
   "id": "38e446ff",
   "metadata": {},
   "outputs": [
    {
     "data": {
      "text/plain": [
       "[(47.9960901, 7.8494005),\n",
       " (48.1342091, 7.862308289129789),\n",
       " (48.4716556, 7.944378),\n",
       " (52.5170365, 13.3888599)]"
      ]
     },
     "execution_count": 77,
     "metadata": {},
     "output_type": "execute_result"
    }
   ],
   "source": [
    "pos"
   ]
  },
  {
   "cell_type": "code",
   "execution_count": 78,
   "id": "b6fddc3e-73b3-4e58-80b4-a22633bded5f",
   "metadata": {},
   "outputs": [],
   "source": [
    "sim_matrix = create_similarity_matrix(calc_dist, pos)"
   ]
  },
  {
   "cell_type": "code",
   "execution_count": 79,
   "id": "77af9473-dcca-42a0-97d8-d89cbcb1aac6",
   "metadata": {},
   "outputs": [
    {
     "data": {
      "image/png": "[encoded data removed]",
      "text/plain": [
       "<Figure size 720x504 with 2 Axes>"
      ]
     },
     "metadata": {
      "needs_background": "light"
     },
     "output_type": "display_data"
    }
   ],
   "source": [
    "eval_similarity(sim_matrix, labels_, k=0)"
   ]
  },
  {
   "cell_type": "markdown",
   "id": "0fc1b55d",
   "metadata": {},
   "source": [
    "Next step is from the distance to a similarity value:"
   ]
  },
  {
   "cell_type": "code",
   "execution_count": 80,
   "id": "8f6e768c",
   "metadata": {},
   "outputs": [],
   "source": [
    "def dist_sim(pos1, pos2):\n",
    "    sim = 1 / (geodesic(pos1, pos2).km+1)\n",
    "\n",
    "    if sim >= 0.1:\n",
    "        return 0.95\n",
    "    elif sim >= 0.07:\n",
    "        return 0.85\n",
    "    elif sim >= 0.03:\n",
    "        return 0.75\n",
    "    elif sim >= 0.01:\n",
    "        return 0.65\n",
    "    else:\n",
    "        return 0.01"
   ]
  },
  {
   "cell_type": "code",
   "execution_count": 81,
   "id": "79c47c37",
   "metadata": {},
   "outputs": [
    {
     "data": {
      "image/png": "[encoded data removed]",
      "text/plain": [
       "<Figure size 720x504 with 2 Axes>"
      ]
     },
     "metadata": {
      "needs_background": "light"
     },
     "output_type": "display_data"
    }
   ],
   "source": [
    "sim_matrix = create_similarity_matrix(dist_sim, pos)\n",
    "eval_similarity(sim_matrix, labels_, k=0)"
   ]
  },
  {
   "cell_type": "code",
   "execution_count": 82,
   "id": "2781cfbb",
   "metadata": {},
   "outputs": [
    {
     "data": {
      "image/png": "[encoded data removed]",
      "text/plain": [
       "<Figure size 720x504 with 2 Axes>"
      ]
     },
     "metadata": {
      "needs_background": "light"
     },
     "output_type": "display_data"
    }
   ],
   "source": [
    "sim_matrix = create_similarity_matrix(dist_sim, positions)\n",
    "eval_similarity(sim_matrix, labels, k=1)"
   ]
  },
  {
   "cell_type": "markdown",
   "id": "c854fd5a",
   "metadata": {},
   "source": [
    "Revert der Ähnlicheit, falls jemand es weiter Weg bevorzugt"
   ]
  },
  {
   "cell_type": "code",
   "execution_count": 83,
   "id": "2d83998f",
   "metadata": {},
   "outputs": [],
   "source": [
    "def revert_sim(sim:float):\n",
    "    return round((sim*-1)+1.0, 2)"
   ]
  },
  {
   "cell_type": "code",
   "execution_count": 84,
   "id": "c9c0aa65",
   "metadata": {},
   "outputs": [
    {
     "name": "stdout",
     "output_type": "stream",
     "text": [
      "Yeah, it works!\n"
     ]
    }
   ],
   "source": [
    "it_works = True\n",
    "falses = []\n",
    "for i, j in [(0.1, 0.9), (0.9, 0.1), (0.2, 0.8), (0.8, 0.2), (0.25, 0.75), (0.75, 0.25), (0.5, 0.5)]:\n",
    "    if revert_sim(i) != j:\n",
    "        it_works = False\n",
    "        falses += [(i, j, revert_sim(i))]\n",
    "\n",
    "if it_works:\n",
    "    print(\"Yeah, it works!\")\n",
    "else:\n",
    "    print(\"Nope it doesn't work at all...\")\n",
    "    print(f\"Wrong ones: {falses}\")"
   ]
  },
  {
   "cell_type": "code",
   "execution_count": 85,
   "id": "81a4f1ed",
   "metadata": {},
   "outputs": [],
   "source": [
    "def dist_sim_revert(pos1, pos2):\n",
    "    return revert_sim(dist_sim(pos1, pos2))"
   ]
  },
  {
   "cell_type": "code",
   "execution_count": 86,
   "id": "6f79869e",
   "metadata": {},
   "outputs": [
    {
     "data": {
      "image/png": "[encoded data removed]",
      "text/plain": [
       "<Figure size 720x504 with 2 Axes>"
      ]
     },
     "metadata": {
      "needs_background": "light"
     },
     "output_type": "display_data"
    }
   ],
   "source": [
    "sim_matrix = create_similarity_matrix(dist_sim_revert, positions)\n",
    "eval_similarity(sim_matrix, labels, k=1)"
   ]
  },
  {
   "cell_type": "code",
   "execution_count": 87,
   "id": "da52283d",
   "metadata": {},
   "outputs": [
    {
     "data": {
      "image/png": "[encoded data removed]",
      "text/plain": [
       "<Figure size 720x504 with 2 Axes>"
      ]
     },
     "metadata": {
      "needs_background": "light"
     },
     "output_type": "display_data"
    }
   ],
   "source": [
    "sim_matrix = create_similarity_matrix(dist_sim_revert, pos)\n",
    "eval_similarity(sim_matrix, labels_, k=0)"
   ]
  },
  {
   "cell_type": "markdown",
   "id": "c7ad9000-c2b2-489e-8595-fbebc5642370",
   "metadata": {},
   "source": [
    "**Ergebnis:**\n",
    "\n",
    "Mit diesem Verfahren lassen sich nun die Distanzen berechnen und so nahe Jobangebote finden, falls das gesucht ist. Dabei scheint das Verfahren so funktionieren, wie erhofft.<br>\n",
    "<bR>\n",
    "Die Evaluierung zeigt zudem, dass dieser Prozess auch wiklich funktioniert. Freiburg und Emmendingen sind sich am nähesten. Emmendingen ist näher an Offenburg als Freiburg. Und Berlin ist von allen drein weit weg. <br>\n",
    "<br>\n",
    "Trotzdem bleibt dieser Faktor etwas schwierig, da die Distanz auch Subjektiv ist und es auch Menschen geben könnte, welche gerne Wegziehen würden.<br>\n",
    "Hierfür kann man die revert-Funktion verwenden, die nauch funktioniert, was die Evaluierung zeigt."
   ]
  },
  {
   "cell_type": "markdown",
   "id": "9eac5458-8264-4223-98af-3546c8cebc96",
   "metadata": {
    "tags": []
   },
   "source": [
    "---\n",
    "\n",
    "### **Experiment 9:** Ähnlichkeit der Job-Art\n",
    "\n",
    "In diesem Experiment soll die Ähnlichkeit der Stellenausschreibungen mithilfe der Berufsart festgestellt werden.<br>Umgesetzt durch Regeln."
   ]
  },
  {
   "cell_type": "markdown",
   "id": "dff2c561-2f93-44bd-9118-6a1a754ea257",
   "metadata": {},
   "source": [
    "[<img src=\"./rackete_1.png\" style=\"float:right\" width=100></img>](#Table-of-Content)"
   ]
  },
  {
   "cell_type": "code",
   "execution_count": 88,
   "id": "c0564029",
   "metadata": {},
   "outputs": [
    {
     "data": {
      "text/plain": [
       "['Undefined', 'Undefined', 'Full Time', 'Full Time', 'Undefined']"
      ]
     },
     "execution_count": 88,
     "metadata": {},
     "output_type": "execute_result"
    }
   ],
   "source": [
    "[data.iloc[job_con[i], 13] for i in ['job1', 'job2', 'job3', 'job4', 'job5']]"
   ]
  },
  {
   "cell_type": "code",
   "execution_count": 89,
   "id": "6c49f085",
   "metadata": {},
   "outputs": [
    {
     "data": {
      "text/plain": [
       "array(['Undefined', 'Full Time', 'Contract', 'Part Time', 'Internship'],\n",
       "      dtype=object)"
      ]
     },
     "execution_count": 89,
     "metadata": {},
     "output_type": "execute_result"
    }
   ],
   "source": [
    "data['job_type'].unique()"
   ]
  },
  {
   "cell_type": "markdown",
   "id": "4195a917",
   "metadata": {},
   "source": [
    "Optimales Ergebnis:"
   ]
  },
  {
   "cell_type": "code",
   "execution_count": 90,
   "id": "1f66c250",
   "metadata": {},
   "outputs": [
    {
     "data": {
      "image/png": "[encoded data removed]",
      "text/plain": [
       "<Figure size 720x504 with 2 Axes>"
      ]
     },
     "metadata": {
      "needs_background": "light"
     },
     "output_type": "display_data"
    }
   ],
   "source": [
    "template = [[1, 0.1, 0.1, 0.3, 0.3], \n",
    "           [1.0, 1, 0.1, 0.3, 0.3],\n",
    "           [0.0, 0.0, 1, 0.95, 0.95],\n",
    "           [0.0, 0.0, 1.0, 1, 0.95],\n",
    "           [1.0, 1.0, 0.0, 0.0, 1.0]]\n",
    "eval_similarity(template, [\"job1\", \"job2\", \"job3\", \"job4\", \"job5\"])"
   ]
  },
  {
   "cell_type": "markdown",
   "id": "e2f7a197-188c-46d9-9bca-bf139e7a28f5",
   "metadata": {},
   "source": [
    "Load the types."
   ]
  },
  {
   "cell_type": "code",
   "execution_count": 91,
   "id": "abc60f95-3876-4c73-a246-5a84aeb9d110",
   "metadata": {},
   "outputs": [],
   "source": [
    "job1_type = data['job_type'][0]    # farmer\n",
    "job2_type = data['job_type'][3]    # finance -> inevsting, black rock\n",
    "job3_type = data['job_type'][4]    # data science -> analytics\n",
    "job4_type = data['job_type'][2]    # data science -> machine learning\n",
    "job5_type = data['job_type'][1]\n",
    "\n",
    "types_ = [job1_type, job2_type, job3_type, job4_type, job5_type]\n",
    "labels = [\"job1\", \"job2\", \"job3\", \"job4\", \"job5\"]"
   ]
  },
  {
   "cell_type": "code",
   "execution_count": 92,
   "id": "c783e046-547a-456f-a678-23db85622107",
   "metadata": {},
   "outputs": [
    {
     "data": {
      "text/plain": [
       "Undefined     6109\n",
       "Full Time     3395\n",
       "Contract       488\n",
       "Part Time        6\n",
       "Internship       2\n",
       "Name: job_type, dtype: int64"
      ]
     },
     "execution_count": 92,
     "metadata": {},
     "output_type": "execute_result"
    }
   ],
   "source": [
    "data['job_type'].value_counts()"
   ]
  },
  {
   "cell_type": "code",
   "execution_count": 93,
   "id": "52fa2870-437b-417a-8932-9de5d770a671",
   "metadata": {},
   "outputs": [],
   "source": [
    "def type_sim(type1, type2):\n",
    "    res = 0.0    \n",
    "\n",
    "    if type1 == type2:\n",
    "        res = 1.0\n",
    "    elif (type1 == \"Full Time\" and type2 == \"Contract\") or (type2 == \"Full Time\" and type1 == \"Contract\"):\n",
    "        res = 0.5\n",
    "    elif (type1 == \"Part Time\" and type2 == \"Full Time\") or (type2 == \"Part Time\" and type1 == \"Full Time\"):\n",
    "        res = 0.5\n",
    "    elif (type1 == \"Part Time\" and type2 == \"Internship\") or (type2 == \"Part Time\" and type1 == \"Internship\"):\n",
    "        res = 0.2\n",
    "    elif (type1 == \"Part Time\" and type2 == \"Contract\") or (type2 == \"Part Time\" and type1 == \"Contract\"):\n",
    "        res = 0.5\n",
    "    elif (type1 == \"Full Time\" and type2 == \"Internship\") or (type2 == \"Full Time\" and type1 == \"Internship\"):\n",
    "        res = 0.0\n",
    "    elif (type1 == \"Contract\" and type2 == \"Internship\") or (type2 == \"Contract\" and type1 == \"Internship\"):\n",
    "        res = 0.5\n",
    "    elif type1 == \"Undefined\" or type2 == \"Undefined\":\n",
    "        res = 0.1\n",
    "    return res"
   ]
  },
  {
   "cell_type": "markdown",
   "id": "6740d257-4c85-48c8-891b-17da834845bf",
   "metadata": {},
   "source": [
    "Evaluate"
   ]
  },
  {
   "cell_type": "code",
   "execution_count": 94,
   "id": "66568237-4756-4d17-a3c0-3fcd44552aec",
   "metadata": {},
   "outputs": [],
   "source": [
    "sim_matrix = create_similarity_matrix(type_sim, types_)"
   ]
  },
  {
   "cell_type": "code",
   "execution_count": 95,
   "id": "ecee7dcc-87bf-4c12-86da-9f30de7af58d",
   "metadata": {},
   "outputs": [
    {
     "data": {
      "image/png": "[encoded data removed]",
      "text/plain": [
       "<Figure size 720x504 with 2 Axes>"
      ]
     },
     "metadata": {
      "needs_background": "light"
     },
     "output_type": "display_data"
    }
   ],
   "source": [
    "eval_similarity(sim_matrix, labels)"
   ]
  },
  {
   "cell_type": "markdown",
   "id": "d3887658-90b2-4b52-b44b-66d9f4b27379",
   "metadata": {},
   "source": [
    "**Ergebnis:**\n",
    "\n",
    "Die Werte sind um 0.1 zu dem Evaluierungsmaß anders. Dies ist vernachlässigbar, da die Resulte insgesamt die gleichen sind.<bR>\n",
    "<br>\n",
    "Durch den regelbasierten Ansatz kann man leicht die Berufe mit der Ähnlichkeit ihres Berufstyps bestimmen. Leider sind jedoch nicht viele gelabelt, was bei der Anwendung bedacht werden muss. "
   ]
  },
  {
   "cell_type": "markdown",
   "id": "4538deb7-fc5a-4d36-a1e5-e58ea26c6198",
   "metadata": {},
   "source": [
    "---\n",
    "\n",
    "### **Experiment 10:** Point-Gain-Proceedings\n",
    "\n",
    "[<img src=\"./rackete_1.png\" style=\"float:right\" width=100></img>](#Table-of-Content)\n",
    "\n",
    "Es sollen mehere Ansätze gewichtet kombiniert werden. Dies resultiert daraus, dass angenommen wird, dass die Ähnlichkeit subjektiv ist und somit variieren kann (Schwerpunkte festgelegt werden können).<br>\n",
    "So ein Ansatz soll hier evaluiert werden.<br>\n",
    "<br>\n",
    "Bei dem Ansatz werden Punkte vergeben und umso mehr Punkte ein Job hat, desto ähnlicher soll dieser dem Zieljob sein. Dabei ist es nicht so schlimm, dass in manchen Kategorien kein Wert steht, da es hierfür nun einfach keine zusätzlichen Punkte gibt und das Jobausschreibung trotzdem noch als ähnlich gesehen werden kann.<br>\n",
    "<br>\n",
    "Außerdem kann man durch dieses Verfahren leicht Schwerpunkte setzen.<br>\n",
    "<br>\n",
    "Dieses Experiment wird direkt so programmiert, dass es später leicht einzusetzen ist.\n",
    "<br>\n",
    "<br>\n",
    "> Vorgehen = Jede Kategorie gibt 0-5 Punkte und mithilfe der Parameter kann man diese Punktzahl gewichten um Schwerpunkte zu setzen"
   ]
  },
  {
   "cell_type": "markdown",
   "id": "8ea11e00-b739-42d3-b719-5a9b6ac873ad",
   "metadata": {},
   "source": [
    "Eingabe ist eine Liste mit folgenden Einträgen und die Liste repräsentiert ein Job Post:\n",
    "\n",
    "<img src=\"./cols.png\" width=170></img>"
   ]
  },
  {
   "cell_type": "markdown",
   "id": "184704a7-692a-4768-9083-b46ebe20a256",
   "metadata": {},
   "source": [
    "Programmierung der Komponenten und des Algorithmus:"
   ]
  },
  {
   "cell_type": "code",
   "execution_count": 96,
   "id": "ae40c636-3cae-4701-81f4-7c98354820d3",
   "metadata": {},
   "outputs": [],
   "source": [
    "def job_title_points(nlp, title1, title2):\n",
    "    doc1 = nlp(title1)\n",
    "    doc2 = nlp(title2)\n",
    "    sim = doc1.similarity(doc2)\n",
    "    \n",
    "    if sim >= 0.95:\n",
    "        return 5\n",
    "    elif sim >= 0.9:\n",
    "        return 4\n",
    "    elif sim >= 0.8:\n",
    "        return 2\n",
    "    elif sim >= 0.7:\n",
    "        return 1\n",
    "    else:\n",
    "        return 0"
   ]
  },
  {
   "cell_type": "code",
   "execution_count": 105,
   "id": "b3a9bc53-b8e5-4ac4-bf8a-656d7bf44adf",
   "metadata": {},
   "outputs": [],
   "source": [
    "def job_category_points(nlp, category1, category2, description1, description2):\n",
    "    # fix the category if it nothing\n",
    "    if type(category1) == float:\n",
    "        category1 = get_most_common_noun(nlp, description1)\n",
    "        \n",
    "    if type(category2) == float:\n",
    "        category2 = get_most_common_noun(nlp, description2)\n",
    "        \n",
    "    # build doc\n",
    "    doc1 = nlp(category1)\n",
    "    doc2 = nlp(category2)\n",
    "    \n",
    "    # calc similarity\n",
    "    sim = doc1.similarity(doc2)\n",
    "    \n",
    "    if sim >= 0.95:\n",
    "        return 5\n",
    "    elif sim >= 0.9:\n",
    "        return 3\n",
    "    elif sim >= 0.8:\n",
    "        return 1\n",
    "    else:\n",
    "        return 0"
   ]
  },
  {
   "cell_type": "code",
   "execution_count": 98,
   "id": "7aaecbcc",
   "metadata": {},
   "outputs": [],
   "source": [
    "def revert_sim(sim:float):\n",
    "    return round((sim*-1)+1.0, 2)"
   ]
  },
  {
   "cell_type": "code",
   "execution_count": 99,
   "id": "51b9f947-7716-4c2d-9050-0ec8cf3734c7",
   "metadata": {},
   "outputs": [],
   "source": [
    "def job_type_points(type1, type2):\n",
    "    res = 0.0    \n",
    "\n",
    "    if type1 == type2:\n",
    "        res = 1.0\n",
    "    elif (type1 == \"Full Time\" and type2 == \"Contract\") or (type2 == \"Full Time\" and type1 == \"Contract\"):\n",
    "        res = 0.5\n",
    "    elif (type1 == \"Part Time\" and type2 == \"Full Time\") or (type2 == \"Part Time\" and type1 == \"Full Time\"):\n",
    "        res = 0.5\n",
    "    elif (type1 == \"Part Time\" and type2 == \"Internship\") or (type2 == \"Part Time\" and type1 == \"Internship\"):\n",
    "        res = 0.2\n",
    "    elif (type1 == \"Part Time\" and type2 == \"Contract\") or (type2 == \"Part Time\" and type1 == \"Contract\"):\n",
    "        res = 0.5\n",
    "    elif (type1 == \"Full Time\" and type2 == \"Internship\") or (type2 == \"Full Time\" and type1 == \"Internship\"):\n",
    "        res = 0.0\n",
    "    elif (type1 == \"Contract\" and type2 == \"Internship\") or (type2 == \"Contract\" and type1 == \"Internship\"):\n",
    "        res = 0.5\n",
    "    elif type1 == \"Undefined\" or type2 == \"Undefined\":\n",
    "        res = 0.1\n",
    "    return res"
   ]
  },
  {
   "cell_type": "code",
   "execution_count": 106,
   "id": "99deb076-46ba-4046-913f-334e284e8942",
   "metadata": {},
   "outputs": [],
   "source": [
    "def job_location_points(city1, country1, city2, country2, weight):\n",
    "    # Initialize Nominatim API\n",
    "    geolocator = Nominatim(user_agent=\"MyApp\")\n",
    "\n",
    "    location1 = geolocator.geocode(f\"{city1} {country1}\", language=\"en\")\n",
    "    location2 = geolocator.geocode(f\"{city2} {country2}\", language=\"en\")\n",
    "    \n",
    "    if location1 == None or location2 == None:\n",
    "        return 0\n",
    "    \n",
    "    pos1 = (location1.latitude, location1.longitude)\n",
    "    pos2 = (location2.latitude, location2.longitude)\n",
    "    \n",
    "    sim = 1 / (geodesic(pos1, pos2).km+1)\n",
    "\n",
    "    if weight < 0:\n",
    "        sim = revert_sim(sim)\n",
    "    \n",
    "    if sim >= 0.1:\n",
    "        return 5\n",
    "    elif sim >= 0.07:\n",
    "        return 4\n",
    "    elif sim >= 0.03:\n",
    "        return 3\n",
    "    elif sim >= 0.01:\n",
    "        return 1\n",
    "    else:\n",
    "        return 0"
   ]
  },
  {
   "cell_type": "code",
   "execution_count": 102,
   "id": "ec4747f8-4870-4889-ba27-c63561482962",
   "metadata": {},
   "outputs": [],
   "source": [
    "# all categories gets between 0-5 points\n",
    "def get_similar_job_posts(job_posts:pd.DataFrame, job_post:list, min_points=5, pruning=False, \\\n",
    "                                  title_w=2.0, category_w=1.0, type_w=1.0, pos_w=0.5, printing=True):\n",
    "    \n",
    "    # load other job posts \n",
    "    #all_job_posts = pd.read_excel(\"../data_scientist_united_states_job_postings_jobspikr.xlsx\")\n",
    "    all_job_posts = job_posts\n",
    "    # create score-list\n",
    "    #all_job_posts['score'] = 0.0\n",
    "    score = np.array([0]*len(all_job_posts))\n",
    "    \n",
    "    # calc points\n",
    "    nlp = spacy.load(\"en_core_web_lg\")\n",
    "    for post_idx in range(len(all_job_posts)):\n",
    "        if printing: print(f\"Calculate post {post_idx}...\")\n",
    "        # points for job-title similarity\n",
    "        if title_w != 0:\n",
    "            score[post_idx] += job_title_points(nlp, job_post[2], all_job_posts.loc[post_idx, :]['job_title']) * title_w\n",
    "        \n",
    "        # pruning -> if 0 points at the first, than skip\n",
    "        if pruning and score[post_idx] == 0:\n",
    "            continue\n",
    "            \n",
    "        # points for job-category similarity\n",
    "        if category_w != 0:\n",
    "            score[post_idx] += job_category_points(nlp, job_post[3], all_job_posts['category'][post_idx], \\\n",
    "                                               job_post[12], all_job_posts['job_description'][post_idx]) * category_w\n",
    "        \n",
    "        # points for job-type similarity  \n",
    "        if type_w != 0:\n",
    "            score[post_idx] += job_type_points(job_post[13], all_job_posts['job_type'][post_idx]) * type_w\n",
    "        \n",
    "        \n",
    "        # points for job-location similarity  \n",
    "        if pos_w != 0:\n",
    "            score[post_idx] += job_location_points(job_post[5], job_post[7], all_job_posts['city'][post_idx], \\\n",
    "                                               all_job_posts['country'][post_idx], pos_w) * abs(pos_w)\n",
    "        \n",
    "    \n",
    "    \n",
    "    \n",
    "    # return all posts with more than x points\n",
    "    all_job_posts.loc[:, ['score']] = score\n",
    "    return all_job_posts[all_job_posts['score'] >= min_points].sort_values(by=\"score\", ascending=False)"
   ]
  },
  {
   "cell_type": "markdown",
   "id": "f660e3b0-bfd8-44e8-9561-233e8b4e9599",
   "metadata": {},
   "source": [
    "**Evaluation**"
   ]
  },
  {
   "cell_type": "code",
   "execution_count": 103,
   "id": "91bf0f39-7ac2-4119-ba99-76d1593f389f",
   "metadata": {
    "scrolled": true,
    "tags": []
   },
   "outputs": [
    {
     "data": {
      "text/plain": [
       "[Timestamp('2019-02-06 08:30:12'),\n",
       " 'https://www.careerbuilder.com/job/J3M2F963CC5895ZY3P0',\n",
       " 'Senior Data Scientist - Tallahassee, FL - $150k-$170k',\n",
       " 'business and financial operations',\n",
       " 'Jefferson Frank',\n",
       " 'Tallahassee',\n",
       " 'FL',\n",
       " 'Usa',\n",
       " 'Tallahassee',\n",
       " 'Florida',\n",
       " 'Usa',\n",
       " Timestamp('2019-02-05 00:00:00'),\n",
       " 'My client is a leader in the Manufacturing vertical and has operations in multiple states across the US. They are seeking to hire a full-time Senior Data Scientist to collaborate and work with their R&D, IT, Product Support, and Sales teams. Ideal Candidates Will Have: -Multiple years of Business Intelligence with the ability to work with structured and unstructured data -Multiple years of programming with C, C++, Java, or JavaScript languages -Experience working with AWS Services such as Redshift, S3, Athena, Kinesis My client has already begun interviewing candidates and is seeking to hire quickly. If interested call Mike @ 813-437-6882 and email your CV to m.greco@jeffersonfrank.com Jefferson Frank is the global leader for niche IT recruitment, advertising more Technology jobs than any other agency. We deal with both Partners & End Users throughout North America. By specializing solely in placing niche IT candidates in the market I have built relationships with most of the key employers in North America and have an unrivalled understanding of where the best opportunities and Microsoft jobs are. I understand the need for discretion and would welcome the opportunity to speak to any IT candidates that are considering a new career or job either now or in the future. Confidentiality is of course guaranteed. For information on the market and some of the opportunities that are available I can be contacted on 813-437-6882.',\n",
       " 'Full Time',\n",
       " nan,\n",
       " 'careerbuilder',\n",
       " 'usa',\n",
       " 1549440025100072,\n",
       " nan,\n",
       " '813 437 6882',\n",
       " 'd33577ea9ae09c58d77e1fab2c012ba2',\n",
       " nan]"
      ]
     },
     "execution_count": 103,
     "metadata": {},
     "output_type": "execute_result"
    }
   ],
   "source": [
    "#post_id = np.random.randint(0, len(data))\n",
    "post_id = 33\n",
    "post = data.values.tolist()[post_id]\n",
    "post"
   ]
  },
  {
   "cell_type": "code",
   "execution_count": 107,
   "id": "68c88d63-e569-4ec2-8c8e-167d8f319733",
   "metadata": {
    "scrolled": true,
    "tags": []
   },
   "outputs": [
    {
     "name": "stdout",
     "output_type": "stream",
     "text": [
      "Calculate post 0...\n",
      "Calculate post 1...\n",
      "Calculate post 2...\n",
      "Calculate post 3...\n",
      "Calculate post 4...\n",
      "Calculate post 5...\n",
      "Calculate post 6...\n",
      "Calculate post 7...\n"
     ]
    },
    {
     "name": "stderr",
     "output_type": "stream",
     "text": [
      "C:\\Users\\tobia\\AppData\\Local\\Temp\\ipykernel_19840\\1465696467.py:14: UserWarning: [W008] Evaluating Doc.similarity based on empty vectors.\n",
      "  sim = doc1.similarity(doc2)\n"
     ]
    },
    {
     "name": "stdout",
     "output_type": "stream",
     "text": [
      "Calculate post 8...\n",
      "Calculate post 9...\n",
      "Calculate post 10...\n",
      "Calculate post 11...\n",
      "Calculate post 12...\n",
      "Calculate post 13...\n",
      "Calculate post 14...\n",
      "Calculate post 15...\n",
      "Calculate post 16...\n",
      "Calculate post 17...\n",
      "Calculate post 18...\n",
      "Calculate post 19...\n",
      "Calculate post 20...\n",
      "Calculate post 21...\n",
      "Calculate post 22...\n",
      "Calculate post 23...\n",
      "Calculate post 24...\n",
      "Calculate post 25...\n",
      "Calculate post 26...\n",
      "Calculate post 27...\n",
      "Calculate post 28...\n",
      "Calculate post 29...\n",
      "Calculate post 30...\n",
      "Calculate post 31...\n",
      "Calculate post 32...\n",
      "Calculate post 33...\n",
      "Calculate post 34...\n",
      "Calculate post 35...\n",
      "Calculate post 36...\n",
      "Calculate post 37...\n",
      "Calculate post 38...\n",
      "Calculate post 39...\n",
      "Calculate post 40...\n",
      "Calculate post 41...\n",
      "Calculate post 42...\n",
      "Calculate post 43...\n",
      "Calculate post 44...\n",
      "Calculate post 45...\n",
      "Calculate post 46...\n",
      "Calculate post 47...\n",
      "Calculate post 48...\n",
      "Calculate post 49...\n"
     ]
    },
    {
     "name": "stderr",
     "output_type": "stream",
     "text": [
      "C:\\Users\\tobia\\AppData\\Local\\Temp\\ipykernel_19840\\3777288938.py:43: SettingWithCopyWarning: \n",
      "A value is trying to be set on a copy of a slice from a DataFrame.\n",
      "Try using .loc[row_indexer,col_indexer] = value instead\n",
      "\n",
      "See the caveats in the documentation: https://pandas.pydata.org/pandas-docs/stable/user_guide/indexing.html#returning-a-view-versus-a-copy\n",
      "  all_job_posts.loc[:, ['score']] = score\n"
     ]
    }
   ],
   "source": [
    "#data.sample(n=50, replace=False)\n",
    "res = get_similar_job_posts(data.head(50), post, title_w=2.0, category_w=1.0, type_w=1.0, pos_w=0.5)"
   ]
  },
  {
   "cell_type": "code",
   "execution_count": 108,
   "id": "c6aa92bf-8fb4-4111-b86f-4ceea95d8385",
   "metadata": {
    "tags": []
   },
   "outputs": [
    {
     "data": {
      "text/html": [
       "<div>\n",
       "<style scoped>\n",
       "    .dataframe tbody tr th:only-of-type {\n",
       "        vertical-align: middle;\n",
       "    }\n",
       "\n",
       "    .dataframe tbody tr th {\n",
       "        vertical-align: top;\n",
       "    }\n",
       "\n",
       "    .dataframe thead th {\n",
       "        text-align: right;\n",
       "    }\n",
       "</style>\n",
       "<table border=\"1\" class=\"dataframe\">\n",
       "  <thead>\n",
       "    <tr style=\"text-align: right;\">\n",
       "      <th></th>\n",
       "      <th>crawl_timestamp</th>\n",
       "      <th>url</th>\n",
       "      <th>job_title</th>\n",
       "      <th>category</th>\n",
       "      <th>company_name</th>\n",
       "      <th>city</th>\n",
       "      <th>state</th>\n",
       "      <th>country</th>\n",
       "      <th>inferred_city</th>\n",
       "      <th>inferred_state</th>\n",
       "      <th>...</th>\n",
       "      <th>job_type</th>\n",
       "      <th>salary_offered</th>\n",
       "      <th>job_board</th>\n",
       "      <th>geo</th>\n",
       "      <th>cursor</th>\n",
       "      <th>contact_email</th>\n",
       "      <th>contact_phone_number</th>\n",
       "      <th>uniq_id</th>\n",
       "      <th>html_job_description</th>\n",
       "      <th>score</th>\n",
       "    </tr>\n",
       "  </thead>\n",
       "  <tbody>\n",
       "    <tr>\n",
       "      <th>33</th>\n",
       "      <td>2019-02-06 08:30:12</td>\n",
       "      <td>https://www.careerbuilder.com/job/J3M2F963CC58...</td>\n",
       "      <td>Senior Data Scientist - Tallahassee, FL - $150...</td>\n",
       "      <td>business and financial operations</td>\n",
       "      <td>Jefferson Frank</td>\n",
       "      <td>Tallahassee</td>\n",
       "      <td>FL</td>\n",
       "      <td>Usa</td>\n",
       "      <td>Tallahassee</td>\n",
       "      <td>Florida</td>\n",
       "      <td>...</td>\n",
       "      <td>Full Time</td>\n",
       "      <td>NaN</td>\n",
       "      <td>careerbuilder</td>\n",
       "      <td>usa</td>\n",
       "      <td>1549440025100072</td>\n",
       "      <td>NaN</td>\n",
       "      <td>813 437 6882</td>\n",
       "      <td>d33577ea9ae09c58d77e1fab2c012ba2</td>\n",
       "      <td>NaN</td>\n",
       "      <td>18</td>\n",
       "    </tr>\n",
       "    <tr>\n",
       "      <th>38</th>\n",
       "      <td>2019-02-06 08:31:04</td>\n",
       "      <td>https://www.careerbuilder.com/job/J3V7V35YMD61...</td>\n",
       "      <td>Data Scientist Tampa, FL $110-130K</td>\n",
       "      <td>business and financial operations</td>\n",
       "      <td>Jefferson Frank</td>\n",
       "      <td>Tampa</td>\n",
       "      <td>FL</td>\n",
       "      <td>Usa</td>\n",
       "      <td>Tampa</td>\n",
       "      <td>Florida</td>\n",
       "      <td>...</td>\n",
       "      <td>Full Time</td>\n",
       "      <td>NaN</td>\n",
       "      <td>careerbuilder</td>\n",
       "      <td>usa</td>\n",
       "      <td>1549440025192604</td>\n",
       "      <td>NaN</td>\n",
       "      <td>813 437 6899 (ext 6899)</td>\n",
       "      <td>acfd50bf4d44eb476ec69b38348355be</td>\n",
       "      <td>NaN</td>\n",
       "      <td>10</td>\n",
       "    </tr>\n",
       "    <tr>\n",
       "      <th>32</th>\n",
       "      <td>2019-02-06 08:30:24</td>\n",
       "      <td>https://www.careerbuilder.com/job/J3P7X86X5NNW...</td>\n",
       "      <td>Data Scientist</td>\n",
       "      <td>business and financial operations</td>\n",
       "      <td>Apex Systems</td>\n",
       "      <td>West Chester Township</td>\n",
       "      <td>OH</td>\n",
       "      <td>Usa</td>\n",
       "      <td>West chester</td>\n",
       "      <td>Ohio</td>\n",
       "      <td>...</td>\n",
       "      <td>Full Time</td>\n",
       "      <td>NaN</td>\n",
       "      <td>careerbuilder</td>\n",
       "      <td>usa</td>\n",
       "      <td>1549440025093739</td>\n",
       "      <td>NaN</td>\n",
       "      <td>NaN</td>\n",
       "      <td>b6e361550638f071a4985bf5f3d440ce</td>\n",
       "      <td>NaN</td>\n",
       "      <td>6</td>\n",
       "    </tr>\n",
       "    <tr>\n",
       "      <th>34</th>\n",
       "      <td>2019-02-06 08:28:00</td>\n",
       "      <td>https://www.careerbuilder.com/job/J2Y3W15X0M6C...</td>\n",
       "      <td>Data Scientist</td>\n",
       "      <td>business and financial operations</td>\n",
       "      <td>5 Star Global Recruitment Partners, LLC</td>\n",
       "      <td>Dallas</td>\n",
       "      <td>TX</td>\n",
       "      <td>Usa</td>\n",
       "      <td>Dallas</td>\n",
       "      <td>Texas</td>\n",
       "      <td>...</td>\n",
       "      <td>Full Time</td>\n",
       "      <td>NaN</td>\n",
       "      <td>careerbuilder</td>\n",
       "      <td>usa</td>\n",
       "      <td>1549440025102978</td>\n",
       "      <td>NaN</td>\n",
       "      <td>256-651-8116</td>\n",
       "      <td>09378ddde9b997b1acbf519c2b9ddf03</td>\n",
       "      <td>NaN</td>\n",
       "      <td>6</td>\n",
       "    </tr>\n",
       "    <tr>\n",
       "      <th>35</th>\n",
       "      <td>2019-02-06 08:27:37</td>\n",
       "      <td>https://www.careerbuilder.com/job/J3R3TB6LYHFY...</td>\n",
       "      <td>Data Scientist</td>\n",
       "      <td>business and financial operations</td>\n",
       "      <td>IQVIA</td>\n",
       "      <td>Plymouth Meeting</td>\n",
       "      <td>PA</td>\n",
       "      <td>Usa</td>\n",
       "      <td>Plymouth meeting</td>\n",
       "      <td>Pennsylvania</td>\n",
       "      <td>...</td>\n",
       "      <td>Full Time</td>\n",
       "      <td>NaN</td>\n",
       "      <td>careerbuilder</td>\n",
       "      <td>usa</td>\n",
       "      <td>1549440025119178</td>\n",
       "      <td>NaN</td>\n",
       "      <td>NaN</td>\n",
       "      <td>eb3e1cdd65a86ef8b4cf28094f0c785b</td>\n",
       "      <td>NaN</td>\n",
       "      <td>6</td>\n",
       "    </tr>\n",
       "  </tbody>\n",
       "</table>\n",
       "<p>5 rows × 23 columns</p>\n",
       "</div>"
      ],
      "text/plain": [
       "       crawl_timestamp                                                url  \\\n",
       "33 2019-02-06 08:30:12  https://www.careerbuilder.com/job/J3M2F963CC58...   \n",
       "38 2019-02-06 08:31:04  https://www.careerbuilder.com/job/J3V7V35YMD61...   \n",
       "32 2019-02-06 08:30:24  https://www.careerbuilder.com/job/J3P7X86X5NNW...   \n",
       "34 2019-02-06 08:28:00  https://www.careerbuilder.com/job/J2Y3W15X0M6C...   \n",
       "35 2019-02-06 08:27:37  https://www.careerbuilder.com/job/J3R3TB6LYHFY...   \n",
       "\n",
       "                                            job_title  \\\n",
       "33  Senior Data Scientist - Tallahassee, FL - $150...   \n",
       "38                 Data Scientist Tampa, FL $110-130K   \n",
       "32                                     Data Scientist   \n",
       "34                                     Data Scientist   \n",
       "35                                     Data Scientist   \n",
       "\n",
       "                             category  \\\n",
       "33  business and financial operations   \n",
       "38  business and financial operations   \n",
       "32  business and financial operations   \n",
       "34  business and financial operations   \n",
       "35  business and financial operations   \n",
       "\n",
       "                               company_name                   city state  \\\n",
       "33                          Jefferson Frank            Tallahassee    FL   \n",
       "38                          Jefferson Frank                  Tampa    FL   \n",
       "32                             Apex Systems  West Chester Township    OH   \n",
       "34  5 Star Global Recruitment Partners, LLC                 Dallas    TX   \n",
       "35                                    IQVIA       Plymouth Meeting    PA   \n",
       "\n",
       "   country     inferred_city inferred_state  ...   job_type salary_offered  \\\n",
       "33     Usa       Tallahassee        Florida  ...  Full Time            NaN   \n",
       "38     Usa             Tampa        Florida  ...  Full Time            NaN   \n",
       "32     Usa      West chester           Ohio  ...  Full Time            NaN   \n",
       "34     Usa            Dallas          Texas  ...  Full Time            NaN   \n",
       "35     Usa  Plymouth meeting   Pennsylvania  ...  Full Time            NaN   \n",
       "\n",
       "        job_board  geo            cursor contact_email  \\\n",
       "33  careerbuilder  usa  1549440025100072           NaN   \n",
       "38  careerbuilder  usa  1549440025192604           NaN   \n",
       "32  careerbuilder  usa  1549440025093739           NaN   \n",
       "34  careerbuilder  usa  1549440025102978           NaN   \n",
       "35  careerbuilder  usa  1549440025119178           NaN   \n",
       "\n",
       "       contact_phone_number                           uniq_id  \\\n",
       "33             813 437 6882  d33577ea9ae09c58d77e1fab2c012ba2   \n",
       "38  813 437 6899 (ext 6899)  acfd50bf4d44eb476ec69b38348355be   \n",
       "32                      NaN  b6e361550638f071a4985bf5f3d440ce   \n",
       "34             256-651-8116  09378ddde9b997b1acbf519c2b9ddf03   \n",
       "35                      NaN  eb3e1cdd65a86ef8b4cf28094f0c785b   \n",
       "\n",
       "    html_job_description score  \n",
       "33                   NaN    18  \n",
       "38                   NaN    10  \n",
       "32                   NaN     6  \n",
       "34                   NaN     6  \n",
       "35                   NaN     6  \n",
       "\n",
       "[5 rows x 23 columns]"
      ]
     },
     "execution_count": 108,
     "metadata": {},
     "output_type": "execute_result"
    }
   ],
   "source": [
    "res.head()"
   ]
  },
  {
   "cell_type": "markdown",
   "id": "b9ce535c-a6df-4bed-a2b3-8d389952e724",
   "metadata": {},
   "source": [
    "**Ergebnis:**\n",
    "\n",
    "Das Punktesystem scheint zu funktionieren und es ist möglich seine Auswahl zu gewichten und damit andere optimale Jobangebote zu finden. <br>\n",
    "Im obigen Beispiel wurden ebenfalls erst Data Science Stellenanzeigen gezeigt, welche im Bereich der Finanzen sind. Und bei Reduzierung der Gewichtung, war dies nicht mehr so. Somit hat der Ansatz funktioniert.<br>\n",
    "<br>\n",
    "An dieser Variante ist ebenfalls schön, dass sie leicht zu erweitern ist.<br>\n",
    "<br>\n",
    "Leider hat sich das Verfahren als sehr unperformant erwiesen. Im Experiment wurde ersichtlich, dass dies nicht nur an den Berechnungen an sich liegt, sondern vor allem an der großen Anzahl an Job-Posts."
   ]
  },
  {
   "cell_type": "markdown",
   "id": "72c9a096-2cdf-49fd-8716-126c6f01a542",
   "metadata": {},
   "source": [
    "---\n",
    "\n",
    "### Experiment 11: Paralleles Ausführen\n",
    "[<img src=\"./rackete_1.png\" style=\"float:right\" width=100></img>](#Table-of-Content)\n",
    "Ziel ist es die Ausführung performanter zu gestalten. Hierzu 2 Gedanken:\n",
    "- Reduzierung der Daten (random Wahl)\n",
    "- Paralleles Ausführen\n",
    "\n",
    "In diesem Experiment wird die Performancesteigerung durch Threading evaluiert.\n",
    "\n",
    "Folgendes wurde probiert, hat jedoch nicht funktioniert:\n",
    "- multiprocessing -> windows collaps -> memory out of memory\n",
    "- dask apply -> nein, dafür zu viele funktionen\n",
    "- threading -> ja\n"
   ]
  },
  {
   "cell_type": "code",
   "execution_count": 109,
   "id": "24be7d77",
   "metadata": {},
   "outputs": [],
   "source": [
    "import sys\n",
    "import time\n",
    "\n",
    "import numpy as np\n",
    "import pandas as pd\n",
    "import matplotlib.pyplot as plt\n",
    "from matplotlib.cm import ScalarMappable\n",
    "import seaborn as sn\n",
    "\n",
    "import spacy\n",
    "from spacy.tokens import Token\n",
    "\n",
    "from geopy.geocoders import Nominatim\n",
    "from geopy.distance import geodesic\n",
    "\n",
    "import multiprocessing as mp\n",
    "from threading import Thread\n",
    "\n",
    "\n",
    "\n",
    "def get_most_common_noun(job_description):\n",
    "    nlp = spacy.load(\"en_core_web_lg\")\n",
    "    doc = nlp(job_description)\n",
    "    words = dict()\n",
    "    for token in doc:\n",
    "        if token.pos_ in [\"NOUN\", \"PROPN\"]:\n",
    "            if token.text in words.keys():\n",
    "                words[token.text] += 1\n",
    "            else:\n",
    "                words[token.text] = 1\n",
    "    return sorted(words.items(), key=lambda x:x[0])[0][0]           \n",
    "\n",
    "\n",
    "\n",
    "def job_title_points(nlp, title1, title2):\n",
    "    doc1 = nlp(title1)\n",
    "    doc2 = nlp(title2)\n",
    "    sim = doc1.similarity(doc2)\n",
    "    \n",
    "    if sim >= 0.95:\n",
    "        return 5\n",
    "    elif sim >= 0.9:\n",
    "        return 4\n",
    "    elif sim >= 0.8:\n",
    "        return 2\n",
    "    elif sim >= 0.7:\n",
    "        return 1\n",
    "    else:\n",
    "        return 0\n",
    "\n",
    "\n",
    "\n",
    "def job_category_points(nlp, category1, category2, description1, description2, weight):\n",
    "    # fix the category if it nothing\n",
    "    if type(category1) == float:\n",
    "        category1 = get_most_common_noun(description1)\n",
    "        \n",
    "    if type(category2) == float:\n",
    "        category2 = get_most_common_noun(description2)\n",
    "        \n",
    "    # build doc\n",
    "    doc1 = nlp(category1)\n",
    "    doc2 = nlp(category2)\n",
    "    \n",
    "    # calc similarity\n",
    "    sim = doc1.similarity(doc2)\n",
    "\n",
    "    if weight < 0:\n",
    "        sim = revert_sim(sim)\n",
    "    \n",
    "    if sim >= 0.95:\n",
    "        return 5\n",
    "    elif sim >= 0.9:\n",
    "        return 3\n",
    "    elif sim >= 0.8:\n",
    "        return 1\n",
    "    else:\n",
    "        return 0\n",
    "\n",
    "\n",
    "\n",
    "def job_type_points(type1, type2):\n",
    "    res = 0.0    \n",
    "\n",
    "    if type1 == type2:\n",
    "        res = 1.0\n",
    "    elif (type1 == \"Full Time\" and type2 == \"Contract\") or (type2 == \"Full Time\" and type1 == \"Contract\"):\n",
    "        res = 0.5\n",
    "    elif (type1 == \"Part Time\" and type2 == \"Full Time\") or (type2 == \"Part Time\" and type1 == \"Full Time\"):\n",
    "        res = 0.5\n",
    "    elif (type1 == \"Part Time\" and type2 == \"Internship\") or (type2 == \"Part Time\" and type1 == \"Internship\"):\n",
    "        res = 0.2\n",
    "    elif (type1 == \"Part Time\" and type2 == \"Contract\") or (type2 == \"Part Time\" and type1 == \"Contract\"):\n",
    "        res = 0.5\n",
    "    elif (type1 == \"Full Time\" and type2 == \"Internship\") or (type2 == \"Full Time\" and type1 == \"Internship\"):\n",
    "        res = 0.0\n",
    "    elif (type1 == \"Contract\" and type2 == \"Internship\") or (type2 == \"Contract\" and type1 == \"Internship\"):\n",
    "        res = 0.5\n",
    "    elif type1 == \"Undefined\" or type2 == \"Undefined\":\n",
    "        res = 0.1\n",
    "    return res\n",
    "\n",
    "\n",
    "\n",
    "def job_location_points(city1, country1, city2, country2):\n",
    "    # Initialize Nominatim API\n",
    "    geolocator = Nominatim(user_agent=\"MyApp\")\n",
    "\n",
    "    location1 = geolocator.geocode(f\"{city1} {country1}\", language=\"en\", timeout=10000)\n",
    "    location2 = geolocator.geocode(f\"{city2} {country2}\", language=\"en\", timeout=10000)\n",
    "    \n",
    "    if location1 == None or location2 == None:\n",
    "        return 0\n",
    "    \n",
    "    pos1 = (location1.latitude, location1.longitude)\n",
    "    pos2 = (location2.latitude, location2.longitude)\n",
    "    \n",
    "    sim = 1 / (geodesic(pos1, pos2).km+1)\n",
    "    \n",
    "    if sim >= 0.1:\n",
    "        return 5\n",
    "    elif sim >= 0.07:\n",
    "        return 4\n",
    "    elif sim >= 0.03:\n",
    "        return 3\n",
    "    elif sim >= 0.01:\n",
    "        return 1\n",
    "    else:\n",
    "        return 0\n",
    "\n",
    "\n",
    "\n",
    "def log(txt:str, should_show=False):\n",
    "    if should_show: print(\"\\n\"+txt+\"\\n\")\n",
    "\n",
    "\n",
    "\n",
    "def calc_points(result, job_posts:pd.DataFrame, job_post, progress, total, nlp, pruning, title_w, category_w, type_w, pos_w, printing):\n",
    "    \n",
    "    # create score-list\n",
    "    score = np.array([0]*len(job_posts))\n",
    "\n",
    "    offset = job_posts.index.start\n",
    "    \n",
    "    for post_idx in range(len(job_posts)):\n",
    "        #if printing: print(f\"Calculate post {post_idx}...\")\n",
    "        # points for job-title similarity\n",
    "        if title_w != 0:\n",
    "            score[post_idx] += job_title_points(nlp, job_post[2], job_posts.loc[post_idx+offset, :]['job_title']) * title_w\n",
    "\n",
    "        # pruning -> if 0 points at the first, than skip\n",
    "        if pruning and score[post_idx] == 0:\n",
    "            continue\n",
    "\n",
    "        # points for job-category similarity\n",
    "        if category_w != 0:\n",
    "            score[post_idx] += job_category_points(nlp, job_post[3], job_posts['category'][post_idx+offset], \\\n",
    "                                            job_post[12], job_posts['job_description'][post_idx+offset]) * category_w\n",
    "\n",
    "        # points for job-type similarity  \n",
    "        if type_w != 0:\n",
    "            score[post_idx] += job_type_points(job_post[13], job_posts['job_type'][post_idx+offset]) * type_w\n",
    "\n",
    "\n",
    "        # points for job-location similarity  \n",
    "        if pos_w != 0:\n",
    "            score[post_idx] += job_location_points(job_post[5], job_post[7], job_posts['city'][post_idx+offset], \\\n",
    "                                            job_posts['country'][post_idx+offset], pos_w) * abs(pos_w)\n",
    "\n",
    "        progress[0] += 1\n",
    "        progress_bar(progress[0], total)\n",
    "\n",
    "    # return all posts with more than x points\n",
    "    job_posts.loc[:, ['score']] = score\n",
    "    log(f\"One Process finished!\", printing)\n",
    "    result += [job_posts]\n",
    "    #return job_posts\n",
    "\n",
    "\n",
    "# all categories gets between 0-5 points\n",
    "def get_similar_job_posts_parallel(job_posts:pd.DataFrame, job_post:list, min_points=5, pruning=False, \\\n",
    "                                  title_w=2.0, category_w=1.0, type_w=1.0, pos_w=0.5, printing=True, thread_amount=2):\n",
    "    log_sym = \"x\"\n",
    "    # load other job posts \n",
    "    all_job_posts = job_posts\n",
    "    \n",
    "    # split\n",
    "    n = thread_amount   #mp.cpu_count()\n",
    "    log(f\"Splitting data into {n} portions...\", printing)\n",
    "    max_ = len(all_job_posts)//n\n",
    "    job_post_portions = []\n",
    "    pointer = 0\n",
    "    for i in range(n):\n",
    "        job_post_portions += [all_job_posts.iloc[pointer:pointer+max_, :]]\n",
    "        pointer += len(all_job_posts)//n\n",
    "    log(log_sym, printing)\n",
    "    log(f\"Each portion contains {max_} jobposts...\", printing)\n",
    "     \n",
    "    \n",
    "    # calc points\n",
    "    log(f\"Loading SpaCy en_core_web_lg corpus...\", printing)\n",
    "    nlp = spacy.load(\"en_core_web_lg\")\n",
    "    log(log_sym, printing)\n",
    "    \n",
    "    # start processes / calc parallel the points / similarity\n",
    "    log(f\"Starts parallel calculation of the similarity/points with {n} Threads...\", printing)\n",
    "    progress = [0]    # use this for changing\n",
    "    total = job_posts.shape[0]\n",
    "    args = (job_post, progress, total, nlp, pruning, title_w, category_w, type_w, pos_w, printing)\n",
    "    results = []\n",
    "    threads = []\n",
    "    for jobs in job_post_portions:\n",
    "        t = Thread(target=calc_points, args=(results, jobs,)+args)\n",
    "        threads += [t]\n",
    "        t.start()\n",
    "    #log(log_sym, printing)\n",
    "    #log(f\"Created Threads and they running...\\n\", printing)\n",
    "\n",
    "    # wait until finishes\n",
    "    #log(f\"Waiting for finishing tasks...\", printing)\n",
    "    for t in threads: \n",
    "        t.join()\n",
    "    log(log_sym, printing)\n",
    "    log(f\"Finished with the parallel calculation of the similarity/points...\\n\", printing)\n",
    "    \n",
    "    # merge\n",
    "    log(f\"Merging scored job posts...\", printing)\n",
    "    if len(results) > 0:\n",
    "        scored_job_posts = results[0]\n",
    "        for result in results[1:]:\n",
    "            scored_job_posts.append(result, ignore_index=True)\n",
    "        log(log_sym, printing)\n",
    "        \n",
    "        # take only important results and sort them\n",
    "        log(f\"Sorting scored job posts...\", printing)\n",
    "        r = scored_job_posts[scored_job_posts['score'] >= min_points].sort_values(by=\"score\", ascending=False)\n",
    "        log(log_sym, printing)\n",
    "        return r\n",
    "\n",
    "\n",
    "def get_number_input(msg:str, min=None, max=None):\n",
    "    wrong_input = True\n",
    "    while wrong_input:\n",
    "        #addition = \"\"\n",
    "        #if min != None:\n",
    "        #    addition += f\"(min={min})\"\n",
    "        #if max != None:\n",
    "        #    if min != None:\n",
    "        #        addition += \", \"\n",
    "        #    addition += f\"(max={max})\"\n",
    "        user_input = input(f\"{msg}:\")#+addition\n",
    "\n",
    "        if user_input == \"exit\":\n",
    "            sys.exit()\n",
    "\n",
    "        try:\n",
    "            result = int(user_input)\n",
    "            if min != None and max != None:\n",
    "                if result >= min and result <= max:\n",
    "                    wrong_input = False\n",
    "                else:\n",
    "                    print(\"Try again. Type a number.\")# + addition)\n",
    "            elif min != None and max == None:\n",
    "                if result >= min:\n",
    "                    wrong_input = False\n",
    "                else:\n",
    "                    print(\"Try again. Type a number.\")\n",
    "            elif min == None and max != None:\n",
    "                if result <= max:\n",
    "                    wrong_input = False\n",
    "                else:\n",
    "                    print(\"Try again. Type a number.\")\n",
    "        except ValueError:\n",
    "            pass\n",
    "    return result\n",
    "\n",
    "\n",
    "def print_job_post(job_post):\n",
    "    width = 64\n",
    "    job_str = f\"\\n{'-'*width}\\n{' '*((width//2)-8)}>>> Job Post <<<\\n{'-'*width}\\n\"\n",
    "    job_str += f\"\\n\\nTitle: {job_post[2]}\\n\"\n",
    "    job_str += f\"\\nCategory: {job_post[3]}\\n\"\n",
    "    job_str += f\"\\nLocation: {job_post[5]} in {job_post[7]}\\n\"\n",
    "    job_str += f\"\\nType: {job_post[13]}\\n\"\n",
    "    job_str += f\"\\nDespription:\\n\\n {'-'*width}{job_post[12]}\\n{'-'*width}\\n\\n\"\n",
    "    print(job_str)\n",
    "\n",
    "\n",
    "def progress_bar(progress, total):\n",
    "    percentage = 100 * (progress/float(total))\n",
    "    bar = '#'*int(percentage) + '-'*(100-int(percentage))\n",
    "    print(f\"\\r[{bar}] {percentage:.2f}%\", end=\"\\r\")\n",
    "\n",
    "\n",
    "def calc_points_experiment(result, job_posts:pd.DataFrame, job_post, time_, progress, total, nlp, pruning, title_w, category_w, type_w, pos_w, printing):\n",
    "    \n",
    "    # create score-list\n",
    "    score = np.array([0]*len(job_posts))\n",
    "\n",
    "    offset = job_posts.index.start\n",
    "    \n",
    "    for post_idx in range(len(job_posts)):\n",
    "        #if printing: print(f\"Calculate post {post_idx}...\")\n",
    "        # points for job-title similarity\n",
    "        start = time.time()\n",
    "        if title_w != 0:\n",
    "            score[post_idx] += job_title_points(nlp, job_post[2], job_posts.loc[post_idx+offset, :]['job_title']) * title_w\n",
    "        duration = round(time.time() - start, 2)\n",
    "        time_['title'] += duration\n",
    "\n",
    "        # pruning -> if 0 points at the first, than skip\n",
    "        if pruning and score[post_idx] == 0:\n",
    "            continue\n",
    "\n",
    "        # points for job-category similarity\n",
    "        start = time.time()\n",
    "        if category_w != 0:\n",
    "            score[post_idx] += job_category_points(nlp, job_post[3], job_posts['category'][post_idx+offset], \\\n",
    "                                            job_post[12], job_posts['job_description'][post_idx+offset]) * category_w\n",
    "        duration = round(time.time() - start, 2)\n",
    "        time_['category'] += duration\n",
    "\n",
    "        # points for job-type similarity  \n",
    "        start = time.time()\n",
    "        if type_w != 0:\n",
    "            score[post_idx] += job_type_points(job_post[13], job_posts['job_type'][post_idx+offset]) * type_w\n",
    "        duration = round(time.time() - start, 2)\n",
    "        time_['type'] += duration\n",
    "\n",
    "        # points for job-location similarity  \n",
    "        start = time.time()\n",
    "        if pos_w != 0:\n",
    "            score[post_idx] += job_location_points(job_post[5], job_post[7], job_posts['city'][post_idx+offset], \\\n",
    "                                            job_posts['country'][post_idx+offset], pos_w) * abs(pos_w)\n",
    "        duration = round(time.time() - start, 2)\n",
    "        time_['location'] += duration\n",
    "\n",
    "\n",
    "        progress[0] += 1\n",
    "        progress_bar(progress[0], total)\n",
    "\n",
    "    # return all posts with more than x points\n",
    "    job_posts.loc[:, ['score']] = score\n",
    "    log(f\"One Process finished!\", printing)\n",
    "    result += [job_posts]\n",
    "\n",
    "\n",
    "\n",
    "# all categories gets between 0-5 points\n",
    "def get_similar_job_posts_experiment(job_posts:pd.DataFrame, job_post:list, min_points=5, pruning=False, \\\n",
    "                                  title_w=2.0, category_w=1.0, type_w=1.0, pos_w=0.5, printing=True, thread_amount=2):\n",
    "    time_ = {'title':0, 'location':0, 'type':0, 'category':0}\n",
    "    # load other job posts \n",
    "    all_job_posts = job_posts\n",
    "    \n",
    "    # split\n",
    "    n = thread_amount   \n",
    "    max_ = len(all_job_posts)//n\n",
    "    job_post_portions = []\n",
    "    pointer = 0\n",
    "    for i in range(n):\n",
    "        job_post_portions += [all_job_posts.iloc[pointer:pointer+max_, :]]\n",
    "        pointer += len(all_job_posts)//n\n",
    "     \n",
    "    # calc points\n",
    "    nlp = spacy.load(\"en_core_web_lg\")\n",
    "\n",
    "    # start processes / calc parallel the points / similarity\n",
    "    progress = [0]    # use this for changing\n",
    "    total = job_posts.shape[0]\n",
    "    args = (job_post, time_, progress, total, nlp, pruning, title_w, category_w, type_w, pos_w, printing)\n",
    "    results = []\n",
    "    threads = []\n",
    "    for jobs in job_post_portions:\n",
    "        t = Thread(target=calc_points_experiment, args=(results, jobs,)+args)\n",
    "        threads += [t]\n",
    "        t.start()\n",
    "\n",
    "    # wait until finishes\n",
    "    for t in threads: \n",
    "        t.join()\n",
    "    \n",
    "    # merge\n",
    "    if len(results) > 0:\n",
    "        scored_job_posts = results[0]\n",
    "        for result in results[1:]:\n",
    "            scored_job_posts.append(result, ignore_index=True)\n",
    "        \n",
    "        # take only important results and sort them\n",
    "        r = scored_job_posts[scored_job_posts['score'] >= min_points].sort_values(by=\"score\", ascending=False)\n",
    "    return f\"   title: {time_['title']} seconds<br>\\n   location: {time_['location']} seconds\\n   type: {time_['type']} seconds\\n   category: {time_['category']} seconds\"\n",
    "\n",
    "\n",
    "def time_experiment():\n",
    "    data = pd.read_excel(\"./data_scientist_united_states_job_postings_jobspikr.xlsx\")\n",
    "    post = data.values.tolist()[33]\n",
    "\n",
    "    results = \"\"\n",
    "\n",
    "    for i in [10, 100, 1000, 10000]:\n",
    "        print(f\"Startet {i} samples...\")\n",
    "        results += f\"{'-'*64}\\nSample Size = {i}\\n{'-'*64}\\n\"\n",
    "        for n in [1, 2, 5, 10]:\n",
    "            print(\"Waiting for geopy...\")\n",
    "            time.sleep(10)\n",
    "            print(f\"Try on {n} Threads...\")\n",
    "            start = time.time()\n",
    "            output = get_similar_job_posts_experiment(data.head(i), post, title_w=2.0, category_w=0.0, type_w=1.0, pos_w=0.5, printing=False, thread_amount=n)\n",
    "            duration = time.time()-start\n",
    "            results += f\"\\nThreads: {n} needed {duration:.2f} seconds\\n{output}\\n\"\n",
    "            print(f\"\\nThreads: {n} needed {duration:.2f} seconds\")\n",
    "        print(f\"\\n------------\\n\")\n",
    "\n",
    "    # saving in file\n",
    "    with open(\"./time_experiment_reults.txt\", \"w\") as file:\n",
    "        file.write(results)\n",
    "    \n",
    "\n",
    "def main():\n",
    "    data = pd.read_excel(\"./data_scientist_united_states_job_postings_jobspikr.xlsx\")\n",
    "    choose_a_post = False\n",
    "    while not choose_a_post:\n",
    "        post_id = get_number_input(f\"Type a number between 0 and {data.shape[0]} to choose a job post\", 0, data.shape[0]-1)\n",
    "        \n",
    "        post = data.values.tolist()[post_id]\n",
    "        print_job_post(post)\n",
    "        answer = get_number_input(\"Is this ok? (1=yes / 0=no)\", 0, 1)\n",
    "        if answer == 1:\n",
    "            choose_a_post = True\n",
    "\n",
    "\n",
    "    posts = get_similar_job_posts_parallel(data.head(2), post, title_w=2.0, category_w=0.0, \\\n",
    "                                            type_w=1.0, pos_w=0.5, printing=False)\n",
    "\n",
    "\n",
    "    cur_idx = 0\n",
    "    offset = posts.index[0]\n",
    "    print(\"-----\\nNavigate with 'next', 'prev', 'exit'\\n-----\")\n",
    "    while True:\n",
    "        print_job_post(posts[cur_idx+offset])\n",
    "        user_input = input(\"User:\")\n",
    "        if user_input == \"next\":\n",
    "            if cur_idx < posts.shape[0]-1:\n",
    "                cur_idx += 1\n",
    "        elif user_input == \"prev\":\n",
    "            if cur_idx > 0:\n",
    "                cur_idx -= 1\n",
    "        elif user_input == \"exit\":\n",
    "            print(\"bye\")\n",
    "            break"
   ]
  },
  {
   "cell_type": "markdown",
   "id": "ae7a9597-84a1-48ba-bb2c-db3fffb922bd",
   "metadata": {},
   "source": [
    "**Evaluation**"
   ]
  },
  {
   "cell_type": "markdown",
   "id": "cea566f5-1ebf-4d61-978c-0979e91ba30f",
   "metadata": {},
   "source": [
    "Es wurde oben ein umfangreiches Experiment der Performance angefertigt und durchgeführt. Dabei wurden verschiedene Größen an Daten mit unterschiedlicher Anzahl an Threads verglichen. \n",
    "\n",
    "Folgende Ergbnisse kamen dabei heraus:\n",
    "\n",
    "\n",
    "----------------------------------------------------------------\n",
    "Sample Size = 10\n",
    "\n",
    "----------------------------------------------------------------\n",
    "<br>\n",
    "Threads: 1 needed 11.29 seconds<br>\n",
    "   title: 0.09999999999999999 seconds<br>\n",
    "   location: 9.540000000000001 seconds<br>\n",
    "   type: 0.0 seconds<br>\n",
    "   category: 0.0 seconds<br>\n",
    "<br>\n",
    "Threads: 2 needed 10.95 seconds<br>\n",
    "   title: 0.11999999999999998 seconds<br>\n",
    "   location: 18.689999999999998 seconds<br>\n",
    "   type: 0.0 seconds<br>\n",
    "   category: 0.0 seconds<br>\n",
    "<br>\n",
    "Threads: 5 needed 10.97 seconds<br>\n",
    "   title: 0.32000000000000006 seconds<br>\n",
    "   location: 43.14 seconds<br>\n",
    "   type: 0.0 seconds<br>\n",
    "   category: 0.0 seconds<br>\n",
    "<br>\n",
    "Threads: 10 needed 11.14 seconds<br>\n",
    "   title: 1.1500000000000004 seconds<br>\n",
    "   location: 69.10999999999999 seconds<br>\n",
    "   type: 0.0 seconds<br>\n",
    "   category: 0.0 seconds<br>\n",
    "<br>\n",
    "\n",
    "----------------------------------------------------------------\n",
    "Sample Size = 100\n",
    "\n",
    "----------------------------------------------------------------\n",
    "<br>\n",
    "Threads: 1 needed 101.38 seconds<br>\n",
    "   title: 1.0000000000000007 seconds<br>\n",
    "   location: 98.57999999999994 seconds<br>\n",
    "   type: 0.0 seconds<br>\n",
    "   category: 0.0 seconds<br>\n",
    "\n",
    "Threads: 2 needed 100.93 seconds<br>\n",
    "   title: 1.0200000000000007 seconds<br>\n",
    "   location: 197.66000000000005 seconds<br>\n",
    "   type: 0.0 seconds<br>\n",
    "   category: 0.0 seconds<br>\n",
    "<br>\n",
    "Threads: 5 needed 100.94 seconds<br>\n",
    "   title: 1.2300000000000009 seconds<br>\n",
    "   location: 491.9500000000004 seconds<br>\n",
    "   type: 0.0 seconds<br>\n",
    "   category: 0.0 seconds<br>\n",
    "<br>\n",
    "Threads: 10 needed 101.42 seconds<br>\n",
    "   title: 5.389999999999981 seconds<br>\n",
    "   location: 969.7200000000006 seconds<br>\n",
    "   type: 0.0 seconds<br>\n",
    "   category: 0.0 seconds<br>\n",
    "\n",
    "----------------------------------------------------------------\n",
    "Sample Size = 1000\n",
    "\n",
    "----------------------------------------------------------------\n",
    "<br>\n",
    "Threads: 1 needed 1000.94 seconds<br>\n",
    "   title: 10.03999999999983 seconds<br>\n",
    "   location: 988.9200000000056 seconds<br>\n",
    "   type: 0.0 seconds<br>\n",
    "   category: 0.0 seconds<br>\n",
    "<br>\n",
    "Threads: 2 needed 1000.92 seconds<br>\n",
    "   title: 10.01999999999983 seconds<br>\n",
    "   location: 1986.7700000000077 seconds<br>\n",
    "   type: 0.0 seconds<br>\n",
    "   category: 0.0 seconds<br>\n",
    "<br>\n",
    "Threads: 5 needed 1001.33 seconds<br>\n",
    "   title: 11.799999999999793 seconds<br>\n",
    "   location: 4980.899999999963 seconds<br>\n",
    "   type: 0.0 seconds<br>\n",
    "   category: 0.0 seconds<br>\n",
    "<br>\n",
    "Threads: 10 needed 1000.99 seconds<br>\n",
    "   title: 10.839999999999813 seconds<br>\n",
    "   location: 9959.869999999924 seconds<br>\n",
    "   type: 0.0 seconds<br>\n",
    "   category: 0.0 seconds<br>\n"
   ]
  },
  {
   "cell_type": "markdown",
   "id": "5887b3e2",
   "metadata": {},
   "source": [
    "**Ergebnis:**\n",
    "\n",
    "Die Experimente zeigen, dass die zeitliche Differenz bei 1, 2, 5 oder 10 Threads lediglich beica. 1 Sekunde liegen. Dabei ist auch kein Muster zu erkennen. So brauchen die 5 Threads bei 1000 Daten ca. 1 Sekunde länger als die anderen 3 Verfahren. Bei 100 Daten gehört es jedoch zu den Schnellsten. Die kleinen Differenzen scheinen in keiner Kausalität mit dem Threading zu stehen.\n",
    "\n",
    "Wie nach der Theorie her vermutet, bringt das Threading also keinen zeitlichen Vorteil. Die zeitlichen Fluktuationen stammen wahrscheinlich von der schwankenden Rechenpower des Laptops.\n",
    "\n",
    "Jedoch ist etwas anderes sehr schön zu sehen. Die Berechnung für den Ort bzw. dessen Abstand beträgt ca. 99% der Laufzeit bei 1000 Daten. Der Vergleich der Titel beträgt etwa 10 Sekunden, unabhängig von der Anzahl an Daten. <br>\n",
    "Ohne den Ort wäre der Algorithmus also immer etwa 10 Sekunden schnell, was das Problem löst."
   ]
  },
  {
   "cell_type": "markdown",
   "id": "1d6477ca-c2d4-4dc4-809c-5c057f965cd8",
   "metadata": {},
   "source": [
    "### Evaluation\n",
    "\n",
    "[<img src=\"./rackete_1.png\" style=\"float:right\" width=100></img>](#Table-of-Content)\n",
    "\n",
    "Die Berechnung der Ähnlichlichkeit über die Ähnlichkeit der Jobbeschreibung hat nicht so funktioniert wie gewünscht. Selbst mit Anpassungen scheint es nicht gut die Ähnlichkeit berechnen zu können.<br>\n",
    "Dafür hat dies über den Job-Titel und der Word2Vec-Technik sehr gut funktioniert.<br>\n",
    "<br>\n",
    "Wie das Experiment 10 gezeigt hat, kann man dieses Verfahren in Verbindung mit anderen Ähnlichkeiten einsetzen, um so ein individuelles Ähnlickeitsmaß herstellen zu können. <br>\n",
    "<br>\n",
    "Ein größeres Problem ist die Performance. Es existieren nämlich sehr viele Job-Posts und um alle zu verwenden, wird viel Zeit in Anspruch genommen.<br>\n",
    "Als Lösungsansatz werden nicht alle Daten verwenden (zufällig 1000 der Daten). Multiprocessing/Threading scheinen keine Lösung zu sein."
   ]
  },
  {
   "cell_type": "markdown",
   "id": "cc23db8b-6bf1-421f-abd1-ddb798db9695",
   "metadata": {
    "tags": []
   },
   "source": [
    "---\n",
    "### Anwendung"
   ]
  },
  {
   "cell_type": "markdown",
   "id": "149e639d-b544-4f40-b781-72cedbcb3091",
   "metadata": {},
   "source": [
    "[<img src=\"./rackete_1.png\" style=\"float:right\" width=100></img>](#Table-of-Content)"
   ]
  },
  {
   "cell_type": "code",
   "execution_count": 110,
   "id": "ba9ab76d",
   "metadata": {},
   "outputs": [],
   "source": [
    "import sys\n",
    "import time\n",
    "\n",
    "import numpy as np\n",
    "import pandas as pd\n",
    "import matplotlib.pyplot as plt\n",
    "from matplotlib.cm import ScalarMappable\n",
    "import seaborn as sn\n",
    "\n",
    "import spacy\n",
    "from spacy.tokens import Token\n",
    "\n",
    "from geopy.geocoders import Nominatim\n",
    "from geopy.distance import geodesic\n",
    "\n",
    "import multiprocessing as mp\n",
    "from threading import Thread\n",
    "\n",
    "\n",
    "\n",
    "def get_most_common_noun(job_description, nlp):\n",
    "    #nlp = spacy.load(\"en_core_web_lg\")\n",
    "    doc = nlp(job_description)\n",
    "    words = dict()\n",
    "    for token in doc:\n",
    "        if token.pos_ in [\"NOUN\", \"PROPN\"]:\n",
    "            if token.text in words.keys():\n",
    "                words[token.text] += 1\n",
    "            else:\n",
    "                words[token.text] = 1\n",
    "    return sorted(words.items(), key=lambda x:x[0])[0][0]           \n",
    "\n",
    "\n",
    "\n",
    "def job_title_points(nlp, title1, title2):\n",
    "    doc1 = nlp(title1)\n",
    "    doc2 = nlp(title2) \n",
    "\n",
    "    if (doc1.vector_norm) and (doc2.vector_norm):\n",
    "        try:\n",
    "            sim = doc1.similarity(doc2)\n",
    "        except Exception:\n",
    "            sim = 0.0\n",
    "    else:\n",
    "        #print(\"Title Vector is empty...\")\n",
    "        sim = 0.0\n",
    "    \n",
    "    if sim >= 0.95:\n",
    "        return 5\n",
    "    elif sim >= 0.9:\n",
    "        return 4\n",
    "    elif sim >= 0.8:\n",
    "        return 2\n",
    "    elif sim >= 0.7:\n",
    "        return 1\n",
    "    else:\n",
    "        return 0\n",
    "\n",
    "\n",
    "\n",
    "def job_category_points(nlp, category1, category2, description1, description2):\n",
    "    if type(category1) == float or type(category2) == float:\n",
    "        return 0\n",
    "    # fix the category if it nothing\n",
    "    #if type(category1) == float:\n",
    "    #    category1 = get_most_common_noun(description1, nlp)\n",
    "        \n",
    "    #if type(category2) == float:\n",
    "    #    category2 = get_most_common_noun(description2, nlp)\n",
    "        \n",
    "    # build doc\n",
    "    doc1 = nlp(category1)\n",
    "    doc2 = nlp(category2)\n",
    "    \n",
    "    # calc similarity\n",
    "    sim = doc1.similarity(doc2)\n",
    "    \n",
    "    if sim >= 0.95:\n",
    "        return 5\n",
    "    elif sim >= 0.9:\n",
    "        return 3\n",
    "    elif sim >= 0.8:\n",
    "        return 1\n",
    "    else:\n",
    "        return 0\n",
    "\n",
    "\n",
    "\n",
    "def job_type_points(type1, type2):\n",
    "    res = 0.0    \n",
    "\n",
    "    if type1 == type2:\n",
    "        res = 1.0\n",
    "    elif (type1 == \"Full Time\" and type2 == \"Contract\") or (type2 == \"Full Time\" and type1 == \"Contract\"):\n",
    "        res = 0.5\n",
    "    elif (type1 == \"Part Time\" and type2 == \"Full Time\") or (type2 == \"Part Time\" and type1 == \"Full Time\"):\n",
    "        res = 0.5\n",
    "    elif (type1 == \"Part Time\" and type2 == \"Internship\") or (type2 == \"Part Time\" and type1 == \"Internship\"):\n",
    "        res = 0.2\n",
    "    elif (type1 == \"Part Time\" and type2 == \"Contract\") or (type2 == \"Part Time\" and type1 == \"Contract\"):\n",
    "        res = 0.5\n",
    "    elif (type1 == \"Full Time\" and type2 == \"Internship\") or (type2 == \"Full Time\" and type1 == \"Internship\"):\n",
    "        res = 0.0\n",
    "    elif (type1 == \"Contract\" and type2 == \"Internship\") or (type2 == \"Contract\" and type1 == \"Internship\"):\n",
    "        res = 0.5\n",
    "    elif type1 == \"Undefined\" or type2 == \"Undefined\":\n",
    "        res = 0.1\n",
    "    return res\n",
    "\n",
    "\n",
    "\n",
    "def job_location_points(city1, country1, city2, country2, weight):\n",
    "    # Initialize Nominatim API\n",
    "    geolocator = Nominatim(user_agent=\"MyApp\")\n",
    "\n",
    "    location1 = geolocator.geocode(f\"{city1} {country1}\", language=\"en\", timeout=10000)\n",
    "    location2 = geolocator.geocode(f\"{city2} {country2}\", language=\"en\", timeout=10000)\n",
    "    \n",
    "    if location1 == None or location2 == None:\n",
    "        return 0\n",
    "    \n",
    "    pos1 = (location1.latitude, location1.longitude)\n",
    "    pos2 = (location2.latitude, location2.longitude)\n",
    "    \n",
    "    sim = 1 / (geodesic(pos1, pos2).km+1)\n",
    "\n",
    "    if weight < 0:\n",
    "        sim = revert_sim(sim)\n",
    "    \n",
    "    if sim >= 0.1:\n",
    "        return 5\n",
    "    elif sim >= 0.07:\n",
    "        return 4\n",
    "    elif sim >= 0.03:\n",
    "        return 3\n",
    "    elif sim >= 0.01:\n",
    "        return 1\n",
    "    else:\n",
    "        return 0\n",
    "\n",
    "\n",
    "def log(txt:str, should_show=False):\n",
    "    if should_show: print(\"\\n\"+txt+\"\\n\")\n",
    "\n",
    "\n",
    "def calc_points(job_posts:pd.DataFrame, job_post, progress, total, nlp, pruning, title_w, category_w, type_w, pos_w, printing, show_progress):\n",
    "    \n",
    "    # create score-list\n",
    "    score = np.array([0]*len(job_posts))\n",
    "\n",
    "    warning_called = False\n",
    "    \n",
    "    for post_idx in range(len(job_posts)):  #\n",
    "        #if printing: print(f\"Calculate post {post_idx}...\")\n",
    "        # points for job-title similarity\n",
    "        # old: job_posts['job_description'][post_idx]\n",
    "        if title_w != 0:\n",
    "            score[post_idx] += job_title_points(nlp, job_post[2], job_posts.iloc[post_idx, 2]) * title_w\n",
    "\n",
    "        # pruning -> if 0 points at the first, than skip\n",
    "        if pruning and score[post_idx] == 0:\n",
    "            continue\n",
    "\n",
    "        # points for job-category similarity\n",
    "        if category_w != 0:\n",
    "            score[post_idx] += job_category_points(nlp, job_post[3], job_posts.iloc[post_idx, 3], \\\n",
    "                                            job_post[12], job_posts.iloc[post_idx, 12]) * category_w\n",
    "\n",
    "        # points for job-type similarity  \n",
    "        if type_w != 0:\n",
    "            score[post_idx] += job_type_points(job_post[13], job_posts.iloc[post_idx, 13]) * type_w\n",
    "\n",
    "\n",
    "        # points for job-location similarity  \n",
    "        if pos_w != 0:\n",
    "            if not warning_called:\n",
    "                print(\"\\nWARNING: CALC LOCATION IS EXPENSIVE!\\n\")\n",
    "                warning_called = True\n",
    "            if pos_w >= 0:\n",
    "                score[post_idx] += job_location_points(job_post[5], job_post[7], job_posts.iloc[post_idx, 5], \\\n",
    "                                            job_posts.iloc[post_idx, 7], pos_w) * abs(pos_w)\n",
    "\n",
    "        if show_progress:\n",
    "            progress[0] += 1\n",
    "            progress_bar(progress[0], total)\n",
    "\n",
    "    # return all posts with more than x points\n",
    "    job_posts.loc[:, ['score']] = score\n",
    "    log(f\"One Process finished!\", printing)\n",
    "    return job_posts\n",
    "\n",
    "\n",
    "# all categories gets between 0-5 points\n",
    "def get_similar_job_posts(job_posts:pd.DataFrame, job_post:list, min_points=5, pruning=False, \\\n",
    "                                  title_w=2.0, category_w=1.0, type_w=1.0, pos_w=0.5, printing=True, show_progress=True):\n",
    "\n",
    "    warnings.filterwarnings(\"ignore\", message=r\"\\[W008\\]\", category=UserWarning)\n",
    "\n",
    "    log_sym = \"x\"\n",
    "    # load other job posts \n",
    "    all_job_posts = job_posts\n",
    "    \n",
    "    # calc points\n",
    "    log(f\"Loading SpaCy en_core_web_lg corpus...\", printing)\n",
    "    nlp = spacy.load(\"en_core_web_lg\")\n",
    "    log(log_sym, printing)\n",
    "    \n",
    "    # start processes / calc parallel the points / similarity\n",
    "    log(f\"Starts calculation of the similarity/points...\", printing)\n",
    "    progress = [0]    # use this for changing\n",
    "    total = job_posts.shape[0]\n",
    "    args = (job_post, progress, total, nlp, pruning, title_w, category_w, type_w, pos_w, printing, show_progress)\n",
    "    scored_job_posts = calc_points(all_job_posts, *args)\n",
    "    log(log_sym, printing)\n",
    "    \n",
    "    # sort and return\n",
    "    if len(scored_job_posts) > 0:\n",
    "        # take only important results and sort them\n",
    "        log(f\"Sorting scored job posts...\", printing)\n",
    "        r = scored_job_posts[scored_job_posts['score'] >= min_points].sort_values(by=\"score\", ascending=False)\n",
    "        log(log_sym, printing)\n",
    "        return r\n",
    "\n",
    "\n",
    "def get_number_input(msg:str, min, max):\n",
    "    wrong_input = True\n",
    "    while wrong_input:\n",
    "        #addition = \"\"\n",
    "        #if min != None:\n",
    "        #    addition += f\"(min={min})\"\n",
    "        #if max != None:\n",
    "        #    if min != None:\n",
    "        #        addition += \", \"\n",
    "        #    addition += f\"(max={max})\"\n",
    "        user_input = input(f\"{msg}:\")#+addition\n",
    "\n",
    "        if user_input == \"exit\":\n",
    "            sys.exit()\n",
    "\n",
    "        try:\n",
    "            result = int(user_input)\n",
    "            if result >= min and result <= max:\n",
    "                wrong_input = False\n",
    "            else:\n",
    "                print(\"Try again. Type a number.\")# + addition)\n",
    "        except ValueError:\n",
    "            pass\n",
    "    return result\n",
    "\n",
    "def get_float_number_input(msg:str, min:float, max:float):\n",
    "    wrong_input = True\n",
    "    while wrong_input:\n",
    "        user_input = input(f\"{msg}:\")\n",
    "\n",
    "        if user_input == \"exit\":\n",
    "            sys.exit()\n",
    "        elif user_input == \"\":\n",
    "            return None\n",
    "\n",
    "        try:\n",
    "            result = float(user_input)\n",
    "            if result >= min and result <= max:\n",
    "                wrong_input = False\n",
    "            else:\n",
    "                print(\"Try again. Type a float number.\")\n",
    "        except ValueError:\n",
    "            pass\n",
    "    return result\n",
    "\n",
    "\n",
    "def get_bool_input(msg:str):\n",
    "    wrong_input = True\n",
    "    while wrong_input:\n",
    "        user_input = input(f\"{msg}:\")\n",
    "\n",
    "        if user_input == \"exit\":\n",
    "            sys.exit()\n",
    "        elif user_input in [\"y\", \"\", \"yes\", \"1\"]:\n",
    "            result = 1\n",
    "            wrong_input = False\n",
    "        elif user_input in [\"no\", \"0\", \"n\"]:\n",
    "            result = 0\n",
    "            wrong_input = False\n",
    "\n",
    "    return result\n",
    "\n",
    "\n",
    "def print_job_post(job_post, with_r=False):\n",
    "    width = 64\n",
    "    job_str = \"\"\n",
    "    if with_r:\n",
    "        job_str += \"\\r\"\n",
    "    job_str += f\"\\n{'-'*width}\\n{' '*((width//2)-8)}>>> Job Post <<<\\n{'-'*width}\\n\"\n",
    "    job_str += f\"\\n\\nTitle: {job_post[2]}\\n\"\n",
    "    job_str += f\"\\nCategory: {job_post[3]}\\n\"\n",
    "    job_str += f\"\\nLocation: {job_post[5]} in {job_post[7]}\\n\"\n",
    "    job_str += f\"\\nType: {job_post[13]}\\n\"\n",
    "    job_str += f\"\\nDespription:\\n\\n {'-'*width}\\n\\n{job_post[12]}\\n{'-'*width}\\n\"\n",
    "    if with_r:\n",
    "        print(job_str, end=\"\\r\")\n",
    "    else:\n",
    "        print(job_str)\n",
    "\n",
    "\n",
    "def progress_bar(progress, total):\n",
    "    percentage = 100 * (progress/float(total))\n",
    "    bar = '#'*int(percentage) + '-'*(100-int(percentage))\n",
    "    print(f\"\\r[{bar}] {percentage:.2f}%\", end=\"\\r\")\n",
    "    \n",
    "\n",
    "def main():\n",
    "    # supress warnings\n",
    "    warnings.filterwarnings(\"ignore\", message=r\"\\[W008\\]\", category=UserWarning)\n",
    "\n",
    "    # load data\n",
    "    data = pd.read_excel(\"./data_scientist_united_states_job_postings_jobspikr.xlsx\")\n",
    "    choose_a_post = False\n",
    "\n",
    "    # choose a post\n",
    "    while not choose_a_post:\n",
    "        post_id = get_number_input(f\"Type a number between 0 and {data.shape[0]} to choose a job post\", 0, data.shape[0]-1)\n",
    "        \n",
    "        post = data.values.tolist()[post_id]\n",
    "        print_job_post(post)\n",
    "        answer = get_bool_input(\"Is this ok? (y/n)\")\n",
    "        if answer == 1:\n",
    "            choose_a_post = True\n",
    "\n",
    "    # choose weights\n",
    "    title_w = get_float_number_input(f\"How important is the title? Type a number between 0.0 and 3.0 or pass/enter\", 0.0, 3.0)\n",
    "    title_w = 2.0 if title_w == None else title_w\n",
    "    category_w = get_float_number_input(f\"How important is the category? Type a number between 0.0 and 3.0 or pass/enter\", 0.0, 3.0)\n",
    "    category_w = 1.0 if category_w == None else category_w\n",
    "    type_w = get_float_number_input(f\"How important is the type? Type a number between 0.0 and 3.0 or pass/enter\", 0.0, 3.0)\n",
    "    type_w = 0.0 if type_w == None else type_w\n",
    "    pos_w = get_float_number_input(f\"How important is the location? Type a number between -3.0 and 3.0 or pass/enter\", -3.0, 3.0)\n",
    "    pos_w = 0.0 if pos_w == None else pos_w\n",
    "\n",
    "    # calc scores -> get similar job posts\n",
    "    start = time.time()\n",
    "    #data.sample(n=2000, replace=False)\n",
    "    posts = get_similar_job_posts(data.sample(n=1000, replace=False), post, title_w=title_w, category_w=category_w, \\\n",
    "                                            type_w=type_w, pos_w=pos_w, printing=False)\n",
    "    duration = time.time() - start\n",
    "    print(f\"\\n\\nFounded similiar posts in {duration:.2f} seconds\")\n",
    "\n",
    "\n",
    "    # navigate in example\n",
    "    cur_idx = 0\n",
    "    print(\"-----\\nNavigate with 'next', 'prev', 'exit'\\n-----\")\n",
    "    while True:\n",
    "        print_job_post(posts.iloc[cur_idx, :], False)\n",
    "        user_input = input(\"User:\")\n",
    "        if user_input == \"next\" or user_input == \"\":\n",
    "            if cur_idx < posts.shape[0]-1:\n",
    "                cur_idx += 1\n",
    "        elif user_input == \"prev\":\n",
    "            if cur_idx > 0:\n",
    "                cur_idx -= 1\n",
    "        elif user_input == \"exit\":\n",
    "            print(\"bye\")\n",
    "            break"
   ]
  },
  {
   "cell_type": "code",
   "execution_count": 111,
   "id": "258120e2",
   "metadata": {},
   "outputs": [],
   "source": [
    "#main()"
   ]
  },
  {
   "cell_type": "markdown",
   "id": "4f62bd39",
   "metadata": {},
   "source": [
    "---\n",
    "\n",
    "### Profiling\n",
    "[<img src=\"./rackete_1.png\" style=\"float:right\" width=100></img>](#Table-of-Content)\n",
    "\n",
    "In diesem Abschnitt wird die Laufzeit genauer analysiert.\n",
    "\n"
   ]
  },
  {
   "cell_type": "code",
   "execution_count": 112,
   "id": "01364264",
   "metadata": {},
   "outputs": [],
   "source": [
    "data = pd.read_excel(\"../data_scientist_united_states_job_postings_jobspikr.xlsx\")\n",
    "sample = data.sample(n=1000, replace=False)\n",
    "post = data.values.tolist()[33]"
   ]
  },
  {
   "cell_type": "markdown",
   "id": "871868fa",
   "metadata": {},
   "source": [
    "### [With cProfile](https://docs.python.org/3/library/profile.html#instant-user-s-manual)"
   ]
  },
  {
   "cell_type": "code",
   "execution_count": 113,
   "id": "8896a55a",
   "metadata": {},
   "outputs": [],
   "source": [
    "\n",
    "#cProfile.run('get_similar_job_posts(sample, post, title_w=2.0, category_w=1.0, type_w=0.0, pos_w=0.0, printing=False, show_progress=False)',\\\n",
    "#         sort = 'cumtime')"
   ]
  },
  {
   "cell_type": "markdown",
   "id": "cc28ee21",
   "metadata": {},
   "source": [
    "----\n",
    "\n",
    "### With gprof2dot\n",
    "\n",
    "1. [install graphviz](https://graphviz.org/download/)\n",
    "2. pip install graphviz\n",
    "3. clone github repo [gprof2dot](https://github.com/jrfonseca/gprof2dot)\n",
    "    -> you have to know the path to the clone/install location for later\n",
    "4. create a file with code to profile\n",
    "5. run profiler with cmd -> go to your project directory before:\n",
    "    ```terminal\n",
    "    python -m cProfile -o to_profile.pstats to_profile.py\n",
    "    ```\n",
    "    -> Example:<br>\n",
    "    ```terminal\n",
    "    D:\\Studium\\4. Semester\\Module\\NLP\\Praktikum\\2022_05_16 Job Posts Similarity\\Word2Vec-Ansatz>python -m cProfile -o to_profile.pstats to_profile.py\n",
    "    ```\n",
    "6. run gprof2dot: \n",
    "    ```terminal\n",
    "    gprof2dot -f pstats to_profile.pstats | dot -Tpng -o output.png && eog output.png\n",
    "    ```\n",
    "    -> Example:<br>\n",
    "    ```terminal\n",
    "    D:\\Informatik\\Tools\\gprof2dot\\gprof2dot.py -f pstats to_profile.pstats | dot -Tsvg -o callgraph.svg\n",
    "\n",
    "    D:\\Informatik\\Tools\\gprof2dot\\gprof2dot.py -f pstats to_profile.pstats | dot -Tpng -o output.png\n",
    "    ```"
   ]
  },
  {
   "cell_type": "markdown",
   "id": "184873c7",
   "metadata": {},
   "source": [
    "---\n",
    "\n",
    "This doesn't worked for me so I used [SnakeViz](https://jiffyclub.github.io/snakeviz/#snakeviz):\n",
    "\n",
    "### [With SnakeViz](https://jiffyclub.github.io/snakeviz/#snakeviz)\n",
    "\n",
    "1. create a file with code to profile\n",
    "2. run profiler with cmd -> go to your project directory before:\n",
    "    ```terminal\n",
    "    python -m cProfile -o program.prof to_profile.py\n",
    "    ```\n",
    "    -> Example:<br>\n",
    "    ```terminal\n",
    "    D:\\Studium\\4. Semester\\Module\\NLP\\Praktikum\\2022_05_16 Job Posts Similarity\\Word2Vec-Ansatz>python -m cProfile -o to_profile.prof to_profile.py\n",
    "    ```\n",
    "3. pip install snakeviz\n",
    "4. run snakeviz with command: snakeviz program.prof<br>\n",
    "    for notebooks:<br>\n",
    "        - %load_ext snakeviz<br>\n",
    "        - % snakeviz glob.glob('*.txt')<br>"
   ]
  },
  {
   "cell_type": "code",
   "execution_count": 114,
   "id": "3d00a829",
   "metadata": {},
   "outputs": [],
   "source": [
    "%load_ext snakeviz"
   ]
  },
  {
   "cell_type": "code",
   "execution_count": 115,
   "id": "b4b8b6cc",
   "metadata": {},
   "outputs": [],
   "source": [
    "#%snakeviz get_similar_job_posts(sample, post, title_w=2.0, category_w=1.0, type_w=0.0, pos_w=0.0, printing=False, show_progress=False)"
   ]
  },
  {
   "cell_type": "code",
   "execution_count": 116,
   "id": "841f3c94",
   "metadata": {},
   "outputs": [],
   "source": [
    "#%%snakeviz\n",
    "\n",
    "#get_similar_job_posts(sample, post, title_w=2.0, category_w=1.0, type_w=0.0, pos_w=0.0, printing=False, show_progress=False)"
   ]
  },
  {
   "cell_type": "markdown",
   "id": "da2b6884",
   "metadata": {},
   "source": [
    "**Erbegnis:**\n",
    "\n",
    "<img src=\"./profiling.png\" width=\"500px\">\n",
    "<img src=\"./profiling_category.png\" width=\"500px\">\n",
    "\n",
    "Auffällig ist die Laufzeit der Berechnung der Kategorie, wobei dort viel Laufzeit in das bestimmen des Hauptworts steckt (ca. 6 Sekunden).<br>\n",
    "Wie viel Zeit das Weglassen dieses Prozesses bringt muss noch extern evaluiert werden. <br>\n",
    "<br>\n",
    "Sonst konnte ich keine weitere Auffäligkeit finden."
   ]
  },
  {
   "cell_type": "markdown",
   "id": "a45bae0e",
   "metadata": {},
   "source": [
    "---\n",
    "\n",
    "### Location Runtime Test\n",
    "[<img src=\"./rackete_1.png\" style=\"float:right\" width=100></img>](#Table-of-Content)\n",
    "\n",
    "In diesem Abschnitt wird die Laufzeit der Location getestet. Im Experiment 11 wurde schon evaluiert, dass das Berechnen der Location etwa je nach Datengröße bis zu 99% einnehmen kann. Hier soll noch einmal der Vergleich von der Ausführung der Anwendung ohne und mit getestet werden. Die Realität sieht ja meist anders aus, es wird trotzdem ein ähnliches Ergebnis erwartet.<br>\n",
    "Anders als bei dem Experiment 11 wird die gesamt Zeit gemessen. Im Experiment 11 wurde die Zeit ja einzeln gemessen und dieser Aspekt nicht im Detail. "
   ]
  },
  {
   "cell_type": "code",
   "execution_count": 117,
   "id": "5772371b",
   "metadata": {},
   "outputs": [],
   "source": [
    "data = pd.read_excel(\"../data_scientist_united_states_job_postings_jobspikr.xlsx\")\n",
    "post = data.values.tolist()[33]\n",
    "result = \"\""
   ]
  },
  {
   "cell_type": "code",
   "execution_count": 118,
   "id": "9c0ce4c7",
   "metadata": {},
   "outputs": [],
   "source": [
    "def test():\n",
    "    samples = data.sample(n=1000, replace=False)\n",
    "\n",
    "    for i in [0.0, 1.0]:\n",
    "        start = time.time()\n",
    "        posts = get_similar_job_posts(samples, post, title_w=2.0, category_w=1.0, \\\n",
    "                                                    type_w=0.0, pos_w=i, printing=False, show_progress=False)\n",
    "        duration = time.time() - start\n",
    "\n",
    "        on = False\n",
    "        if i == 0:\n",
    "            on = True\n",
    "        \n",
    "        result += f\"Location {on} -> {duration:.2f} seconds\\n\"\n",
    "    return result"
   ]
  },
  {
   "cell_type": "code",
   "execution_count": 119,
   "id": "7731cd37",
   "metadata": {},
   "outputs": [],
   "source": [
    "#test()"
   ]
  },
  {
   "cell_type": "markdown",
   "id": "e3cb5b80",
   "metadata": {},
   "source": [
    "**Ergebnis:**\n",
    "\n",
    "Wie erwartet braucht die Anwendung beim gleichen Anwendungsfall mit gleichen Faktoren mit der Berechnung der Location ca. 41 mal länger als ohne die berechnung der Location."
   ]
  },
  {
   "cell_type": "markdown",
   "id": "ea6ae92d-89d6-4195-b836-40f2e5f766cc",
   "metadata": {},
   "source": [
    "---\n",
    "\n",
    "### Trimmed Category Calc \n",
    "[<img src=\"./rackete_1.png\" style=\"float:right\" width=100></img>](#Table-of-Content)\n",
    "\n",
    "Hier soll die Laufzeit inbezug auf das Berechnen der Kategorie gestestet werden. Bei einem Nan Wert, wird aus der Job-Description das häufigste Wort herausgesucht. Diese Option wird nun an und ausgeschalten unter der Beobachtung der Laufzeit. "
   ]
  },
  {
   "cell_type": "code",
   "execution_count": 120,
   "id": "f6b1745d-79c0-4621-9b7c-0cbb45bb50f8",
   "metadata": {},
   "outputs": [],
   "source": [
    "def job_category_points(nlp, category1, category2, description1, description2):\n",
    "    # fix the category if it nothing\n",
    "    if type(category1) == float:\n",
    "        category1 = get_most_common_noun(description1, nlp)\n",
    "        \n",
    "    if type(category2) == float:\n",
    "        category2 = get_most_common_noun(description2, nlp)\n",
    "        \n",
    "    # build doc\n",
    "    doc1 = nlp(category1)\n",
    "    doc2 = nlp(category2)\n",
    "    \n",
    "    # calc similarity\n",
    "    sim = doc1.similarity(doc2)\n",
    "    \n",
    "    if sim >= 0.95:\n",
    "        return 5\n",
    "    elif sim >= 0.9:\n",
    "        return 3\n",
    "    elif sim >= 0.8:\n",
    "        return 1\n",
    "    else:\n",
    "        return 0"
   ]
  },
  {
   "cell_type": "code",
   "execution_count": 122,
   "id": "b0616522-942f-4d45-9e13-c4f7e7883bf8",
   "metadata": {},
   "outputs": [],
   "source": [
    "#start = time.time()\n",
    "#get_similar_job_posts(samples, post, title_w=2.0, category_w=1.0, \\\n",
    "#                                                type_w=0.0, pos_w=0.0, printing=False, show_progress=False)\n",
    "#duration = time.time()-start \n",
    "#duration"
   ]
  },
  {
   "cell_type": "code",
   "execution_count": 123,
   "id": "4baa8fd7-f54f-45ae-ad6d-9ee5a9959366",
   "metadata": {},
   "outputs": [],
   "source": [
    "def job_category_points(nlp, category1, category2, description1, description2):\n",
    "    # if the category is nothing = return 0\n",
    "    if type(category1) == float or type(category2) == float:\n",
    "        return 0\n",
    "        \n",
    "    # build doc\n",
    "    doc1 = nlp(category1)\n",
    "    doc2 = nlp(category2)\n",
    "    \n",
    "    # calc similarity\n",
    "    sim = doc1.similarity(doc2)\n",
    "    \n",
    "    if sim >= 0.95:\n",
    "        return 5\n",
    "    elif sim >= 0.9:\n",
    "        return 3\n",
    "    elif sim >= 0.8:\n",
    "        return 1\n",
    "    else:\n",
    "        return 0"
   ]
  },
  {
   "cell_type": "code",
   "execution_count": 125,
   "id": "263c70a5-24c9-4188-94f2-5b20df155c17",
   "metadata": {},
   "outputs": [],
   "source": [
    "#start = time.time()\n",
    "#get_similar_job_posts(samples, post, title_w=2.0, category_w=1.0, \\\n",
    "#                                                type_w=0.0, pos_w=0.0, printing=False, show_progress=False)\n",
    "#duration = time.time()-start \n",
    "#duration"
   ]
  },
  {
   "cell_type": "markdown",
   "id": "9938a227-708c-41d0-b79d-b88970020d8e",
   "metadata": {},
   "source": [
    "**Ergebnis:**\n",
    "\n",
    "Tatsächlich bringt das Weglassen der Berechnung des häufigsten Wortes bei keinem Wert ca. 6 Sekunden. Inwiefern sich das Ergebnis verschlechtert ist dabei unbekannt.\n",
    "\n",
    "So muss ich mich zwischen diesen beiden Varianten entscheiden. Ich vermute das die Genauigkeit sinkt, jedoch nicht so drastisch."
   ]
  },
  {
   "cell_type": "markdown",
   "id": "5ecbae8a-c334-4963-8046-896db4a0012a",
   "metadata": {},
   "source": [
    "---"
   ]
  }
 ],
 "metadata": {
  "interpreter": {
   "hash": "e1cb2243c2f91d5c6f9712f88638fd5d282134aad623abfac61acb9773b405fd"
  },
  "kernelspec": {
   "display_name": "Python 3 (ipykernel)",
   "language": "python",
   "name": "python3"
  },
  "language_info": {
   "codemirror_mode": {
    "name": "ipython",
    "version": 3
   },
   "file_extension": ".py",
   "mimetype": "text/x-python",
   "name": "python",
   "nbconvert_exporter": "python",
   "pygments_lexer": "ipython3",
   "version": "3.9.10"
  }
 },
 "nbformat": 4,
 "nbformat_minor": 5
}
